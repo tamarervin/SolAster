{
 "cells": [
  {
   "cell_type": "markdown",
   "source": [
    "# Calculation of Solar RV Variations\n",
    "\n",
    "1. **calculate solar velocities:** calculate solar velocities and save to csv\n",
    "2. **get component lists:** using pandas to get the lists of each relevant component\n",
    "3. **calculate RVs and save to csv:**  calculate RVs using optimized parameters"
   ],
   "metadata": {
    "collapsed": false
   }
  },
  {
   "cell_type": "code",
   "execution_count": 1,
   "outputs": [],
   "source": [
    "import numpy as np\n",
    "import pandas as pd\n",
    "\n",
    "from sklearn.linear_model import LinearRegression"
   ],
   "metadata": {
    "collapsed": false,
    "pycharm": {
     "name": "#%%\n"
    }
   }
  },
  {
   "cell_type": "markdown",
   "source": [
    "Read in velocities from csv."
   ],
   "metadata": {
    "collapsed": false
   }
  },
  {
   "cell_type": "code",
   "execution_count": 2,
   "outputs": [],
   "source": [
    "# csv file with rv components\n",
    "csv_file = 'file_name'"
   ],
   "metadata": {
    "collapsed": false,
    "pycharm": {
     "name": "#%%\n"
    }
   }
  },
  {
   "cell_type": "markdown",
   "source": [
    "Get component lists."
   ],
   "metadata": {
    "collapsed": false
   }
  },
  {
   "cell_type": "code",
   "execution_count": 3,
   "outputs": [
    {
     "name": "stdout",
     "output_type": "stream",
     "text": [
      "['date_obs' 'date_jd' 'v_quiet' 'v_disc' 'v_phot' 'v_conv' 'f_bright'\n",
      " 'f_spot' 'f' 'Bobs' 'vphot_bright' 'vphot_spot']\n"
     ]
    }
   ],
   "source": [
    "# create pandas dataframe\n",
    "component_df = pd.read_csv(csv_file)"
   ],
   "metadata": {
    "collapsed": false,
    "pycharm": {
     "name": "#%%\n"
    }
   }
  },
  {
   "cell_type": "code",
   "execution_count": 4,
   "outputs": [],
   "source": [
    "# get velocities lists\n",
    "v_phot = component_df.v_phot.values\n",
    "v_conv = component_df.v_conv.values\n",
    "rv_sun = component_df.rv_sun.values"
   ],
   "metadata": {
    "collapsed": false,
    "pycharm": {
     "name": "#%%\n"
    }
   }
  },
  {
   "cell_type": "markdown",
   "source": [
    "Calculate scaling coefficient values -- using linear regression."
   ],
   "metadata": {
    "collapsed": false
   }
  },
  {
   "cell_type": "markdown",
   "source": [
    "Setup data to plug into linear regression model/"
   ],
   "metadata": {
    "collapsed": false,
    "pycharm": {
     "name": "#%% md\n"
    }
   }
  },
  {
   "cell_type": "code",
   "execution_count": null,
   "outputs": [],
   "source": [
    "# components\n",
    "X = np.zeros(shape=(len(rv_sun), 2))\n",
    "X[:, 0] = v_phot\n",
    "X[:, 1] = v_conv\n",
    "\n",
    "# data we are fitting to\n",
    "y = rv_sun"
   ],
   "metadata": {
    "collapsed": false,
    "pycharm": {
     "name": "#%%\n"
    }
   }
  },
  {
   "cell_type": "markdown",
   "source": [
    "Use sklearn linear regression to get coefficient values."
   ],
   "metadata": {
    "collapsed": false,
    "pycharm": {
     "name": "#%% md\n"
    }
   }
  },
  {
   "cell_type": "code",
   "execution_count": null,
   "outputs": [],
   "source": [
    "# apply regression\n",
    "reg = LinearRegression().fit(X, y)\n",
    "print('R^2 for prediction: ' + str(reg.score(X, y)))\n",
    "\n",
    "# get scaling factors\n",
    "A = reg.coef_[0]\n",
    "B = reg.coef_[1]\n",
    "RV0 = reg.intercept_\n",
    "\n",
    "# print scaling factors\n",
    "print(\"Scaling Factors:\\n A:\", A, \"\\nB:\", B, \"\\nRV0:\", RV0)"
   ],
   "metadata": {
    "collapsed": false,
    "pycharm": {
     "name": "#%%\n"
    }
   }
  },
  {
   "cell_type": "markdown",
   "source": [
    "Calculate the Model RV Variation using these coefficients."
   ],
   "metadata": {
    "collapsed": false,
    "pycharm": {
     "name": "#%% md\n"
    }
   }
  },
  {
   "cell_type": "code",
   "execution_count": null,
   "outputs": [],
   "source": [
    "RV = A*v_phot + B*v_conv + RV0"
   ],
   "metadata": {
    "collapsed": false,
    "pycharm": {
     "name": "#%%\n"
    }
   }
  },
  {
   "cell_type": "markdown",
   "source": [
    "Add calculation to csv."
   ],
   "metadata": {
    "collapsed": false
   }
  },
  {
   "cell_type": "code",
   "execution_count": 8,
   "outputs": [],
   "source": [
    "component_df[\"rv_model\"] = RV\n",
    "component_df.to_csv(csv_file, index=False)\n"
   ],
   "metadata": {
    "collapsed": false,
    "pycharm": {
     "name": "#%%\n"
    }
   }
  }
 ],
 "metadata": {
  "kernelspec": {
   "display_name": "Python 3",
   "language": "python",
   "name": "python3"
  },
  "language_info": {
   "codemirror_mode": {
    "name": "ipython",
    "version": 2
   },
   "file_extension": ".py",
   "mimetype": "text/x-python",
   "name": "python",
   "nbconvert_exporter": "python",
   "pygments_lexer": "ipython2",
   "version": "2.7.6"
  }
 },
 "nbformat": 4,
 "nbformat_minor": 0
}