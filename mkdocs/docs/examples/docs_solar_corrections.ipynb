{
 "cells": [
  {
   "cell_type": "markdown",
   "source": [
    "# Outline of corrections to SDO/HMI Images\n",
    "\n",
    "1. **coordinate transformation:** transform from Helioprojective Cartesian coordinates\n",
    "to Heliographic Carrington coordinates based on observer\n",
    "2. **spacecraft velocity calculation:** correct for the  velocity of spacecraft relative\n",
    "to Sun\n",
    "3. **solar rotation calculation:** account for velocity due to solar rotation as a function of\n",
    "latitude (based on Snodgrass & Ulrich 1990)\n",
    "4. **limb darkening correction:** correct for limb darkening in HMI intensity images\n",
    "5. **unsigned magnetic field strength:** calculate unsigned magnetic field strength by dividing observed\n",
    "field strength by $ \\mu = cos(\\theta)$\n",
    "6. **identify solar regions:** differentiate between quiet Sun, sunspots, faculae/plage regions"
   ],
   "metadata": {
    "collapsed": false
   }
  },
  {
   "cell_type": "code",
   "execution_count": null,
   "outputs": [],
   "source": [
    "import numpy as np\n",
    "\n",
    "import astropy.units as u\n",
    "\n",
    "import sunpy.map\n",
    "from sunpy.net import Fido\n",
    "from sunpy.net import attrs as a\n",
    "from sunpy.coordinates import frames\n",
    "\n",
    "import matplotlib.pyplot as plt\n",
    "\n",
    "from scipy import stats\n",
    "\n",
    "import tamar.tools.solar_funcs as sfuncs\n",
    "import tamar.tools.lbc_funcs as lbfuncs\n",
    "import tamar.tools.coord_funcs as ctfuncs"
   ],
   "metadata": {
    "collapsed": false,
    "pycharm": {
     "name": "#%%\n"
    }
   }
  },
  {
   "cell_type": "markdown",
   "source": [
    "Get HMI data."
   ],
   "metadata": {
    "collapsed": false
   }
  },
  {
   "cell_type": "code",
   "execution_count": null,
   "outputs": [],
   "source": [
    "# get hmi data products\n",
    "cadence = a.Sample(24*u.hour)  # querying cadence\n",
    "start_date = '2014-01-20T09:43:24.70'  # start date of query\n",
    "end_date = '2014-01-20T09:44:24.70'\n",
    "physobs_list = [a.Physobs.los_velocity, a.Physobs.los_magnetic_field, a.Physobs.intensity]\n",
    "\n",
    "result = Fido.search(a.Time(start_date, end_date),\n",
    "                     a.Instrument.hmi, physobs_list[0] | physobs_list[1] | physobs_list[2], cadence)\n",
    "\n",
    "# print results\n",
    "print(result)"
   ],
   "metadata": {
    "collapsed": false,
    "pycharm": {
     "name": "#%%\n"
    }
   }
  },
  {
   "cell_type": "markdown",
   "source": [
    "Download data files, sort, and build map list."
   ],
   "metadata": {
    "collapsed": false
   }
  },
  {
   "cell_type": "code",
   "execution_count": null,
   "outputs": [],
   "source": [
    "# download results\n",
    "file_download = Fido.fetch(result)\n",
    "# convert to map sequence\n",
    "map_seq = sunpy.map.Map(sorted(file_download))\n"
   ],
   "metadata": {
    "collapsed": false,
    "pycharm": {
     "name": "#%%\n"
    }
   }
  },
  {
   "cell_type": "markdown",
   "source": [
    "Create map lists based on HMI content."
   ],
   "metadata": {
    "collapsed": false
   }
  },
  {
   "cell_type": "code",
   "execution_count": null,
   "outputs": [],
   "source": [
    "hmi_vel, hmi_mag, hmi_int \\\n",
    "    = [], [], []\n",
    "for i, map_obj in enumerate(map_seq):\n",
    "    if map_obj.meta['content'] == 'DOPPLERGRAM':\n",
    "        hmi_vel.append(map_obj.rotate(order=3))\n",
    "    elif map_obj.meta['content'] == 'MAGNETOGRAM':\n",
    "        hmi_mag.append(map_obj.rotate(order=3))\n",
    "    elif map_obj.meta['content'] == 'CONTINUUM INTENSITY':\n",
    "        hmi_int.append(map_obj.rotate(order=3))"
   ],
   "metadata": {
    "collapsed": false,
    "pycharm": {
     "name": "#%%\n"
    }
   }
  },
  {
   "cell_type": "markdown",
   "source": [
    "## Step One: Coordinate Transformation"
   ],
   "metadata": {
    "collapsed": false
   }
  },
  {
   "cell_type": "markdown",
   "source": [
    "Apply coordinate transformations for HMI data products where:\n",
    "\n",
    "<code>x, y, pd, r, d, mu = coord[i][0], coord[i][1], coord[i][2], coord[i][3], coord[i][4], coord[i][5]</code>\n",
    "\n",
    "<code>wij, nij, rij = vel_coords[i][0], vel_coords[i][1], vel_coords[i][2]</code>"
   ],
   "metadata": {
    "collapsed": false
   }
  },
  {
   "cell_type": "code",
   "execution_count": null,
   "outputs": [],
   "source": [
    "# get cartesian scales from map\n",
    "coord = [ctfuncs.coordinates(hmi_vel[i]) for i in range(0, len(hmi_vel))]\n",
    "\n",
    "# get mu and radius array\n",
    "vel_coords = [ctfuncs.vel_coords(coord[0], coord[1], coord[2], coord[3], hmi_vel[i]) for i in range(0, len(hmi_vel))]"
   ],
   "metadata": {
    "collapsed": false,
    "pycharm": {
     "name": "#%%\n"
    }
   }
  },
  {
   "cell_type": "markdown",
   "source": [
    "Remove bad mu values from each map.\n",
    "\n",
    "<code>hmi_vel, hmi_mag, imap = maps[i][0], maps[i][1], maps[i][2]</code>"
   ],
   "metadata": {
    "collapsed": false
   }
  },
  {
   "cell_type": "code",
   "execution_count": null,
   "outputs": [],
   "source": [
    "# fix bad mu values\n",
    "maps = [ctfuncs.fix_mu(coord[i][5], [hmi_vel[i],  hmi_mag[i],  hmi_int[i]]) for i in range(0, len(hmi_vel))]\n",
    "\n",
    "# return maps to original lists\n",
    "hmi_vel = [maps[i][0] for i in range(0, len(hmi_vel))]\n",
    "hmi_mag = [maps[i][1] for i in range(0, len(hmi_vel))]\n",
    "hmi_int = [maps[i][2] for i in range(0, len(hmi_vel))]"
   ],
   "metadata": {
    "collapsed": false,
    "pycharm": {
     "name": "#%%\n"
    }
   }
  },
  {
   "cell_type": "markdown",
   "source": [
    "## Step Two: Calculate Spacecraft Velocity"
   ],
   "metadata": {
    "collapsed": false
   }
  },
  {
   "cell_type": "markdown",
   "source": [
    "Calculate relative positions.\n",
    "\n",
    "<code>deltaw, deltan, deltar, dij = delta[i][0], delta[i][1], delta[i][2], delta[i][3]</code>"
   ],
   "metadata": {
    "collapsed": false
   }
  },
  {
   "cell_type": "code",
   "execution_count": null,
   "outputs": [],
   "source": [
    "delta = [sfuncs.rel_positions(vel_coords[i][0], vel_coords[i][1], vel_coords[i][2], hmi_vel[i])]"
   ],
   "metadata": {
    "collapsed": false,
    "pycharm": {
     "name": "#%%\n"
    }
   }
  },
  {
   "cell_type": "markdown",
   "source": [
    "Calculate spacecraft velocity."
   ],
   "metadata": {
    "collapsed": false
   }
  },
  {
   "cell_type": "code",
   "execution_count": null,
   "outputs": [],
   "source": [
    "vsc = [sfuncs.spacecraft_vel(delta[i][0], delta[i][1], delta[i][2], delta[i][3], hmi_vel[i]) for i in range(0, len(hmi_vel))]"
   ],
   "metadata": {
    "collapsed": false,
    "pycharm": {
     "name": "#%%\n"
    }
   }
  },
  {
   "cell_type": "markdown",
   "source": [
    "## Step Three: Calculate Velocity due to Solar Rotation"
   ],
   "metadata": {
    "collapsed": false
   }
  },
  {
   "cell_type": "markdown",
   "source": [
    "Optimized parameters for calculation of solar rotation."
   ],
   "metadata": {
    "collapsed": false
   }
  },
  {
   "cell_type": "code",
   "execution_count": null,
   "outputs": [],
   "source": [
    "a1 = 14.713\n",
    "a2 = -2.396\n",
    "a3 = -1.787\n",
    "a_parameters = [a1, a2, a3]"
   ],
   "metadata": {
    "collapsed": false,
    "pycharm": {
     "name": "#%%\n"
    }
   }
  },
  {
   "cell_type": "markdown",
   "source": [
    "Calculation of solar rotation velocity."
   ],
   "metadata": {
    "collapsed": false
   }
  },
  {
   "cell_type": "code",
   "execution_count": null,
   "outputs": [],
   "source": [
    "vrot = [sfuncs.solar_rot_vel(vel_coords[i][0], vel_coords[i][1], vel_coords[i][2], delta[i][0], delta[i][1], delta[i][2],\n",
    "                             delta[i][3], hmi_vel[i], a_parameters) for i in range(0, len(hmi_vel))]"
   ],
   "metadata": {
    "collapsed": false,
    "pycharm": {
     "name": "#%%\n"
    }
   }
  },
  {
   "cell_type": "markdown",
   "source": [
    "Calculate corrected velocity."
   ],
   "metadata": {
    "collapsed": false
   }
  },
  {
   "cell_type": "code",
   "execution_count": null,
   "outputs": [],
   "source": [
    "# subtract vsc and vrot from the Doppler images\n",
    "corrected_vel = [hmi_vel[i].data - np.real(vsc[i]) - np.real(vrot[i]) for i in range(0, len(hmi_vel))]"
   ],
   "metadata": {
    "collapsed": false,
    "pycharm": {
     "name": "#%%\n"
    }
   }
  },
  {
   "cell_type": "markdown",
   "source": [
    "Create list of Sunpy map objects with corrected velocity data."
   ],
   "metadata": {
    "collapsed": false
   }
  },
  {
   "cell_type": "code",
   "execution_count": null,
   "outputs": [],
   "source": [
    "map_vel_cor = [sfuncs.corrected_map(corrected_vel[i], hmi_vel[i], map_type='Corrected-Dopplergram',\n",
    "                                    frame=frames.HeliographicCarrington) for i in range(0, len(hmi_vel))]"
   ],
   "metadata": {
    "collapsed": false,
    "pycharm": {
     "name": "#%%\n"
    }
   }
  },
  {
   "cell_type": "markdown",
   "source": [
    "Compare original and corrected velocity maps."
   ],
   "metadata": {
    "collapsed": false
   }
  },
  {
   "cell_type": "code",
   "execution_count": null,
   "outputs": [],
   "source": [
    "# plot original map\n",
    "hmi_vel[0].peek()\n",
    "\n",
    "# plot corrected map\n",
    "map_vel_cor[0].peek()\n"
   ],
   "metadata": {
    "collapsed": false,
    "pycharm": {
     "name": "#%%\n"
    }
   }
  },
  {
   "cell_type": "markdown",
   "source": [
    "## Step Four: Limb Darkening Correction"
   ],
   "metadata": {
    "collapsed": false
   }
  },
  {
   "cell_type": "markdown",
   "source": [
    "Equation for limb-brightening:\n",
    "$ L_{ij} = 1 - u_2 - v_2 + u_2 cos \\theta + v_2 cos^2 \\theta $\n",
    "\n",
    "Coefficient values from Astrophysical Quantities by Allen (1973)."
   ],
   "metadata": {
    "collapsed": false
   }
  },
  {
   "cell_type": "markdown",
   "source": [
    "Calculate correction polynomial."
   ],
   "metadata": {
    "collapsed": false
   }
  },
  {
   "cell_type": "code",
   "execution_count": null,
   "outputs": [],
   "source": [
    "Lij = [lbfuncs.limb_polynomial(hmi_int[i]) for i in range(0, len(hmi_int))]"
   ],
   "metadata": {
    "collapsed": false,
    "pycharm": {
     "name": "#%%\n"
    }
   }
  },
  {
   "cell_type": "markdown",
   "source": [
    "Calculate corrected intensity."
   ],
   "metadata": {
    "collapsed": false
   }
  },
  {
   "cell_type": "code",
   "execution_count": null,
   "outputs": [],
   "source": [
    "Iflat = [hmi_int[i].data/Lij[i] for i in range(0, len(hmi_int))]"
   ],
   "metadata": {
    "collapsed": false,
    "pycharm": {
     "name": "#%%\n"
    }
   }
  },
  {
   "cell_type": "markdown",
   "source": [
    "Create list of Sunpy map objects with corrected intensity data."
   ],
   "metadata": {
    "collapsed": false
   }
  },
  {
   "cell_type": "code",
   "execution_count": null,
   "outputs": [],
   "source": [
    "map_int_cor = [sfuncs.corrected_map(Iflat[i], hmi_int[i], map_type='Corrected-Intensitygram', frame=frames.HeliographicCarrington) for i in range(0, len(hmi_int))]"
   ],
   "metadata": {
    "collapsed": false,
    "pycharm": {
     "name": "#%%\n"
    }
   }
  },
  {
   "cell_type": "markdown",
   "source": [
    "Compare original and corrected intensity maps."
   ],
   "metadata": {
    "collapsed": false
   }
  },
  {
   "cell_type": "code",
   "execution_count": null,
   "outputs": [],
   "source": [
    "# plot original map\n",
    "hmi_int[0].peek()\n",
    "\n",
    "# plot corrected map\n",
    "map_int_cor[0].peek()"
   ],
   "metadata": {
    "collapsed": false,
    "pycharm": {
     "name": "#%%\n"
    }
   }
  },
  {
   "cell_type": "code",
   "execution_count": null,
   "outputs": [],
   "source": [
    "int_map = hmi_int[0]\n",
    "cont_map = plt.get_cmap('hinodesotintensity')\n",
    "int_map.plot_settings['cmap'] = cont_map\n",
    "int_map.plot()\n",
    "plt.show()\n",
    "\n",
    "int_map = map_int_cor[0]\n",
    "cont_map = plt.get_cmap('hinodesotintensity')\n",
    "int_map.plot_settings['cmap'] = cont_map\n",
    "int_map.plot()\n",
    "plt.show()"
   ],
   "metadata": {
    "collapsed": false,
    "pycharm": {
     "name": "#%%\n"
    }
   }
  },
  {
   "cell_type": "markdown",
   "source": [
    "## Step Five: Unsigned Magnetic Field Strength"
   ],
   "metadata": {
    "collapsed": false
   }
  },
  {
   "cell_type": "markdown",
   "source": [
    "We calculate radial unsigned magnetic field strength and set pixels with an\n",
    "observed magnetic field below the noise value equal to zero.\n",
    "\n",
    "The noise level used is from Yeo et al. 2013, and is 8 Gauss.\n",
    "\n",
    "<code>Bobs, Br = corrected_mag[0], corrected_mag[1]</code>"
   ],
   "metadata": {
    "collapsed": false
   }
  },
  {
   "cell_type": "code",
   "execution_count": null,
   "outputs": [],
   "source": [
    "# magnetic noise level\n",
    "B_noise = 8\n",
    "\n",
    "# calculate unsigned field strength\n",
    "corrected_mag = [sfuncs.mag_field(coord[i][5], hmi_mag[i], B_noise) for i in range(0, len(hmi_mag))]"
   ],
   "metadata": {
    "collapsed": false,
    "pycharm": {
     "name": "#%%\n"
    }
   }
  },
  {
   "cell_type": "markdown",
   "source": [
    "Create list of Sunpy map objects with corrected observed and radial magnetic data."
   ],
   "metadata": {
    "collapsed": false
   }
  },
  {
   "cell_type": "code",
   "execution_count": null,
   "outputs": [],
   "source": [
    "# observed magnetic data\n",
    "map_mag_obs = [sfuncs.corrected_map(corrected_mag[i][0], hmi_mag[i], map_type='Corrected-Magnetogram',\n",
    "                                    frame=frames.HeliographicCarrington) for i in range(0, len(hmi_mag))]\n",
    "\n",
    "# radial magnetic data\n",
    "map_mag_cor = [sfuncs.corrected_map(corrected_mag[i][1], hmi_mag[i], map_type='Corrected-Magnetogram',\n",
    "                                    frame=frames.HeliographicCarrington) for i in range(0, len(hmi_mag))]"
   ],
   "metadata": {
    "collapsed": false,
    "pycharm": {
     "name": "#%%\n"
    }
   }
  },
  {
   "cell_type": "markdown",
   "source": [
    "Compare original and corrected magnetic maps."
   ],
   "metadata": {
    "collapsed": false
   }
  },
  {
   "cell_type": "code",
   "execution_count": null,
   "outputs": [],
   "source": [
    "# plot original map\n",
    "hmi_mag[0].peek()\n",
    "\n",
    "# plot corrected map\n",
    "map_mag_cor[0].peek()\n"
   ],
   "metadata": {
    "collapsed": false,
    "pycharm": {
     "name": "#%%\n"
    }
   }
  },
  {
   "cell_type": "code",
   "execution_count": null,
   "outputs": [],
   "source": [
    "mag_map = hmi_mag[0]\n",
    "mag_map.plot_settings['norm'] = plt.Normalize(-100, 100)\n",
    "mag_map.plot()\n",
    "plt.show()\n",
    "\n",
    "mag_map = map_mag_cor[0]\n",
    "mag_map.plot_settings['norm'] = plt.Normalize(-100, 100)\n",
    "mag_map.plot()\n",
    "plt.show()"
   ],
   "metadata": {
    "collapsed": false,
    "pycharm": {
     "name": "#%%\n"
    }
   }
  },
  {
   "cell_type": "markdown",
   "source": [
    "## Step Six: Identification of Solar Regions"
   ],
   "metadata": {
    "collapsed": false
   }
  },
  {
   "cell_type": "markdown",
   "source": [
    "### Part One: Magnetic Thresholding\n",
    "\n",
    "Differentiate between active Sun and quiet Sun.\n",
    "Magnetic thresholding method used from Yeo et al. 2013 where\n",
    "$ B_{r, thresh} = 24G / \\mu $ ."
   ],
   "metadata": {
    "collapsed": false
   }
  },
  {
   "cell_type": "markdown",
   "source": [
    "Magnetic threshold and mu cutoff values.\n",
    "Automatically throw everything where $ \\mu < 0.1 $ out, for magnetic thresholding we also\n",
    "remove $ \\mu < 0.3 $ due to correction for radial magnetic field strength."
   ],
   "metadata": {
    "collapsed": false
   }
  },
  {
   "cell_type": "code",
   "execution_count": null,
   "outputs": [],
   "source": [
    "# magnetic threshold value (G) from Yeo et. al. 2013\n",
    "Br_cutoff = 24\n",
    "\n",
    "# mu cutoff value\n",
    "mu_cutoff = 0.35\n",
    "\n",
    "# area cutoff value (pixels)\n",
    "area_cutoff = 45"
   ],
   "metadata": {
    "collapsed": false,
    "pycharm": {
     "name": "#%%\n"
    }
   }
  },
  {
   "cell_type": "markdown",
   "source": [
    "For weighting, we return an active weights array (active = 1) and quiet weights array (active = 0).\n",
    "\n",
    "Get threshold maps where:\n",
    "\n",
    "<code>active, quiet = mag_thresh[i][0], mag_thresh[i][1]</code>"
   ],
   "metadata": {
    "collapsed": false
   }
  },
  {
   "cell_type": "code",
   "execution_count": null,
   "outputs": [],
   "source": [
    "mag_thresh = [sfuncs.mag_thresh(coord[i][5], hmi_mag[i], Br_cutoff=Br_cutoff, mu_cutoff=mu_cutoff) for i in range(0, len(hmi_mag))]\n"
   ],
   "metadata": {
    "collapsed": false,
    "pycharm": {
     "name": "#%%\n"
    }
   }
  },
  {
   "cell_type": "markdown",
   "source": [
    "Create list of Sunpy map objects with thresholded magnetic data."
   ],
   "metadata": {
    "collapsed": false
   }
  },
  {
   "cell_type": "code",
   "execution_count": null,
   "outputs": [],
   "source": [
    "map_mag_thresh = [sfuncs.corrected_map(mag_thresh[i][0], hmi_mag[i], map_type='Magnetic-Threshold', frame=frames.HeliographicCarrington) for i in range(0, len(hmi_mag))]"
   ],
   "metadata": {
    "collapsed": false,
    "pycharm": {
     "name": "#%%\n"
    }
   }
  },
  {
   "cell_type": "markdown",
   "source": [
    "Compare original and corrected threshold maps."
   ],
   "metadata": {
    "collapsed": false
   }
  },
  {
   "cell_type": "code",
   "execution_count": null,
   "outputs": [],
   "source": [
    "# plot corrected magnetic map\n",
    "map_mag_cor[0].peek()\n",
    "\n",
    "# plot corrected magnetic threshold map\n",
    "map_mag_thresh[0].peek()"
   ],
   "metadata": {
    "collapsed": false,
    "pycharm": {
     "name": "#%%\n"
    }
   }
  },
  {
   "cell_type": "markdown",
   "source": [
    "### Part Two: Intensity Thresholding\n",
    "\n",
    "Differentiate between sunspots (dark) and faculae (bright).\n",
    "Using method of Yeo et al. 2013 we calculate the intensity threshold such that\n",
    "$ I_{thresh} = 0.89I_{quiet} $ where $ I_{quiet} = \\frac{\\sum_{ij} I_{flat, ij} W_{ij}}{\\sum_{ij} W_{ij}} $\n",
    "is the mean pixel flattened intensity over quiet Sun regions."
   ],
   "metadata": {
    "collapsed": false
   }
  },
  {
   "cell_type": "markdown",
   "source": [
    "Calculate intensity threshold value and differentiate between sunspots and faculae where:\n",
    "\n",
    "<code>fac_inds, spot_inds = int_thresh[0], int_thresh[1]</code>"
   ],
   "metadata": {
    "collapsed": false
   }
  },
  {
   "cell_type": "code",
   "execution_count": null,
   "outputs": [],
   "source": [
    "int_thresh = [sfuncs.int_thresh(map_int_cor[i], mag_thresh[i][0], mag_thresh[i][1]) for i in range(0, len(hmi_int))]"
   ],
   "metadata": {
    "collapsed": false,
    "pycharm": {
     "name": "#%%\n"
    }
   }
  },
  {
   "cell_type": "markdown",
   "source": [
    "Create list of Sunpy map objects with faculae and sunspot data."
   ],
   "metadata": {
    "collapsed": false
   }
  },
  {
   "cell_type": "code",
   "execution_count": null,
   "outputs": [],
   "source": [
    "# create faculae map objects\n",
    "fac_map = [sfuncs.corrected_map(int_thresh[i][0], hmi_mag[i], map_type='Faculae', frame=frames.HeliographicCarrington) for i in range(0, len(hmi_int))]\n",
    "\n",
    "# create sunspot map objects\n",
    "spot_map = [sfuncs.corrected_map(int_thresh[i][1], hmi_mag[i], map_type='Sunspot', frame=frames.HeliographicCarrington) for i in range(0, len(hmi_int))]"
   ],
   "metadata": {
    "collapsed": false,
    "pycharm": {
     "name": "#%%\n"
    }
   }
  },
  {
   "cell_type": "markdown",
   "source": [
    "Compare original and corrected threshold maps."
   ],
   "metadata": {
    "collapsed": false
   }
  },
  {
   "cell_type": "code",
   "execution_count": null,
   "outputs": [],
   "source": [
    "# plot faculae map\n",
    "fac_map[0].peek()\n",
    "\n",
    "# plot sunspot map\n",
    "spot_map[0].peek()"
   ],
   "metadata": {
    "collapsed": false,
    "pycharm": {
     "name": "#%%\n"
    }
   }
  },
  {
   "cell_type": "markdown",
   "source": [
    "Create array that combines sunspot (dark: 2) and faculae (bright: 1) regions.\n"
   ],
   "metadata": {
    "collapsed": false
   }
  },
  {
   "cell_type": "code",
   "execution_count": null,
   "outputs": [],
   "source": [
    "thresh_arr = [sfuncs.thresh_map(int_thresh[i][0], int_thresh[i][1]) for i in range(0, len(hmi_mag))]\n"
   ],
   "metadata": {
    "collapsed": false,
    "pycharm": {
     "name": "#%%\n"
    }
   }
  },
  {
   "cell_type": "markdown",
   "source": [
    "Create list of Sunpy map objects with threshold data."
   ],
   "metadata": {
    "collapsed": false
   }
  },
  {
   "cell_type": "code",
   "execution_count": null,
   "outputs": [],
   "source": [
    "# create threshold map objects\n",
    "map_full_thresh = [sfuncs.corrected_map(thresh_arr[i], hmi_mag[i], map_type='Threshold', frame=frames.HeliographicCarrington) for i in range(0, len(hmi_int))]"
   ],
   "metadata": {
    "collapsed": false,
    "pycharm": {
     "name": "#%%\n"
    }
   }
  },
  {
   "cell_type": "markdown",
   "source": [
    "Compare corrected magnetic and threshold maps"
   ],
   "metadata": {
    "collapsed": false
   }
  },
  {
   "cell_type": "markdown",
   "source": [
    "For these threshold maps, we currently only see sunspots detected on the solar\n",
    "limb. The solar limb is inherently darker (limb darkening) and since we have yet\n",
    "to correct for this it is expected that the overall intensity threshold is lower\n",
    "and thus the only values below this threshold are on the limb.\n",
    "\n",
    "The Sun is also not currently super magnetically active (solar minima) in the\n",
    "time I plotted so this makes sense that there are not many sunspots.\n",
    "\n",
    "Could also adjust the $ \\mu $ cutoff value to remove these sunspots, but I think limb brightening will fix it."
   ],
   "metadata": {
    "collapsed": false
   }
  },
  {
   "cell_type": "code",
   "execution_count": null,
   "outputs": [],
   "source": [
    "mag_map = map_mag_cor[0]\n",
    "mag_map.plot_settings['norm'] = plt.Normalize(-100, 100)\n",
    "mag_map.plot()\n",
    "plt.imshow(map_full_thresh[0].data, cmap=plt.get_cmap('bwr'))\n",
    "plt.title(\"Comparison of faculae (blue) and sunspots (red) to magnetic data\")"
   ],
   "metadata": {
    "collapsed": false,
    "pycharm": {
     "name": "#%%\n"
    }
   }
  },
  {
   "cell_type": "code",
   "execution_count": null,
   "outputs": [],
   "source": [
    "int_map = map_int_cor[0]\n",
    "cont_map = plt.get_cmap('hinodesotintensity')\n",
    "int_map.plot_settings['cmap'] = cont_map\n",
    "int_map.plot()\n",
    "plt.imshow(map_full_thresh[0].data, cmap=plt.get_cmap('bwr'))\n",
    "plt.title(\"Comparison of faculae (blue) and sunspots (red) to intensity data\")"
   ],
   "metadata": {
    "collapsed": false,
    "pycharm": {
     "name": "#%%\n"
    }
   }
  },
  {
   "cell_type": "code",
   "execution_count": null,
   "outputs": [],
   "source": [
    "int_map = map_int_cor[0]\n",
    "cont_map = plt.get_cmap('hinodesotintensity')\n",
    "int_map.plot_settings['cmap'] = cont_map\n",
    "int_map.plot()\n",
    "\n",
    "spots = np.where(map_full_thresh[0].data == 2, 1, np.nan)\n",
    "plt.imshow(spots, cmap='Blues')\n",
    "plt.title(\"Comparison of sunspots to intensity data\")\n"
   ],
   "metadata": {
    "collapsed": false,
    "pycharm": {
     "name": "#%%\n"
    }
   }
  },
  {
   "cell_type": "markdown",
   "source": [
    "# Outline of Calculations of Solar RVs\n",
    "\n",
    "1. **quiet-Sun velocity:** estimation of average RV of quiet-Sun due to convective motion\n",
    "2. **photometric velocity:** estimation of rotational Doppler imbalance due to active (faculae/darkspot) regions\n",
    "3. **convective blueshift:** convective velocity estimation due to the suppression of the convective blueshift by\n",
    "magnetically active regions\n"
   ],
   "metadata": {
    "collapsed": false
   }
  },
  {
   "cell_type": "markdown",
   "source": [
    "## Step One: Convective Motion of quiet-Sun\n",
    "\n",
    "Calculate the velocity due to the convective motion of the quiet-Sun. Requires\n",
    "the magnetic weighting array we built in step six, part one. A weight of 0 denotes an\n",
    "active pixel, and 1 is quiet-Sun.\n",
    "\n",
    "The equation for calculating this quiet-Sun velocity is as such:\n",
    "$ v_{quiet} = \\frac{\\sum_{ij} (v_{ij} - \\delta v_{sc, ij} - \\delta v_{rot, ij}) I_{ij} W_{ij}}\n",
    " {\\sum_{ij} I_{ij} W_{ij}} $.\n",
    "\n",
    "In this case $ I_{ij} $ is the uncorrected (original) intensity data."
   ],
   "metadata": {
    "collapsed": false
   }
  },
  {
   "cell_type": "code",
   "execution_count": null,
   "outputs": [],
   "source": [
    "v_quiet = [sfuncs.v_quiet(map_vel_cor[i], hmi_int[i], mag_thresh[i][1]) for i in range(0, len(hmi_mag))]"
   ],
   "metadata": {
    "collapsed": false,
    "pycharm": {
     "name": "#%%\n"
    }
   }
  },
  {
   "cell_type": "markdown",
   "source": [
    "## Step Two: Photometric Velocity due to rotational Doppler imbalance\n",
    "\n",
    "Calculation of the photometric velocity due the presence of dark spots/bright faculae causing a Doppler imbalance. Requires\n",
    "magnetic weighting array that is flipped from the weighting array previously used. Now, a weight of 0 denotes quiet-Sun and\n",
    "1 denotes active pixel.\n",
    "\n",
    "The equation for this velocity calculation is:\n",
    "$ v_{phot} = \\frac{\\sum_{ij} (v_{ij} - \\delta v_{rot, ij})(I_{ij} - K) W_{ij}}\n",
    " {\\sum_{ij} I_{ij}} $.\n",
    "\n",
    "K is a scaling factor based off the limb-brightening correction carried out in Step Four of the solar corrections.\n",
    "$ K = \\frac{\\sum_{ij} I_{ij} L_{ij} W_{ij}}{\\sum_{ij} L_{ij}^2 W_{ij}} $\n",
    "\n",
    "In this case $ I_{ij} $ is the uncorrected (original) intensity data."
   ],
   "metadata": {
    "collapsed": false
   }
  },
  {
   "cell_type": "markdown",
   "source": [
    "Calculate photometric velocity.\n",
    "\n",
    "<code>v_phot, vphot_bright, vphot_spot = vphot[0], vphot[1], vphot[2]</code>"
   ],
   "metadata": {
    "collapsed": false
   }
  },
  {
   "cell_type": "code",
   "execution_count": null,
   "outputs": [],
   "source": [
    "v_phot = [sfuncs.v_phot(mag_thresh[i][1], mag_thresh[i][0], Lij[i], vrot[i], hmi_int[i], coord[i][5],\n",
    "                        int_thresh[i][0], int_thresh[i][1]) for i in range(0, len(hmi_int))]"
   ],
   "metadata": {
    "collapsed": false,
    "pycharm": {
     "name": "#%%\n"
    }
   }
  },
  {
   "cell_type": "markdown",
   "source": [
    "## Step Three: Convective Blueshift Velocity\n",
    "\n",
    "Calculation of suppression of convective blueshift due to active regions (mainly faculae).\n",
    "\n",
    "The basic premise for calculation is to calculate the disc-averaged velocity of the Sun\n",
    "and subtract from that the quiet-Sun velocity (Step One) and photometric velocity (Step Two) both of which were\n",
    "calculated previously.\n",
    "\n",
    "Maybe a better way to do this ...\n",
    "\n",
    "The equation for the disc-averaged velocity is:\n",
    "$ v = \\frac{\\sum_{ij} (v_{ij} - \\delta v_{sc, ij} - \\delta v_{rot, ij}) I_{ij}}{\\sum_{ij} I_{ij}} $\n",
    "\n",
    "We then calculate the convective velocity as what is left:\n",
    "$ v_{conv} = v - v_{quiet} $"
   ],
   "metadata": {
    "collapsed": false
   }
  },
  {
   "cell_type": "markdown",
   "source": [
    "Calculate disc-averaged velocity of Sun."
   ],
   "metadata": {
    "collapsed": false
   }
  },
  {
   "cell_type": "code",
   "execution_count": null,
   "outputs": [],
   "source": [
    "v_disc = [sfuncs.v_disc(map_vel_cor[i], hmi_int[i]) for i in range(0, len(hmi_int))]"
   ],
   "metadata": {
    "collapsed": false,
    "pycharm": {
     "name": "#%%\n"
    }
   }
  },
  {
   "cell_type": "markdown",
   "source": [
    "Calculate convective velocity."
   ],
   "metadata": {
    "collapsed": false
   }
  },
  {
   "cell_type": "code",
   "execution_count": null,
   "outputs": [],
   "source": [
    "v_conv = [v_disc[i] - v_quiet[i] for i in range(0, len(hmi_mag))]"
   ],
   "metadata": {
    "collapsed": false,
    "pycharm": {
     "name": "#%%\n"
    }
   }
  },
  {
   "cell_type": "markdown",
   "source": [
    "# Magnetic Observables\n",
    "\n",
    "Calculation of relevant magnetic observables.\n",
    "\n",
    "1. **filling factor:** disc averaged filling factors of sunspots and plage which gives\n",
    "the percentage of magnetically active pixels\n",
    "2. **unsigned magnetic flux:** calculation of disc-averaged, line-of-sight unsigned\n",
    "magnetic flux"
   ],
   "metadata": {
    "collapsed": false
   }
  },
  {
   "cell_type": "markdown",
   "source": [
    "## Filling Factor\n",
    "\n",
    "Estimate the disc-averaged filling factors of sunspots and plage:\n",
    "$ f_{spot, plage} = \\frac{1}{N_{pix}} \\sum_{ij} W_{ij} $\n",
    "\n",
    "In this case, a weight of 1 is an active pixel (active_weights).\n",
    "\n",
    "<code>f_bright, f_spot, f = filling[0], filling[1], filling[2]</code>"
   ],
   "metadata": {
    "collapsed": false
   }
  },
  {
   "cell_type": "code",
   "execution_count": null,
   "outputs": [],
   "source": [
    "filling = [sfuncs.filling_factor(coord[i][5], hmi_mag[i], mag_thresh[i][0], int_thresh[i][0], int_thresh[i][1])\n",
    "           for i in range(0, len(hmi_mag))]\n"
   ],
   "metadata": {
    "collapsed": false,
    "pycharm": {
     "name": "#%%\n"
    }
   }
  },
  {
   "cell_type": "markdown",
   "source": [
    "## Unsigned Magnetic Flux\n",
    "\n",
    "Calculate disc-averaged, line-of-sight unsigned (unpolarized) magnetic flux of the Sun."
   ],
   "metadata": {
    "collapsed": false
   }
  },
  {
   "cell_type": "markdown",
   "source": [
    "Calculation of observed unsigned flux.\n",
    "\n",
    "$ |\\hat{B_{obs}}| = \\frac{\\sum_{ij} |B_{obs, ij}| I_{ij}} {\\sum_{ij} I_{ij}}$"
   ],
   "metadata": {
    "collapsed": false
   }
  },
  {
   "cell_type": "code",
   "execution_count": null,
   "outputs": [],
   "source": [
    "unsigned_obs_flux = [sfuncs.unsigned_flux(map_mag_obs[i], hmi_int[i]) for i in range(0, len(hmi_mag))]"
   ],
   "metadata": {
    "collapsed": false,
    "pycharm": {
     "name": "#%%\n"
    }
   }
  },
  {
   "cell_type": "markdown",
   "source": [
    "## Area Based Observable Calculations"
   ],
   "metadata": {
    "collapsed": false
   }
  },
  {
   "cell_type": "markdown",
   "source": [
    "Calculate intensity weighted area of each active region."
   ],
   "metadata": {
    "collapsed": false
   }
  },
  {
   "cell_type": "code",
   "execution_count": null,
   "outputs": [],
   "source": [
    "pixA_hem = [ctfuncs.pix_area_hem(vel_coords[i][0], vel_coords[i][1], vel_coords[i][2], hmi_vel[i]) for i in range(0, len(hmi_vel))]\n",
    "area = [sfuncs.area_calc(mag_thresh[i][0], pixA_hem[i]) for i in range(0, len(hmi_vel))]"
   ],
   "metadata": {
    "collapsed": false,
    "pycharm": {
     "name": "#%%\n"
    }
   }
  },
  {
   "cell_type": "markdown",
   "source": [
    "Calculate the area filling factor.\n",
    "\n",
    "<code>f_small, f_large, f_network, f_plage, f_nonconv = f_area[0], f_area[1], f_area[2], f_area[3], f_area[4]</code>"
   ],
   "metadata": {
    "collapsed": false
   }
  },
  {
   "cell_type": "code",
   "execution_count": null,
   "outputs": [],
   "source": [
    "f_area = [sfuncs.area_filling_factor(mag_thresh[i][0], area[i], coord[i][5], hmi_mag[i], int_thresh[i][0]) for i in range(0, len(hmi_mag))]"
   ],
   "metadata": {
    "collapsed": false,
    "pycharm": {
     "name": "#%%\n"
    }
   }
  },
  {
   "cell_type": "markdown",
   "source": [
    "Calculate unsigned flux of various polarized and active regions.\n",
    "\n",
    "<code>quiet_flux, ar_flux, conv_flux, pol_flux, pol_conv_flux = flux[0], flux[1], flux[2], flux[3], flux[4], flux[5]</code>"
   ],
   "metadata": {
    "collapsed": false
   }
  },
  {
   "cell_type": "code",
   "execution_count": null,
   "outputs": [],
   "source": [
    "quiet_flux, ar_flux, conv_flux, pol_flux, pol_conv_flux = [sfuncs.area_unsigned_flux(map_mag_obs[i], hmi_int[i],\n",
    "                                area[i], int_thresh[i][0]) for i in range(0, len(hmi_int))]"
   ],
   "metadata": {
    "collapsed": false,
    "pycharm": {
     "name": "#%%\n"
    }
   }
  },
  {
   "cell_type": "markdown",
   "source": [
    "Get area weighted convective velocities.\n",
    "\n",
    "<code>vconv_quiet, vconv_large, vconv_small = vconv_area[0], vconv_area[1], vconv_area[2]</code>"
   ],
   "metadata": {
    "collapsed": false
   }
  },
  {
   "cell_type": "code",
   "execution_count": null,
   "outputs": [],
   "source": [
    "vconv_area = [sfuncs.area_vconv(map_vel_cor[i], hmi_int[i], int_thresh[i][0], area[i]) for i in range(0, len(hmi_int))]\n"
   ],
   "metadata": {
    "collapsed": false,
    "pycharm": {
     "name": "#%%\n"
    }
   }
  }
 ],
 "metadata": {
  "kernelspec": {
   "display_name": "Python 2",
   "language": "python",
   "name": "python2"
  },
  "language_info": {
   "codemirror_mode": {
    "name": "ipython",
    "version": 2
   },
   "file_extension": ".py",
   "mimetype": "text/x-python",
   "name": "python",
   "nbconvert_exporter": "python",
   "pygments_lexer": "ipython2",
   "version": "2.7.6"
  }
 },
 "nbformat": 4,
 "nbformat_minor": 0
}