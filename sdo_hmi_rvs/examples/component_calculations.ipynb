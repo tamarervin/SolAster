{
 "cells": [
  {
   "cell_type": "markdown",
   "metadata": {
    "collapsed": true,
    "pycharm": {
     "name": "#%% md\n"
    }
   },
   "source": [
    "# Outline of corrections to SDO/HMI Images\n",
    "\n",
    "1. **coordinate transformation:** transform from Helioprojective Cartesian coordinates\n",
    "to Heliographic Carrington coordinates based on observer\n",
    "2. **spacecraft velocity calculation:** correct for the  velocity of spacecraft relative\n",
    "to Sun\n",
    "3. **solar rotation calculation:** account for velocity due to solar rotation as a function of\n",
    "latitude (based on Snodgrass & Ulrich 1990)\n",
    "4. **limb darkening correction:** correct for limb darkening in HMI intensity images -- **DONE!!!!**\n",
    "5. **unsigned magnetic field strength:** calculate unsigned magnetic field strength by dividing observed\n",
    "field strength by $ \\mu = cos(\\theta)$\n",
    "6. **identify solar regions:** differentiate between quiet Sun, sunspots, faculae/plage regions\n"
   ]
  },
  {
   "cell_type": "code",
   "execution_count": 4,
   "metadata": {
    "pycharm": {
     "name": "#%%\n"
    }
   },
   "outputs": [],
   "source": [
    "import numpy as np\n",
    "\n",
    "import astropy.units as u\n",
    "\n",
    "import sunpy.map\n",
    "from sunpy.net import Fido\n",
    "from sunpy.net import attrs as a\n",
    "from sunpy.coordinates import frames\n",
    "\n",
    "import matplotlib.pyplot as plt\n",
    "\n",
    "from scipy import stats\n",
    "\n",
    "import sdo_hmi_rvs.tools.calculation_funcs as sfuncs\n",
    "import sdo_hmi_rvs.tools.lbc_funcs as lbfuncs\n",
    "import sdo_hmi_rvs.tools.coord_funcs as ctfuncs"
   ]
  },
  {
   "cell_type": "markdown",
   "metadata": {
    "pycharm": {
     "name": "#%% md\n"
    }
   },
   "source": [
    "Get HMI data."
   ]
  },
  {
   "cell_type": "code",
   "execution_count": 5,
   "metadata": {
    "pycharm": {
     "name": "#%%\n"
    }
   },
   "outputs": [
    {
     "name": "stdout",
     "output_type": "stream",
     "text": [
      "Results from 3 Providers:\n",
      "\n",
      "1 Results from the VSOClient:\n",
      "       Start Time               End Time        ...   Size          Info       \n",
      "                                                ...  Mibyte                    \n",
      "----------------------- ----------------------- ... -------- ------------------\n",
      "2021-01-01 00:00:22.000 2021-01-01 00:00:23.000 ... -0.00098 45sec. Dopplergram\n",
      "\n",
      "1 Results from the VSOClient:\n",
      "       Start Time               End Time        ...   Size          Info       \n",
      "                                                ...  Mibyte                    \n",
      "----------------------- ----------------------- ... -------- ------------------\n",
      "2021-01-01 00:00:22.000 2021-01-01 00:00:23.000 ... -0.00098 45sec. Magnetogram\n",
      "\n",
      "1 Results from the VSOClient:\n",
      "       Start Time               End Time        ...            Info           \n",
      "                                                ...                           \n",
      "----------------------- ----------------------- ... --------------------------\n",
      "2021-01-01 00:00:22.000 2021-01-01 00:00:23.000 ... 45sec. Continuum intensity\n",
      "\n",
      "\n"
     ]
    }
   ],
   "source": [
    "# get hmi data products\n",
    "cadence = a.Sample(24*u.hour)  # querying cadence\n",
    "start_date = '2021-01-01T00:00:00'  # start date of query\n",
    "end_date = '2021-01-01T00:01:00'\n",
    "physobs_list = [a.Physobs.los_velocity, a.Physobs.los_magnetic_field, a.Physobs.intensity]\n",
    "\n",
    "result = Fido.search(a.Time(start_date, end_date),\n",
    "                     a.Instrument.hmi, physobs_list[0] | physobs_list[1] | physobs_list[2], cadence)\n",
    "\n",
    "# print results\n",
    "print(result)"
   ]
  },
  {
   "cell_type": "markdown",
   "metadata": {
    "pycharm": {
     "name": "#%% md\n"
    }
   },
   "source": [
    "Download data files, sort, and build map list."
   ]
  },
  {
   "cell_type": "code",
   "execution_count": 6,
   "metadata": {
    "pycharm": {
     "name": "#%%\n"
    }
   },
   "outputs": [
    {
     "data": {
      "text/plain": "Files Downloaded:   0%|          | 0/3 [00:00<?, ?file/s]",
      "application/vnd.jupyter.widget-view+json": {
       "version_major": 2,
       "version_minor": 0,
       "model_id": "acf1d02ae5a5445da73c02d7db84981c"
      }
     },
     "metadata": {},
     "output_type": "display_data"
    }
   ],
   "source": [
    "# download results\n",
    "file_download = Fido.fetch(result)\n",
    "# convert to map sequence\n",
    "map_seq = sunpy.map.Map(sorted(file_download))\n"
   ]
  },
  {
   "cell_type": "markdown",
   "metadata": {},
   "source": [
    "Create map lists based on HMI content."
   ]
  },
  {
   "cell_type": "code",
   "execution_count": 7,
   "metadata": {
    "pycharm": {
     "name": "#%%\n"
    }
   },
   "outputs": [
    {
     "name": "stderr",
     "output_type": "stream",
     "text": [
      "WARNING: FITSFixedWarning: 'datfix' made the change 'Set MJD-OBS to 59215.000256 from DATE-OBS'. [astropy.wcs.wcs]\n",
      "WARNING: FITSFixedWarning: 'datfix' made the change 'Set MJD-OBS to 59215.000256 from DATE-OBS'. [astropy.wcs.wcs]\n",
      "WARNING: FITSFixedWarning: 'datfix' made the change 'Set MJD-OBS to 59215.000256 from DATE-OBS'. [astropy.wcs.wcs]\n",
      "WARNING: FITSFixedWarning: 'datfix' made the change 'Set MJD-OBS to 59215.000256 from DATE-OBS'. [astropy.wcs.wcs]\n",
      "WARNING: FITSFixedWarning: 'datfix' made the change 'Set MJD-OBS to 59215.000256 from DATE-OBS'. [astropy.wcs.wcs]\n",
      "WARNING: FITSFixedWarning: 'datfix' made the change 'Set MJD-OBS to 59215.000256 from DATE-OBS'. [astropy.wcs.wcs]\n"
     ]
    }
   ],
   "source": [
    "hmi_vel, hmi_mag, hmi_int \\\n",
    "    = [], [], []\n",
    "for i, map_obj in enumerate(map_seq):\n",
    "    if map_obj.meta['content'] == 'DOPPLERGRAM':\n",
    "        hmi_vel.append(map_obj.rotate(order=3))\n",
    "    elif map_obj.meta['content'] == 'MAGNETOGRAM':\n",
    "        hmi_mag.append(map_obj.rotate(order=3))\n",
    "    elif map_obj.meta['content'] == 'CONTINUUM INTENSITY':\n",
    "        hmi_int.append(map_obj.rotate(order=3))"
   ]
  },
  {
   "cell_type": "markdown",
   "metadata": {},
   "source": [
    "## Step One: Coordinate Transformations"
   ]
  },
  {
   "cell_type": "markdown",
   "metadata": {
    "pycharm": {
     "name": "#%% md\n"
    }
   },
   "source": [
    "Apply coordinate transformations for HMI data products where:\n",
    "\n",
    "<code>x, y, pdim, r, d, mu = coord[i][0], coord[i][1], coord[i][2], coord[i][3], coord[i][4], coord[i][5]</code>\n",
    "\n",
    "<code>wij, nij, rij = vel_coords[i][0], vel_coords[i][1], vel_coords[i][2]</code>"
   ]
  },
  {
   "cell_type": "code",
   "execution_count": 8,
   "metadata": {
    "pycharm": {
     "name": "#%%\n"
    }
   },
   "outputs": [
    {
     "ename": "KeyError",
     "evalue": "\"Keyword 'CROTA2' not found.\"",
     "output_type": "error",
     "traceback": [
      "\u001B[0;31m---------------------------------------------------------------------------\u001B[0m",
      "\u001B[0;31mKeyError\u001B[0m                                  Traceback (most recent call last)",
      "\u001B[0;32m/var/folders/m6/s52srt9x0wz_3qq1qwc6yfz40000gq/T/ipykernel_59976/3871974208.py\u001B[0m in \u001B[0;36m<module>\u001B[0;34m\u001B[0m\n\u001B[1;32m      3\u001B[0m \u001B[0;34m\u001B[0m\u001B[0m\n\u001B[1;32m      4\u001B[0m \u001B[0;31m# get mu and radius array\u001B[0m\u001B[0;34m\u001B[0m\u001B[0;34m\u001B[0m\u001B[0;34m\u001B[0m\u001B[0m\n\u001B[0;32m----> 5\u001B[0;31m \u001B[0mvel_coords\u001B[0m \u001B[0;34m=\u001B[0m \u001B[0;34m[\u001B[0m\u001B[0mctfuncs\u001B[0m\u001B[0;34m.\u001B[0m\u001B[0mvel_coords\u001B[0m\u001B[0;34m(\u001B[0m\u001B[0mcoord\u001B[0m\u001B[0;34m[\u001B[0m\u001B[0mi\u001B[0m\u001B[0;34m]\u001B[0m\u001B[0;34m[\u001B[0m\u001B[0;36m0\u001B[0m\u001B[0;34m]\u001B[0m\u001B[0;34m,\u001B[0m \u001B[0mcoord\u001B[0m\u001B[0;34m[\u001B[0m\u001B[0mi\u001B[0m\u001B[0;34m]\u001B[0m\u001B[0;34m[\u001B[0m\u001B[0;36m1\u001B[0m\u001B[0;34m]\u001B[0m\u001B[0;34m,\u001B[0m \u001B[0mcoord\u001B[0m\u001B[0;34m[\u001B[0m\u001B[0mi\u001B[0m\u001B[0;34m]\u001B[0m\u001B[0;34m[\u001B[0m\u001B[0;36m2\u001B[0m\u001B[0;34m]\u001B[0m\u001B[0;34m,\u001B[0m \u001B[0mcoord\u001B[0m\u001B[0;34m[\u001B[0m\u001B[0mi\u001B[0m\u001B[0;34m]\u001B[0m\u001B[0;34m[\u001B[0m\u001B[0;36m3\u001B[0m\u001B[0;34m]\u001B[0m\u001B[0;34m,\u001B[0m \u001B[0mhmi_vel\u001B[0m\u001B[0;34m[\u001B[0m\u001B[0mi\u001B[0m\u001B[0;34m]\u001B[0m\u001B[0;34m)\u001B[0m \u001B[0;32mfor\u001B[0m \u001B[0mi\u001B[0m \u001B[0;32min\u001B[0m \u001B[0mrange\u001B[0m\u001B[0;34m(\u001B[0m\u001B[0;36m0\u001B[0m\u001B[0;34m,\u001B[0m \u001B[0mlen\u001B[0m\u001B[0;34m(\u001B[0m\u001B[0mhmi_vel\u001B[0m\u001B[0;34m)\u001B[0m\u001B[0;34m)\u001B[0m\u001B[0;34m]\u001B[0m\u001B[0;34m\u001B[0m\u001B[0;34m\u001B[0m\u001B[0m\n\u001B[0m\u001B[1;32m      6\u001B[0m \u001B[0;34m\u001B[0m\u001B[0m\n\u001B[1;32m      7\u001B[0m \u001B[0;34m\u001B[0m\u001B[0m\n",
      "\u001B[0;32m/var/folders/m6/s52srt9x0wz_3qq1qwc6yfz40000gq/T/ipykernel_59976/3871974208.py\u001B[0m in \u001B[0;36m<listcomp>\u001B[0;34m(.0)\u001B[0m\n\u001B[1;32m      3\u001B[0m \u001B[0;34m\u001B[0m\u001B[0m\n\u001B[1;32m      4\u001B[0m \u001B[0;31m# get mu and radius array\u001B[0m\u001B[0;34m\u001B[0m\u001B[0;34m\u001B[0m\u001B[0;34m\u001B[0m\u001B[0m\n\u001B[0;32m----> 5\u001B[0;31m \u001B[0mvel_coords\u001B[0m \u001B[0;34m=\u001B[0m \u001B[0;34m[\u001B[0m\u001B[0mctfuncs\u001B[0m\u001B[0;34m.\u001B[0m\u001B[0mvel_coords\u001B[0m\u001B[0;34m(\u001B[0m\u001B[0mcoord\u001B[0m\u001B[0;34m[\u001B[0m\u001B[0mi\u001B[0m\u001B[0;34m]\u001B[0m\u001B[0;34m[\u001B[0m\u001B[0;36m0\u001B[0m\u001B[0;34m]\u001B[0m\u001B[0;34m,\u001B[0m \u001B[0mcoord\u001B[0m\u001B[0;34m[\u001B[0m\u001B[0mi\u001B[0m\u001B[0;34m]\u001B[0m\u001B[0;34m[\u001B[0m\u001B[0;36m1\u001B[0m\u001B[0;34m]\u001B[0m\u001B[0;34m,\u001B[0m \u001B[0mcoord\u001B[0m\u001B[0;34m[\u001B[0m\u001B[0mi\u001B[0m\u001B[0;34m]\u001B[0m\u001B[0;34m[\u001B[0m\u001B[0;36m2\u001B[0m\u001B[0;34m]\u001B[0m\u001B[0;34m,\u001B[0m \u001B[0mcoord\u001B[0m\u001B[0;34m[\u001B[0m\u001B[0mi\u001B[0m\u001B[0;34m]\u001B[0m\u001B[0;34m[\u001B[0m\u001B[0;36m3\u001B[0m\u001B[0;34m]\u001B[0m\u001B[0;34m,\u001B[0m \u001B[0mhmi_vel\u001B[0m\u001B[0;34m[\u001B[0m\u001B[0mi\u001B[0m\u001B[0;34m]\u001B[0m\u001B[0;34m)\u001B[0m \u001B[0;32mfor\u001B[0m \u001B[0mi\u001B[0m \u001B[0;32min\u001B[0m \u001B[0mrange\u001B[0m\u001B[0;34m(\u001B[0m\u001B[0;36m0\u001B[0m\u001B[0;34m,\u001B[0m \u001B[0mlen\u001B[0m\u001B[0;34m(\u001B[0m\u001B[0mhmi_vel\u001B[0m\u001B[0;34m)\u001B[0m\u001B[0;34m)\u001B[0m\u001B[0;34m]\u001B[0m\u001B[0;34m\u001B[0m\u001B[0;34m\u001B[0m\u001B[0m\n\u001B[0m\u001B[1;32m      6\u001B[0m \u001B[0;34m\u001B[0m\u001B[0m\n\u001B[1;32m      7\u001B[0m \u001B[0;34m\u001B[0m\u001B[0m\n",
      "\u001B[0;32m~/sdo_hmi_rvs/sdo_hmi_rvs/tools/coord_funcs.py\u001B[0m in \u001B[0;36mvel_coords\u001B[0;34m(x, y, pd, r, smap)\u001B[0m\n\u001B[1;32m    132\u001B[0m \u001B[0;34m\u001B[0m\u001B[0m\n\u001B[1;32m    133\u001B[0m     \u001B[0mhead\u001B[0m \u001B[0;34m=\u001B[0m \u001B[0msmap\u001B[0m\u001B[0;34m.\u001B[0m\u001B[0mfits_header\u001B[0m\u001B[0;34m\u001B[0m\u001B[0;34m\u001B[0m\u001B[0m\n\u001B[0;32m--> 134\u001B[0;31m     \u001B[0mcrota2\u001B[0m \u001B[0;34m=\u001B[0m \u001B[0mhead\u001B[0m\u001B[0;34m[\u001B[0m\u001B[0;34m'CROTA2'\u001B[0m\u001B[0;34m]\u001B[0m  \u001B[0;31m# deg\u001B[0m\u001B[0;34m\u001B[0m\u001B[0;34m\u001B[0m\u001B[0m\n\u001B[0m\u001B[1;32m    135\u001B[0m \u001B[0;34m\u001B[0m\u001B[0m\n\u001B[1;32m    136\u001B[0m     \u001B[0;31m# transform each pixel to get into Heliographic CR Coordinates\u001B[0m\u001B[0;34m\u001B[0m\u001B[0;34m\u001B[0m\u001B[0;34m\u001B[0m\u001B[0m\n",
      "\u001B[0;32m~/opt/anaconda3/envs/sdo_hmi_rvs/lib/python3.8/site-packages/astropy/io/fits/header.py\u001B[0m in \u001B[0;36m__getitem__\u001B[0;34m(self, key)\u001B[0m\n\u001B[1;32m    155\u001B[0m             \u001B[0mkeyword\u001B[0m \u001B[0;34m=\u001B[0m \u001B[0mkey\u001B[0m\u001B[0;34m\u001B[0m\u001B[0;34m\u001B[0m\u001B[0m\n\u001B[1;32m    156\u001B[0m \u001B[0;34m\u001B[0m\u001B[0m\n\u001B[0;32m--> 157\u001B[0;31m         \u001B[0mcard\u001B[0m \u001B[0;34m=\u001B[0m \u001B[0mself\u001B[0m\u001B[0;34m.\u001B[0m\u001B[0m_cards\u001B[0m\u001B[0;34m[\u001B[0m\u001B[0mself\u001B[0m\u001B[0;34m.\u001B[0m\u001B[0m_cardindex\u001B[0m\u001B[0;34m(\u001B[0m\u001B[0mkey\u001B[0m\u001B[0;34m)\u001B[0m\u001B[0;34m]\u001B[0m\u001B[0;34m\u001B[0m\u001B[0;34m\u001B[0m\u001B[0m\n\u001B[0m\u001B[1;32m    158\u001B[0m \u001B[0;34m\u001B[0m\u001B[0m\n\u001B[1;32m    159\u001B[0m         \u001B[0;32mif\u001B[0m \u001B[0mcard\u001B[0m\u001B[0;34m.\u001B[0m\u001B[0mfield_specifier\u001B[0m \u001B[0;32mis\u001B[0m \u001B[0;32mnot\u001B[0m \u001B[0;32mNone\u001B[0m \u001B[0;32mand\u001B[0m \u001B[0mkeyword\u001B[0m \u001B[0;34m==\u001B[0m \u001B[0mcard\u001B[0m\u001B[0;34m.\u001B[0m\u001B[0mrawkeyword\u001B[0m\u001B[0;34m:\u001B[0m\u001B[0;34m\u001B[0m\u001B[0;34m\u001B[0m\u001B[0m\n",
      "\u001B[0;32m~/opt/anaconda3/envs/sdo_hmi_rvs/lib/python3.8/site-packages/astropy/io/fits/header.py\u001B[0m in \u001B[0;36m_cardindex\u001B[0;34m(self, key)\u001B[0m\n\u001B[1;32m   1744\u001B[0m \u001B[0;34m\u001B[0m\u001B[0m\n\u001B[1;32m   1745\u001B[0m         \u001B[0;32mif\u001B[0m \u001B[0;32mnot\u001B[0m \u001B[0mindices\u001B[0m\u001B[0;34m:\u001B[0m\u001B[0;34m\u001B[0m\u001B[0;34m\u001B[0m\u001B[0m\n\u001B[0;32m-> 1746\u001B[0;31m             \u001B[0;32mraise\u001B[0m \u001B[0mKeyError\u001B[0m\u001B[0;34m(\u001B[0m\u001B[0;34mf\"Keyword {keyword!r} not found.\"\u001B[0m\u001B[0;34m)\u001B[0m\u001B[0;34m\u001B[0m\u001B[0;34m\u001B[0m\u001B[0m\n\u001B[0m\u001B[1;32m   1747\u001B[0m \u001B[0;34m\u001B[0m\u001B[0m\n\u001B[1;32m   1748\u001B[0m         \u001B[0;32mtry\u001B[0m\u001B[0;34m:\u001B[0m\u001B[0;34m\u001B[0m\u001B[0;34m\u001B[0m\u001B[0m\n",
      "\u001B[0;31mKeyError\u001B[0m: \"Keyword 'CROTA2' not found.\""
     ]
    }
   ],
   "source": [
    "# get cartesian scales from map\n",
    "coord = [ctfuncs.coordinates(hmi_vel[i]) for i in range(0, len(hmi_vel))]\n",
    "\n",
    "# get mu and radius array\n",
    "vel_coords = [ctfuncs.vel_coords(coord[i][0], coord[i][1], coord[i][2], coord[i][3], hmi_vel[i]) for i in range(0, len(hmi_vel))]\n"
   ]
  },
  {
   "cell_type": "markdown",
   "metadata": {
    "pycharm": {
     "name": "#%% md\n"
    }
   },
   "source": [
    "Remove bad mu values from each map.\n",
    "\n",
    "<code>hmi_vel, hmi_mag, imap = maps[i][0], maps[i][1], maps[i][2]</code>"
   ]
  },
  {
   "cell_type": "code",
   "execution_count": null,
   "metadata": {
    "pycharm": {
     "name": "#%%\n"
    }
   },
   "outputs": [],
   "source": [
    "# fix bad mu values\n",
    "maps = [ctfuncs.fix_mu(coord[i][5], [hmi_vel[i],  hmi_mag[i],  hmi_int[i]]) for i in range(0, len(hmi_vel))]\n",
    "\n",
    "# return maps to original lists\n",
    "hmi_vel = [maps[i][0] for i in range(0, len(hmi_vel))]\n",
    "hmi_mag = [maps[i][1] for i in range(0, len(hmi_vel))]\n",
    "hmi_int = [maps[i][2] for i in range(0, len(hmi_vel))]"
   ]
  },
  {
   "cell_type": "markdown",
   "metadata": {
    "pycharm": {
     "name": "#%% md\n"
    }
   },
   "source": [
    "## Step Two: Calculate Spacecraft Velocity"
   ]
  },
  {
   "cell_type": "markdown",
   "metadata": {
    "pycharm": {
     "name": "#%% md\n"
    }
   },
   "source": [
    "Calculate relative positions.\n",
    "\n",
    "<code>deltaw, deltan, deltar, dij = delta[i][0], delta[i][1], delta[i][2], delta[i][3]</code>"
   ]
  },
  {
   "cell_type": "code",
   "execution_count": null,
   "metadata": {
    "pycharm": {
     "name": "#%%\n"
    }
   },
   "outputs": [],
   "source": [
    "delta = [sfuncs.rel_positions(vel_coords[i][0], vel_coords[i][1], vel_coords[i][2], hmi_vel[i])]"
   ]
  },
  {
   "cell_type": "markdown",
   "metadata": {
    "pycharm": {
     "name": "#%% md\n"
    }
   },
   "source": [
    "Calculate spacecraft velocity."
   ]
  },
  {
   "cell_type": "code",
   "execution_count": null,
   "metadata": {
    "pycharm": {
     "name": "#%%\n"
    }
   },
   "outputs": [],
   "source": [
    "vsc = [sfuncs.spacecraft_vel(delta[i][0], delta[i][1], delta[i][2], delta[i][3], hmi_vel[i]) for i in range(0, len(hmi_vel))]"
   ]
  },
  {
   "cell_type": "markdown",
   "metadata": {
    "pycharm": {
     "name": "#%% md\n"
    }
   },
   "source": [
    "## Step Three: Calculate Velocity due to Solar Rotation"
   ]
  },
  {
   "cell_type": "markdown",
   "metadata": {
    "pycharm": {
     "name": "#%% md\n"
    }
   },
   "source": [
    "Optimized parameters for calculation of solar rotation."
   ]
  },
  {
   "cell_type": "code",
   "execution_count": null,
   "metadata": {
    "pycharm": {
     "name": "#%%\n"
    }
   },
   "outputs": [],
   "source": [
    "a1 = 14.713\n",
    "a2 = -2.396\n",
    "a3 = -1.787\n",
    "a_parameters = [a1, a2, a3]"
   ]
  },
  {
   "cell_type": "markdown",
   "metadata": {
    "pycharm": {
     "name": "#%% md\n"
    }
   },
   "source": [
    "Calculation of solar rotation velocity."
   ]
  },
  {
   "cell_type": "code",
   "execution_count": null,
   "metadata": {
    "pycharm": {
     "name": "#%%\n"
    }
   },
   "outputs": [],
   "source": [
    "vrot = [sfuncs.solar_rot_vel(vel_coords[i][0], vel_coords[i][1], vel_coords[i][2], delta[i][0], delta[i][1], delta[i][2],\n",
    "                             delta[i][3], hmi_vel[i], a_parameters) for i in range(0, len(hmi_vel))]"
   ]
  },
  {
   "cell_type": "markdown",
   "metadata": {
    "pycharm": {
     "name": "#%% md\n"
    }
   },
   "source": [
    "Calculate corrected velocity."
   ]
  },
  {
   "cell_type": "code",
   "execution_count": null,
   "metadata": {
    "pycharm": {
     "name": "#%%\n"
    }
   },
   "outputs": [],
   "source": [
    "# subtract vsc and vrot from the Doppler images\n",
    "corrected_vel = [hmi_vel[i].data - np.real(vsc[i]) - np.real(vrot[i]) for i in range(0, len(hmi_vel))]"
   ]
  },
  {
   "cell_type": "markdown",
   "metadata": {
    "pycharm": {
     "name": "#%% md\n"
    }
   },
   "source": [
    "Create list of Sunpy map objects with corrected velocity data."
   ]
  },
  {
   "cell_type": "code",
   "execution_count": null,
   "metadata": {
    "pycharm": {
     "name": "#%%\n"
    }
   },
   "outputs": [],
   "source": [
    "map_vel_cor = [sfuncs.corrected_map(corrected_vel[i], hmi_vel[i], map_type='Corrected-Dopplergram',\n",
    "                                    frame=frames.HeliographicCarrington) for i in range(0, len(hmi_vel))]"
   ]
  },
  {
   "cell_type": "markdown",
   "metadata": {
    "pycharm": {
     "name": "#%% md\n"
    }
   },
   "source": [
    "Compare original and corrected velocity maps."
   ]
  },
  {
   "cell_type": "code",
   "execution_count": null,
   "metadata": {
    "pycharm": {
     "name": "#%%\n"
    }
   },
   "outputs": [],
   "source": [
    "# plot original map\n",
    "hmi_vel[0].peek()\n",
    "\n",
    "# plot corrected map\n",
    "map_vel_cor[0].peek()\n"
   ]
  },
  {
   "cell_type": "markdown",
   "metadata": {
    "pycharm": {
     "name": "#%% md\n"
    }
   },
   "source": [
    "## Step Four: Limb Darkening Correction"
   ]
  },
  {
   "cell_type": "markdown",
   "metadata": {
    "pycharm": {
     "name": "#%% md\n"
    }
   },
   "source": [
    "Equation for limb-brightening:\n",
    "$ L_{ij} = 1 - u_2 - v_2 + u_2 cos \\theta + v_2 cos^2 \\theta $\n",
    "\n",
    "Coefficient values from Astrophysical Quantities by Allen (1973)."
   ]
  },
  {
   "cell_type": "markdown",
   "metadata": {
    "pycharm": {
     "name": "#%% md\n"
    }
   },
   "source": [
    "Calculate correction polynomial."
   ]
  },
  {
   "cell_type": "code",
   "execution_count": null,
   "metadata": {
    "pycharm": {
     "name": "#%%\n"
    }
   },
   "outputs": [],
   "source": [
    "Lij = [lbfuncs.limb_polynomial(hmi_int[i]) for i in range(0, len(hmi_int))]"
   ]
  },
  {
   "cell_type": "markdown",
   "metadata": {
    "pycharm": {
     "name": "#%% md\n"
    }
   },
   "source": [
    "Calculate corrected intensity."
   ]
  },
  {
   "cell_type": "code",
   "execution_count": null,
   "metadata": {
    "pycharm": {
     "name": "#%%\n"
    }
   },
   "outputs": [],
   "source": [
    "Iflat = [hmi_int[i].data/Lij[i] for i in range(0, len(hmi_int))]"
   ]
  },
  {
   "cell_type": "markdown",
   "metadata": {
    "pycharm": {
     "name": "#%% md\n"
    }
   },
   "source": [
    "Create list of Sunpy map objects with corrected intensity data."
   ]
  },
  {
   "cell_type": "code",
   "execution_count": null,
   "metadata": {
    "pycharm": {
     "name": "#%%\n"
    }
   },
   "outputs": [],
   "source": [
    "map_int_cor = [sfuncs.corrected_map(Iflat[i], hmi_int[i], map_type='Corrected-Intensitygram', frame=frames.HeliographicCarrington) for i in range(0, len(hmi_int))]"
   ]
  },
  {
   "cell_type": "markdown",
   "metadata": {},
   "source": [
    "Compare original and corrected intensity maps."
   ]
  },
  {
   "cell_type": "code",
   "execution_count": null,
   "metadata": {
    "pycharm": {
     "name": "#%%\n"
    }
   },
   "outputs": [],
   "source": [
    "# plot original map\n",
    "hmi_int[0].peek()\n",
    "\n",
    "# plot corrected map\n",
    "map_int_cor[0].peek()"
   ]
  },
  {
   "cell_type": "code",
   "execution_count": null,
   "metadata": {},
   "outputs": [],
   "source": [
    "int_map = hmi_int[0]\n",
    "cont_map = plt.get_cmap('hinodesotintensity')\n",
    "int_map.plot_settings['cmap'] = cont_map\n",
    "int_map.plot()\n",
    "plt.show()\n",
    "\n",
    "int_map = map_int_cor[0]\n",
    "cont_map = plt.get_cmap('hinodesotintensity')\n",
    "int_map.plot_settings['cmap'] = cont_map\n",
    "int_map.plot()\n",
    "plt.show()"
   ]
  },
  {
   "cell_type": "markdown",
   "metadata": {
    "pycharm": {
     "name": "#%% md\n"
    }
   },
   "source": [
    "## Step Five: Unsigned Magnetic Field Strength"
   ]
  },
  {
   "cell_type": "markdown",
   "metadata": {
    "pycharm": {
     "name": "#%% md\n"
    }
   },
   "source": [
    "We calculate radial unsigned magnetic field strength and set pixels with an\n",
    "observed magnetic field below the noise value equal to zero.\n",
    "\n",
    "The noise level used is from Yeo et al. 2013, and is 8 Gauss.\n",
    "\n",
    "<code>Bobs, Br = corrected_mag[0], corrected_mag[1]</code>"
   ]
  },
  {
   "cell_type": "code",
   "execution_count": null,
   "metadata": {
    "pycharm": {
     "name": "#%%\n"
    }
   },
   "outputs": [],
   "source": [
    "# magnetic noise level\n",
    "B_noise = 8\n",
    "\n",
    "# calculate unsigned field strength\n",
    "corrected_mag = [sfuncs.mag_field(coord[i][5], hmi_mag[i], B_noise) for i in range(0, len(hmi_mag))]"
   ]
  },
  {
   "cell_type": "markdown",
   "metadata": {},
   "source": [
    "Create list of Sunpy map objects with corrected observed and radial magnetic data."
   ]
  },
  {
   "cell_type": "code",
   "execution_count": null,
   "metadata": {
    "pycharm": {
     "name": "#%%\n"
    }
   },
   "outputs": [],
   "source": [
    "# observed magnetic data\n",
    "map_mag_obs = [sfuncs.corrected_map(corrected_mag[i][0], hmi_mag[i], map_type='Corrected-Magnetogram', frame=frames.HeliographicCarrington) for i in range(0, len(hmi_mag))]\n",
    "\n",
    "# radial magnetic data\n",
    "map_mag_cor = [sfuncs.corrected_map(corrected_mag[i][1], hmi_mag[i], map_type='Corrected-Magnetogram', frame=frames.HeliographicCarrington) for i in range(0, len(hmi_mag))]"
   ]
  },
  {
   "cell_type": "markdown",
   "metadata": {},
   "source": [
    "Compare original and corrected magnetic maps."
   ]
  },
  {
   "cell_type": "code",
   "execution_count": null,
   "metadata": {
    "pycharm": {
     "name": "#%%\n"
    }
   },
   "outputs": [],
   "source": [
    "# plot original map\n",
    "hmi_mag[0].peek()\n",
    "\n",
    "# plot corrected map\n",
    "map_mag_cor[0].peek()\n"
   ]
  },
  {
   "cell_type": "code",
   "execution_count": null,
   "metadata": {},
   "outputs": [],
   "source": [
    "mag_map = hmi_mag[0]\n",
    "mag_map.plot_settings['norm'] = plt.Normalize(-100, 100)\n",
    "mag_map.plot()\n",
    "plt.show()\n",
    "\n",
    "mag_map = map_mag_cor[0]\n",
    "mag_map.plot_settings['norm'] = plt.Normalize(-100, 100)\n",
    "mag_map.plot()\n",
    "plt.show()"
   ]
  },
  {
   "cell_type": "markdown",
   "metadata": {
    "pycharm": {
     "name": "#%% md\n"
    }
   },
   "source": [
    "## Step Six: Identification of Solar Regions"
   ]
  },
  {
   "cell_type": "markdown",
   "metadata": {},
   "source": [
    "### Part One: Magnetic Thresholding\n",
    "\n",
    "Differentiate between active Sun and quiet Sun.\n",
    "Magnetic thresholding method used from Yeo et al. 2013 where\n",
    "$ B_{r, thresh} = 24G / \\mu $ ."
   ]
  },
  {
   "cell_type": "markdown",
   "metadata": {
    "pycharm": {
     "name": "#%% md\n"
    }
   },
   "source": [
    "Magnetic threshold and mu cutoff values.\n",
    "Automatically throw everything where $ \\mu < 0.1 $ out, for magnetic thresholding we also\n",
    "remove $ \\mu < 0.3 $ due to correction for radial magnetic field strength."
   ]
  },
  {
   "cell_type": "code",
   "execution_count": null,
   "metadata": {
    "pycharm": {
     "name": "#%%\n"
    }
   },
   "outputs": [],
   "source": [
    "# magnetic threshold value (G) from Yeo et. al. 2013\n",
    "Br_cutoff = 24\n",
    "\n",
    "# mu cutoff value\n",
    "mu_cutoff = 0.35\n",
    "\n",
    "# area cutoff value (pixels)\n",
    "area_cutoff = 45"
   ]
  },
  {
   "cell_type": "markdown",
   "metadata": {
    "pycharm": {
     "name": "#%% md\n"
    }
   },
   "source": [
    "For weighting, we return an active weights array (active = 1) and quiet weights array (active = 0).\n",
    "\n",
    "Get threshold maps where:\n",
    "\n",
    "<code>active, quiet = mag_thresh[i][0], mag_thresh[i][1]</code>"
   ]
  },
  {
   "cell_type": "code",
   "execution_count": null,
   "metadata": {
    "pycharm": {
     "name": "#%%\n"
    }
   },
   "outputs": [],
   "source": [
    "mag_thresh = [sfuncs.mag_thresh(coord[i][5], hmi_mag[i], Br_cutoff=Br_cutoff, mu_cutoff=mu_cutoff) for i in range(0, len(hmi_mag))]\n"
   ]
  },
  {
   "cell_type": "markdown",
   "metadata": {},
   "source": [
    "Create list of Sunpy map objects with thresholded magnetic data."
   ]
  },
  {
   "cell_type": "code",
   "execution_count": null,
   "metadata": {
    "pycharm": {
     "name": "#%%\n"
    }
   },
   "outputs": [],
   "source": [
    "map_mag_thresh = [sfuncs.corrected_map(mag_thresh[i][0], hmi_mag[i], map_type='Magnetic-Threshold', frame=frames.HeliographicCarrington) for i in range(0, len(hmi_mag))]"
   ]
  },
  {
   "cell_type": "markdown",
   "metadata": {},
   "source": [
    "Compare original and corrected threshold maps."
   ]
  },
  {
   "cell_type": "code",
   "execution_count": null,
   "metadata": {
    "pycharm": {
     "name": "#%%\n"
    }
   },
   "outputs": [],
   "source": [
    "# plot corrected magnetic map\n",
    "map_mag_cor[0].peek()\n",
    "\n",
    "# plot corrected magnetic threshold map\n",
    "map_mag_thresh[0].peek()"
   ]
  },
  {
   "cell_type": "markdown",
   "metadata": {},
   "source": [
    "### Part Two: Intensity Thresholding\n",
    "\n",
    "Differentiate between sunspots (dark) and faculae (bright).\n",
    "Using method of Yeo et al. 2013 we calculate the intensity threshold such that\n",
    "$ I_{thresh} = 0.89I_{quiet} $ where $ I_{quiet} = \\frac{\\sum_{ij} I_{flat, ij} W_{ij}}{\\sum_{ij} W_{ij}} $\n",
    "is the mean pixel flattened intensity over quiet Sun regions."
   ]
  },
  {
   "cell_type": "markdown",
   "metadata": {},
   "source": [
    "Calculate intensity threshold value and differentiate between sunspots and faculae where:\n",
    "\n",
    "<code>fac_inds, spot_inds = int_thresh[0], int_thresh[1]</code>"
   ]
  },
  {
   "cell_type": "code",
   "execution_count": null,
   "metadata": {
    "pycharm": {
     "name": "#%%\n"
    }
   },
   "outputs": [],
   "source": [
    "int_thresh = [sfuncs.int_thresh(map_int_cor[i], mag_thresh[i][0], mag_thresh[i][1]) for i in range(0, len(hmi_int))]"
   ]
  },
  {
   "cell_type": "markdown",
   "metadata": {},
   "source": [
    "Create list of Sunpy map objects with faculae and sunspot data."
   ]
  },
  {
   "cell_type": "code",
   "execution_count": null,
   "metadata": {
    "pycharm": {
     "name": "#%%\n"
    }
   },
   "outputs": [],
   "source": [
    "# create faculae map objects\n",
    "fac_map = [sfuncs.corrected_map(int_thresh[i][0], hmi_mag[i], map_type='Faculae', frame=frames.HeliographicCarrington) for i in range(0, len(hmi_int))]\n",
    "\n",
    "# create sunspot map objects\n",
    "spot_map = [sfuncs.corrected_map(int_thresh[i][1], hmi_mag[i], map_type='Sunspot', frame=frames.HeliographicCarrington) for i in range(0, len(hmi_int))]"
   ]
  },
  {
   "cell_type": "markdown",
   "metadata": {},
   "source": [
    "Compare original and corrected threshold maps."
   ]
  },
  {
   "cell_type": "code",
   "execution_count": null,
   "metadata": {
    "pycharm": {
     "name": "#%%\n"
    }
   },
   "outputs": [],
   "source": [
    "# plot faculae map\n",
    "fac_map[0].peek()\n",
    "\n",
    "# plot sunspot map\n",
    "spot_map[0].peek()"
   ]
  },
  {
   "cell_type": "markdown",
   "metadata": {
    "pycharm": {
     "name": "#%% md\n"
    }
   },
   "source": [
    "Create array that combines sunspot (dark: 2) and faculae (bright: 1) regions.\n"
   ]
  },
  {
   "cell_type": "code",
   "execution_count": null,
   "metadata": {
    "pycharm": {
     "name": "#%%\n"
    }
   },
   "outputs": [],
   "source": [
    "thresh_arr = [sfuncs.thresh_map(int_thresh[i][0], int_thresh[i][1]) for i in range(0, len(hmi_mag))]\n"
   ]
  },
  {
   "cell_type": "markdown",
   "metadata": {},
   "source": [
    "Create list of Sunpy map objects with threshold data."
   ]
  },
  {
   "cell_type": "code",
   "execution_count": null,
   "metadata": {
    "pycharm": {
     "name": "#%%\n"
    }
   },
   "outputs": [],
   "source": [
    "# create threshold map objects\n",
    "map_full_thresh = [sfuncs.corrected_map(thresh_arr[i], hmi_mag[i], map_type='Threshold', frame=frames.HeliographicCarrington) for i in range(0, len(hmi_int))]"
   ]
  },
  {
   "cell_type": "markdown",
   "metadata": {},
   "source": [
    "Compare corrected magnetic and threshold maps"
   ]
  },
  {
   "cell_type": "markdown",
   "metadata": {
    "pycharm": {
     "name": "#%% md\n"
    }
   },
   "source": [
    "For these threshold maps, we currently only see sunspots detected on the solar\n",
    "limb. The solar limb is inherently darker (limb darkening) and since we have yet\n",
    "to correct for this it is expected that the overall intensity threshold is lower\n",
    "and thus the only values below this threshold are on the limb.\n",
    "\n",
    "The Sun is also not currently super magnetically active (solar minima) in the\n",
    "time I plotted so this makes sense that there are not many sunspots.\n",
    "\n",
    "Could also adjust the $ \\mu $ cutoff value to remove these sunspots, but I think limb brightening will fix it."
   ]
  },
  {
   "cell_type": "code",
   "execution_count": null,
   "metadata": {
    "pycharm": {
     "name": "#%%\n"
    }
   },
   "outputs": [],
   "source": [
    "mag_map = map_mag_cor[0]\n",
    "mag_map.plot_settings['norm'] = plt.Normalize(-100, 100)\n",
    "mag_map.plot()\n",
    "plt.imshow(map_full_thresh[0].data, cmap=plt.get_cmap('bwr'))\n",
    "plt.title(\"Comparison of faculae (blue) and sunspots (red) to magnetic data\")"
   ]
  },
  {
   "cell_type": "code",
   "execution_count": null,
   "metadata": {
    "pycharm": {
     "name": "#%%\n"
    }
   },
   "outputs": [],
   "source": [
    "int_map = map_int_cor[0]\n",
    "cont_map = plt.get_cmap('hinodesotintensity')\n",
    "int_map.plot_settings['cmap'] = cont_map\n",
    "int_map.plot()\n",
    "plt.imshow(map_full_thresh[0].data, cmap=plt.get_cmap('bwr'))\n",
    "plt.title(\"Comparison of faculae (blue) and sunspots (red) to intensity data\")"
   ]
  },
  {
   "cell_type": "code",
   "execution_count": null,
   "metadata": {
    "pycharm": {
     "name": "#%%\n"
    }
   },
   "outputs": [],
   "source": [
    "int_map = map_int_cor[0]\n",
    "cont_map = plt.get_cmap('hinodesotintensity')\n",
    "int_map.plot_settings['cmap'] = cont_map\n",
    "int_map.plot()\n",
    "\n",
    "spots = np.where(map_full_thresh[0].data == 2, 1, np.nan)\n",
    "plt.imshow(spots, cmap='Blues')\n",
    "plt.title(\"Comparison of sunspots to intensity data\")"
   ]
  },
  {
   "cell_type": "markdown",
   "metadata": {
    "pycharm": {
     "name": "#%% md\n"
    }
   },
   "source": [
    "# Outline of Calculations of Solar RVs\n",
    "\n",
    "1. **quiet-Sun velocity:** estimation of average RV of quiet-Sun due to convective motion\n",
    "2. **photometric velocity:** estimation of rotational Doppler imbalance due to active (faculae/darkspot) regions\n",
    "3. **convective blueshift:** convective velocity estimation due to the suppression of the convective blueshift by\n",
    "magnetically active regions\n"
   ]
  },
  {
   "cell_type": "markdown",
   "metadata": {
    "pycharm": {
     "name": "#%% md\n"
    }
   },
   "source": [
    "## Step One: Convective Motion of quiet-Sun\n",
    "\n",
    "Calculate the velocity due to the convective motion of the quiet-Sun. Requires\n",
    "the magnetic weighting array we built in step six, part one. A weight of 0 denotes an\n",
    "active pixel, and 1 is quiet-Sun.\n",
    "\n",
    "The equation for calculating this quiet-Sun velocity is as such:\n",
    "$ v_{quiet} = \\frac{\\sum_{ij} (v_{ij} - \\delta v_{sc, ij} - \\delta v_{rot, ij}) I_{ij} W_{ij}}\n",
    " {\\sum_{ij} I_{ij} W_{ij}} $.\n",
    "\n",
    "In this case $ I_{ij} $ is the uncorrected (original) intensity data."
   ]
  },
  {
   "cell_type": "code",
   "execution_count": null,
   "metadata": {
    "pycharm": {
     "name": "#%%\n"
    }
   },
   "outputs": [],
   "source": [
    "v_quiet = [sfuncs.v_quiet(map_vel_cor[i], hmi_int[i], mag_thresh[i][1]) for i in range(0, len(hmi_mag))]"
   ]
  },
  {
   "cell_type": "markdown",
   "metadata": {
    "pycharm": {
     "name": "#%% md\n"
    }
   },
   "source": [
    "## Step Two: Photometric Velocity due to rotational Doppler imbalance\n",
    "\n",
    "Calculation of the photometric velocity due the presence of dark spots/bright faculae causing a Doppler imbalance. Requires\n",
    "magnetic weighting array that is flipped from the weighting array previously used. Now, a weight of 0 denotes quiet-Sun and\n",
    "1 denotes active pixel.\n",
    "\n",
    "The equation for this velocity calculation is:\n",
    "$ v_{phot} = \\frac{\\sum_{ij} (v_{ij} - \\delta v_{rot, ij})(I_{ij} - K) W_{ij}}\n",
    " {\\sum_{ij} I_{ij}} $.\n",
    "\n",
    "K is a scaling factor based off the limb-brightening correction carried out in Step Four of the solar corrections.\n",
    "$ K = \\frac{\\sum_{ij} I_{ij} L_{ij} W_{ij}}{\\sum_{ij} L_{ij}^2 W_{ij}} $\n",
    "\n",
    "In this case $ I_{ij} $ is the uncorrected (original) intensity data."
   ]
  },
  {
   "cell_type": "markdown",
   "metadata": {
    "pycharm": {
     "name": "#%% md\n"
    }
   },
   "source": [
    "Calculate photometric velocity.\n",
    "\n",
    "<code>v_phot, vphot_bright, vphot_spot = vphot[0], vphot[1], vphot[2]</code>"
   ]
  },
  {
   "cell_type": "code",
   "execution_count": null,
   "metadata": {
    "pycharm": {
     "name": "#%%\n"
    }
   },
   "outputs": [],
   "source": [
    "v_phot = [sfuncs.v_phot(mag_thresh[i][1], mag_thresh[i][0], Lij[i], vrot[i], hmi_int[i], coord[i][5],\n",
    "                        int_thresh[i][0], int_thresh[i][1]) for i in range(0, len(hmi_int))]"
   ]
  },
  {
   "cell_type": "markdown",
   "metadata": {
    "pycharm": {
     "name": "#%% md\n"
    }
   },
   "source": [
    "## Step Three: Convective Blueshift Velocity\n",
    "\n",
    "Calculation of suppression of convective blueshift due to active regions (mainly faculae).\n",
    "\n",
    "The basic premise for calculation is to calculate the disc-averaged velocity of the Sun\n",
    "and subtract from that the quiet-Sun velocity (Step One) and photometric velocity (Step Two) both of which were\n",
    "calculated previously.\n",
    "\n",
    "Maybe a better way to do this ...\n",
    "\n",
    "The equation for the disc-averaged velocity is:\n",
    "$ v = \\frac{\\sum_{ij} (v_{ij} - \\delta v_{sc, ij} - \\delta v_{rot, ij}) I_{ij}}{\\sum_{ij} I_{ij}} $\n",
    "\n",
    "We then calculate the convective velocity as what is left:\n",
    "$ v_{conv} = v - v_{quiet} $"
   ]
  },
  {
   "cell_type": "markdown",
   "metadata": {
    "pycharm": {
     "name": "#%% md\n"
    }
   },
   "source": [
    "Calculate disc-averaged velocity of Sun."
   ]
  },
  {
   "cell_type": "code",
   "execution_count": null,
   "metadata": {
    "pycharm": {
     "name": "#%%\n"
    }
   },
   "outputs": [],
   "source": [
    "v_disc = [sfuncs.v_disc(map_vel_cor[i], hmi_int[i]) for i in range(0, len(hmi_int))]"
   ]
  },
  {
   "cell_type": "markdown",
   "metadata": {
    "pycharm": {
     "name": "#%% md\n"
    }
   },
   "source": [
    "Calculate convective velocity."
   ]
  },
  {
   "cell_type": "code",
   "execution_count": null,
   "metadata": {
    "pycharm": {
     "name": "#%%\n"
    }
   },
   "outputs": [],
   "source": [
    "v_conv = [v_disc[i] - v_quiet[i] for i in range(0, len(hmi_mag))]"
   ]
  },
  {
   "cell_type": "markdown",
   "metadata": {
    "pycharm": {
     "name": "#%% md\n"
    }
   },
   "source": [
    "# Magnetic Observables\n",
    "\n",
    "Calculation of relevant magnetic observables.\n",
    "\n",
    "1. **filling factor:** disc averaged filling factors of sunspots and plage which gives\n",
    "the percentage of magnetically active pixels\n",
    "2. **unsigned magnetic flux:** calculation of disc-averaged, line-of-sight unsigned\n",
    "magnetic flux"
   ]
  },
  {
   "cell_type": "markdown",
   "metadata": {
    "pycharm": {
     "name": "#%% md\n"
    }
   },
   "source": [
    "## Filling Factor\n",
    "\n",
    "Estimate the disc-averaged filling factors of sunspots and plage:\n",
    "$ f_{spot, plage} = \\frac{1}{N_{pix}} \\sum_{ij} W_{ij} $\n",
    "\n",
    "In this case, a weight of 1 is an active pixel (active_weights).\n",
    "\n",
    "<code>f_bright, f_spot, f = filling[0], filling[1], filling[2]</code>"
   ]
  },
  {
   "cell_type": "code",
   "execution_count": null,
   "outputs": [],
   "source": [
    "filling = [sfuncs.filling_factor(coord[i][5], hmi_mag[i], mag_thresh[i][0], int_thresh[i][0], int_thresh[i][1])\n",
    "           for i in range(0, len(hmi_mag))]\n"
   ],
   "metadata": {
    "collapsed": false,
    "pycharm": {
     "name": "#%%\n"
    }
   }
  },
  {
   "cell_type": "markdown",
   "metadata": {
    "pycharm": {
     "name": "#%% md\n"
    }
   },
   "source": [
    "## Unsigned Magnetic Flux\n",
    "\n",
    "Calculate disc-averaged, line-of-sight unsigned (unpolarized) magnetic flux of the Sun."
   ]
  },
  {
   "cell_type": "markdown",
   "metadata": {
    "pycharm": {
     "name": "#%% md\n"
    }
   },
   "source": [
    "Calculation of observed unsigned flux.\n",
    "\n",
    "$ |\\hat{B_{obs}}| = \\frac{\\sum_{ij} |B_{obs, ij}| I_{ij}} {\\sum_{ij} I_{ij}}$"
   ]
  },
  {
   "cell_type": "code",
   "execution_count": null,
   "metadata": {
    "pycharm": {
     "name": "#%%\n"
    }
   },
   "outputs": [],
   "source": [
    "unsigned_obs_flux = [sfuncs.unsigned_flux(map_mag_obs[i], hmi_int[i]) for i in range(0, len(hmi_mag))]"
   ]
  },
  {
   "cell_type": "markdown",
   "source": [
    "## Area Based Observable Calculations"
   ],
   "metadata": {
    "collapsed": false,
    "pycharm": {
     "name": "#%% md\n"
    }
   }
  },
  {
   "cell_type": "markdown",
   "source": [
    "Calculate intensity weighted area of each active region."
   ],
   "metadata": {
    "collapsed": false,
    "pycharm": {
     "name": "#%% md\n"
    }
   }
  },
  {
   "cell_type": "code",
   "execution_count": null,
   "outputs": [],
   "source": [
    "pixA_hem = [ctfuncs.pix_area_hem(vel_coords[i][0], vel_coords[i][1], vel_coords[i][2], hmi_vel[i]) for i in range(0, len(hmi_vel))]\n",
    "area = [sfuncs.area_calc(mag_thresh[i][0], pixA_hem[i]) for i in range(0, len(hmi_vel))]"
   ],
   "metadata": {
    "collapsed": false,
    "pycharm": {
     "name": "#%%\n"
    }
   }
  },
  {
   "cell_type": "markdown",
   "source": [
    "Calculate the area filling factor.\n",
    "\n",
    "<code>f_small, f_large, f_network, f_plage, f_nonconv = f_area[0], f_area[1], f_area[2], f_area[3], f_area[4]</code>"
   ],
   "metadata": {
    "collapsed": false,
    "pycharm": {
     "name": "#%% md\n"
    }
   }
  },
  {
   "cell_type": "code",
   "execution_count": null,
   "outputs": [],
   "source": [
    "f_area = [sfuncs.area_filling_factor(mag_thresh[i][0], area[i], coord[i][5], hmi_mag[i], int_thresh[i][0]) for i in range(0, len(hmi_mag))]"
   ],
   "metadata": {
    "collapsed": false,
    "pycharm": {
     "name": "#%%\n"
    }
   }
  },
  {
   "cell_type": "markdown",
   "source": [
    "Calculate unsigned flux of various polarized and active regions.\n",
    "\n",
    "<code>quiet_flux, ar_flux, conv_flux, pol_flux, pol_conv_flux = flux[0], flux[1], flux[2], flux[3], flux[4], flux[5]</code>"
   ],
   "metadata": {
    "collapsed": false,
    "pycharm": {
     "name": "#%% md\n"
    }
   }
  },
  {
   "cell_type": "code",
   "execution_count": null,
   "outputs": [],
   "source": [
    "quiet_flux, ar_flux, conv_flux, pol_flux, pol_conv_flux = [sfuncs.area_unsigned_flux(map_mag_obs[i], hmi_int[i],\n",
    "                                area[i], int_thresh[i][0]) for i in range(0, len(hmi_int))]"
   ],
   "metadata": {
    "collapsed": false,
    "pycharm": {
     "name": "#%%\n"
    }
   }
  },
  {
   "cell_type": "markdown",
   "source": [
    "Get area weighted convective velocities.\n",
    "\n",
    "<code>vconv_quiet, vconv_large, vconv_small = vconv_area[0], vconv_area[1], vconv_area[2]</code>"
   ],
   "metadata": {
    "collapsed": false,
    "pycharm": {
     "name": "#%% md\n"
    }
   }
  },
  {
   "cell_type": "code",
   "execution_count": null,
   "outputs": [],
   "source": [
    "vconv_area = [sfuncs.area_vconv(map_vel_cor[i], hmi_int[i], int_thresh[i][0], area[i]) for i in range(0, len(hmi_int))]"
   ],
   "metadata": {
    "collapsed": false,
    "pycharm": {
     "name": "#%%\n"
    }
   }
  },
  {
   "cell_type": "markdown",
   "metadata": {
    "pycharm": {
     "name": "#%% md\n"
    }
   },
   "source": [
    "# Plotting of Relevant Observables"
   ]
  },
  {
   "cell_type": "markdown",
   "metadata": {
    "pycharm": {
     "name": "#%% md\n"
    }
   },
   "source": [
    "Make days array and list for plotting uses."
   ]
  },
  {
   "cell_type": "code",
   "execution_count": null,
   "metadata": {
    "pycharm": {
     "name": "#%%\n"
    }
   },
   "outputs": [],
   "source": [
    "# make array of days\n",
    "days_list = [hmi_mag[i].meta['date-obs'] for i in range(0, len(hmi_mag))]\n",
    "days_range = range(0, len(days_list))"
   ]
  },
  {
   "cell_type": "markdown",
   "metadata": {},
   "source": [
    "## Magnetic Observables: Comparison of filling factor and unsigned magnetic flux\n",
    "\n",
    "Plot filling factor and unsigned observed flux over time."
   ]
  },
  {
   "cell_type": "code",
   "execution_count": null,
   "metadata": {
    "pycharm": {
     "name": "#%%\n"
    }
   },
   "outputs": [],
   "source": [
    "# convert filling factor to a percent\n",
    "f = [f[2] for f in filling]\n",
    "\n",
    "# setup the plot\n",
    "fig, axs = plt.subplots(2, 1, sharex='all', gridspec_kw={'hspace':0})\n",
    "fig.suptitle(\"Comparison of Magnetic Filling Factor and Unsigned Observed Magnetic Flux\")\n",
    "axs[0].set(ylabel='Filling Factor (%)')\n",
    "axs[1].set(xlabel='Days from: ' + str(days_list[0]) , ylabel='Unsigned Flux (G)')\n",
    "\n",
    "# plot data\n",
    "axs[0].scatter(days_range, f, color='purple', label='Filling Factor')\n",
    "axs[1].scatter(days_range, unsigned_obs_flux, color='pink', label='Unsigned Flux')\n",
    "\n",
    "for ax in axs:\n",
    "    ax.set_xlim([-0.1, len(days_list)])\n",
    "    ax.tick_params(labelbottom=True)\n"
   ]
  },
  {
   "cell_type": "markdown",
   "metadata": {
    "pycharm": {
     "name": "#%% md\n"
    }
   },
   "source": [
    "## Velocity Components: Comparison of photometic and convective velocities\n",
    "\n",
    "Comparison plot comparing the photometric and convective velocities found\n",
    "in steps two and three of RV calculations."
   ]
  },
  {
   "cell_type": "code",
   "execution_count": null,
   "metadata": {
    "pycharm": {
     "name": "#%%\n"
    }
   },
   "outputs": [],
   "source": [
    "# setup the plot\n",
    "fig, axs = plt.subplots(2, 1, sharex='all', sharey='all', gridspec_kw={'hspace':0})\n",
    "fig.suptitle(\"Comparison of Convective and Photometric Velocities\")\n",
    "axs[0].set(ylabel=r'$\\rm v_{conv}$' '\\n' r'$\\rm[m s^{-1}]$')\n",
    "axs[1].set(xlabel='Days from: ' + str(days_list[0]) , ylabel=r'$\\rm v_{phot}$' '\\n' r'$\\rm[m s^{-1}]$')\n",
    "\n",
    "# plot data\n",
    "axs[0].scatter(days_range, v_conv, color='purple', label=r'$\\rm v_{conv}$')\n",
    "axs[1].scatter(days_range, v_phot, color='pink', label=r'$\\rm v_{phot}$')\n",
    "\n",
    "for ax in axs:\n",
    "    ax.set_xlim([-0.1, len(days_list)])\n",
    "    ax.tick_params(labelbottom=True)\n"
   ]
  },
  {
   "cell_type": "markdown",
   "metadata": {
    "pycharm": {
     "name": "#%% md\n"
    }
   },
   "source": [
    "## Correlation plot between convective velocity and magnetic observables\n",
    "\n",
    "Plot comparing convective velocity with magnetic filling factor and unsigned\n",
    "magnetic flux. Spearman correlation coefficients are calculated. This coefficient\n",
    "is chosen because it looks for a monotonic relationship that may not be linear."
   ]
  },
  {
   "cell_type": "code",
   "execution_count": null,
   "metadata": {
    "pycharm": {
     "name": "#%%\n"
    }
   },
   "outputs": [],
   "source": [
    "# calculate correlation coefficient\n",
    "fac_correlation = stats.spearmanr(f, v_conv)\n",
    "flux_correlation = stats.spearmanr(unsigned_obs_flux, v_conv)\n",
    "\n",
    "# setup the plot\n",
    "fig, axs = plt.subplots(1, 2, sharey='all', gridspec_kw={'hspace':0})\n",
    "fig.suptitle(\"Comparison of Convective Velocity and Magnetic Observables\")\n",
    "axs[0].set(xlabel=r'$\\rm f$' '\\n' r'$\\rm$[%]', ylabel=r'$\\rm v_{conv}$' '\\n' r'$\\rm[m s^{-1}]$')\n",
    "axs[1].set(xlabel=r'$\\rm B_{\\rm obs}$' '\\n' r'$\\rm [G]$')\n",
    "\n",
    "# plot data\n",
    "axs[0].scatter(f, v_conv, color='purple', label='Filling Factor')\n",
    "axs[1].scatter(unsigned_obs_flux, v_conv, color='pink', label='Unsigned Observed Flux')\n",
    "\n",
    "# label correlation coefficients\n",
    "axs[0].text(0.1, 0.95, str(np.around(fac_correlation[0], 2)), horizontalalignment='left',\n",
    "      verticalalignment='top', transform=axs[0].transAxes, weight='bold')\n",
    "axs[1].text(0.1, 0.95, str(np.around(flux_correlation[0], 2)), horizontalalignment='left',\n",
    "      verticalalignment='top', transform=axs[1].transAxes, weight='bold')\n",
    "\n",
    "for ax in axs:\n",
    "    ax.tick_params(labelbottom=True)\n"
   ]
  },
  {
   "cell_type": "markdown",
   "metadata": {
    "pycharm": {
     "name": "#%% md\n"
    }
   },
   "source": [
    "## Plot relating LOS magnetic field to flattened intensity\n",
    "\n",
    "Plot showing observed line of sight (unsigned) magnetic field as a\n",
    "function of flattened intensity (corrected for limb darkening). The histograms\n",
    "show the distributions of the respective observables."
   ]
  },
  {
   "cell_type": "code",
   "execution_count": null,
   "metadata": {
    "pycharm": {
     "name": "#%%\n"
    }
   },
   "outputs": [],
   "source": [
    "plt.title(\"Observed Magnetic Field as function of Flattened Intensity: \\n\" +\n",
    "          str(hmi_mag[0].meta['date-obs']))\n",
    "plt.xlabel(r'$\\rm B_{\\rm obs}$' '\\n' r'$\\rm [G]$')\n",
    "plt.ylabel(r'$\\rm I_{\\rm flat}$')\n",
    "\n",
    "# plot non-active pixels in black\n",
    "i = 0\n",
    "x = np.abs(map_mag_obs[0].data)\n",
    "y = Iflat[0]\n",
    "\n",
    "plt.scatter(x, y, color='lightpink')\n",
    "\n",
    "# horizontal intensity threshold line\n",
    "plt.hlines(int_thresh[i][4], xmin=x.min(), xmax=x.max(), colors='purple', linestyles='dashed')\n",
    "\n",
    "# vertical magnetic threshold line\n",
    "plt.vlines(mag_thresh[i][1], ymin=y.min(), ymax=y.max(), colors='blue', linestyles='dashed')\n",
    "\n",
    "\n"
   ]
  }
 ],
 "metadata": {
  "kernelspec": {
   "display_name": "Python 3",
   "language": "python",
   "name": "python3"
  },
  "language_info": {
   "codemirror_mode": {
    "name": "ipython",
    "version": 3
   },
   "file_extension": ".py",
   "mimetype": "text/x-python",
   "name": "python",
   "nbconvert_exporter": "python",
   "pygments_lexer": "ipython3",
   "version": "3.7.10"
  }
 },
 "nbformat": 4,
 "nbformat_minor": 1
}