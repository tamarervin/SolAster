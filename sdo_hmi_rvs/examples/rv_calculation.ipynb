{
 "cells": [
  {
   "cell_type": "markdown",
   "source": [
    "# Calculation of Solar RV Variations\n",
    "\n",
    "1. **calculate solar velocities:** calculate solar velocities and save to csv using\n",
    "save_values.py\n",
    "2. **get component lists:** using pandas to get the lists of each relevant component\n",
    "3. **calculate RVs and save to csv:**  calculate RVs using optimized parameters\n",
    "4. **plot stuff:** plot magnetic observables and velocities over time\n"
   ],
   "metadata": {
    "collapsed": false
   }
  },
  {
   "cell_type": "code",
   "execution_count": 1,
   "outputs": [],
   "source": [
    "import os\n",
    "import pandas as pd\n",
    "from sdo_hmi_rvs.tools.settings import *"
   ],
   "metadata": {
    "collapsed": false,
    "pycharm": {
     "name": "#%%\n"
    }
   }
  },
  {
   "cell_type": "markdown",
   "source": [
    "Read in velocities from csv."
   ],
   "metadata": {
    "collapsed": false
   }
  },
  {
   "cell_type": "code",
   "execution_count": 2,
   "outputs": [],
   "source": [
    "# csv file with rv components\n",
    "csv_file = os.path.join(CsvDir.CALC, 'example_calcs.csv')"
   ],
   "metadata": {
    "collapsed": false,
    "pycharm": {
     "name": "#%%\n"
    }
   }
  },
  {
   "cell_type": "markdown",
   "source": [
    "Get component lists."
   ],
   "metadata": {
    "collapsed": false
   }
  },
  {
   "cell_type": "code",
   "execution_count": 3,
   "outputs": [
    {
     "name": "stdout",
     "output_type": "stream",
     "text": [
      "['date_obs' 'date_jd' 'v_quiet' 'v_disc' 'v_phot' 'v_conv' 'f_bright'\n",
      " 'f_spot' 'f' 'Bobs' 'vphot_bright' 'vphot_spot' 'f_small' 'f_large'\n",
      " 'f_network' 'f_plage' 'quiet_flux' 'ar_flux' 'conv_flux' 'Unnamed: 19'\n",
      " 'Unnamed: 20' 'Unnamed: 21' 'Unnamed: 22' 'Unnamed: 23' 'Unnamed: 24'\n",
      " 'Unnamed: 25' 'Unnamed: 26' 'Unnamed: 27' 'Unnamed: 28' 'Unnamed: 29'\n",
      " 'Unnamed: 30' 'Unnamed: 31' 'Unnamed: 32' 'Unnamed: 33' 'Unnamed: 34'\n",
      " 'Unnamed: 35' 'Unnamed: 36' 'Unnamed: 37' 'Unnamed: 38' 'Unnamed: 39'\n",
      " 'Unnamed: 40' 'Unnamed: 41' 'Unnamed: 42']\n"
     ]
    }
   ],
   "source": [
    "# create pandas dataframe\n",
    "component_df = pd.read_csv(csv_file)\n",
    "\n",
    "# get column names\n",
    "components = component_df.columns.values\n",
    "print(components)"
   ],
   "metadata": {
    "collapsed": false,
    "pycharm": {
     "name": "#%%\n"
    }
   }
  },
  {
   "cell_type": "code",
   "execution_count": 4,
   "outputs": [],
   "source": [
    "# get velocities lists\n",
    "v_phot = component_df.v_phot.values\n",
    "v_conv = component_df.v_conv.values\n"
   ],
   "metadata": {
    "collapsed": false,
    "pycharm": {
     "name": "#%%\n"
    }
   }
  },
  {
   "cell_type": "markdown",
   "source": [
    "Scaling coefficient values for NEID."
   ],
   "metadata": {
    "collapsed": false,
    "pycharm": {
     "name": "#%% md\n"
    }
   }
  },
  {
   "cell_type": "code",
   "execution_count": 6,
   "outputs": [],
   "source": [
    "# get NEID scaling factors\n",
    "A = NEID.A\n",
    "B = NEID.B\n",
    "RV0 = NEID.RV0"
   ],
   "metadata": {
    "collapsed": false,
    "pycharm": {
     "name": "#%%\n"
    }
   }
  },
  {
   "cell_type": "markdown",
   "source": [
    "Scaling coefficient values for HARPS-N."
   ],
   "metadata": {
    "collapsed": false,
    "pycharm": {
     "name": "#%% md\n"
    }
   }
  },
  {
   "cell_type": "code",
   "execution_count": 7,
   "outputs": [],
   "source": [
    "# get HARPS-N scaling factors\n",
    "A = HARPSN.A\n",
    "B = HARPSN.B\n",
    "RV0 = HARPSN.RV0"
   ],
   "metadata": {
    "collapsed": false,
    "pycharm": {
     "name": "#%%\n"
    }
   }
  },
  {
   "cell_type": "markdown",
   "source": [
    "RV calculation."
   ],
   "metadata": {
    "collapsed": false
   }
  },
  {
   "cell_type": "code",
   "execution_count": 8,
   "outputs": [],
   "source": [
    "RV = A*v_phot + B*v_conv + RV0"
   ],
   "metadata": {
    "collapsed": false,
    "pycharm": {
     "name": "#%%\n"
    }
   }
  },
  {
   "cell_type": "markdown",
   "source": [
    "Add calculation to csv."
   ],
   "metadata": {
    "collapsed": false
   }
  },
  {
   "cell_type": "code",
   "execution_count": 9,
   "outputs": [],
   "source": [
    "component_df[\"rv_model\"] = RV\n",
    "component_df.to_csv(csv_file, index=False)\n",
    "\n",
    "\n"
   ],
   "metadata": {
    "collapsed": false,
    "pycharm": {
     "name": "#%%\n"
    }
   }
  }
 ],
 "metadata": {
  "kernelspec": {
   "display_name": "Python 3",
   "language": "python",
   "name": "python3"
  },
  "language_info": {
   "codemirror_mode": {
    "name": "ipython",
    "version": 2
   },
   "file_extension": ".py",
   "mimetype": "text/x-python",
   "name": "python",
   "nbconvert_exporter": "python",
   "pygments_lexer": "ipython2",
   "version": "2.7.6"
  }
 },
 "nbformat": 4,
 "nbformat_minor": 0
}