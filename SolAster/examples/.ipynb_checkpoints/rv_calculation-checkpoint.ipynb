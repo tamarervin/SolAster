{
 "cells": [
  {
   "cell_type": "markdown",
   "metadata": {},
   "source": [
    "# Calculation of Solar RV Variations\n",
    "\n",
    "1. **calculate solar velocities:** calculate solar velocities and save to csv using\n",
    "save_values.py\n",
    "2. **get component lists:** using pandas to get the lists of each relevant component\n",
    "3. **calculate RVs and save to csv:**  calculate RVs using optimized parameters\n",
    "4. **plot stuff:** plot magnetic observables and velocities over time\n"
   ]
  },
  {
   "cell_type": "code",
   "execution_count": 9,
   "metadata": {
    "pycharm": {
     "name": "#%%\n"
    }
   },
   "outputs": [],
   "source": [
    "import os\n",
    "import pandas as pd\n",
    "from SolAster.tools.settings import *"
   ]
  },
  {
   "cell_type": "markdown",
   "metadata": {},
   "source": [
    "Inputs"
   ]
  },
  {
   "cell_type": "code",
   "execution_count": null,
   "metadata": {},
   "outputs": [],
   "source": [
    "# update inputs class\n",
    "class Inputs:\n",
    "    \"\"\"\n",
    "    Class to hold user specified inputs to run examples.\n",
    "    See README or documentation site for additional information.\n",
    "    \"\"\"\n",
    "\n",
    "    # name of csv file to store calculations\n",
    "    csv_name = 'example.csv'\n",
    "\n",
    "    # name of instrument to use for calculation of RV model\n",
    "    # choose either 'NEID' or 'HARPS-N'\n",
    "    inst = 'NEID'\n"
   ]
  },
  {
   "cell_type": "markdown",
   "metadata": {},
   "source": [
    "Read in velocities from csv."
   ]
  },
  {
   "cell_type": "code",
   "execution_count": 10,
   "metadata": {
    "pycharm": {
     "name": "#%%\n"
    }
   },
   "outputs": [],
   "source": [
    "# csv file with rv components\n",
    "csv_file = os.path.join(CsvDir.CALC, csv_name)"
   ]
  },
  {
   "cell_type": "markdown",
   "metadata": {},
   "source": [
    "Get component lists."
   ]
  },
  {
   "cell_type": "code",
   "execution_count": 11,
   "metadata": {
    "pycharm": {
     "name": "#%%\n"
    }
   },
   "outputs": [
    {
     "name": "stdout",
     "output_type": "stream",
     "text": [
      "['date_obs' 'date_jd' 'rv_sun' 'rv_error' 'v_quiet' 'v_disc' 'v_phot'\n",
      " 'v_conv' 'f_bright' 'f_spot' 'f' 'Bobs' 'vphot_bright' 'vphot_spot'\n",
      " 'rv_model']\n"
     ]
    }
   ],
   "source": [
    "# create pandas dataframe\n",
    "component_df = pd.read_csv(csv_file)\n",
    "\n",
    "# get column names\n",
    "components = component_df.columns.values\n",
    "print(components)"
   ]
  },
  {
   "cell_type": "code",
   "execution_count": 12,
   "metadata": {
    "pycharm": {
     "name": "#%%\n"
    }
   },
   "outputs": [],
   "source": [
    "# get velocities lists\n",
    "v_phot = component_df.v_phot.values\n",
    "v_conv = component_df.v_conv.values\n"
   ]
  },
  {
   "cell_type": "markdown",
   "metadata": {
    "pycharm": {
     "name": "#%% md\n"
    }
   },
   "source": [
    "Get scaling coefficients based on instrument."
   ]
  },
  {
   "cell_type": "code",
   "execution_count": 13,
   "metadata": {
    "pycharm": {
     "name": "#%%\n"
    }
   },
   "outputs": [],
   "source": [
    "if Inputs.inst == 'HARPS-N':\n",
    "    A = HARPSN.A\n",
    "    B = HARPSN.B\n",
    "    RV0 = HARPSN.RV0\n",
    "elif Inputs.inst == 'NEID':\n",
    "    A = NEID.A\n",
    "    B = NEID.B\n",
    "    RV0 = NEID.RV0\n",
    "else:\n",
    "    raise Exception('The instrument', Inputs.inst,\n",
    "                    'is not currently supported by SolAster. Choose either \\'HARPS-N\\', or \\'NEID\\'.')"
   ]
  },
  {
   "cell_type": "markdown",
   "metadata": {},
   "source": [
    "RV calculation."
   ]
  },
  {
   "cell_type": "code",
   "execution_count": 15,
   "metadata": {
    "pycharm": {
     "name": "#%%\n"
    }
   },
   "outputs": [],
   "source": [
    "RV = A*v_phot + B*v_conv + RV0"
   ]
  },
  {
   "cell_type": "markdown",
   "metadata": {},
   "source": [
    "Add calculation to csv."
   ]
  },
  {
   "cell_type": "code",
   "execution_count": 16,
   "metadata": {
    "pycharm": {
     "name": "#%%\n"
    }
   },
   "outputs": [],
   "source": [
    "component_df[\"rv_model\"] = RV\n",
    "component_df.to_csv(csv_file, index=False)\n",
    "\n",
    "\n"
   ]
  }
 ],
 "metadata": {
  "kernelspec": {
   "display_name": "Python 3",
   "language": "python",
   "name": "python3"
  },
  "language_info": {
   "codemirror_mode": {
    "name": "ipython",
    "version": 3
   },
   "file_extension": ".py",
   "mimetype": "text/x-python",
   "name": "python",
   "nbconvert_exporter": "python",
   "pygments_lexer": "ipython3",
   "version": "3.8.8"
  }
 },
 "nbformat": 4,
 "nbformat_minor": 1
}
