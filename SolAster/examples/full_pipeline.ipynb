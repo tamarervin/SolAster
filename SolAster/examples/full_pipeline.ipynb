{
 "cells": [
  {
   "cell_type": "markdown",
   "metadata": {
    "collapsed": true,
    "pycharm": {
     "name": "#%% md\n"
    }
   },
   "source": [
    "# Outline of correction and velocity calculations from SDO/HMI Images"
   ]
  },
  {
   "cell_type": "code",
   "execution_count": 1,
   "metadata": {},
   "outputs": [
    {
     "name": "stdout",
     "output_type": "stream",
     "text": [
      "Requirement already satisfied: astropy in /Users/tervin/opt/anaconda3/lib/python3.8/site-packages (4.2.1)\n",
      "Requirement already satisfied: pyerfa in /Users/tervin/opt/anaconda3/lib/python3.8/site-packages (from astropy) (1.7.3)\n",
      "Requirement already satisfied: numpy>=1.17 in /Users/tervin/opt/anaconda3/lib/python3.8/site-packages (from astropy) (1.20.1)\n",
      "Requirement already satisfied: sunpy[all] in /Users/tervin/opt/anaconda3/lib/python3.8/site-packages (3.0.2)\n",
      "Requirement already satisfied: numpy>=1.16.0 in /Users/tervin/opt/anaconda3/lib/python3.8/site-packages (from sunpy[all]) (1.20.1)\n",
      "Requirement already satisfied: parfive[ftp]>=1.2.0 in /Users/tervin/opt/anaconda3/lib/python3.8/site-packages (from sunpy[all]) (1.5.0)\n",
      "Requirement already satisfied: astropy>=4.1.0 in /Users/tervin/opt/anaconda3/lib/python3.8/site-packages (from sunpy[all]) (4.2.1)\n",
      "Requirement already satisfied: asdf>=2.6.0 in /Users/tervin/opt/anaconda3/lib/python3.8/site-packages (from sunpy[all]) (2.11.0)\n",
      "Requirement already satisfied: pandas>=0.24.0 in /Users/tervin/opt/anaconda3/lib/python3.8/site-packages (from sunpy[all]) (1.2.4)\n",
      "Requirement already satisfied: dask[array]>=2.0.0 in /Users/tervin/opt/anaconda3/lib/python3.8/site-packages (from sunpy[all]) (2021.4.0)\n",
      "Requirement already satisfied: beautifulsoup4>=4.8.0 in /Users/tervin/opt/anaconda3/lib/python3.8/site-packages (from sunpy[all]) (4.9.3)\n",
      "Requirement already satisfied: glymur!=0.9.0,>=0.8.18 in /Users/tervin/opt/anaconda3/lib/python3.8/site-packages (from sunpy[all]) (0.9.9)\n",
      "Requirement already satisfied: h5netcdf>=0.8.1 in /Users/tervin/opt/anaconda3/lib/python3.8/site-packages (from sunpy[all]) (1.0.0)\n",
      "Requirement already satisfied: h5py>=3.1.0 in /Users/tervin/opt/anaconda3/lib/python3.8/site-packages (from sunpy[all]) (3.6.0)\n",
      "Requirement already satisfied: zeep>=3.4.0 in /Users/tervin/opt/anaconda3/lib/python3.8/site-packages (from sunpy[all]) (4.1.0)\n",
      "Requirement already satisfied: sqlalchemy>=1.3.4 in /Users/tervin/opt/anaconda3/lib/python3.8/site-packages (from sunpy[all]) (1.4.7)\n",
      "Requirement already satisfied: tqdm>=4.32.1 in /Users/tervin/opt/anaconda3/lib/python3.8/site-packages (from sunpy[all]) (4.59.0)\n",
      "Requirement already satisfied: matplotlib>=3.1.0 in /Users/tervin/opt/anaconda3/lib/python3.8/site-packages (from sunpy[all]) (3.3.4)\n",
      "Requirement already satisfied: drms>=0.6.1 in /Users/tervin/opt/anaconda3/lib/python3.8/site-packages (from sunpy[all]) (0.6.2)\n",
      "Requirement already satisfied: scipy>=1.3.0 in /Users/tervin/opt/anaconda3/lib/python3.8/site-packages (from sunpy[all]) (1.6.2)\n",
      "Requirement already satisfied: python-dateutil>=2.8.0 in /Users/tervin/opt/anaconda3/lib/python3.8/site-packages (from sunpy[all]) (2.8.1)\n",
      "Requirement already satisfied: scikit-image>=0.16.0 in /Users/tervin/opt/anaconda3/lib/python3.8/site-packages (from sunpy[all]) (0.18.1)\n",
      "Requirement already satisfied: asdf-standard>=1.0.1 in /Users/tervin/opt/anaconda3/lib/python3.8/site-packages (from asdf>=2.6.0->sunpy[all]) (1.0.1)\n",
      "Requirement already satisfied: pyyaml>=3.10 in /Users/tervin/opt/anaconda3/lib/python3.8/site-packages (from asdf>=2.6.0->sunpy[all]) (5.4.1)\n",
      "Requirement already satisfied: semantic-version>=2.8 in /Users/tervin/opt/anaconda3/lib/python3.8/site-packages (from asdf>=2.6.0->sunpy[all]) (2.9.0)\n",
      "Requirement already satisfied: importlib-resources>=3 in /Users/tervin/opt/anaconda3/lib/python3.8/site-packages (from asdf>=2.6.0->sunpy[all]) (5.7.0)\n",
      "Requirement already satisfied: jmespath>=0.6.2 in /Users/tervin/opt/anaconda3/lib/python3.8/site-packages (from asdf>=2.6.0->sunpy[all]) (1.0.0)\n",
      "Requirement already satisfied: jsonschema>=4.0.1 in /Users/tervin/opt/anaconda3/lib/python3.8/site-packages (from asdf>=2.6.0->sunpy[all]) (4.4.0)\n",
      "Requirement already satisfied: packaging>=16.0 in /Users/tervin/opt/anaconda3/lib/python3.8/site-packages (from asdf>=2.6.0->sunpy[all]) (20.9)\n",
      "Requirement already satisfied: asdf-transform-schemas>=0.2.2 in /Users/tervin/opt/anaconda3/lib/python3.8/site-packages (from asdf>=2.6.0->sunpy[all]) (0.2.2)\n",
      "Requirement already satisfied: pyerfa in /Users/tervin/opt/anaconda3/lib/python3.8/site-packages (from astropy>=4.1.0->sunpy[all]) (1.7.3)\n",
      "Requirement already satisfied: soupsieve>1.2 in /Users/tervin/opt/anaconda3/lib/python3.8/site-packages (from beautifulsoup4>=4.8.0->sunpy[all]) (2.2.1)\n",
      "Requirement already satisfied: toolz>=0.8.2 in /Users/tervin/opt/anaconda3/lib/python3.8/site-packages (from dask[array]>=2.0.0->sunpy[all]) (0.11.1)\n",
      "Requirement already satisfied: partd>=0.3.10 in /Users/tervin/opt/anaconda3/lib/python3.8/site-packages (from dask[array]>=2.0.0->sunpy[all]) (1.2.0)\n",
      "Requirement already satisfied: fsspec>=0.6.0 in /Users/tervin/opt/anaconda3/lib/python3.8/site-packages (from dask[array]>=2.0.0->sunpy[all]) (0.9.0)\n",
      "Requirement already satisfied: cloudpickle>=1.1.1 in /Users/tervin/opt/anaconda3/lib/python3.8/site-packages (from dask[array]>=2.0.0->sunpy[all]) (1.6.0)\n",
      "Requirement already satisfied: setuptools in /Users/tervin/.local/lib/python3.8/site-packages (from glymur!=0.9.0,>=0.8.18->sunpy[all]) (58.2.0)\n",
      "Requirement already satisfied: lxml in /Users/tervin/opt/anaconda3/lib/python3.8/site-packages (from glymur!=0.9.0,>=0.8.18->sunpy[all]) (4.6.3)\n",
      "Requirement already satisfied: zipp>=3.1.0 in /Users/tervin/opt/anaconda3/lib/python3.8/site-packages (from importlib-resources>=3->asdf>=2.6.0->sunpy[all]) (3.4.1)\n",
      "Requirement already satisfied: pyrsistent!=0.17.0,!=0.17.1,!=0.17.2,>=0.14.0 in /Users/tervin/opt/anaconda3/lib/python3.8/site-packages (from jsonschema>=4.0.1->asdf>=2.6.0->sunpy[all]) (0.17.3)\n",
      "Requirement already satisfied: attrs>=17.4.0 in /Users/tervin/opt/anaconda3/lib/python3.8/site-packages (from jsonschema>=4.0.1->asdf>=2.6.0->sunpy[all]) (20.3.0)\n",
      "Requirement already satisfied: kiwisolver>=1.0.1 in /Users/tervin/opt/anaconda3/lib/python3.8/site-packages (from matplotlib>=3.1.0->sunpy[all]) (1.3.1)\n",
      "Requirement already satisfied: pyparsing!=2.0.4,!=2.1.2,!=2.1.6,>=2.0.3 in /Users/tervin/opt/anaconda3/lib/python3.8/site-packages (from matplotlib>=3.1.0->sunpy[all]) (2.4.7)\n",
      "Requirement already satisfied: cycler>=0.10 in /Users/tervin/opt/anaconda3/lib/python3.8/site-packages (from matplotlib>=3.1.0->sunpy[all]) (0.10.0)\n",
      "Requirement already satisfied: pillow>=6.2.0 in /Users/tervin/opt/anaconda3/lib/python3.8/site-packages (from matplotlib>=3.1.0->sunpy[all]) (8.2.0)\n",
      "Requirement already satisfied: six in /Users/tervin/opt/anaconda3/lib/python3.8/site-packages (from cycler>=0.10->matplotlib>=3.1.0->sunpy[all]) (1.15.0)\n",
      "Requirement already satisfied: pytz>=2017.3 in /Users/tervin/opt/anaconda3/lib/python3.8/site-packages (from pandas>=0.24.0->sunpy[all]) (2021.1)\n",
      "Requirement already satisfied: aiohttp in /Users/tervin/opt/anaconda3/lib/python3.8/site-packages (from parfive[ftp]>=1.2.0->sunpy[all]) (3.7.4.post0)\n",
      "Requirement already satisfied: aioftp>=0.17.1 in /Users/tervin/opt/anaconda3/lib/python3.8/site-packages (from parfive[ftp]>=1.2.0->sunpy[all]) (0.18.1)\n",
      "Requirement already satisfied: locket in /Users/tervin/opt/anaconda3/lib/python3.8/site-packages/locket-0.2.1-py3.8.egg (from partd>=0.3.10->dask[array]>=2.0.0->sunpy[all]) (0.2.1)\n",
      "Requirement already satisfied: networkx>=2.0 in /Users/tervin/opt/anaconda3/lib/python3.8/site-packages (from scikit-image>=0.16.0->sunpy[all]) (2.5)\n",
      "Requirement already satisfied: imageio>=2.3.0 in /Users/tervin/opt/anaconda3/lib/python3.8/site-packages (from scikit-image>=0.16.0->sunpy[all]) (2.9.0)\n",
      "Requirement already satisfied: tifffile>=2019.7.26 in /Users/tervin/opt/anaconda3/lib/python3.8/site-packages (from scikit-image>=0.16.0->sunpy[all]) (2020.10.1)\n",
      "Requirement already satisfied: PyWavelets>=1.1.1 in /Users/tervin/opt/anaconda3/lib/python3.8/site-packages (from scikit-image>=0.16.0->sunpy[all]) (1.1.1)\n",
      "Requirement already satisfied: decorator>=4.3.0 in /Users/tervin/opt/anaconda3/lib/python3.8/site-packages (from networkx>=2.0->scikit-image>=0.16.0->sunpy[all]) (5.0.6)\n",
      "Requirement already satisfied: greenlet!=0.4.17 in /Users/tervin/opt/anaconda3/lib/python3.8/site-packages (from sqlalchemy>=1.3.4->sunpy[all]) (1.0.0)\n",
      "Requirement already satisfied: isodate>=0.5.4 in /Users/tervin/opt/anaconda3/lib/python3.8/site-packages (from zeep>=3.4.0->sunpy[all]) (0.6.1)\n",
      "Requirement already satisfied: cached-property>=1.3.0 in /Users/tervin/opt/anaconda3/lib/python3.8/site-packages (from zeep>=3.4.0->sunpy[all]) (1.5.2)\n",
      "Requirement already satisfied: platformdirs>=1.4.0 in /Users/tervin/opt/anaconda3/lib/python3.8/site-packages (from zeep>=3.4.0->sunpy[all]) (2.5.1)\n",
      "Requirement already satisfied: requests>=2.7.0 in /Users/tervin/opt/anaconda3/lib/python3.8/site-packages (from zeep>=3.4.0->sunpy[all]) (2.25.1)\n",
      "Requirement already satisfied: requests-toolbelt>=0.7.1 in /Users/tervin/.local/lib/python3.8/site-packages (from zeep>=3.4.0->sunpy[all]) (0.9.1)\n",
      "Requirement already satisfied: requests-file>=1.5.1 in /Users/tervin/opt/anaconda3/lib/python3.8/site-packages (from zeep>=3.4.0->sunpy[all]) (1.5.1)\n"
     ]
    },
    {
     "name": "stdout",
     "output_type": "stream",
     "text": [
      "Requirement already satisfied: certifi>=2017.4.17 in /Users/tervin/opt/anaconda3/lib/python3.8/site-packages (from requests>=2.7.0->zeep>=3.4.0->sunpy[all]) (2020.12.5)\n",
      "Requirement already satisfied: chardet<5,>=3.0.2 in /Users/tervin/opt/anaconda3/lib/python3.8/site-packages (from requests>=2.7.0->zeep>=3.4.0->sunpy[all]) (4.0.0)\n",
      "Requirement already satisfied: urllib3<1.27,>=1.21.1 in /Users/tervin/opt/anaconda3/lib/python3.8/site-packages (from requests>=2.7.0->zeep>=3.4.0->sunpy[all]) (1.26.4)\n",
      "Requirement already satisfied: idna<3,>=2.5 in /Users/tervin/opt/anaconda3/lib/python3.8/site-packages (from requests>=2.7.0->zeep>=3.4.0->sunpy[all]) (2.10)\n",
      "Requirement already satisfied: yarl<2.0,>=1.0 in /Users/tervin/opt/anaconda3/lib/python3.8/site-packages (from aiohttp->parfive[ftp]>=1.2.0->sunpy[all]) (1.7.0)\n",
      "Requirement already satisfied: typing-extensions>=3.6.5 in /Users/tervin/opt/anaconda3/lib/python3.8/site-packages (from aiohttp->parfive[ftp]>=1.2.0->sunpy[all]) (3.7.4.3)\n",
      "Requirement already satisfied: async-timeout<4.0,>=3.0 in /Users/tervin/opt/anaconda3/lib/python3.8/site-packages (from aiohttp->parfive[ftp]>=1.2.0->sunpy[all]) (3.0.1)\n",
      "Requirement already satisfied: multidict<7.0,>=4.5 in /Users/tervin/opt/anaconda3/lib/python3.8/site-packages (from aiohttp->parfive[ftp]>=1.2.0->sunpy[all]) (5.2.0)\n"
     ]
    }
   ],
   "source": [
    "import sys\n",
    "!{sys.executable} -m pip install astropy\n",
    "!{sys.executable} -m pip install \"sunpy[all]\""
   ]
  },
  {
   "cell_type": "code",
   "execution_count": 2,
   "metadata": {
    "pycharm": {
     "name": "#%%\n"
    }
   },
   "outputs": [],
   "source": [
    "import pandas as pd\n",
    "import numpy as np\n",
    "\n",
    "import sunpy.map\n",
    "from sunpy.net import Fido\n",
    "from sunpy.net import attrs as a\n",
    "from sunpy.coordinates import frames\n",
    "\n",
    "import SolAster.tools.rvs as rvs\n",
    "import SolAster.tools.calculation_funcs as sfuncs\n",
    "import SolAster.tools.lbc_funcs as lbfuncs\n",
    "import SolAster.tools.coord_funcs as ctfuncs\n",
    "import SolAster.tools.utilities as utils\n",
    "from SolAster.tools.settings import *\n",
    "from SolAster.tools.plotting_funcs import hmi_plot"
   ]
  },
  {
   "cell_type": "markdown",
   "metadata": {
    "pycharm": {
     "name": "#%% md\n"
    }
   },
   "source": [
    "User inputted parameters come from the settings file. See README or documentation\n",
    "for additional information."
   ]
  },
  {
   "cell_type": "markdown",
   "metadata": {
    "pycharm": {
     "name": "#%% md\n"
    }
   },
   "source": [
    "Setup CSV file and SDO/HMI querying parameters."
   ]
  },
  {
   "cell_type": "code",
   "execution_count": 3,
   "metadata": {
    "pycharm": {
     "name": "#%%\n"
    }
   },
   "outputs": [
    {
     "name": "stdout",
     "output_type": "stream",
     "text": [
      "Beginning calculation of values for csv file: 2022\n"
     ]
    }
   ],
   "source": [
    "# check input formats\n",
    "start_date, end_date, cadence, csv_name = utils.check_inputs(CsvDir.CALC,  Inputs.start_date,  Inputs.end_date,\n",
    "                                                             Inputs.cadence,  Inputs.csv_name)\n",
    "\n",
    "\n",
    "# print out csv title\n",
    "print(\"Beginning calculation of values for csv file: \" + csv_name)\n",
    "\n",
    "# List of header strings\n",
    "row_contents = ['date_obs', 'date_jd', 'rv_model', 'v_quiet', 'v_disc', 'v_phot', 'v_conv', 'f_bright', 'f_spot', 'f',\n",
    "                'Bobs', 'vphot_bright', 'vphot_spot', 'f_small', 'f_large', 'f_network', 'f_plage',\n",
    "                'quiet_flux', 'ar_flux', 'conv_flux', 'pol_flux', 'pol_conv_flux', 'vconv_quiet', 'vconv_large',\n",
    "                'vconv_small']\n",
    "\n",
    "# create file names\n",
    "csv_file = os.path.join(CsvDir.CALC, csv_name+'.csv')\n",
    "bad_dates_csv = os.path.join(CsvDir.CALC, csv_name+'_bad_dates.csv')\n",
    "utils.append_list_as_row(csv_file, row_contents)\n",
    "\n",
    "\n",
    "# get hmi data products\n",
    "time_range = datetime.timedelta(seconds=22)\n",
    "physobs_list = [a.Physobs.los_velocity, a.Physobs.los_magnetic_field, a.Physobs.intensity]\n",
    "\n",
    "# get dates list\n",
    "xy = (end_date - start_date).seconds + (end_date - start_date).days * 24 * 3600\n",
    "dates_list = [start_date + datetime.timedelta(seconds=cadence*x) for x in range(0, int(xy/cadence))]"
   ]
  },
  {
   "cell_type": "markdown",
   "metadata": {
    "pycharm": {
     "name": "#%% md\n"
    }
   },
   "source": [
    "## Component calculations\n",
    "Run through list to calculate and save values."
   ]
  },
  {
   "cell_type": "code",
   "execution_count": 6,
   "metadata": {
    "pycharm": {
     "name": "#%%\n"
    }
   },
   "outputs": [
    {
     "data": {
      "application/vnd.jupyter.widget-view+json": {
       "model_id": "16ee535d61654af59350809565bb8d1c",
       "version_major": 2,
       "version_minor": 0
      },
      "text/plain": [
       "Files Downloaded:   0%|          | 0/3 [00:00<?, ?file/s]"
      ]
     },
     "metadata": {},
     "output_type": "display_data"
    },
    {
     "name": "stderr",
     "output_type": "stream",
     "text": [
      "WARNING: File may have been truncated: actual file length (69923) is smaller than the expected size (16197120) [astropy.io.fits.file]\n"
     ]
    },
    {
     "ename": "OSError",
     "evalue": "Failed to read /Users/tervin/sunpy/data/hmi_ic_45s_2022_01_26_06_01_30_tai_continuum.fits.",
     "output_type": "error",
     "traceback": [
      "\u001B[0;31m---------------------------------------------------------------------------\u001B[0m",
      "\u001B[0;31mTypeError\u001B[0m                                 Traceback (most recent call last)",
      "\u001B[0;32m~/opt/anaconda3/lib/python3.8/site-packages/sunpy/map/map_factory.py\u001B[0m in \u001B[0;36m_read_file\u001B[0;34m(self, fname, **kwargs)\u001B[0m\n\u001B[1;32m    161\u001B[0m         \u001B[0;32mtry\u001B[0m\u001B[0;34m:\u001B[0m\u001B[0;34m\u001B[0m\u001B[0;34m\u001B[0m\u001B[0m\n\u001B[0;32m--> 162\u001B[0;31m             \u001B[0mpairs\u001B[0m \u001B[0;34m=\u001B[0m \u001B[0mread_file\u001B[0m\u001B[0;34m(\u001B[0m\u001B[0mos\u001B[0m\u001B[0;34m.\u001B[0m\u001B[0mfspath\u001B[0m\u001B[0;34m(\u001B[0m\u001B[0mfname\u001B[0m\u001B[0;34m)\u001B[0m\u001B[0;34m,\u001B[0m \u001B[0;34m**\u001B[0m\u001B[0mkwargs\u001B[0m\u001B[0;34m)\u001B[0m\u001B[0;34m\u001B[0m\u001B[0;34m\u001B[0m\u001B[0m\n\u001B[0m\u001B[1;32m    163\u001B[0m         \u001B[0;32mexcept\u001B[0m \u001B[0mException\u001B[0m \u001B[0;32mas\u001B[0m \u001B[0me\u001B[0m\u001B[0;34m:\u001B[0m\u001B[0;34m\u001B[0m\u001B[0;34m\u001B[0m\u001B[0m\n",
      "\u001B[0;32m~/opt/anaconda3/lib/python3.8/site-packages/sunpy/io/file_tools.py\u001B[0m in \u001B[0;36mread_file\u001B[0;34m(filepath, filetype, **kwargs)\u001B[0m\n\u001B[1;32m     87\u001B[0m         \u001B[0;32mif\u001B[0m \u001B[0mfilepath\u001B[0m\u001B[0;34m.\u001B[0m\u001B[0mendswith\u001B[0m\u001B[0;34m(\u001B[0m\u001B[0mextension\u001B[0m\u001B[0;34m)\u001B[0m \u001B[0;32mor\u001B[0m \u001B[0mfiletype\u001B[0m \u001B[0;32min\u001B[0m \u001B[0mextension\u001B[0m\u001B[0;34m:\u001B[0m\u001B[0;34m\u001B[0m\u001B[0;34m\u001B[0m\u001B[0m\n\u001B[0;32m---> 88\u001B[0;31m             \u001B[0;32mreturn\u001B[0m \u001B[0m_readers\u001B[0m\u001B[0;34m[\u001B[0m\u001B[0mreadername\u001B[0m\u001B[0;34m]\u001B[0m\u001B[0;34m.\u001B[0m\u001B[0mread\u001B[0m\u001B[0;34m(\u001B[0m\u001B[0mfilepath\u001B[0m\u001B[0;34m,\u001B[0m \u001B[0;34m**\u001B[0m\u001B[0mkwargs\u001B[0m\u001B[0;34m)\u001B[0m\u001B[0;34m\u001B[0m\u001B[0;34m\u001B[0m\u001B[0m\n\u001B[0m\u001B[1;32m     89\u001B[0m \u001B[0;34m\u001B[0m\u001B[0m\n",
      "\u001B[0;32m~/opt/anaconda3/lib/python3.8/site-packages/sunpy/io/fits.py\u001B[0m in \u001B[0;36mread\u001B[0;34m(filepath, hdus, memmap, **kwargs)\u001B[0m\n\u001B[1;32m     83\u001B[0m             \u001B[0;32mtry\u001B[0m\u001B[0;34m:\u001B[0m\u001B[0;34m\u001B[0m\u001B[0;34m\u001B[0m\u001B[0m\n\u001B[0;32m---> 84\u001B[0;31m                 \u001B[0mpairs\u001B[0m\u001B[0;34m.\u001B[0m\u001B[0mappend\u001B[0m\u001B[0;34m(\u001B[0m\u001B[0mHDPair\u001B[0m\u001B[0;34m(\u001B[0m\u001B[0mhdu\u001B[0m\u001B[0;34m.\u001B[0m\u001B[0mdata\u001B[0m\u001B[0;34m,\u001B[0m \u001B[0mheader\u001B[0m\u001B[0;34m)\u001B[0m\u001B[0;34m)\u001B[0m\u001B[0;34m\u001B[0m\u001B[0;34m\u001B[0m\u001B[0m\n\u001B[0m\u001B[1;32m     85\u001B[0m             \u001B[0;32mexcept\u001B[0m \u001B[0;34m(\u001B[0m\u001B[0mKeyError\u001B[0m\u001B[0;34m,\u001B[0m \u001B[0mValueError\u001B[0m\u001B[0;34m)\u001B[0m \u001B[0;32mas\u001B[0m \u001B[0me\u001B[0m\u001B[0;34m:\u001B[0m\u001B[0;34m\u001B[0m\u001B[0;34m\u001B[0m\u001B[0m\n",
      "\u001B[0;32m~/opt/anaconda3/lib/python3.8/site-packages/astropy/utils/decorators.py\u001B[0m in \u001B[0;36m__get__\u001B[0;34m(self, obj, owner)\u001B[0m\n\u001B[1;32m    757\u001B[0m             \u001B[0;32melse\u001B[0m\u001B[0;34m:\u001B[0m\u001B[0;34m\u001B[0m\u001B[0;34m\u001B[0m\u001B[0m\n\u001B[0;32m--> 758\u001B[0;31m                 \u001B[0mval\u001B[0m \u001B[0;34m=\u001B[0m \u001B[0mself\u001B[0m\u001B[0;34m.\u001B[0m\u001B[0mfget\u001B[0m\u001B[0;34m(\u001B[0m\u001B[0mobj\u001B[0m\u001B[0;34m)\u001B[0m\u001B[0;34m\u001B[0m\u001B[0;34m\u001B[0m\u001B[0m\n\u001B[0m\u001B[1;32m    759\u001B[0m                 \u001B[0mobj\u001B[0m\u001B[0;34m.\u001B[0m\u001B[0m__dict__\u001B[0m\u001B[0;34m[\u001B[0m\u001B[0mself\u001B[0m\u001B[0;34m.\u001B[0m\u001B[0m_key\u001B[0m\u001B[0;34m]\u001B[0m \u001B[0;34m=\u001B[0m \u001B[0mval\u001B[0m\u001B[0;34m\u001B[0m\u001B[0;34m\u001B[0m\u001B[0m\n",
      "\u001B[0;32m~/opt/anaconda3/lib/python3.8/site-packages/astropy/io/fits/hdu/compressed.py\u001B[0m in \u001B[0;36mdata\u001B[0;34m(self)\u001B[0m\n\u001B[1;32m   1362\u001B[0m         \u001B[0;31m# The data attribute is the image data (not the table data).\u001B[0m\u001B[0;34m\u001B[0m\u001B[0;34m\u001B[0m\u001B[0;34m\u001B[0m\u001B[0m\n\u001B[0;32m-> 1363\u001B[0;31m         \u001B[0mdata\u001B[0m \u001B[0;34m=\u001B[0m \u001B[0mcompression\u001B[0m\u001B[0;34m.\u001B[0m\u001B[0mdecompress_hdu\u001B[0m\u001B[0;34m(\u001B[0m\u001B[0mself\u001B[0m\u001B[0;34m)\u001B[0m\u001B[0;34m\u001B[0m\u001B[0;34m\u001B[0m\u001B[0m\n\u001B[0m\u001B[1;32m   1364\u001B[0m \u001B[0;34m\u001B[0m\u001B[0m\n",
      "\u001B[0;32m~/opt/anaconda3/lib/python3.8/site-packages/astropy/utils/decorators.py\u001B[0m in \u001B[0;36m__get__\u001B[0;34m(self, obj, owner)\u001B[0m\n\u001B[1;32m    757\u001B[0m             \u001B[0;32melse\u001B[0m\u001B[0;34m:\u001B[0m\u001B[0;34m\u001B[0m\u001B[0;34m\u001B[0m\u001B[0m\n\u001B[0;32m--> 758\u001B[0;31m                 \u001B[0mval\u001B[0m \u001B[0;34m=\u001B[0m \u001B[0mself\u001B[0m\u001B[0;34m.\u001B[0m\u001B[0mfget\u001B[0m\u001B[0;34m(\u001B[0m\u001B[0mobj\u001B[0m\u001B[0;34m)\u001B[0m\u001B[0;34m\u001B[0m\u001B[0;34m\u001B[0m\u001B[0m\n\u001B[0m\u001B[1;32m    759\u001B[0m                 \u001B[0mobj\u001B[0m\u001B[0;34m.\u001B[0m\u001B[0m__dict__\u001B[0m\u001B[0;34m[\u001B[0m\u001B[0mself\u001B[0m\u001B[0;34m.\u001B[0m\u001B[0m_key\u001B[0m\u001B[0;34m]\u001B[0m \u001B[0;34m=\u001B[0m \u001B[0mval\u001B[0m\u001B[0;34m\u001B[0m\u001B[0;34m\u001B[0m\u001B[0m\n",
      "\u001B[0;32m~/opt/anaconda3/lib/python3.8/site-packages/astropy/io/fits/hdu/compressed.py\u001B[0m in \u001B[0;36mcompressed_data\u001B[0;34m(self)\u001B[0m\n\u001B[1;32m   1414\u001B[0m         \u001B[0;31m# data) from the file, if there is any.\u001B[0m\u001B[0;34m\u001B[0m\u001B[0;34m\u001B[0m\u001B[0;34m\u001B[0m\u001B[0m\n\u001B[0;32m-> 1415\u001B[0;31m         \u001B[0mcompressed_data\u001B[0m \u001B[0;34m=\u001B[0m \u001B[0msuper\u001B[0m\u001B[0;34m(\u001B[0m\u001B[0;34m)\u001B[0m\u001B[0;34m.\u001B[0m\u001B[0mdata\u001B[0m\u001B[0;34m\u001B[0m\u001B[0;34m\u001B[0m\u001B[0m\n\u001B[0m\u001B[1;32m   1416\u001B[0m         \u001B[0;32mif\u001B[0m \u001B[0misinstance\u001B[0m\u001B[0;34m(\u001B[0m\u001B[0mcompressed_data\u001B[0m\u001B[0;34m,\u001B[0m \u001B[0mnp\u001B[0m\u001B[0;34m.\u001B[0m\u001B[0mrec\u001B[0m\u001B[0;34m.\u001B[0m\u001B[0mrecarray\u001B[0m\u001B[0;34m)\u001B[0m\u001B[0;34m:\u001B[0m\u001B[0;34m\u001B[0m\u001B[0;34m\u001B[0m\u001B[0m\n",
      "\u001B[0;32m~/opt/anaconda3/lib/python3.8/site-packages/astropy/utils/decorators.py\u001B[0m in \u001B[0;36m__get__\u001B[0;34m(self, obj, owner)\u001B[0m\n\u001B[1;32m    757\u001B[0m             \u001B[0;32melse\u001B[0m\u001B[0;34m:\u001B[0m\u001B[0;34m\u001B[0m\u001B[0;34m\u001B[0m\u001B[0m\n\u001B[0;32m--> 758\u001B[0;31m                 \u001B[0mval\u001B[0m \u001B[0;34m=\u001B[0m \u001B[0mself\u001B[0m\u001B[0;34m.\u001B[0m\u001B[0mfget\u001B[0m\u001B[0;34m(\u001B[0m\u001B[0mobj\u001B[0m\u001B[0;34m)\u001B[0m\u001B[0;34m\u001B[0m\u001B[0;34m\u001B[0m\u001B[0m\n\u001B[0m\u001B[1;32m    759\u001B[0m                 \u001B[0mobj\u001B[0m\u001B[0;34m.\u001B[0m\u001B[0m__dict__\u001B[0m\u001B[0;34m[\u001B[0m\u001B[0mself\u001B[0m\u001B[0;34m.\u001B[0m\u001B[0m_key\u001B[0m\u001B[0;34m]\u001B[0m \u001B[0;34m=\u001B[0m \u001B[0mval\u001B[0m\u001B[0;34m\u001B[0m\u001B[0;34m\u001B[0m\u001B[0m\n",
      "\u001B[0;32m~/opt/anaconda3/lib/python3.8/site-packages/astropy/io/fits/hdu/table.py\u001B[0m in \u001B[0;36mdata\u001B[0;34m(self)\u001B[0m\n\u001B[1;32m    398\u001B[0m     \u001B[0;32mdef\u001B[0m \u001B[0mdata\u001B[0m\u001B[0;34m(\u001B[0m\u001B[0mself\u001B[0m\u001B[0;34m)\u001B[0m\u001B[0;34m:\u001B[0m\u001B[0;34m\u001B[0m\u001B[0;34m\u001B[0m\u001B[0m\n\u001B[0;32m--> 399\u001B[0;31m         \u001B[0mdata\u001B[0m \u001B[0;34m=\u001B[0m \u001B[0mself\u001B[0m\u001B[0;34m.\u001B[0m\u001B[0m_get_tbdata\u001B[0m\u001B[0;34m(\u001B[0m\u001B[0;34m)\u001B[0m\u001B[0;34m\u001B[0m\u001B[0;34m\u001B[0m\u001B[0m\n\u001B[0m\u001B[1;32m    400\u001B[0m         \u001B[0mdata\u001B[0m\u001B[0;34m.\u001B[0m\u001B[0m_coldefs\u001B[0m \u001B[0;34m=\u001B[0m \u001B[0mself\u001B[0m\u001B[0;34m.\u001B[0m\u001B[0mcolumns\u001B[0m\u001B[0;34m\u001B[0m\u001B[0;34m\u001B[0m\u001B[0m\n",
      "\u001B[0;32m~/opt/anaconda3/lib/python3.8/site-packages/astropy/io/fits/hdu/table.py\u001B[0m in \u001B[0;36m_get_tbdata\u001B[0;34m(self)\u001B[0m\n\u001B[1;32m    165\u001B[0m             \u001B[0;31m# We have a heap; include it in the raw_data\u001B[0m\u001B[0;34m\u001B[0m\u001B[0;34m\u001B[0m\u001B[0;34m\u001B[0m\u001B[0m\n\u001B[0;32m--> 166\u001B[0;31m             raw_data = self._get_raw_data(self._data_size, np.uint8,\n\u001B[0m\u001B[1;32m    167\u001B[0m                                           self._data_offset)\n",
      "\u001B[0;32m~/opt/anaconda3/lib/python3.8/site-packages/astropy/io/fits/hdu/base.py\u001B[0m in \u001B[0;36m_get_raw_data\u001B[0;34m(self, shape, code, offset)\u001B[0m\n\u001B[1;32m    519\u001B[0m         \u001B[0;32melif\u001B[0m \u001B[0mself\u001B[0m\u001B[0;34m.\u001B[0m\u001B[0m_file\u001B[0m\u001B[0;34m:\u001B[0m\u001B[0;34m\u001B[0m\u001B[0;34m\u001B[0m\u001B[0m\n\u001B[0;32m--> 520\u001B[0;31m             \u001B[0;32mreturn\u001B[0m \u001B[0mself\u001B[0m\u001B[0;34m.\u001B[0m\u001B[0m_file\u001B[0m\u001B[0;34m.\u001B[0m\u001B[0mreadarray\u001B[0m\u001B[0;34m(\u001B[0m\u001B[0moffset\u001B[0m\u001B[0;34m=\u001B[0m\u001B[0moffset\u001B[0m\u001B[0;34m,\u001B[0m \u001B[0mdtype\u001B[0m\u001B[0;34m=\u001B[0m\u001B[0mcode\u001B[0m\u001B[0;34m,\u001B[0m \u001B[0mshape\u001B[0m\u001B[0;34m=\u001B[0m\u001B[0mshape\u001B[0m\u001B[0;34m)\u001B[0m\u001B[0;34m\u001B[0m\u001B[0;34m\u001B[0m\u001B[0m\n\u001B[0m\u001B[1;32m    521\u001B[0m         \u001B[0;32melse\u001B[0m\u001B[0;34m:\u001B[0m\u001B[0;34m\u001B[0m\u001B[0;34m\u001B[0m\u001B[0m\n",
      "\u001B[0;32m~/opt/anaconda3/lib/python3.8/site-packages/astropy/io/fits/file.py\u001B[0m in \u001B[0;36mreadarray\u001B[0;34m(self, size, offset, dtype, shape)\u001B[0m\n\u001B[1;32m    329\u001B[0m \u001B[0;34m\u001B[0m\u001B[0m\n\u001B[0;32m--> 330\u001B[0;31m                 return np.ndarray(shape=shape, dtype=dtype, offset=offset,\n\u001B[0m\u001B[1;32m    331\u001B[0m                                   buffer=self._mmap)\n",
      "\u001B[0;31mTypeError\u001B[0m: buffer is too small for requested array",
      "\nThe above exception was the direct cause of the following exception:\n",
      "\u001B[0;31mOSError\u001B[0m                                   Traceback (most recent call last)",
      "\u001B[0;32m<ipython-input-6-125511c171fc>\u001B[0m in \u001B[0;36m<module>\u001B[0;34m\u001B[0m\n\u001B[1;32m     27\u001B[0m     \u001B[0;32melse\u001B[0m\u001B[0;34m:\u001B[0m\u001B[0;34m\u001B[0m\u001B[0;34m\u001B[0m\u001B[0m\n\u001B[1;32m     28\u001B[0m         \u001B[0;31m# convert to map sequence\u001B[0m\u001B[0;34m\u001B[0m\u001B[0;34m\u001B[0m\u001B[0;34m\u001B[0m\u001B[0m\n\u001B[0;32m---> 29\u001B[0;31m         \u001B[0mmap_seq\u001B[0m \u001B[0;34m=\u001B[0m \u001B[0msunpy\u001B[0m\u001B[0;34m.\u001B[0m\u001B[0mmap\u001B[0m\u001B[0;34m.\u001B[0m\u001B[0mMap\u001B[0m\u001B[0;34m(\u001B[0m\u001B[0msorted\u001B[0m\u001B[0;34m(\u001B[0m\u001B[0mgood_files\u001B[0m\u001B[0;34m)\u001B[0m\u001B[0;34m)\u001B[0m\u001B[0;34m\u001B[0m\u001B[0;34m\u001B[0m\u001B[0m\n\u001B[0m\u001B[1;32m     30\u001B[0m \u001B[0;34m\u001B[0m\u001B[0m\n\u001B[1;32m     31\u001B[0m         \u001B[0;31m# check for missing data types\u001B[0m\u001B[0;34m\u001B[0m\u001B[0;34m\u001B[0m\u001B[0;34m\u001B[0m\u001B[0m\n",
      "\u001B[0;32m~/opt/anaconda3/lib/python3.8/site-packages/sunpy/map/map_factory.py\u001B[0m in \u001B[0;36m__call__\u001B[0;34m(self, composite, sequence, silence_errors, *args, **kwargs)\u001B[0m\n\u001B[1;32m    332\u001B[0m         \u001B[0;32mas\u001B[0m\u001B[0;31m \u001B[0m\u001B[0;31m`\u001B[0m\u001B[0mmemmap\u001B[0m\u001B[0;31m`\u001B[0m \u001B[0;32mfor\u001B[0m \u001B[0mFITS\u001B[0m \u001B[0mfiles\u001B[0m\u001B[0;34m.\u001B[0m\u001B[0;34m\u001B[0m\u001B[0;34m\u001B[0m\u001B[0m\n\u001B[1;32m    333\u001B[0m         \"\"\"\n\u001B[0;32m--> 334\u001B[0;31m         \u001B[0mdata_header_pairs\u001B[0m \u001B[0;34m=\u001B[0m \u001B[0mself\u001B[0m\u001B[0;34m.\u001B[0m\u001B[0m_parse_args\u001B[0m\u001B[0;34m(\u001B[0m\u001B[0;34m*\u001B[0m\u001B[0margs\u001B[0m\u001B[0;34m,\u001B[0m \u001B[0msilence_errors\u001B[0m\u001B[0;34m=\u001B[0m\u001B[0msilence_errors\u001B[0m\u001B[0;34m,\u001B[0m \u001B[0;34m**\u001B[0m\u001B[0mkwargs\u001B[0m\u001B[0;34m)\u001B[0m\u001B[0;34m\u001B[0m\u001B[0;34m\u001B[0m\u001B[0m\n\u001B[0m\u001B[1;32m    335\u001B[0m         \u001B[0mnew_maps\u001B[0m \u001B[0;34m=\u001B[0m \u001B[0mlist\u001B[0m\u001B[0;34m(\u001B[0m\u001B[0;34m)\u001B[0m\u001B[0;34m\u001B[0m\u001B[0;34m\u001B[0m\u001B[0m\n\u001B[1;32m    336\u001B[0m \u001B[0;34m\u001B[0m\u001B[0m\n",
      "\u001B[0;32m~/opt/anaconda3/lib/python3.8/site-packages/sunpy/map/map_factory.py\u001B[0m in \u001B[0;36m_parse_args\u001B[0;34m(self, silence_errors, *args, **kwargs)\u001B[0m\n\u001B[1;32m    243\u001B[0m         \u001B[0;32mfor\u001B[0m \u001B[0marg\u001B[0m \u001B[0;32min\u001B[0m \u001B[0margs\u001B[0m\u001B[0;34m:\u001B[0m\u001B[0;34m\u001B[0m\u001B[0;34m\u001B[0m\u001B[0m\n\u001B[1;32m    244\u001B[0m             \u001B[0;32mtry\u001B[0m\u001B[0;34m:\u001B[0m\u001B[0;34m\u001B[0m\u001B[0;34m\u001B[0m\u001B[0m\n\u001B[0;32m--> 245\u001B[0;31m                 \u001B[0mdata_header_pairs\u001B[0m \u001B[0;34m+=\u001B[0m \u001B[0mself\u001B[0m\u001B[0;34m.\u001B[0m\u001B[0m_parse_arg\u001B[0m\u001B[0;34m(\u001B[0m\u001B[0marg\u001B[0m\u001B[0;34m,\u001B[0m \u001B[0;34m**\u001B[0m\u001B[0mkwargs\u001B[0m\u001B[0;34m)\u001B[0m\u001B[0;34m\u001B[0m\u001B[0;34m\u001B[0m\u001B[0m\n\u001B[0m\u001B[1;32m    246\u001B[0m             \u001B[0;32mexcept\u001B[0m \u001B[0mNoMapsInFileError\u001B[0m \u001B[0;32mas\u001B[0m \u001B[0me\u001B[0m\u001B[0;34m:\u001B[0m\u001B[0;34m\u001B[0m\u001B[0;34m\u001B[0m\u001B[0m\n\u001B[1;32m    247\u001B[0m                 \u001B[0;32mif\u001B[0m \u001B[0;32mnot\u001B[0m \u001B[0msilence_errors\u001B[0m\u001B[0;34m:\u001B[0m\u001B[0;34m\u001B[0m\u001B[0;34m\u001B[0m\u001B[0m\n",
      "\u001B[0;32m~/opt/anaconda3/lib/python3.8/site-packages/sunpy/util/functools.py\u001B[0m in \u001B[0;36mwrapper\u001B[0;34m(*args, **kwargs)\u001B[0m\n\u001B[1;32m     16\u001B[0m \u001B[0;34m\u001B[0m\u001B[0m\n\u001B[1;32m     17\u001B[0m     \u001B[0;32mdef\u001B[0m \u001B[0mwrapper\u001B[0m\u001B[0;34m(\u001B[0m\u001B[0;34m*\u001B[0m\u001B[0margs\u001B[0m\u001B[0;34m,\u001B[0m \u001B[0;34m**\u001B[0m\u001B[0mkwargs\u001B[0m\u001B[0;34m)\u001B[0m\u001B[0;34m:\u001B[0m\u001B[0;34m\u001B[0m\u001B[0;34m\u001B[0m\u001B[0m\n\u001B[0;32m---> 18\u001B[0;31m         \u001B[0;32mreturn\u001B[0m \u001B[0mdispatcher\u001B[0m\u001B[0;34m.\u001B[0m\u001B[0mdispatch\u001B[0m\u001B[0;34m(\u001B[0m\u001B[0margs\u001B[0m\u001B[0;34m[\u001B[0m\u001B[0;36m1\u001B[0m\u001B[0;34m]\u001B[0m\u001B[0;34m.\u001B[0m\u001B[0m__class__\u001B[0m\u001B[0;34m)\u001B[0m\u001B[0;34m(\u001B[0m\u001B[0;34m*\u001B[0m\u001B[0margs\u001B[0m\u001B[0;34m,\u001B[0m \u001B[0;34m**\u001B[0m\u001B[0mkwargs\u001B[0m\u001B[0;34m)\u001B[0m\u001B[0;34m\u001B[0m\u001B[0;34m\u001B[0m\u001B[0m\n\u001B[0m\u001B[1;32m     19\u001B[0m \u001B[0;34m\u001B[0m\u001B[0m\n\u001B[1;32m     20\u001B[0m     \u001B[0mwrapper\u001B[0m\u001B[0;34m.\u001B[0m\u001B[0mdispatch\u001B[0m \u001B[0;34m=\u001B[0m \u001B[0mdispatcher\u001B[0m\u001B[0;34m.\u001B[0m\u001B[0mdispatch\u001B[0m\u001B[0;34m\u001B[0m\u001B[0;34m\u001B[0m\u001B[0m\n",
      "\u001B[0;32m~/opt/anaconda3/lib/python3.8/site-packages/sunpy/map/map_factory.py\u001B[0m in \u001B[0;36m_parse_path\u001B[0;34m(self, arg, **kwargs)\u001B[0m\n\u001B[1;32m    292\u001B[0m         \u001B[0mpath\u001B[0m \u001B[0;34m=\u001B[0m \u001B[0marg\u001B[0m\u001B[0;34m.\u001B[0m\u001B[0mexpanduser\u001B[0m\u001B[0;34m(\u001B[0m\u001B[0;34m)\u001B[0m\u001B[0;34m\u001B[0m\u001B[0;34m\u001B[0m\u001B[0m\n\u001B[1;32m    293\u001B[0m         \u001B[0;32mif\u001B[0m \u001B[0m_is_file\u001B[0m\u001B[0;34m(\u001B[0m\u001B[0mpath\u001B[0m\u001B[0;34m)\u001B[0m\u001B[0;34m:\u001B[0m\u001B[0;34m\u001B[0m\u001B[0;34m\u001B[0m\u001B[0m\n\u001B[0;32m--> 294\u001B[0;31m             \u001B[0;32mreturn\u001B[0m \u001B[0mself\u001B[0m\u001B[0;34m.\u001B[0m\u001B[0m_read_file\u001B[0m\u001B[0;34m(\u001B[0m\u001B[0mpath\u001B[0m\u001B[0;34m,\u001B[0m \u001B[0;34m**\u001B[0m\u001B[0mkwargs\u001B[0m\u001B[0;34m)\u001B[0m\u001B[0;34m\u001B[0m\u001B[0;34m\u001B[0m\u001B[0m\n\u001B[0m\u001B[1;32m    295\u001B[0m         \u001B[0;32melif\u001B[0m \u001B[0m_is_dir\u001B[0m\u001B[0;34m(\u001B[0m\u001B[0mpath\u001B[0m\u001B[0;34m)\u001B[0m\u001B[0;34m:\u001B[0m\u001B[0;34m\u001B[0m\u001B[0;34m\u001B[0m\u001B[0m\n\u001B[1;32m    296\u001B[0m             \u001B[0mpairs\u001B[0m \u001B[0;34m=\u001B[0m \u001B[0;34m[\u001B[0m\u001B[0;34m]\u001B[0m\u001B[0;34m\u001B[0m\u001B[0;34m\u001B[0m\u001B[0m\n",
      "\u001B[0;32m~/opt/anaconda3/lib/python3.8/site-packages/sunpy/map/map_factory.py\u001B[0m in \u001B[0;36m_read_file\u001B[0;34m(self, fname, **kwargs)\u001B[0m\n\u001B[1;32m    163\u001B[0m         \u001B[0;32mexcept\u001B[0m \u001B[0mException\u001B[0m \u001B[0;32mas\u001B[0m \u001B[0me\u001B[0m\u001B[0;34m:\u001B[0m\u001B[0;34m\u001B[0m\u001B[0;34m\u001B[0m\u001B[0m\n\u001B[1;32m    164\u001B[0m             \u001B[0mmsg\u001B[0m \u001B[0;34m=\u001B[0m \u001B[0;34mf\"Failed to read {fname}.\"\u001B[0m\u001B[0;34m\u001B[0m\u001B[0;34m\u001B[0m\u001B[0m\n\u001B[0;32m--> 165\u001B[0;31m             \u001B[0;32mraise\u001B[0m \u001B[0mIOError\u001B[0m\u001B[0;34m(\u001B[0m\u001B[0mmsg\u001B[0m\u001B[0;34m)\u001B[0m \u001B[0;32mfrom\u001B[0m \u001B[0me\u001B[0m\u001B[0;34m\u001B[0m\u001B[0;34m\u001B[0m\u001B[0m\n\u001B[0m\u001B[1;32m    166\u001B[0m \u001B[0;34m\u001B[0m\u001B[0m\n\u001B[1;32m    167\u001B[0m         \u001B[0mnew_pairs\u001B[0m \u001B[0;34m=\u001B[0m \u001B[0;34m[\u001B[0m\u001B[0;34m]\u001B[0m\u001B[0;34m\u001B[0m\u001B[0;34m\u001B[0m\u001B[0m\n",
      "\u001B[0;31mOSError\u001B[0m: Failed to read /Users/tervin/sunpy/data/hmi_ic_45s_2022_01_26_06_01_30_tai_continuum.fits."
     ]
    }
   ],
   "source": [
    "for i, date in enumerate(dates_list):\n",
    "    # convert the date to a string -- required for use in csv file\n",
    "    date_str, date_obj, date_jd = utils.get_dates(date)\n",
    "\n",
    "    # pull image within specified time range\n",
    "    result = Fido.search(a.Time(str(date_obj - time_range), str(date_obj + time_range)),\n",
    "                         a.Instrument.hmi, physobs_list[0] | physobs_list[1] | physobs_list[2])\n",
    "\n",
    "    # add file to list\n",
    "    file_download = Fido.fetch(result)\n",
    "\n",
    "    # remove unusable file types\n",
    "    good_files = []\n",
    "    for file in file_download:\n",
    "        name, extension = os.path.splitext(file)\n",
    "        if extension == '.fits':\n",
    "            good_files.append(file)\n",
    "\n",
    "    if len(good_files) != 3:\n",
    "        # add the data\n",
    "        # append these values to the csv file\n",
    "        save_vals = [date_str, 'not three good files']\n",
    "        # print that the files are missing\n",
    "        print('\\nNot three good files: ' + date_str + ' index: ' + str(i))\n",
    "\n",
    "        pass\n",
    "    else:\n",
    "        # convert to map sequence\n",
    "        map_seq = sunpy.map.Map(sorted(good_files))\n",
    "\n",
    "        # check for missing data types\n",
    "        missing_map = False\n",
    "        # split into data types\n",
    "        for j, map_obj in enumerate(map_seq):\n",
    "            if map_obj.meta['content'] == 'DOPPLERGRAM':\n",
    "                vmap = map_obj\n",
    "            elif map_obj.meta['content'] == 'MAGNETOGRAM':\n",
    "                mmap = map_obj\n",
    "            elif map_obj.meta['content'] == 'CONTINUUM INTENSITY':\n",
    "                imap = map_obj\n",
    "            else:\n",
    "                missing_map = True\n",
    "\n",
    "        if missing_map:\n",
    "            print(\"Missing a data product for \" + date_str)\n",
    "\n",
    "            # add the data\n",
    "            # append these values to the csv file\n",
    "            save_vals = [date_str, 'missing data product']\n",
    "            pass\n",
    "\n",
    "        else:\n",
    "            # coordinate transformation for maps\n",
    "            x, y, pdim, r, d, mu = ctfuncs.coordinates(vmap)\n",
    "            wij, nij, rij = ctfuncs.vel_coords(x, y, pdim, r, vmap)\n",
    "\n",
    "            # remove bad mu values\n",
    "            vmap, mmap, imap = ctfuncs.fix_mu(mu, [vmap, mmap, imap], mu_cutoff=Parameters.mu_cutoff)\n",
    "\n",
    "            # calculate relative positions\n",
    "            deltaw, deltan, deltar, dij = sfuncs.rel_positions(wij, nij, rij, vmap)\n",
    "\n",
    "            # calculate spacecraft velocity\n",
    "            vsc = sfuncs.spacecraft_vel(deltaw, deltan, deltar, dij, vmap)\n",
    "\n",
    "            # optimized solar rotation parameters\n",
    "            a_parameters = [Parameters.a1, Parameters.a2, Parameters.a3]\n",
    "\n",
    "            # calculation of solar rotation velocity\n",
    "            vrot = sfuncs.solar_rot_vel(wij, nij, rij, deltaw, deltan, deltar, dij, vmap, a_parameters)\n",
    "\n",
    "            # calculate corrected velocity\n",
    "            corrected_vel = vmap.data - np.real(vsc) - np.real(vrot)\n",
    "\n",
    "            # corrected velocity maps\n",
    "            map_vel_cor = sfuncs.corrected_map(corrected_vel, vmap, map_type='Corrected-Dopplergram',\n",
    "                                               frame=frames.HeliographicCarrington)\n",
    "\n",
    "            # limb brightening\n",
    "            Lij = lbfuncs.limb_polynomial(imap)\n",
    "\n",
    "            # calculate corrected data\n",
    "            Iflat = imap.data / Lij\n",
    "\n",
    "            # corrected intensity maps\n",
    "            map_int_cor = sfuncs.corrected_map(Iflat, imap, map_type='Corrected-Intensitygram',\n",
    "                                               frame=frames.HeliographicCarrington)\n",
    "\n",
    "            # calculate unsigned field strength\n",
    "            Bobs, Br = sfuncs.mag_field(mu, mmap, B_noise=Parameters.B_noise, mu_cutoff=Parameters.mu_cutoff)\n",
    "\n",
    "            # corrected observed magnetic data map\n",
    "            map_mag_obs = sfuncs.corrected_map(Bobs, mmap, map_type='Corrected-Magnetogram',\n",
    "                                               frame=frames.HeliographicCarrington)\n",
    "\n",
    "            # radial magnetic data map\n",
    "            map_mag_cor = sfuncs.corrected_map(Br, mmap, map_type='Corrected-Magnetogram',\n",
    "                                               frame=frames.HeliographicCarrington)\n",
    "\n",
    "            # calculate magnetic threshold\n",
    "            active, quiet = sfuncs.mag_thresh(mu, mmap, Br_cutoff=Parameters.Br_cutoff, mu_cutoff=Parameters.mu_cutoff)\n",
    "\n",
    "            # calculate intensity threshold\n",
    "            fac_inds, spot_inds = sfuncs.int_thresh(map_int_cor, active, quiet)\n",
    "\n",
    "            # create threshold array\n",
    "            thresh_arr = sfuncs.thresh_map(fac_inds, spot_inds)\n",
    "\n",
    "            # full threshold maps\n",
    "            map_full_thresh = sfuncs.corrected_map(thresh_arr, mmap, map_type='Threshold',\n",
    "                                                   frame=frames.HeliographicCarrington)\n",
    "\n",
    "            # create diagnostic plots\n",
    "            if i == 0 and Inputs.diagnostic_plots == True:\n",
    "                    hmi_plot(map_int_cor, map_mag_cor, map_vel_cor, fac_inds, spot_inds, mu, save_fig=Inputs.save_fig)\n",
    "\n",
    "            ### velocity contribution due to convective motion of quiet-Sun\n",
    "            v_quiet = sfuncs.v_quiet(map_vel_cor, imap, quiet)\n",
    "\n",
    "            ### velocity contribution due to rotational Doppler imbalance of active regions (faculae/sunspots)\n",
    "            # calculate photospheric velocity\n",
    "            v_phot, vphot_bright, vphot_spot = sfuncs.v_phot(quiet, active, Lij, vrot, imap, mu, fac_inds, spot_inds, mu_cutoff=Parameters.mu_cutoff)\n",
    "\n",
    "            ### velocity contribution due to suppression of convective blueshift by active regions\n",
    "            # calculate disc-averaged velocity\n",
    "            v_disc = sfuncs.v_disc(map_vel_cor, imap)\n",
    "\n",
    "            # calculate convective velocity\n",
    "            v_conv = v_disc - v_quiet\n",
    "\n",
    "            ### filling factor\n",
    "            # calculate filling factor\n",
    "            f_bright, f_spot, f = sfuncs.filling_factor(mu, mmap, active, fac_inds, spot_inds, mu_cutoff=Parameters.mu_cutoff)\n",
    "\n",
    "            ### unsigned magnetic flux\n",
    "            # unsigned observed flux\n",
    "            unsigned_obs_flux = sfuncs.unsigned_flux(map_mag_obs, imap)\n",
    "\n",
    "            ### calculate the area filling factor\n",
    "            pixA_hem = ctfuncs.pix_area_hem(wij, nij, rij, vmap)\n",
    "            area = sfuncs.area_calc(active, pixA_hem)\n",
    "            f_small, f_large, f_network, f_plage = sfuncs.area_filling_factor(active, area, mu, mmap, fac_inds,\n",
    "                                                                              athresh=Parameters.athresh,\n",
    "                                                                              mu_cutoff=Parameters.mu_cutoff)\n",
    "\n",
    "            ### get the unsigned flux\n",
    "            quiet_flux, ar_flux, conv_flux, pol_flux, pol_conv_flux = sfuncs.area_unsigned_flux(map_mag_obs, imap,\n",
    "                                                                                                    area,\n",
    "                                                                                                    active,\n",
    "                                                                                                athresh=Parameters.athresh)\n",
    "\n",
    "            ### get area weighted convective velocities\n",
    "            vconv_quiet, vconv_large, vconv_small = sfuncs.area_vconv(map_vel_cor, imap, active, area, athresh=Parameters.athresh)\n",
    "            ### calculate model RV\n",
    "            rv_model = rvs.calc_model(Inputs.inst, v_conv, v_phot)\n",
    "\n",
    "            # intensity flux to check\n",
    "            int_flux = np.nansum(imap.data)\n",
    "            \n",
    "            # make array of what we want to save\n",
    "            save_vals = [rv_model, v_quiet, v_disc, v_phot, v_conv, f_bright, f_spot, f, unsigned_obs_flux, vphot_bright,\n",
    "                         vphot_spot, f_small, f_large, f_network, f_plage, quiet_flux, ar_flux,\n",
    "                         conv_flux, pol_flux, pol_conv_flux, vconv_quiet, vconv_large, vconv_small, int_flux]\n",
    "\n",
    "            # round stuff\n",
    "            rounded = np.around(save_vals, 3)\n",
    "            round_vals = [date_str, date_jd]\n",
    "            for val in rounded:\n",
    "                round_vals.append(val)\n",
    "\n",
    "            # append these values to the csv file\n",
    "            utils.append_list_as_row(csv_file, round_vals)\n",
    "\n",
    "            # print that the date is completed\n",
    "            print('\\nCalculations and save to file complete for ' + date_str + ' index: ' + str(i))\n",
    "\n",
    "print('Calculation complete for dates:', start_date, 'to', end_date)"
   ]
  },
  {
   "cell_type": "markdown",
   "metadata": {
    "pycharm": {
     "name": "#%% md\n"
    }
   },
   "source": [
    "# Plotting results"
   ]
  },
  {
   "cell_type": "code",
   "execution_count": null,
   "metadata": {
    "pycharm": {
     "name": "#%%\n"
    }
   },
   "outputs": [],
   "source": [
    "# csv file with rv components\n",
    "csv_file = os.path.join(CsvDir.CALC, Inputs.csv_name)\n",
    "\n",
    "# create pandas dataframe\n",
    "component_df = pd.read_csv(csv_file)"
   ]
  },
  {
   "cell_type": "code",
   "execution_count": null,
   "metadata": {
    "pycharm": {
     "name": "#%%\n"
    }
   },
   "outputs": [],
   "source": [
    "import matplotlib.pyplot as plt\n",
    "\n",
    "# date to plot\n",
    "date_jd = component_df.date_jd.values\n",
    "x = date_jd - date_jd[0]\n",
    "y_list = [component_df.f.values, component_df.Bobs.values, component_df.v_conv.values, component_df.v_phot.values,\n",
    "          component_df.rv_model.values - np.median(component_df.rv_model.values)]\n",
    "\n",
    "# plot labels\n",
    "xlabel = 'Days since ' + str(int(date_jd[0])) + ' JD'\n",
    "ylabel_list = [r'$\\rm f$' '\\n' r'$\\rm$[%]',\n",
    "               r'$\\rm B_{\\rm obs}$' '\\n' r'$\\rm [G]$',\n",
    "               r'$\\rm v_{\\rm conv}$' '\\n' r'$\\rm[m s^{-1}]$',\n",
    "               r'$\\rm v_{\\rm phot}$' '\\n' r'$\\rm[m s^{-1}]$',\n",
    "               r'$\\rm RV_{\\rm model}$' '\\n' r'$\\rm[m s^{-1}]$']\n",
    "\n",
    "# set up figure\n",
    "fig, axs = plt.subplots(len(y_list), 1, sharex='all', figsize=[6, 1.5 * len(y_list)],  gridspec_kw={'hspace': 0})\n",
    "\n",
    "# set up axes labels\n",
    "for i in range(0, len(axs)):\n",
    "    axs[i].set(ylabel=ylabel_list[i])\n",
    "    rng = (y_list[i].max() - y_list[i].min())\n",
    "    step = rng/6\n",
    "    ylim = (y_list[i].min() - step, y_list[i].max() + step)\n",
    "    yticks = np.arange(y_list[i].min(), y_list[i].max()+0.0002, step=step*2)\n",
    "    axs[i].set(ylim=ylim, yticks=yticks)\n",
    "\n",
    "# create x-axis ticks and labels\n",
    "axs[i].set(xlabel=xlabel)\n",
    "rng = (x.max() - x.min())\n",
    "step = rng/6\n",
    "xlim = (x.min() - step, x.max() + step)\n",
    "xticks = np.arange(x.min(), x.max()+.001, step=step*2)\n",
    "axs[i].set(xlim=xlim, xticks=xticks)\n",
    "\n",
    "# plot data\n",
    "for i in range(0, len(axs)):\n",
    "    axs[i].scatter(x, y_list[i], color='thistle', s=30, edgecolors='k', linewidths=0.8,\n",
    "                   label='rms: ' + str(np.round(np.std(y_list[i]), 3)))\n",
    "\n",
    "    leg = axs[i].legend(handlelength=0, handletextpad=0, loc='upper left')\n",
    "    for item in leg.legendHandles:\n",
    "        item.set_visible(False)\n",
    "\n",
    "\n",
    "# align y axis labels\n",
    "fig.align_ylabels(axs)\n",
    "\n",
    "# save figure\n",
    "fig_path = os.path.join(ImgDir.IMG_DIR, 'example_rv_comp.png')\n",
    "fig.savefig(fig_path)\n",
    "\n",
    "\n"
   ]
  }
 ],
 "metadata": {
  "kernelspec": {
   "display_name": "Python 3",
   "language": "python",
   "name": "python3"
  },
  "language_info": {
   "codemirror_mode": {
    "name": "ipython",
    "version": 3
   },
   "file_extension": ".py",
   "mimetype": "text/x-python",
   "name": "python",
   "nbconvert_exporter": "python",
   "pygments_lexer": "ipython3",
   "version": "3.8.8"
  }
 },
 "nbformat": 4,
 "nbformat_minor": 1
}