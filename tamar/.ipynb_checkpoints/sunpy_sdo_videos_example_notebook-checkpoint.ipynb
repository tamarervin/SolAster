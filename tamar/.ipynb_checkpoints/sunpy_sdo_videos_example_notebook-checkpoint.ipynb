{
 "cells": [
  {
   "cell_type": "code",
   "execution_count": 1,
   "metadata": {
    "collapsed": true,
    "pycharm": {
     "name": "#%%\n"
    }
   },
   "outputs": [],
   "source": [
    "%matplotlib inline"
   ]
  },
  {
   "cell_type": "markdown",
   "metadata": {
    "pycharm": {
     "name": "#%% md\n"
    }
   },
   "source": [
    "# Creating a video of Sunpy SDO and HMI data products\n",
    "\n",
    "Shows how to download data from both sources, plot maps, and create movies."
   ]
  },
  {
   "cell_type": "code",
   "execution_count": 2,
   "metadata": {
    "pycharm": {
     "name": "#%%\n"
    }
   },
   "outputs": [],
   "source": [
    "import numpy as np\n",
    "\n",
    "import matplotlib.pyplot as plt\n",
    "import matplotlib.animation as animation\n",
    "\n",
    "import astropy.units as u\n",
    "\n",
    "import sunpy.map\n",
    "from sunpy.net import Fido\n",
    "from sunpy.net import attrs as a"
   ]
  },
  {
   "cell_type": "markdown",
   "metadata": {
    "pycharm": {
     "name": "#%% md\n"
    }
   },
   "source": [
    "To download the required data, we use ``sunpy.net.Fido``, a downloader client,\n",
    "to query the Virtual Solar Observatory to acquire AIA and HMI data."
   ]
  },
  {
   "cell_type": "code",
   "execution_count": 3,
   "metadata": {
    "pycharm": {
     "name": "#%%\n"
    }
   },
   "outputs": [],
   "source": [
    "# data parameters\n",
    "cadence = a.Sample(24*u.hour)  # querying cadence\n",
    "start_date = '2021-01-01T12:00:00'  # start date of query\n",
    "end_date = '2021-01-04T12:00:00'  # end date of query\n",
    "\n",
    "# AIA specific parameters\n",
    "aia_inst = a.Instrument.aia\n",
    "# list of all available wavelengths for reference\n",
    "wavelength_list = [a.Wavelength(171 * u.angstrom), a.Wavelength(193 * u.angstrom), a.Wavelength(211 * u.angstrom),\n",
    "                   a.Wavelength(304 * u.angstrom), a.Wavelength(335 * u.angstrom), a.Wavelength(4500 * u.angstrom)]\n",
    "\n",
    "# HMI specific parameters\n",
    "hmi_inst = a.Instrument.hmi\n",
    "# list of physical observables available\n",
    "physobs_list = [a.Physobs.los_velocity, a.Physobs.los_magnetic_field, a.Physobs.intensity]"
   ]
  },
  {
   "cell_type": "markdown",
   "metadata": {
    "pycharm": {
     "name": "#%% md\n"
    }
   },
   "source": [
    "Now we can look at querying for specific information. We can look for results from\n",
    "multiple instruments, wavelengths, and physical observables at once.\n",
    "\n",
    "It is useful to search for results before download to ensure you don't download excessive\n",
    "amounts of data.\n"
   ]
  },
  {
   "cell_type": "code",
   "execution_count": null,
   "metadata": {
    "pycharm": {
     "name": "#%%\n"
    }
   },
   "outputs": [],
   "source": [
    "result = Fido.search(a.Time(start_date, end_date),\n",
    "                     aia_inst | hmi_inst, wavelength_list[0])\n",
    "\n",
    "# print out the results\n",
    "print(result)"
   ]
  },
  {
   "cell_type": "code",
   "execution_count": 5,
   "metadata": {},
   "outputs": [
    {
     "ename": "NameError",
     "evalue": "name 'result' is not defined",
     "output_type": "error",
     "traceback": [
      "\u001b[0;31m---------------------------------------------------------------------------\u001b[0m",
      "\u001b[0;31mNameError\u001b[0m                                 Traceback (most recent call last)",
      "\u001b[0;32m<ipython-input-5-6459d04d738f>\u001b[0m in \u001b[0;36m<module>\u001b[0;34m\u001b[0m\n\u001b[0;32m----> 1\u001b[0;31m \u001b[0mprint\u001b[0m\u001b[0;34m(\u001b[0m\u001b[0mresult\u001b[0m\u001b[0;34m)\u001b[0m\u001b[0;34m\u001b[0m\u001b[0;34m\u001b[0m\u001b[0m\n\u001b[0m",
      "\u001b[0;31mNameError\u001b[0m: name 'result' is not defined"
     ]
    }
   ],
   "source": [
    "print(result)"
   ]
  },
  {
   "cell_type": "markdown",
   "metadata": {
    "pycharm": {
     "name": "#%% md\n"
    }
   },
   "source": [
    "Next we download the actual data found from our search."
   ]
  },
  {
   "cell_type": "code",
   "execution_count": 9,
   "metadata": {
    "pycharm": {
     "name": "#%%\n"
    }
   },
   "outputs": [
    {
     "data": {
      "application/vnd.jupyter.widget-view+json": {
       "model_id": "fbc116fdbf2841bb811255f4eabdbb9e",
       "version_major": 2,
       "version_minor": 0
      },
      "text/plain": [
       "Files Downloaded:   0%|          | 0/3440 [00:00<?, ?file/s]"
      ]
     },
     "metadata": {},
     "output_type": "display_data"
    },
    {
     "data": {
      "application/vnd.jupyter.widget-view+json": {
       "model_id": "bb432add9a7546a08784c02fc3ac2bf8",
       "version_major": 2,
       "version_minor": 0
      },
      "text/plain": [
       "aia_lev1_4k_171a_1388578811_1388579399.tar: 0.00B [00:00, ?B/s]"
      ]
     },
     "metadata": {},
     "output_type": "display_data"
    },
    {
     "data": {
      "application/vnd.jupyter.widget-view+json": {
       "model_id": "98b890043d214cb8ad176651afcf0b22",
       "version_major": 2,
       "version_minor": 0
      },
      "text/plain": [
       "aia_lev1_4k_171a_1388620211_1388620799.tar: 0.00B [00:00, ?B/s]"
      ]
     },
     "metadata": {},
     "output_type": "display_data"
    },
    {
     "ename": "KeyboardInterrupt",
     "evalue": "",
     "output_type": "error",
     "traceback": [
      "\u001b[0;31m---------------------------------------------------------------------------\u001b[0m",
      "\u001b[0;31mKeyboardInterrupt\u001b[0m                         Traceback (most recent call last)",
      "\u001b[0;32m<ipython-input-9-39821fc9bec9>\u001b[0m in \u001b[0;36m<module>\u001b[0;34m\u001b[0m\n\u001b[0;32m----> 1\u001b[0;31m \u001b[0mfile_download\u001b[0m \u001b[0;34m=\u001b[0m \u001b[0mFido\u001b[0m\u001b[0;34m.\u001b[0m\u001b[0mfetch\u001b[0m\u001b[0;34m(\u001b[0m\u001b[0mresult\u001b[0m\u001b[0;34m)\u001b[0m\u001b[0;34m\u001b[0m\u001b[0;34m\u001b[0m\u001b[0m\n\u001b[0m",
      "\u001b[0;32m~/opt/anaconda3/envs/neid_data/lib/python3.7/site-packages/sunpy/net/fido_factory.py\u001b[0m in \u001b[0;36mfetch\u001b[0;34m(self, path, max_conn, progress, overwrite, downloader, *query_results, **kwargs)\u001b[0m\n\u001b[1;32m    458\u001b[0m                     \u001b[0mreslist\u001b[0m\u001b[0;34m.\u001b[0m\u001b[0mappend\u001b[0m\u001b[0;34m(\u001b[0m\u001b[0mresult\u001b[0m\u001b[0;34m)\u001b[0m\u001b[0;34m\u001b[0m\u001b[0;34m\u001b[0m\u001b[0m\n\u001b[1;32m    459\u001b[0m \u001b[0;34m\u001b[0m\u001b[0m\n\u001b[0;32m--> 460\u001b[0;31m         \u001b[0mresults\u001b[0m \u001b[0;34m=\u001b[0m \u001b[0mdownloader\u001b[0m\u001b[0;34m.\u001b[0m\u001b[0mdownload\u001b[0m\u001b[0;34m(\u001b[0m\u001b[0;34m)\u001b[0m\u001b[0;34m\u001b[0m\u001b[0;34m\u001b[0m\u001b[0m\n\u001b[0m\u001b[1;32m    461\u001b[0m         \u001b[0;31m# Combine the results objects from all the clients into one Results\u001b[0m\u001b[0;34m\u001b[0m\u001b[0;34m\u001b[0m\u001b[0;34m\u001b[0m\u001b[0m\n\u001b[1;32m    462\u001b[0m         \u001b[0;31m# object.\u001b[0m\u001b[0;34m\u001b[0m\u001b[0;34m\u001b[0m\u001b[0;34m\u001b[0m\u001b[0m\n",
      "\u001b[0;32m~/opt/anaconda3/envs/neid_data/lib/python3.7/site-packages/parfive/downloader.py\u001b[0m in \u001b[0;36mdownload\u001b[0;34m(self, timeouts)\u001b[0m\n\u001b[1;32m    305\u001b[0m         \u001b[0;31m`\u001b[0m\u001b[0;31m`\u001b[0m\u001b[0mPARFIVE_SOCK_READ_TIMEOUT\u001b[0m\u001b[0;31m`\u001b[0m\u001b[0;31m`\u001b[0m\u001b[0;34m.\u001b[0m\u001b[0;34m\u001b[0m\u001b[0;34m\u001b[0m\u001b[0m\n\u001b[1;32m    306\u001b[0m         \"\"\"\n\u001b[0;32m--> 307\u001b[0;31m         \u001b[0;32mreturn\u001b[0m \u001b[0mself\u001b[0m\u001b[0;34m.\u001b[0m\u001b[0m_run_in_loop\u001b[0m\u001b[0;34m(\u001b[0m\u001b[0mself\u001b[0m\u001b[0;34m.\u001b[0m\u001b[0mrun_download\u001b[0m\u001b[0;34m(\u001b[0m\u001b[0mtimeouts\u001b[0m\u001b[0;34m)\u001b[0m\u001b[0;34m)\u001b[0m\u001b[0;34m\u001b[0m\u001b[0;34m\u001b[0m\u001b[0m\n\u001b[0m\u001b[1;32m    308\u001b[0m \u001b[0;34m\u001b[0m\u001b[0m\n\u001b[1;32m    309\u001b[0m     \u001b[0;32mdef\u001b[0m \u001b[0mretry\u001b[0m\u001b[0;34m(\u001b[0m\u001b[0mself\u001b[0m\u001b[0;34m,\u001b[0m \u001b[0mresults\u001b[0m\u001b[0;34m)\u001b[0m\u001b[0;34m:\u001b[0m\u001b[0;34m\u001b[0m\u001b[0;34m\u001b[0m\u001b[0m\n",
      "\u001b[0;32m~/opt/anaconda3/envs/neid_data/lib/python3.7/site-packages/parfive/downloader.py\u001b[0m in \u001b[0;36m_run_in_loop\u001b[0;34m(coro)\u001b[0m\n\u001b[1;32m    194\u001b[0m             \u001b[0maio_pool\u001b[0m \u001b[0;34m=\u001b[0m \u001b[0mThreadPoolExecutor\u001b[0m\u001b[0;34m(\u001b[0m\u001b[0;36m1\u001b[0m\u001b[0;34m)\u001b[0m\u001b[0;34m\u001b[0m\u001b[0;34m\u001b[0m\u001b[0m\n\u001b[1;32m    195\u001b[0m             \u001b[0mnew_loop\u001b[0m \u001b[0;34m=\u001b[0m \u001b[0masyncio\u001b[0m\u001b[0;34m.\u001b[0m\u001b[0mnew_event_loop\u001b[0m\u001b[0;34m(\u001b[0m\u001b[0;34m)\u001b[0m\u001b[0;34m\u001b[0m\u001b[0;34m\u001b[0m\u001b[0m\n\u001b[0;32m--> 196\u001b[0;31m             \u001b[0;32mreturn\u001b[0m \u001b[0mrun_in_thread\u001b[0m\u001b[0;34m(\u001b[0m\u001b[0maio_pool\u001b[0m\u001b[0;34m,\u001b[0m \u001b[0mnew_loop\u001b[0m\u001b[0;34m,\u001b[0m \u001b[0mcoro\u001b[0m\u001b[0;34m)\u001b[0m\u001b[0;34m\u001b[0m\u001b[0;34m\u001b[0m\u001b[0m\n\u001b[0m\u001b[1;32m    197\u001b[0m \u001b[0;34m\u001b[0m\u001b[0m\n\u001b[1;32m    198\u001b[0m         \u001b[0;32mreturn\u001b[0m \u001b[0masyncio\u001b[0m\u001b[0;34m.\u001b[0m\u001b[0mrun\u001b[0m\u001b[0;34m(\u001b[0m\u001b[0mcoro\u001b[0m\u001b[0;34m)\u001b[0m\u001b[0;34m\u001b[0m\u001b[0;34m\u001b[0m\u001b[0m\n",
      "\u001b[0;32m~/opt/anaconda3/envs/neid_data/lib/python3.7/site-packages/parfive/utils.py\u001b[0m in \u001b[0;36mrun_in_thread\u001b[0;34m(aio_pool, loop, coro)\u001b[0m\n\u001b[1;32m     58\u001b[0m     \u001b[0mof\u001b[0m\u001b[0;31m \u001b[0m\u001b[0;31m`\u001b[0m\u001b[0;31m`\u001b[0m\u001b[0mloop\u001b[0m\u001b[0;34m.\u001b[0m\u001b[0mrun_until_complete\u001b[0m\u001b[0;31m`\u001b[0m\u001b[0;31m`\u001b[0m\u001b[0;34m.\u001b[0m\u001b[0;34m\u001b[0m\u001b[0;34m\u001b[0m\u001b[0m\n\u001b[1;32m     59\u001b[0m     \"\"\"\n\u001b[0;32m---> 60\u001b[0;31m     \u001b[0;32mreturn\u001b[0m \u001b[0maio_pool\u001b[0m\u001b[0;34m.\u001b[0m\u001b[0msubmit\u001b[0m\u001b[0;34m(\u001b[0m\u001b[0mloop\u001b[0m\u001b[0;34m.\u001b[0m\u001b[0mrun_until_complete\u001b[0m\u001b[0;34m,\u001b[0m \u001b[0mcoro\u001b[0m\u001b[0;34m)\u001b[0m\u001b[0;34m.\u001b[0m\u001b[0mresult\u001b[0m\u001b[0;34m(\u001b[0m\u001b[0;34m)\u001b[0m\u001b[0;34m\u001b[0m\u001b[0;34m\u001b[0m\u001b[0m\n\u001b[0m\u001b[1;32m     61\u001b[0m \u001b[0;34m\u001b[0m\u001b[0m\n\u001b[1;32m     62\u001b[0m \u001b[0;34m\u001b[0m\u001b[0m\n",
      "\u001b[0;32m~/opt/anaconda3/envs/neid_data/lib/python3.7/concurrent/futures/_base.py\u001b[0m in \u001b[0;36mresult\u001b[0;34m(self, timeout)\u001b[0m\n\u001b[1;32m    428\u001b[0m                 \u001b[0;32mreturn\u001b[0m \u001b[0mself\u001b[0m\u001b[0;34m.\u001b[0m\u001b[0m__get_result\u001b[0m\u001b[0;34m(\u001b[0m\u001b[0;34m)\u001b[0m\u001b[0;34m\u001b[0m\u001b[0;34m\u001b[0m\u001b[0m\n\u001b[1;32m    429\u001b[0m \u001b[0;34m\u001b[0m\u001b[0m\n\u001b[0;32m--> 430\u001b[0;31m             \u001b[0mself\u001b[0m\u001b[0;34m.\u001b[0m\u001b[0m_condition\u001b[0m\u001b[0;34m.\u001b[0m\u001b[0mwait\u001b[0m\u001b[0;34m(\u001b[0m\u001b[0mtimeout\u001b[0m\u001b[0;34m)\u001b[0m\u001b[0;34m\u001b[0m\u001b[0;34m\u001b[0m\u001b[0m\n\u001b[0m\u001b[1;32m    431\u001b[0m \u001b[0;34m\u001b[0m\u001b[0m\n\u001b[1;32m    432\u001b[0m             \u001b[0;32mif\u001b[0m \u001b[0mself\u001b[0m\u001b[0;34m.\u001b[0m\u001b[0m_state\u001b[0m \u001b[0;32min\u001b[0m \u001b[0;34m[\u001b[0m\u001b[0mCANCELLED\u001b[0m\u001b[0;34m,\u001b[0m \u001b[0mCANCELLED_AND_NOTIFIED\u001b[0m\u001b[0;34m]\u001b[0m\u001b[0;34m:\u001b[0m\u001b[0;34m\u001b[0m\u001b[0;34m\u001b[0m\u001b[0m\n",
      "\u001b[0;32m~/opt/anaconda3/envs/neid_data/lib/python3.7/threading.py\u001b[0m in \u001b[0;36mwait\u001b[0;34m(self, timeout)\u001b[0m\n\u001b[1;32m    294\u001b[0m         \u001b[0;32mtry\u001b[0m\u001b[0;34m:\u001b[0m    \u001b[0;31m# restore state no matter what (e.g., KeyboardInterrupt)\u001b[0m\u001b[0;34m\u001b[0m\u001b[0;34m\u001b[0m\u001b[0m\n\u001b[1;32m    295\u001b[0m             \u001b[0;32mif\u001b[0m \u001b[0mtimeout\u001b[0m \u001b[0;32mis\u001b[0m \u001b[0;32mNone\u001b[0m\u001b[0;34m:\u001b[0m\u001b[0;34m\u001b[0m\u001b[0;34m\u001b[0m\u001b[0m\n\u001b[0;32m--> 296\u001b[0;31m                 \u001b[0mwaiter\u001b[0m\u001b[0;34m.\u001b[0m\u001b[0macquire\u001b[0m\u001b[0;34m(\u001b[0m\u001b[0;34m)\u001b[0m\u001b[0;34m\u001b[0m\u001b[0;34m\u001b[0m\u001b[0m\n\u001b[0m\u001b[1;32m    297\u001b[0m                 \u001b[0mgotit\u001b[0m \u001b[0;34m=\u001b[0m \u001b[0;32mTrue\u001b[0m\u001b[0;34m\u001b[0m\u001b[0;34m\u001b[0m\u001b[0m\n\u001b[1;32m    298\u001b[0m             \u001b[0;32melse\u001b[0m\u001b[0;34m:\u001b[0m\u001b[0;34m\u001b[0m\u001b[0;34m\u001b[0m\u001b[0m\n",
      "\u001b[0;31mKeyboardInterrupt\u001b[0m: "
     ]
    }
   ],
   "source": [
    "file_download = Fido.fetch(result)"
   ]
  },
  {
   "cell_type": "markdown",
   "metadata": {
    "pycharm": {
     "name": "#%% md\n"
    }
   },
   "source": [
    "After downloading our data, we want to sort it by date.\n",
    "We then build a map sequence of our data."
   ]
  },
  {
   "cell_type": "code",
   "execution_count": null,
   "metadata": {
    "pycharm": {
     "name": "#%%\n"
    }
   },
   "outputs": [],
   "source": [
    "file_download = sorted(file_download)\n",
    "map_seq = sunpy.map.Map(file_download)"
   ]
  },
  {
   "cell_type": "markdown",
   "metadata": {
    "pycharm": {
     "name": "#%% md\n"
    }
   },
   "source": [
    "We then want to split our downloaded files by instrument."
   ]
  },
  {
   "cell_type": "code",
   "execution_count": null,
   "metadata": {
    "pycharm": {
     "name": "#%%\n"
    }
   },
   "outputs": [],
   "source": [
    "aia_171 = np.where(file_download.meta[] == ____)\n",
    "aia_304 = np.where(file_download.meta[] == ____)\n",
    "hmi_vel = np.where(file_download.meta[] == ____)\n",
    "hmi_mag = np.where(file_download.meta[] == ____)"
   ]
  },
  {
   "cell_type": "markdown",
   "metadata": {
    "pycharm": {
     "name": "#%% md\n"
    }
   },
   "source": [
    "We can now make some plots of this data.\n",
    "Don't forget to rotate HMI images such that they are oriented the same as AIA."
   ]
  },
  {
   "cell_type": "code",
   "execution_count": null,
   "metadata": {
    "pycharm": {
     "name": "#%%\n"
    }
   },
   "outputs": [],
   "source": [
    "i = 0\n",
    "fig, axs = plt.subplots(2, 2)\n",
    "fig.suptitle(\"Images %s\" % (str(aia_171[0][i].meta['t_obs'])))\n",
    "axs[0, 0].set_title(\"%s %s\" % (str(aia_171[0][i].meta['inst']), str(aia_171[0][i].meta['wavelnth'])))\n",
    "axs[0, 1].set_title(\"%s %s\" % (str(aia_304[0][i].meta['inst']), str(aia_304[0][i].meta['wavelnth'])))\n",
    "axs[1, 0].set_title(\"%s %s\" % (str(hmi_vel[0][i].meta['inst']), str(hmi_vel[0][i].meta['wavelnth'])))\n",
    "axs[1, 1].set_title(\"%s %s\" % (str(hmi_mag[0][i].meta['inst']), str(hmi_mag[0][i].meta['wavelnth'])))\n",
    "\n",
    "for j in range(0, 2):\n",
    "    for k in range(0, 2):\n",
    "        axs[j, k].set_xticks([])\n",
    "        axs[j, k].set_yticks([])\n",
    "\n",
    "aia_171[0][i].plot(axes=axs[0, 0], annotate=False)\n",
    "aia_304[1][i].plot(axes=axs[0, 1], annotate=False)\n",
    "\n",
    "# make sure you rotate HMI images\n",
    "hmi_vel_rot = hmi_vel.rotate(order=3)\n",
    "hmi_vel_rot[2][i].plot(axes=axs[1, 0], annotate=False)\n",
    "hmi_mag_rot = hmi_vel.rotate(order=3)\n",
    "hmi_mag_rot[3][i].plot(axes=axs[1, 1], annotate=False)\n",
    "\n",
    "plt.show()\n",
    "\n"
   ]
  },
  {
   "cell_type": "markdown",
   "metadata": {
    "pycharm": {
     "name": "#%% md\n"
    }
   },
   "source": [
    "Now we make a movie!"
   ]
  },
  {
   "cell_type": "code",
   "execution_count": null,
   "metadata": {
    "pycharm": {
     "name": "#%%\n"
    }
   },
   "outputs": [],
   "source": [
    "# set some basic parameters regarding movie creation\n",
    "fps = 2  # frames per second\n",
    "movie_path = 'aia_hmi_movie.mp4'  # path to store movie\n",
    "fig, axs = plt.subplots(2, 2)\n",
    "\n",
    "def animate(l):\n",
    "    fig.suptitle(\"Images %s\" % (str(aia_171[0][i].meta['t_obs'])))\n",
    "    axs[0, 0].set_title(\"%s %s\" % (str(aia_171[0][i].meta['inst']), str(aia_171[0][i].meta['wavelnth'])))\n",
    "    axs[0, 1].set_title(\"%s %s\" % (str(aia_304[0][i].meta['inst']), str(aia_304[0][i].meta['wavelnth'])))\n",
    "    axs[1, 0].set_title(\"%s %s\" % (str(hmi_vel[0][i].meta['inst']), str(hmi_vel[0][i].meta['wavelnth'])))\n",
    "    axs[1, 1].set_title(\"%s %s\" % (str(hmi_mag[0][i].meta['inst']), str(hmi_mag[0][i].meta['wavelnth'])))\n",
    "\n",
    "    for j in range(0, 2):\n",
    "        for k in range(0, 2):\n",
    "            axs[j, k].set_xticks([])\n",
    "            axs[j, k].set_yticks([])\n",
    "\n",
    "    plot_obj0 = aia_171[0][i].plot(axes=axs[0, 0], annotate=False)\n",
    "    plot_obj1 = aia_304[1][i].plot(axes=axs[0, 1], annotate=False)\n",
    "\n",
    "    # make sure you rotate HMI images\n",
    "    hmi_vel_rot = hmi_vel.rotate(order=3)\n",
    "    plot_obj2 = hmi_vel_rot[2][i].plot(axes=axs[1, 0], annotate=False)\n",
    "    hmi_mag_rot = hmi_vel.rotate(order=3)\n",
    "    plot_obj3 = hmi_mag_rot[3][i].plot(axes=axs[1, 1], annotate=False)\n",
    "\n",
    "    # plot_obj0.set_data(aia[0][l].data)\n",
    "    # plot_obj1.set_data(aia[1][l].data)\n",
    "    # plot_obj2.set_data(aia[2][l].data)\n",
    "    # plot_obj3.set_data(aia[3][l].data)\n",
    "\n",
    "    return plot_obj0, plot_obj1, plot_obj2, plot_obj3\n",
    "\n",
    "\n",
    "anim = animation.FuncAnimation(fig, animate, init_func=None, frames=len(aia_171[0]), interval=100, blit=True)\n",
    "Writer = animation.writers['ffmpeg']\n",
    "writer = Writer(fps, metadata=dict(artist='Me'), bitrate=1800)\n",
    "\n",
    "anim.save(movie_path, writer=writer)\n",
    "plt.close(fig)\n"
   ]
  }
 ],
 "metadata": {
  "kernelspec": {
   "display_name": "Python 3",
   "language": "python",
   "name": "python3"
  },
  "language_info": {
   "codemirror_mode": {
    "name": "ipython",
    "version": 3
   },
   "file_extension": ".py",
   "mimetype": "text/x-python",
   "name": "python",
   "nbconvert_exporter": "python",
   "pygments_lexer": "ipython3",
   "version": "3.7.10"
  }
 },
 "nbformat": 4,
 "nbformat_minor": 1
}
