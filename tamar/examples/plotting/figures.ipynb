{
 "cells": [
  {
   "cell_type": "markdown",
   "source": [
    "# Creation of pretty figures for report"
   ],
   "metadata": {
    "collapsed": false,
    "pycharm": {
     "name": "#%% md\n"
    }
   }
  },
  {
   "cell_type": "code",
   "execution_count": 4,
   "metadata": {
    "pycharm": {
     "name": "#%%\n"
    }
   },
   "outputs": [],
   "source": [
    "import os\n",
    "import numpy as np\n",
    "import pandas as pd\n",
    "from scipy import stats\n",
    "import matplotlib.pyplot as plt\n",
    "from scipy import optimize\n",
    "from sklearn.linear_model import LinearRegression\n",
    "import tamar.tools.utilities as utils\n",
    "import tamar.tools.plotting_funcs as plot\n",
    "from tamar.tools.settings import CsvDir, ImgDir, PlotDir, Config\n",
    "from scipy.signal import lombscargle\n",
    "import matplotlib.colors as colors\n",
    "import matplotlib.cm as cm\n",
    "\n",
    "import astropy.units as u\n",
    "\n",
    "import sunpy.map\n",
    "from sunpy.net import Fido\n",
    "from sunpy.net import attrs as a\n",
    "from sunpy.coordinates import frames\n",
    "\n",
    "from astropy.io import fits\n",
    "import NEIDcode\n",
    "import glob\n",
    "from tqdm import tqdm\n"
   ]
  },
  {
   "cell_type": "code",
   "execution_count": null,
   "outputs": [],
   "source": [
    "plot_style = os.path.join(PlotDir.MPL, 'figure_series.mplstyle')\n",
    "plt.rcParams['mathtext.fontset'] = 'custom'\n",
    "plt.rcParams['mathtext.cal'] = 'Helvetica Neue LT Pro'\n",
    "# plt.rcParams['axes.unicode_minus'] = True\n",
    "plt.style.use(plot_style)"
   ],
   "metadata": {
    "collapsed": false,
    "pycharm": {
     "name": "#%%\n"
    }
   }
  },
  {
   "cell_type": "markdown",
   "metadata": {
    "pycharm": {
     "name": "#%% md\n"
    }
   },
   "source": [
    "Read in velocities from csv."
   ]
  },
  {
   "cell_type": "code",
   "execution_count": 6,
   "metadata": {
    "pycharm": {
     "name": "#%%\n"
    }
   },
   "outputs": [],
   "source": [
    "# csv file with rv components\n",
    "csv_file = os.path.join(CsvDir.NEID_CALC, 'rvs_from_fits.csv')\n",
    "\n",
    "# create pandas dataframe\n",
    "component_df = pd.read_csv(csv_file)\n",
    "\n",
    "# get dates list\n",
    "date_jd = component_df.date_jd.values\n",
    "inds = np.argsort(date_jd)\n",
    "\n",
    "rv_sun = component_df.rv_sun.values[inds]\n",
    "rv_error = component_df.rv_error.values[inds]\n",
    "\n",
    "non_nan = np.logical_not(np.isnan(rv_sun))\n",
    "\n",
    "rv_med = np.nanmedian(np.abs(rv_sun))\n",
    "\n",
    "good_sun = np.logical_and(np.abs(rv_sun) > rv_med - 2, np.abs(rv_sun) < rv_med + 2)\n",
    "good_error = np.logical_and(np.abs(rv_error) < .4, np.abs(rv_error) < .4)\n",
    "good = np.logical_and(good_sun, good_error)\n",
    "\n",
    "good_rvs = np.logical_and(good, non_nan)\n",
    "\n",
    "# get velocities lists\n",
    "v_phot = component_df.v_phot.values[inds][good_rvs]\n",
    "v_conv = component_df.v_conv.values[inds][good_rvs]\n",
    "rv_model = component_df.rv_model.values[inds][good_rvs]\n",
    "rv_sun = rv_sun[good_rvs]\n",
    "rv_error = rv_error[good_rvs]\n",
    "v_quiet = component_df.v_quiet.values[inds][good_rvs]\n",
    "v_disc = component_df.v_disc.values[inds][good_rvs]\n",
    "vconv_large = component_df.vconv_large.values[inds][good_rvs]\n",
    "vconv_small = component_df.vconv_small.values[inds][good_rvs]\n",
    "vphot_bright = component_df.vphot_bright.values[inds][good_rvs]\n",
    "vphot_spot = component_df.vphot_spot.values[inds][good_rvs]\n",
    "\n",
    "# get magnetic observables\n",
    "f = component_df.f.values[inds][good_rvs]\n",
    "Bobs = component_df.Bobs.values[inds][good_rvs]\n",
    "f_bright = component_df.f_bright.values[inds][good_rvs]\n",
    "f_spot = component_df.f_spot.values[inds][good_rvs]\n",
    "f_plage = component_df.f_plage.values[inds][good_rvs]\n",
    "f_network = component_df.f_network.values[inds][good_rvs]\n",
    "ar_flux = component_df.ar_flux.values[inds][good_rvs]\n",
    "quiet_flux = component_df.quiet_flux.values[inds][good_rvs]\n",
    "\n",
    "# dates\n",
    "date_jd = date_jd[inds][good_rvs]\n",
    "dates = component_df.date_obs.values[inds][good_rvs]\n",
    "plot_dates = date_jd - date_jd[0]"
   ]
  },
  {
   "cell_type": "markdown",
   "metadata": {
    "pycharm": {
     "name": "#%% md\n"
    }
   },
   "source": [
    "Compare convective velocities."
   ]
  },
  {
   "cell_type": "code",
   "execution_count": null,
   "metadata": {
    "pycharm": {
     "name": "#%%\n"
    }
   },
   "outputs": [],
   "source": [
    "# periodogram of convective velocity components\n",
    "jd = plot_dates\n",
    "\n",
    "# rough time sampling\n",
    "freqs = np.linspace(1, 1/jd[-1], 2500)\n",
    "\n",
    "# conv\n",
    "drv_conv = (v_conv - np.mean(v_conv))\n",
    "ls_conv = lombscargle(jd, drv_conv, freqs)\n",
    "\n",
    "# conv\n",
    "drv_large = (vconv_large - np.mean(vconv_large))\n",
    "ls_large = lombscargle(jd, drv_large, freqs)\n",
    "\n",
    "# conv\n",
    "drv_small = (vconv_small - np.mean(vconv_small))\n",
    "ls_small = lombscargle(jd, drv_small, freqs)\n",
    "\n",
    "# plot\n",
    "plot_style = os.path.join(PlotDir.MPL, 'figure_series.mplstyle')\n",
    "plt.rcParams['mathtext.fontset'] = 'custom'\n",
    "plt.rcParams['mathtext.cal'] = 'Helvetica Neue LT Pro'\n",
    "days = np.linspace(jd[0], jd[-1], 2500)\n",
    "fig = plt.figure(figsize=[6, 3])\n",
    "\n",
    "plt.plot(days, ls_small, 'red', label=r'$\\rm v_{\\rm conv, \\, small}$')\n",
    "plt.plot(days, ls_large, 'lightblue', label=r'$\\rm v_{\\rm conv, \\, large}$')\n",
    "# plt.vlines([days[287], days[385]], -1, 5, colors='purple', linestyles='dashdot')\n",
    "plt.xlim(10e-1, 10e1)\n",
    "plt.ylim(-0.1,2.5)\n",
    "plt.yticks([0, 1, 2])\n",
    "plt.xscale('log')\n",
    "plt.xlabel('Period [days]')\n",
    "plt.ylabel('Power')\n",
    "plt.xlim(10e-1, 10e1)\n",
    "\n",
    "plt.legend()\n"
   ]
  },
  {
   "cell_type": "code",
   "execution_count": null,
   "metadata": {
    "pycharm": {
     "name": "#%%\n"
    }
   },
   "outputs": [],
   "source": [
    "x = plot_dates\n",
    "y_list = [v_conv, vconv_large, vconv_small, v_phot, rv_model - np.median(rv_model)]\n",
    "xlabel = 'JD: ' + str(int(date_jd[0]))\n",
    "ylabel_list = [r'$\\rm v_{\\rm conv}\\/\\rm [m/s]$', r'$\\rm v_{\\rm conv, \\/ large}\\/\\rm [m/s]$',\n",
    "               r'$\\rm v_{\\rm conv, \\/ small}\\/\\rm [m/s]$', r'$\\rm v_{\\rm phot}\\/\\rm [m/s]$', r'$\\rm rv_{\\rm model}\\/\\rm [m/s]$']\n",
    "\n",
    "# set up figure\n",
    "fig, axs = plt.subplots(len(y_list), 1, sharex='all', figsize=[12, 2 * len(y_list)],  gridspec_kw={'hspace': 0})\n",
    "\n",
    "# set up axes labels\n",
    "for i in range(0, len(axs)):\n",
    "    axs[i].set(ylabel=ylabel_list[i])\n",
    "axs[4].set(xlabel=xlabel)\n",
    "axs[0].set(ylim=(- 0.4, 8.4), yticks=np.arange(0, 8.2, step=2))\n",
    "axs[1].set(ylim=(- 4.4, 4.4), yticks=np.arange(-4, 4.2, step=2))\n",
    "axs[2].set(ylim=(- 4.4, 4.4), yticks=np.arange(-4, 4.2, step=2))\n",
    "axs[3].set(ylim=(- 4.4, 4.4), yticks=np.arange(-4, 4.2, step=2))\n",
    "axs[4].set(ylim=(- 4.4, 4.4), xticks=np.arange(0, 210, 25), yticks=np.arange(-4, 4.2, step=2))\n",
    "\n",
    "# plot data\n",
    "color_list = ['lightcoral', 'lightblue', 'plum', 'pink', 'cornflowerblue']\n",
    "for i in range(0, len(axs)):\n",
    "    axs[i].scatter(x, y_list[i], color=color_list[i], edgecolors='k', linewidths=1.0)\n",
    "\n",
    "# set axes tick marks\n",
    "\n",
    "# axs[len(axs) - 1].tick_params(labelbottom=True)\n",
    "\n",
    "# align y axis labels\n",
    "fig.align_ylabels(axs)"
   ]
  },
  {
   "cell_type": "markdown",
   "metadata": {
    "pycharm": {
     "name": "#%% md\n"
    }
   },
   "source": [
    "Compare different photometric velocities."
   ]
  },
  {
   "cell_type": "code",
   "execution_count": null,
   "metadata": {
    "pycharm": {
     "name": "#%%\n"
    }
   },
   "outputs": [],
   "source": [
    "non_zero = np.where(vphot_spot != 0)\n",
    "x = vphot_bright[non_zero]\n",
    "y = vphot_spot[non_zero]\n",
    "xlabel = r'$\\rm v_{\\rm phot, \\, bright}\\/\\rm [m/s]$'\n",
    "ylabel = r'$\\rm v_{\\rm phot, \\, spot}\\/\\rm [m/s]$'\n",
    "\n",
    "# plot style\n",
    "plot_style = os.path.join(PlotDir.MPL, 'correlation.mplstyle')\n",
    "plt.style.use(plot_style)\n",
    "\n",
    "# calculate correlation coefficient\n",
    "fig = plt.figure()\n",
    "plt.rcParams['figure.figsize'] = [12, 6]\n",
    "plt.rcParams['axes.facecolor'] = 'white'\n",
    "ax = fig.add_subplot()\n",
    "fig.subplots_adjust(top=0.85)\n",
    "\n",
    "correlation = stats.spearmanr(x, y)\n",
    "\n",
    "# label correlation coefficients\n",
    "# ax.text(0.1, 0.95, str(np.around(correlation[0], 2)), horizontalalignment='left',\n",
    "#         verticalalignment='top', transform=ax.transAxes, weight='normal')\n",
    "# plt.legend([str(np.around(correlation[0], 2))])\n",
    "# plot data\n",
    "plt.scatter(x, y, color='deepskyblue', edgecolors='k', linewidths=1.0, label='Correlation: ' + str(np.around(correlation[0], 2)))\n",
    "plt.legend(loc='upper left')\n",
    "# title and axes\n",
    "# fig.suptitle(title)\n",
    "\n",
    "ax.set_xlabel(xlabel)\n",
    "ax.set_ylabel(ylabel)"
   ]
  },
  {
   "cell_type": "markdown",
   "metadata": {
    "pycharm": {
     "name": "#%% md\n"
    }
   },
   "source": [
    "Plot model against ground based velocities."
   ]
  },
  {
   "cell_type": "code",
   "execution_count": null,
   "metadata": {
    "pycharm": {
     "name": "#%%\n"
    }
   },
   "outputs": [],
   "source": [
    "x = plot_dates\n",
    "# y_list = [Bobs, v_conv, v_phot, rv_sun - np.median(rv_sun), rv_model - np.median(rv_model), rv_sun-rv_model]\n",
    "# xlabel = 'Days'\n",
    "# ylabel_list = [r'$\\rm B_{\\rm obs} [G]$', r'$\\rm v_{\\rm conv}\\/\\rm [m/s]$', r'$\\rm v_{\\rm phot}\\/\\rm [m/s]$',\n",
    "#                r'$\\rm rv_{\\rm sun}\\/\\rm [m/s]$', r'$\\rm rv_{\\rm model}\\/\\rm [m/s]$', r'$\\rm rv_{\\rm residual}\\/\\rm [m/s]$']\n",
    "\n",
    "\n",
    "# plot_style = os.path.join(PlotDir.MPL, 'figure_series.mplstyle')\n",
    "# plt.rcParams['mathtext.fontset'] = 'custom'\n",
    "# plt.rcParams['mathtext.cal'] = 'Helvetica Neue LT Pro'\n",
    "# # plt.rcParams['axes.unicode_minus'] = True\n",
    "# plt.style.use(plot_style)\n",
    "\n",
    "# # set up figure\n",
    "# fig, axs = plt.subplots(len(y_list), 1, sharex='all', figsize=[8, 1 * len(y_list)],  gridspec_kw={'hspace': 0})\n",
    "\n",
    "# # set up axes labels\n",
    "# for i in range(0, len(axs)):\n",
    "#     axs[i].set(ylabel=ylabel_list[i])\n",
    "# axs[i].set(xlabel=xlabel)\n",
    "# axs[0].set(ylim=(5.0, 13.0), yticks=np.arange(6, 12.2, step=2))\n",
    "# axs[1].set(ylim=(- 1.0, 9.0), yticks=np.arange(0, 8.2, step=2))\n",
    "# axs[2].set(ylim=(- 5.0, 5.0), yticks=np.arange(-4, 4.2, step=2))\n",
    "# axs[3].set(ylim=(- 5.0, 5.0), yticks=np.arange(-4, 4.2, step=2))\n",
    "# axs[4].set(ylim=(- 5.0, 5.0), yticks=np.arange(-4, 4.2, step=2))\n",
    "# axs[5].set(ylim=(- 5.0, 5.0), yticks=np.arange(-4, 4.2, step=2))\n",
    "\n",
    "# # plot data\n",
    "# color_list = ['lightcoral', 'lightblue', 'plum', 'pink', 'cornflowerblue', 'orchid']\n",
    "# for i in range(0, len(axs)):\n",
    "#     axs[i].scatter(x, y_list[i], color=color_list[i], edgecolors='k', linewidths=1.0, label='rms: ' + str(np.round(np.std(y_list[i]), 3)))\n",
    "#     leg = axs[i].legend(handlelength=0, handletextpad=0, loc='upper left')\n",
    "#     for item in leg.legendHandles:\n",
    "#         item.set_visible(False)\n",
    "# # set axes tick marks\n",
    "\n",
    "# # axs[len(axs) - 1].tick_params(labelbottom=True)\n",
    "\n",
    "# # align y axis labels\n",
    "# fig.align_ylabels(axs)"
   ]
  },
  {
   "cell_type": "code",
   "execution_count": null,
   "metadata": {
    "pycharm": {
     "name": "#%%\n"
    }
   },
   "outputs": [],
   "source": [
    "x = plot_dates\n",
    "y_list = [Bobs, v_conv, v_phot, rv_sun - np.median(rv_sun), rv_model - np.median(rv_model), rv_sun-rv_model]\n",
    "xlabel = 'Days since ' + str(int(date_jd[0])) + ' JD'\n",
    "ylabel_list = [r'$\\rm B_{\\rm obs}$', r'$\\rm v_{\\rm conv}$', r'$\\rm v_{\\rm phot}$',\n",
    "               r'$\\rm RV_{\\rm sun & model}$', r'$\\rm RV_{\\rm residual}$']\n",
    "\n",
    "\n",
    "plot_style = os.path.join(PlotDir.MPL, 'figure_series.mplstyle')\n",
    "plt.rcParams['mathtext.fontset'] = 'custom'\n",
    "plt.rcParams['mathtext.cal'] = 'Helvetica Neue LT Pro'\n",
    "# plt.rcParams['axes.unicode_minus'] = True\n",
    "plt.style.use(plot_style)\n",
    "\n",
    "# set up figure\n",
    "fig, axs = plt.subplots(len(y_list) - 1, 1, sharex='all', figsize=[6, 1.25 * len(y_list)],  gridspec_kw={'hspace': 0})\n",
    "\n",
    "# set up axes labels\n",
    "for i in range(0, len(axs)):\n",
    "    axs[i].set(ylabel=ylabel_list[i])\n",
    "axs[i].set(xlabel=xlabel)\n",
    "axs[0].set(ylim=(6.0, 12.0), yticks=np.arange(7, 11.2, step=2))\n",
    "axs[1].set(ylim=(1, 7.0), yticks=np.arange(2, 6.2, step=2))\n",
    "axs[2].set(ylim=(-1.5, 1.5), yticks=np.arange(-1, 1.2, step=1))\n",
    "axs[3].set(ylim=(- 5.0, 5.0), yticks=np.arange(-3, 3.2, step=3))\n",
    "axs[4].set(ylim=(- 5.0, 5.0), yticks=np.arange(-3, 3.2, step=3))\n",
    "axs[4].set(xlim=(-12.5, 212.5), xticks=np.arange(0, 201, step=25))\n",
    "\n",
    "# plot data\n",
    "# color_list = ['lightcoral', 'lightblue', 'plum', 'pink', 'cornflowerblue', 'orchid']\n",
    "color_list = ['thistle', 'thistle', 'thistle', 'thistle', 'thistle', 'thistle', 'thistle', 'lightcoral', 'thistle']\n",
    "for i in range(0, len(axs) - 2):\n",
    "    axs[i].scatter(x, y_list[i], color=color_list[i], s=20, edgecolors='k', linewidths=0.5, label='rms: ' + str(np.round(np.std(y_list[i]), 3)))\n",
    "#     leg = axs[i].legend(handlelength=0, handletextpad=0, loc='upper left')\n",
    "#     for item in leg.legendHandles:\n",
    "#         item.set_visible(False)\n",
    "\n",
    "axs[-2].scatter(x, y_list[-3], color='lightcoral', s=20, edgecolors='k', linewidths=0.5, label='rms: ' + str(np.round(np.std(y_list[-3]), 3)))\n",
    "axs[-2].scatter(x, y_list[-2], color='thistle', s=20, edgecolors='k', linewidths=0.5, label='rms: ' + str(np.round(np.std(y_list[-2]), 3)))\n",
    "\n",
    "# leg = axs[-2].legend(handlelength=0, handletextpad=0, loc='upper left')\n",
    "# for item in leg.legendHandles:\n",
    "#     item.set_visible(False)\n",
    "\n",
    "axs[-1].scatter(x, y_list[-1], color=color_list[-1], s=20, edgecolors='k', linewidths=0.5, label='rms: ' + str(np.round(np.std(y_list[-1]), 3)))\n",
    "# leg = axs[-1].legend(handlelength=0, handletextpad=0, loc='upper left')\n",
    "# for item in leg.legendHandles:\n",
    "#     item.set_visible(False)\n",
    "# set axes tick marks\n",
    "\n",
    "# axs[len(axs) - 1].tick_params(labelbottom=True)\n",
    "\n",
    "# align y axis labels\n",
    "fig.align_ylabels(axs)"
   ]
  },
  {
   "cell_type": "code",
   "execution_count": null,
   "metadata": {
    "pycharm": {
     "name": "#%%\n"
    }
   },
   "outputs": [],
   "source": [
    "x = plot_dates\n",
    "y_list = [v_conv, v_phot, rv_sun - np.median(rv_sun), rv_model - np.median(rv_model)]\n",
    "xlabel = 'Days since ' + str(int(date_jd[0])) + ' JD'\n",
    "ylabel_list = [r'$\\rm v_{\\rm conv}$', r'$\\rm v_{\\rm phot}$', r'$\\rm RV_{\\rm sun & model}$']\n",
    "\n",
    "\n",
    "plot_style = os.path.join(PlotDir.MPL, 'figure_series.mplstyle')\n",
    "plt.rcParams['mathtext.fontset'] = 'custom'\n",
    "plt.rcParams['mathtext.cal'] = 'Helvetica Neue LT Pro'\n",
    "plt.style.use(plot_style)\n",
    "\n",
    "# set up figure\n",
    "fig, axs = plt.subplots(len(y_list) - 1, 1, sharex='all', figsize=[6, 1.25 * len(y_list)],  gridspec_kw={'hspace': 0})\n",
    "\n",
    "# set up axes labels\n",
    "for i in range(0, len(axs)):\n",
    "    axs[i].set(ylabel=ylabel_list[i])\n",
    "axs[i].set(xlabel=xlabel)\n",
    "axs[0].set(ylim=(1, 7.0), yticks=np.arange(2, 6.2, step=2))\n",
    "axs[1].set(ylim=(-1.5, 1.5), yticks=np.arange(-1, 1.2, step=1))\n",
    "axs[2].set(ylim=(- 5.0, 5.0), yticks=np.arange(-3, 3.2, step=3))\n",
    "axs[2].set(xlim=(-12.5, 212.5), xticks=np.arange(0, 201, step=25))\n",
    "\n",
    "# plot data\n",
    "for i in range(0, len(axs) - 1):\n",
    "    axs[i].scatter(x, y_list[i], color='thistle', s=20, edgecolors='k', linewidths=0.5, label='rms: ' + str(np.round(np.std(y_list[i]), 3)))\n",
    "\n",
    "axs[-1].scatter(x, y_list[-2], color='lightcoral', s=20, edgecolors='k', linewidths=0.5, label='rms: ' + str(np.round(np.std(y_list[-3]), 3)))\n",
    "axs[-1].scatter(x, y_list[-1], color='thistle', s=20, edgecolors='k', linewidths=0.5, label='rms: ' + str(np.round(np.std(y_list[-2]), 3)))\n",
    "\n",
    "\n",
    "# align y axis labels\n",
    "fig.align_ylabels(axs)"
   ]
  },
  {
   "cell_type": "code",
   "execution_count": null,
   "metadata": {
    "pycharm": {
     "name": "#%%\n"
    }
   },
   "outputs": [],
   "source": [
    "x = plot_dates\n",
    "y_list = [v_conv, v_phot]\n",
    "xlabel = 'Days since ' + str(int(date_jd[0])) + ' JD'\n",
    "ylabel_list = [r'$\\rm v_{\\rm conv}$', r'$\\rm v_{\\rm phot}$']\n",
    "\n",
    "\n",
    "plot_style = os.path.join(PlotDir.MPL, 'figure_series.mplstyle')\n",
    "plt.rcParams['mathtext.fontset'] = 'custom'\n",
    "plt.rcParams['mathtext.cal'] = 'Helvetica Neue LT Pro'\n",
    "plt.style.use(plot_style)\n",
    "\n",
    "# set up figure\n",
    "fig, axs = plt.subplots(2, 1, sharex='all', figsize=[6, 1.25 * len(y_list)],  gridspec_kw={'hspace': 0})\n",
    "\n",
    "# set up axes labels\n",
    "for i in range(0, len(axs)):\n",
    "    axs[i].set(ylabel=ylabel_list[i])\n",
    "axs[i].set(xlabel=xlabel)\n",
    "axs[0].set(ylim=(1, 7.0), yticks=np.arange(2, 6.2, step=2))\n",
    "axs[1].set(ylim=(-1.5, 1.5), yticks=np.arange(-1, 1.2, step=1))\n",
    "\n",
    "# plot data\n",
    "for i in range(0, len(axs)):\n",
    "    axs[i].scatter(x, y_list[i], color='red', edgecolors='k', linewidth = 0.4, s=20)\n",
    "\n",
    "\n",
    "# align y axis labels\n",
    "fig.align_ylabels(axs)"
   ]
  },
  {
   "cell_type": "code",
   "execution_count": null,
   "metadata": {
    "pycharm": {
     "name": "#%%\n"
    }
   },
   "outputs": [],
   "source": [
    "x = plot_dates\n",
    "y_list = [rv_model - np.median(rv_model), ar_flux, f_plage, f_network, f_spot]\n",
    "xlabel = 'Days since ' + str(int(date_jd[0])) + ' JD'\n",
    "ylabel_list = [r'$\\rm RV_{\\rm model}$', r'$\\rm B_{\\rm obs, active}$',\n",
    "               r'$\\rm f_{\\rm plage}$', r'$\\rm f_{\\rm network}$', r'$\\rm f_{\\rm spot}$']\n",
    "\n",
    "\n",
    "plot_style = os.path.join(PlotDir.MPL, 'figure_series.mplstyle')\n",
    "plt.rcParams['mathtext.fontset'] = 'custom'\n",
    "plt.rcParams['mathtext.cal'] = 'Helvetica Neue LT Pro'\n",
    "# plt.rcParams['axes.unicode_minus'] = True\n",
    "plt.style.use(plot_style)\n",
    "\n",
    "# set up figure\n",
    "fig, axs = plt.subplots(len(y_list), 1, sharex='all', figsize=[6, 1.5 * len(y_list)],  gridspec_kw={'hspace': 0})\n",
    "\n",
    "# set up axes labels\n",
    "for i in range(0, len(axs)):\n",
    "    axs[i].set(ylabel=ylabel_list[i])\n",
    "axs[i].set(xlabel=xlabel)\n",
    "axs[0].set(ylim=(- 5.0, 5.0), yticks=np.arange(-3, 3.2, step=3))\n",
    "axs[1].set(ylim=(55, 115), yticks=np.arange(65, 105.2, step=20))\n",
    "axs[2].set(ylim=(- 0.25, 1.25), yticks=np.arange(0, 1.2, step=0.5))\n",
    "axs[3].set(ylim=(1.375, 2.125), yticks=np.arange(1.5, 2.125, step=0.25))\n",
    "axs[4].set(ylim=(- .01, .05), yticks=np.arange(.0, .052, step=.02))\n",
    "axs[4].set(xlim=(-10, 210), yticks=np.arange(0, 200, step=25))\n",
    "\n",
    "# plot data\n",
    "for i in range(0, len(axs)):\n",
    "    axs[i].scatter(x, y_list[i], color='thistle', s=20, edgecolors='k', linewidths=0.5)\n",
    "\n",
    "\n",
    "# align y axis labels\n",
    "fig.align_ylabels(axs)"
   ]
  },
  {
   "cell_type": "code",
   "execution_count": null,
   "metadata": {
    "pycharm": {
     "name": "#%%\n"
    }
   },
   "outputs": [],
   "source": [
    "plot.correlation_plot(rv_sun, rv_model, 'test', 'sun', 'model')\n",
    "print(f_bright.min(), f_bright.max())\n"
   ]
  },
  {
   "cell_type": "markdown",
   "metadata": {
    "pycharm": {
     "name": "#%% md\n"
    }
   },
   "source": [
    "Power spectral density"
   ]
  },
  {
   "cell_type": "code",
   "execution_count": null,
   "metadata": {
    "pycharm": {
     "name": "#%%\n"
    }
   },
   "outputs": [],
   "source": [
    "x = rv_model\n",
    "pxx, freqs, line = plt.psd(x, len(x), color='plum', return_line=True);"
   ]
  },
  {
   "cell_type": "markdown",
   "metadata": {
    "pycharm": {
     "name": "#%% md\n"
    }
   },
   "source": [
    "Correlation with $RV_{model}$ and $v_{conv}$."
   ]
  },
  {
   "cell_type": "code",
   "execution_count": null,
   "metadata": {
    "pycharm": {
     "name": "#%%\n"
    }
   },
   "outputs": [],
   "source": [
    "x_list = [v_conv, rv_sun]\n",
    "y_list = [Bobs, rv_model]\n",
    "xlabel_list = [r'$\\rm v_{\\rm conv}\\/\\rm [m/s]$', r'$\\rm RV_{\\rm sun}\\/\\rm [m/s]$']\n",
    "ylabel_list = [r'$\\rm B_{\\rm obs}\\/\\rm [G]$', r'$\\rm RV_{\\rm model}\\/\\rm [m/s]$']\n",
    "\n",
    "# plot style\n",
    "plot_style = os.path.join(PlotDir.MPL, 'correlation.mplstyle')\n",
    "plt.style.use(plot_style)\n",
    "\n",
    "# calculate correlation coefficient\n",
    "corr_one = stats.spearmanr(x_list[0], y_list[0])\n",
    "corr_two = stats.spearmanr(x_list[1], y_list[0])\n",
    "corr_three = stats.spearmanr(x_list[0], y_list[1])\n",
    "corr_four = stats.spearmanr(x_list[1], y_list[1])\n",
    "\n",
    "# setup the plot\n",
    "fig, axs = plt.subplots(2, 2, sharey='row', sharex='col', figsize=[12, 6], gridspec_kw={'hspace': 0.1, 'wspace': 0.1})\n",
    "axs[0, 0].set(ylabel=ylabel_list[0])\n",
    "# axs[0, 1].set(xlabel=xlabel_list[1])\n",
    "axs[1, 0].set(xlabel=xlabel_list[0], ylabel=ylabel_list[1])\n",
    "axs[1, 1].set(xlabel=xlabel_list[1])\n",
    "\n",
    "# plot data\n",
    "color = 'lavender'\n",
    "axs[0, 0].scatter(x_list[0], y_list[0], color=color, edgecolors='k', linewidths=1.0, label='Correlation: ' + str(np.around(corr_one[0], 2)))\n",
    "axs[0, 1].scatter(x_list[1], y_list[0], color=color, edgecolors='k', linewidths=1.0, label='Correlation: ' + str(np.around(corr_two[0], 2)))\n",
    "axs[1, 0].scatter(x_list[0], y_list[1], color=color, edgecolors='k', linewidths=1.0, label='Correlation: ' + str(np.around(corr_three[0], 2)))\n",
    "axs[1, 1].scatter(x_list[1], y_list[1], color=color, edgecolors='k', linewidths=1.0, label='Correlation: ' + str(np.around(corr_four[0], 2)))\n",
    "\n",
    "for i in range(0, 2):\n",
    "    for j in range(0, 2):\n",
    "        leg = axs[i, j].legend(handlelength=0, handletextpad=0)\n",
    "        for item in leg.legendHandles:\n",
    "            item.set_visible(False)"
   ]
  },
  {
   "cell_type": "markdown",
   "metadata": {
    "pycharm": {
     "name": "#%% md\n"
    }
   },
   "source": [
    "Make periodogram."
   ]
  },
  {
   "cell_type": "code",
   "execution_count": null,
   "metadata": {
    "pycharm": {
     "name": "#%%\n"
    }
   },
   "outputs": [],
   "source": [
    "import pandas as pd\n",
    "\n",
    "pickle_csv = os.path.join(CsvDir.CCFS, 'ccfs_weights_arpita.csv')\n",
    "fpickle = pd.read_pickle(pickle_csv)\n",
    "dt = fpickle.dates.values\n",
    "ccf_list = fpickle.ccf.values\n",
    "rv_gauss = fpickle.rv_gauss.values\n",
    "use = np.where(rv_gauss != 0)\n",
    "rv_gauss = rv_gauss[use]\n",
    "dt = dt[use]\n",
    "dt = [int(d) for d in dt]\n",
    "dt1 = np.array(dt[:6]) - dt[0]\n",
    "dt2 = np.array(dt[6:]) - 20210101 + 19\n",
    "dt = np.append(dt1, dt2)\n",
    "\n",
    "jd = plot_dates\n",
    "# rough time sampling\n",
    "freqs = np.linspace(1, 1/dt[-1], 2500)\n",
    "\n",
    "# model\n",
    "drv_model = (rv_model - np.mean(rv_model))\n",
    "ls_model = lombscargle(jd, drv_model, freqs, normalize=True)\n",
    "\n",
    "# sun\n",
    "drv_sun = (rv_sun - np.mean(rv_sun))\n",
    "ls_sun = lombscargle(jd, drv_sun, freqs, normalize=True)\n",
    "\n",
    "# conv\n",
    "drv_conv = (v_conv - np.mean(v_conv))\n",
    "ls_conv = lombscargle(jd, drv_conv, freqs)\n",
    "\n",
    "# conv\n",
    "freqs = np.linspace(1, 1/dt[-1], 2500)\n",
    "drv_ccf = (rv_gauss - np.mean(rv_gauss))*1e3\n",
    "ls_ccf = lombscargle(dt, drv_ccf, freqs)\n",
    "\n",
    "# plot\n",
    "plot_style = os.path.join(PlotDir.MPL, 'figure_series.mplstyle')\n",
    "plt.rcParams['mathtext.fontset'] = 'custom'\n",
    "plt.rcParams['mathtext.cal'] = 'Helvetica Neue LT Pro'\n",
    "days = np.linspace(jd[0], jd[-1], 2500)\n",
    "fig = plt.figure()\n",
    "plt.plot(days, ls_model, 'plum', label=r'$\\rmRV_{\\rm model}$')\n",
    "# plt.plot(days, ls_ccf/max(ls_ccf), 'lightblue', label=r'$\\rmRV_{\\rm ccf}$')\n",
    "plt.plot(days, ls_sun, 'lightcoral', label=r'$\\rmRV_{\\rm sun}$')\n",
    "# plt.plot(days, ls_conv/max(ls_conv), 'lightblue', label=r'$\\rm v_{\\rm conv}$')\n",
    "# plt.plot(days, ls_sun/max(ls_sun) - ls_model/max(ls_model), 'k', label=r'$\\rmRV_{\\rm residuals}$')\n",
    "plt.title(r'Periodogram of RVs')\n",
    "plt.xlabel('Period [days]')\n",
    "plt.ylabel('Normalized Power')\n",
    "plt.legend()"
   ]
  },
  {
   "cell_type": "markdown",
   "metadata": {
    "pycharm": {
     "name": "#%% md\n"
    }
   },
   "source": [
    "Good weather dates"
   ]
  },
  {
   "cell_type": "code",
   "execution_count": null,
   "metadata": {
    "pycharm": {
     "name": "#%%\n"
    }
   },
   "outputs": [],
   "source": [
    "# csv file with rv components\n",
    "csv_file = os.path.join(CsvDir.NEID_CALC, 'rvs_from_fits.csv')\n",
    "\n",
    "# create pandas dataframe\n",
    "component_df = pd.read_csv(csv_file)\n",
    "\n",
    "# get dates list\n",
    "date_jd = component_df.date_jd.values\n",
    "inds = np.argsort(date_jd)\n",
    "\n",
    "rv_sun = component_df.rv_sun.values[inds]\n",
    "rv_error = component_df.rv_error.values[inds]\n",
    "\n",
    "non_nan = np.logical_not(np.isnan(rv_sun))\n",
    "\n",
    "rv_med = np.nanmedian(np.abs(rv_sun))\n",
    "\n",
    "good_sun = np.logical_and(np.abs(rv_sun) > rv_med - 2, np.abs(rv_sun) < rv_med + 2)\n",
    "good_error = np.logical_and(np.abs(rv_error) < .4, np.abs(rv_error) < .225)\n",
    "good = np.logical_and(good_sun, good_error)\n",
    "\n",
    "good_rvs = np.logical_and(good, non_nan)\n",
    "\n",
    "# get velocities lists\n",
    "v_phot = component_df.v_phot.values[inds][good_rvs]\n",
    "v_conv = component_df.v_conv.values[inds][good_rvs]\n",
    "rv_model = component_df.rv_model.values[inds][good_rvs]\n",
    "rv_sun = rv_sun[good_rvs]\n",
    "rv_error = rv_error[good_rvs]\n",
    "v_quiet = component_df.v_quiet.values[inds][good_rvs]\n",
    "v_disc = component_df.v_disc.values[inds][good_rvs]\n",
    "vconv_large = component_df.vconv_large.values[inds][good_rvs]\n",
    "vconv_small = component_df.vconv_small.values[inds][good_rvs]\n",
    "vphot_bright = component_df.vphot_bright.values[inds][good_rvs]\n",
    "vphot_spot = component_df.vphot_spot.values[inds][good_rvs]\n",
    "\n",
    "# get magnetic observables\n",
    "f = component_df.f.values[inds][good_rvs]\n",
    "Bobs = component_df.Bobs.values[inds][good_rvs]\n",
    "f_bright = component_df.f_bright.values[inds][good_rvs]\n",
    "f_spot = component_df.f_spot.values[inds][good_rvs]\n",
    "f_plage = component_df.f_plage.values[inds][good_rvs]\n",
    "f_network = component_df.f_network.values[inds][good_rvs]\n",
    "ar_flux = component_df.ar_flux.values[inds][good_rvs]\n",
    "# dates\n",
    "date_jd = date_jd[inds][good_rvs]\n",
    "dates = component_df.date_obs.values[inds][good_rvs]\n",
    "plot_dates = date_jd - date_jd[0]"
   ]
  },
  {
   "cell_type": "code",
   "execution_count": null,
   "metadata": {
    "pycharm": {
     "name": "#%%\n"
    }
   },
   "outputs": [],
   "source": [
    "bad_days_csv = os.path.join(CsvDir.NEID_DATA, 'pyr_quality_by_day.csv')\n",
    "\n",
    "save_fig = None\n",
    "\n",
    "# create pandas dataframe\n",
    "quality_df = pd.read_csv(bad_days_csv)\n",
    "\n",
    "# get dates\n",
    "qual_dates = quality_df.DATE.values\n",
    "quality = quality_df.QUAL.values\n",
    "\n",
    "# make dates compatible\n",
    "times = [str(d)[0:4] + \"-\" + str(d)[4:6] + '-' + str(d)[6:8] + 'T12:00:00' for d in qual_dates]\n",
    "dt = [utils.get_dates(d) for d in times]\n",
    "date_str = [d[0] for d in dt]\n",
    "date_obj = [d[1] for d in dt]\n",
    "jd = [d[2].value for d in dt]\n",
    "\n",
    "good_days = np.where(quality < 2, jd, None)\n",
    "good_days = list(filter(None, list(good_days)))\n",
    "neid_inds = np.isin(date_jd, good_days)\n",
    "\n",
    "g_v_phot = v_phot[neid_inds]\n",
    "g_v_conv = v_conv[neid_inds]\n",
    "g_rv_sun = rv_sun[neid_inds]\n",
    "g_rv_model = rv_model[neid_inds]\n",
    "g_f = f[neid_inds]\n",
    "g_f_spot = f_spot[neid_inds]\n",
    "g_f_bright = f_bright[neid_inds]\n",
    "g_Bobs= Bobs[neid_inds]\n",
    "g_dates = dates[neid_inds]\n",
    "g_date_jd = date_jd[neid_inds]\n",
    "g_days_range = range(0, len(dates))\n",
    "g_plot_dates = g_date_jd - g_date_jd[0]"
   ]
  },
  {
   "cell_type": "code",
   "execution_count": null,
   "metadata": {
    "pycharm": {
     "name": "#%%\n"
    }
   },
   "outputs": [],
   "source": [
    "# removal of unsigned flux\n",
    "X = g_Bobs.reshape(-1, 1)\n",
    "Y = g_rv_sun\n",
    "reg = LinearRegression(positive=True).fit(X, Y)\n",
    "m, b = reg.coef_, reg.intercept_\n",
    "\n",
    "fit_line = m*g_Bobs + b\n",
    "rv_Bobs = g_rv_sun - fit_line"
   ]
  },
  {
   "cell_type": "markdown",
   "metadata": {
    "pycharm": {
     "name": "#%% md\n"
    }
   },
   "source": [
    "Correlation with $rv_{model}$ and $v_{conv}$."
   ]
  },
  {
   "cell_type": "code",
   "execution_count": null,
   "metadata": {},
   "outputs": [],
   "source": [
    "fig = plt.figure(constrained_layout=True, figsize=(12, 4))\n",
    "widths = [4, 8]\n",
    "heights = [4]\n",
    "gs = fig.add_gridspec(1, 2, width_ratios=widths, height_ratios=heights)\n",
    "\n",
    "ax1 = fig.add_subplot(gs[0, 0])\n",
    "ax2 = fig.add_subplot(gs[0, 1], sharey=ax1)\n",
    "\n",
    "ax1.scatter(g_Bobs, g_rv_sun - np.median(g_rv_sun), color='lavender', edgecolors='k', linewidths=1.0)\n",
    "ax1.plot(g_Bobs, fit_line - np.median(fit_line), color='lightcoral')\n",
    "\n",
    "ax2.scatter(g_plot_dates, g_rv_sun - np.median(g_rv_sun), color='lavender', edgecolors='k', linewidths=1.0, label='Raw Scatter: ' + str(np.round(np.std(g_rv_sun), 2)))\n",
    "ax2.scatter(g_plot_dates, rv_Bobs - np.median(rv_Bobs), color='lightcoral', edgecolors='k', linewidths=1.0, label='Corrected Scatter: ' + str(np.round(np.std(rv_Bobs), 2)))\n",
    "ax2.legend()\n",
    "\n",
    "ax1.set(xlim=(7.875, 9.375), yticks=np.arange(8, 9.252, step=.25))\n",
    "ax1.set(ylim=(- 2.5, 2.5), yticks=np.arange(-2, 2.23, step=1))\n",
    "ax2.set(xlim=(- 5, 85), xticks=np.arange(-0, 82, step=10))\n",
    "plt.setp(ax2.get_yticklabels(), visible=False)\n",
    "\n",
    "ax1.set(xlabel=r'$\\rm B_{\\rm obs}\\/\\rm [G]$', ylabel=r'$\\rm RV_{\\rm sun}\\/\\rm [m s^{-1}]$')\n",
    "ax2.set(xlabel='Days since ' + str(int(g_date_jd[0])) + ' JD')"
   ]
  },
  {
   "cell_type": "code",
   "execution_count": null,
   "metadata": {
    "pycharm": {
     "name": "#%%\n"
    }
   },
   "outputs": [],
   "source": [
    "x_list = [g_v_conv, g_rv_sun]\n",
    "y_list = [g_Bobs, g_rv_model]\n",
    "xlabel_list = [r'$\\rm v_{\\rm conv}\\/\\rm [m/s]$', r'$\\rm RV_{\\rm sun}\\/\\rm [m/s]$']\n",
    "ylabel_list = [r'$\\rm B_{\\rm obs}\\/\\rm [G]$', r'$\\rm RV_{\\rm model}\\/\\rm [m/s]$']\n",
    "\n",
    "# plot style\n",
    "plot_style = os.path.join(PlotDir.MPL, 'correlation.mplstyle')\n",
    "plt.style.use(plot_style)\n",
    "\n",
    "# calculate correlation coefficient\n",
    "corr_one = stats.spearmanr(x_list[0], y_list[0])\n",
    "corr_two = stats.spearmanr(x_list[1], y_list[0])\n",
    "corr_three = stats.spearmanr(x_list[0], y_list[1])\n",
    "corr_four = stats.spearmanr(x_list[1], y_list[1])\n",
    "\n",
    "# setup the plot\n",
    "fig, axs = plt.subplots(2, 2, sharey='row', sharex='col', figsize=[12, 6], gridspec_kw={'hspace': 0.1, 'wspace': 0.1})\n",
    "axs[0, 0].set(ylabel=ylabel_list[0])\n",
    "# axs[0, 1].set(xlabel=xlabel_list[1])\n",
    "axs[1, 0].set(xlabel=xlabel_list[0], ylabel=ylabel_list[1])\n",
    "axs[1, 1].set(xlabel=xlabel_list[1])\n",
    "\n",
    "# plot data\n",
    "color = 'lavender'\n",
    "axs[0, 0].scatter(x_list[0], y_list[0], color=color, edgecolors='k', linewidths=1.0, label='Correlation: ' + str(np.around(corr_one[0], 2)))\n",
    "axs[0, 1].scatter(x_list[1], y_list[0], color=color, edgecolors='k', linewidths=1.0, label='Correlation: ' + str(np.around(corr_two[0], 2)))\n",
    "axs[1, 0].scatter(x_list[0], y_list[1], color=color, edgecolors='k', linewidths=1.0, label='Correlation: ' + str(np.around(corr_three[0], 2)))\n",
    "axs[1, 1].scatter(x_list[1], y_list[1], color=color, edgecolors='k', linewidths=1.0, label='Correlation: ' + str(np.around(corr_four[0], 2)))\n",
    "\n",
    "for i in range(0, 2):\n",
    "    for j in range(0, 2):\n",
    "        leg = axs[i, j].legend(handlelength=0, handletextpad=0)\n",
    "        for item in leg.legendHandles:\n",
    "            item.set_visible(False)\n",
    "\n",
    "\n",
    "# align y axis labels\n",
    "fig.align_ylabels(axs)"
   ]
  },
  {
   "cell_type": "markdown",
   "metadata": {
    "pycharm": {
     "name": "#%% md\n"
    }
   },
   "source": [
    "Data Product Figures"
   ]
  },
  {
   "cell_type": "code",
   "execution_count": null,
   "metadata": {
    "pycharm": {
     "name": "#%%\n"
    }
   },
   "outputs": [],
   "source": [
    "cadence = a.Sample(24*u.hour)  # querying cadence\n",
    "start_date = '2021-6-30T12:00:00.00'  # start date of query\n",
    "end_date = '2021-6-30T12:01:00.00'\n",
    "physobs_list = [a.Physobs.los_velocity, a.Physobs.los_magnetic_field, a.Physobs.intensity]\n",
    "\n",
    "result = Fido.search(a.Time(start_date, end_date),\n",
    "                     a.Instrument.hmi, physobs_list[0] | physobs_list[1] | physobs_list[2], cadence)\n",
    "# download results\n",
    "file_download = Fido.fetch(result)\n",
    "# convert to map sequence\n",
    "map_seq = sunpy.map.Map(sorted(file_download))"
   ]
  },
  {
   "cell_type": "code",
   "execution_count": null,
   "metadata": {
    "pycharm": {
     "name": "#%%\n"
    }
   },
   "outputs": [],
   "source": [
    "import tamar.tools.solar_funcs as sfuncs\n",
    "import tamar.tools.lbc_funcs as lbfuncs\n",
    "import tamar.tools.coord_funcs as ctfuncs\n",
    "\n",
    "# remove unusable file types\n",
    "good_files = []\n",
    "for file in file_download:\n",
    "    name, extension = os.path.splitext(file)\n",
    "    if extension == '.fits':\n",
    "        good_files.append(file)\n",
    "\n",
    "if len(good_files) != 3:\n",
    "    print('Not enough files.')\n",
    "    pass\n",
    "else:\n",
    "    # convert to map sequence\n",
    "    map_seq = sunpy.map.Map(sorted(good_files))\n",
    "\n",
    "    # check for missing data types\n",
    "    missing_map = False\n",
    "    # split into data types\n",
    "    for j, map_obj in enumerate(map_seq):\n",
    "        if map_obj.meta['content'] == 'DOPPLERGRAM':\n",
    "            vmap = map_obj\n",
    "        elif map_obj.meta['content'] == 'MAGNETOGRAM':\n",
    "            mmap = map_obj\n",
    "        elif map_obj.meta['content'] == 'CONTINUUM INTENSITY':\n",
    "            imap = map_obj\n",
    "        else:\n",
    "            missing_map = True\n",
    "\n",
    "    if missing_map:\n",
    "        print(\"Missing a data product for \" + date_str)\n",
    "        pass\n",
    "\n",
    "    else:\n",
    "        # coordinate transformation for maps\n",
    "        x, y, pd, r, d, mu = ctfuncs.coordinates(vmap)\n",
    "        wij, nij, rij = ctfuncs.vel_coords(x, y, pd, r, vmap)\n",
    "\n",
    "        # remove bad mu values\n",
    "        vmap, mmap, imap = ctfuncs.fix_mu(mu, [vmap, mmap, imap])\n",
    "\n",
    "        # calculate relative positions\n",
    "        deltaw, deltan, deltar, dij = sfuncs.rel_positions(wij, nij, rij, vmap)\n",
    "\n",
    "        # calculate spacecraft velocity\n",
    "        vsc = sfuncs.spacecraft_vel(deltaw, deltan, deltar, dij, vmap)\n",
    "\n",
    "        # optimized solar rotation parameters\n",
    "        a1 = 14.713\n",
    "        a2 = -2.396\n",
    "        a3 = -1.787\n",
    "        a_parameters = [a1, a2, a3]\n",
    "\n",
    "        # calculation of solar rotation velocity\n",
    "        # vrot = sfuncs.solar_rot_vel(wij, nij, rij, deltaw, deltan, deltar, dij, vmap, a_parameters)\n",
    "        vrot = sfuncs.solar_rot_vel(wij, nij, rij, deltaw, deltan, deltar, dij, vmap, a_parameters)\n",
    "\n",
    "        # calculate corrected velocity\n",
    "        corrected_vel = vmap.data - np.real(vsc) - np.real(vrot)\n",
    "\n",
    "        # corrected velocity maps\n",
    "        map_vel_cor = sfuncs.corrected_map(corrected_vel, vmap, map_type='Corrected-Dopplergram',\n",
    "                                           frame=frames.HeliographicCarrington)\n",
    "\n",
    "        # limb brightening\n",
    "        Lij = lbfuncs.limb_polynomial(imap)\n",
    "\n",
    "        # calculate corrected data\n",
    "        Iflat = imap.data / Lij\n",
    "\n",
    "        # corrected intensity maps\n",
    "        map_int_cor = sfuncs.corrected_map(Iflat, imap, map_type='Corrected-Intensitygram',\n",
    "                                           frame=frames.HeliographicCarrington)\n",
    "\n",
    "        # magnetic noise level\n",
    "        B_noise = 8\n",
    "\n",
    "        # calculate unsigned field strength\n",
    "        Bobs, Br = sfuncs.mag_field(mu, mmap, B_noise)\n",
    "\n",
    "        # corrected observed magnetic data map\n",
    "        map_mag_obs = sfuncs.corrected_map(Bobs, mmap, map_type='Corrected-Magnetogram',\n",
    "                                           frame=frames.HeliographicCarrington)\n",
    "\n",
    "        # radial magnetic data map\n",
    "        map_mag_cor = sfuncs.corrected_map(Br, mmap, map_type='Corrected-Magnetogram',\n",
    "                                           frame=frames.HeliographicCarrington)\n",
    "        # magnetic threshold value (G) from Yeo et. al. 2013\n",
    "        Br_cutoff = 24\n",
    "        # mu cutoff value\n",
    "        mu_cutoff = 0.3\n",
    "\n",
    "        # calculate magnetic threshold\n",
    "        active, quiet = sfuncs.mag_thresh(mu, mmap, Br_cutoff=Br_cutoff, mu_cutoff=mu_cutoff)\n",
    "\n",
    "        # calculate intensity threshold\n",
    "        fac_inds, spot_inds = sfuncs.int_thresh(map_int_cor, active, quiet)\n",
    "\n",
    "        # create threshold array\n",
    "        thresh_arr = sfuncs.thresh_map(fac_inds, spot_inds)\n",
    "\n",
    "        # full threshold maps\n",
    "        map_full_thresh = sfuncs.corrected_map(thresh_arr, mmap, map_type='Threshold',\n",
    "                                               frame=frames.HeliographicCarrington)"
   ]
  },
  {
   "cell_type": "code",
   "execution_count": null,
   "metadata": {
    "pycharm": {
     "name": "#%%\n"
    }
   },
   "outputs": [],
   "source": [
    "# make cute plots\n",
    "fig, axs = plt.subplots(2, 2, sharey='row', sharex='col', figsize=[12, 12], gridspec_kw={'hspace': 0.1, 'wspace': 0.1})\n",
    "\n",
    "# intensity map\n",
    "int_data = map_int_cor.data\n",
    "int_data = np.where(int_data == 0, np.nan, int_data)\n",
    "axs[0, 0].imshow(int_data, cmap=plt.get_cmap('hinodesotintensity'))\n",
    "axs[0, 0].set_title(\"Flattened Continuum Intensity\")\n",
    "# fig.colorbar(cm.ScalarMappable(cmap=plt.get_cmap('hinodesotintensity')), ax=axs[0, 0])\n",
    "\n",
    "# magnetic field map\n",
    "mag_data = np.abs(map_mag_cor.data)\n",
    "# mag_data = np.where(mag_data == 0, np.nan, mag_data)\n",
    "axs[1, 0].imshow(mag_data, cmap=plt.get_cmap('Purples'))\n",
    "axs[1, 0].set_title(\"Unsigned Magnetic Flux Density\")\n",
    "# fig.colorbar(cm.ScalarMappable(cmap=plt.get_cmap('Purples')), ax=axs[1, 0])\n",
    "\n",
    "# Doppler map\n",
    "good_mu = np.logical_and(mu > 0.3, mu != np.nan)\n",
    "vel_data = np.full(map_vel_cor.data.shape, np.nan)\n",
    "vel_data[good_mu] = map_vel_cor.data[good_mu]\n",
    "axs[0, 1].imshow(vel_data, cmap=plt.get_cmap('Greys'))\n",
    "axs[0, 1].set_title(\"Line-of-sight Corrected Doppler Velocity\")\n",
    "# fig.colorbar(cm.ScalarMappable(cmap=plt.get_cmap('Greys')), ax=axs[0, 1])\n",
    "\n",
    "# threshold image\n",
    "fac = fac_inds.astype(int)\n",
    "spot = 1 - spot_inds.astype(int)\n",
    "thresh = spot + fac\n",
    "# thresh = np.where(thresh == 0, np.nan, thresh)\n",
    "axs[1, 1].imshow(thresh, cmap=plt.get_cmap('bwr'))\n",
    "# fig.colorbar(cm.ScalarMappable(cmap=plt.get_cmap('bwr')), ax=axs[1, 1])\n",
    "# fac = np.full(fac_inds.shape, np.nan)\n",
    "# fac_use = np.logical_and(fac_inds.astype(int) == 1, mu > 0.3)\n",
    "# fac[fac_use] = 1\n",
    "# spot = np.full(spot_inds.shape, np.nan)\n",
    "# spot_use = np.logical_and(spot_inds.astype(int) == 1, mu > 0.3)\n",
    "# spot[spot_use] = -1\n",
    "# thresh = spot + fac\n",
    "# cmap = colors.ListedColormap(['red'])\n",
    "# axs[1, 1].imshow(thresh, cmap='bwr', norm=colors.Normalize(-1, 1))\n",
    "# cmap = colors.ListedColormap(['blue'])\n",
    "# axs[1, 1].imshow(spot, cmap=cmap, norm=colors.Normalize())\n",
    "axs[1, 1].set_title(\"Thresholded Map\")\n",
    "\n",
    "\n",
    "# tick marks\n",
    "for i in range(0, 2):\n",
    "    for j in range(0, 2):\n",
    "        axs[i, j].set_xticks([])\n",
    "        axs[i, j].set_yticks([])\n",
    "#"
   ]
  },
  {
   "cell_type": "code",
   "execution_count": null,
   "metadata": {
    "pycharm": {
     "name": "#%%\n"
    }
   },
   "outputs": [],
   "source": [
    "# intensity map\n",
    "plt.figure(0)\n",
    "int_data = map_int_cor.data\n",
    "int_data = np.where(int_data == 0, np.nan, int_data)\n",
    "plt.imshow(int_data, cmap=plt.get_cmap('hinodesotintensity'))\n",
    "plt.xticks([])\n",
    "plt.yticks([])\n",
    "plt.axis('off')\n",
    "\n",
    "# magnetic field map\n",
    "plt.figure(1)\n",
    "mag_data = np.abs(map_mag_cor.data)\n",
    "plt.imshow(mag_data, cmap=plt.get_cmap('Greys'), norm=colors.Normalize())\n",
    "plt.xticks([])\n",
    "plt.yticks([])\n",
    "plt.axis('off')\n",
    "\n",
    "# Doppler map\n",
    "plt.figure(2)\n",
    "good_mu = np.logical_and(mu > 0.3, mu != np.nan)\n",
    "vel_data = np.full(map_vel_cor.data.shape, np.nan)\n",
    "vel_data[good_mu] = map_vel_cor.data[good_mu]\n",
    "plt.imshow(vel_data, cmap=plt.get_cmap('Greys'))\n",
    "plt.xticks([])\n",
    "plt.yticks([])\n",
    "plt.axis('off')\n",
    "\n",
    "# rotational velocity map\n",
    "plt.figure(3)\n",
    "vel_data = np.full(map_vel_cor.data.shape, np.nan)\n",
    "vel_data[good_mu] = np.real(vrot)[good_mu]\n",
    "plt.imshow(vel_data, cmap=plt.get_cmap('Greys'))\n",
    "plt.xticks([])\n",
    "plt.yticks([])\n",
    "plt.axis('off')\n"
   ]
  },
  {
   "cell_type": "markdown",
   "metadata": {
    "pycharm": {
     "name": "#%% md\n"
    }
   },
   "source": [
    "Compare with Milbourne Dataset"
   ]
  },
  {
   "cell_type": "code",
   "execution_count": null,
   "metadata": {
    "pycharm": {
     "name": "#%%\n"
    }
   },
   "outputs": [],
   "source": [
    "# csv file with rv components\n",
    "csv_file = os.path.join(CsvDir.MILBOURNE, 'full_calcs.csv')\n",
    "\n",
    "# create pandas dataframe\n",
    "component_df = pd.read_csv(csv_file)\n",
    "\n",
    "# get column names\n",
    "components = component_df.columns.values\n",
    "\n",
    "# get velocities lists\n",
    "v_phot = component_df.v_phot.values\n",
    "v_conv = component_df.v_conv.values\n",
    "rv_model = component_df.rv_model.values\n",
    "\n",
    "# get reference lists\n",
    "v_phot_ref = component_df.v_phot_ref.values\n",
    "v_conv_ref = component_df.v_conv_ref.values\n",
    "rv_model_ref = component_df.rv_model_mil.values\n",
    "rv_sun = component_df.rv_sun.values\n",
    "\n",
    "# get magnetic observables\n",
    "f = component_df.f.values\n",
    "Bobs = component_df.Bobs.values\n",
    "f_bright = component_df.f_bright.values\n",
    "f_spot = component_df.f_spot.values\n",
    "\n",
    "# get reference observable\n",
    "f_ref = component_df.f_ref.values\n",
    "\n",
    "# get dates list\n",
    "dates = component_df.date_obs.values\n",
    "date_jd = component_df.date_jd.values\n",
    "all_days = range(0, len(dates))\n",
    "\n",
    "# get range based on good indices\n",
    "days_range = range(0, len(Bobs))"
   ]
  },
  {
   "cell_type": "code",
   "execution_count": null,
   "metadata": {
    "pycharm": {
     "name": "#%%\n"
    }
   },
   "outputs": [],
   "source": [
    "# comparison of velocities\n",
    "x = date_jd[:217] - date_jd[0]\n",
    "my_list = [f[:217], v_conv[:217], v_phot[:217], rv_model[:217]]\n",
    "ref_list = [f_ref[:217], v_conv_ref[:217], v_phot_ref[:217], rv_model_ref[:217]]\n",
    "xlabel = 'Days since ' + str(int(date_jd[0])) + ' JD'\n",
    "ylabel_list = [r'$\\rm f$ [%]', r'$\\rm v_{\\rm conv}$', r'$\\rm v_{\\rm phot}$', r'$\\rm RV_{\\rm model}$']\n",
    "\n",
    "\n",
    "plot_style = os.path.join(PlotDir.MPL, 'figure_series.mplstyle')\n",
    "plt.rcParams['mathtext.fontset'] = 'custom'\n",
    "plt.rcParams['mathtext.cal'] = 'Helvetica Neue LT Pro'\n",
    "# plt.rcParams['axes.unicode_minus'] = True\n",
    "plt.style.use(plot_style)\n",
    "\n",
    "# set up figure\n",
    "fig, axs = plt.subplots(len(my_list), 1, sharex='all', figsize=[6, 2 * len(my_list)],  gridspec_kw={'hspace': 0})\n",
    "\n",
    "# set up axes labels\n",
    "for i in range(0, len(axs)):\n",
    "    axs[i].set(ylabel=ylabel_list[i])\n",
    "axs[i].set(xlabel=xlabel)\n",
    "axs[0].set(ylim=(1, 7), yticks=np.arange(2, 6.2, step=2))\n",
    "axs[1].set(ylim=(1.5, 10.5), yticks=np.arange(3.0, 10.2, step=3))\n",
    "axs[2].set(ylim=(- 1.5, 1.5), yticks=np.arange(-1, 1.2, step=1))\n",
    "axs[3].set(ylim=(96, 120), yticks=np.arange(100, 116.2, step=8))\n",
    "axs[3].set(xlim=(-25, 425), xticks=np.arange(0, 402, step=100))\n",
    "\n",
    "# plot data\n",
    "for i in range(0, len(axs)):\n",
    "    axs[i].plot(x, my_list[i], color='red', linewidth=0.8)\n",
    "    axs[i].plot(x, ref_list[i], color='cornflowerblue', linewidth=0.8)\n",
    "axs[-1].plot(x, rv_sun[:217], color='black', linewidth=0.8)\n",
    "\n",
    "\n",
    "# align y axis labels\n",
    "fig.align_ylabels(axs)"
   ]
  },
  {
   "cell_type": "code",
   "execution_count": null,
   "metadata": {
    "pycharm": {
     "name": "#%%\n"
    }
   },
   "outputs": [],
   "source": [
    "x = date_jd[:217] - date_jd[0]\n",
    "y_list = [v_conv[:217], v_phot[:217]]\n",
    "xlabel = 'Days'\n",
    "ylabel_list = [r'$\\rm v_{\\rm conv}$', r'$\\rm v_{\\rm phot}$']\n",
    "\n",
    "\n",
    "plot_style = os.path.join(PlotDir.MPL, 'figure_series.mplstyle')\n",
    "plt.rcParams['mathtext.fontset'] = 'custom'\n",
    "plt.rcParams['mathtext.cal'] = 'Helvetica Neue LT Pro'\n",
    "plt.style.use(plot_style)\n",
    "\n",
    "# set up figure\n",
    "fig, axs = plt.subplots(2, 1, sharex='all', figsize=[6, 1.25 * len(y_list)],  gridspec_kw={'hspace': 0})\n",
    "\n",
    "# set up axes labels\n",
    "for i in range(0, len(axs)):\n",
    "    axs[i].set(ylabel=ylabel_list[i])\n",
    "axs[i].set(xlabel=xlabel)\n",
    "axs[0].set(ylim=(1, 11.0), yticks=np.arange(3, 10.2, step=3))\n",
    "axs[1].set(ylim=(-1.5, 1.5), yticks=np.arange(-1, 1.2, step=1))\n",
    "axs[1].set(xlim=(-25, 425), xticks=np.arange(0, 402, step=100))\n",
    "\n",
    "# plot data\n",
    "for i in range(0, len(axs)):\n",
    "    axs[i].plot(x, y_list[i], color='red', linewidth=0.5)\n",
    "\n",
    "\n",
    "# align y axis labels\n",
    "fig.align_ylabels(axs)"
   ]
  },
  {
   "cell_type": "code",
   "execution_count": null,
   "metadata": {
    "pycharm": {
     "name": "#%%\n"
    }
   },
   "outputs": [],
   "source": [
    "x = rv_sun[:217]\n",
    "y = rv_model[:217]\n",
    "good = np.logical_and(y<108, x<108)\n",
    "x = x[good]\n",
    "y = y[good]\n",
    "xlabel =  r'$\\rm RV_{\\rm sun}\\/\\rm [m/s]$'\n",
    "ylabel = r'$\\rm RV_{\\rm model}\\/\\rm [m/s]$'\n",
    "\n",
    "# plot style\n",
    "plot_style = os.path.join(PlotDir.MPL, 'correlation.mplstyle')\n",
    "plt.style.use(plot_style)\n",
    "\n",
    "# calculate correlation coefficient\n",
    "corr_one = stats.spearmanr(x, y)\n",
    "\n",
    "# setup the plot\n",
    "fig, axs = plt.subplots(1, 1, sharex='all', figsize=[5, 3],  gridspec_kw={'hspace': 0})\n",
    "axs.set(xlabel=xlabel, ylabel=ylabel)\n",
    "axs.set(xlim=(99, 109), xticks=np.arange(100, 108.2, step=2))\n",
    "axs.set(ylim=(99, 109), yticks=np.arange(100, 108.2, step=2))\n",
    "\n",
    "# plot data\n",
    "color = 'lavender'\n",
    "plt.scatter(x, y, color=color, edgecolors='k', linewidths=0.5, label='Correlation: ' + str(np.around(corr_one[0], 2)))\n",
    "\n",
    "# legend\n",
    "leg = axs.legend(handlelength=0, handletextpad=0)\n",
    "for item in leg.legendHandles:\n",
    "    item.set_visible(False)\n",
    "\n",
    "# align y axis labels\n",
    "fig.align_ylabels(axs)"
   ]
  },
  {
   "cell_type": "markdown",
   "metadata": {
    "pycharm": {
     "name": "#%% md\n"
    }
   },
   "source": [
    "Planetary Transits"
   ]
  },
  {
   "cell_type": "code",
   "execution_count": null,
   "metadata": {
    "pycharm": {
     "name": "#%%\n"
    }
   },
   "outputs": [],
   "source": [
    "import pandas as pd\n",
    "# mercury 2016\n",
    "transit_file = '2016_2min.csv'\n",
    "\n",
    "# csv file with rv components\n",
    "csv_file = os.path.join(CsvDir.MERCURY, transit_file)\n",
    "component_df = pd.read_csv(csv_file)\n",
    "# get velocities lists\n",
    "v_phot = component_df.v_phot.values\n",
    "v_conv = component_df.v_conv.values\n",
    "rv_2016 = component_df.rv_model.values\n",
    "f_spot = component_df.f_spot.values\n",
    "Bobs = component_df.Bobs.values\n",
    "\n",
    "# get dates list\n",
    "dates = component_df.date_obs.values\n",
    "date_jd = component_df.date_jd.values\n",
    "dates_2016 = date_jd - date_jd[0]\n",
    "dates_2016 *= 86400/3600\n",
    "\n",
    "# plot transit\n",
    "x = dates_2016\n",
    "y_list = [rv_model - np.median(rv_model)]\n",
    "xlabel = 'Hours'\n",
    "ylabel = r'$\\rm RV_{model}$'\n",
    "\n",
    "plot_style = os.path.join(PlotDir.MPL, 'figure_series.mplstyle')\n",
    "plt.rcParams['mathtext.fontset'] = 'custom'\n",
    "plt.rcParams['mathtext.cal'] = 'Helvetica Neue LT Pro'\n",
    "# plt.rcParams['axes.unicode_minus'] = True\n",
    "plt.style.use(plot_style)\n",
    "\n",
    "# set up figure\n",
    "fig, axs = plt.subplots(1, sharex='all', figsize=[6, 1.5],  gridspec_kw={'hspace': 0})\n",
    "axs.plot(dates_2016, rv_2016-np.median(rv_2016), color='lightcoral')\n",
    "axs.set(ylim=(-1.5, 1.5), yticks=np.arange(-1, 1.2, step=1))\n",
    "axs.set(xlim=(-0.5, 8.5), xticks=np.arange(0, 8.2, step=1))\n",
    "axs.set(xlabel=xlabel)\n",
    "axs.set(ylabel=ylabel)\n",
    "print('rms scatter:', np.std(rv_2016))\n",
    "\n",
    "# fit a line to this\n",
    "X = x.reshape(-1, 1)\n",
    "Y = rv_2016\n",
    "reg = LinearRegression(positive=True).fit(X, Y)\n",
    "m, b = reg.coef_, reg.intercept_\n",
    "\n",
    "fit_line = m*x + b\n",
    "rv_mercury = rv_2016 - fit_line\n",
    "\n",
    "# set up figure\n",
    "xlabel = 'Hours'\n",
    "ylabel = r'$\\rm RV_{model}$'\n",
    "fig, axs = plt.subplots(1, sharex='all', figsize=[6, 1.5],  gridspec_kw={'hspace': 0})\n",
    "axs.plot(dates_2016, rv_mercury-np.median(rv_mercury), color='lightcoral')\n",
    "axs.set(ylim=(-0.45, 0.45), yticks=np.arange(-0.3, 0.52, step=.3))\n",
    "axs.set(xlim=(-0.5, 8.5), xticks=np.arange(0, 8.2, step=1))\n",
    "axs.set(xlabel=xlabel)\n",
    "axs.set(ylabel=ylabel)\n",
    "print('rms scatter corrected:', np.std(rv_mercury))\n",
    "rms scatter: 0.45170736334667433\n",
    "rms scatter corrected: 0.14097333163917303\n"
   ]
  },
  {
   "cell_type": "code",
   "execution_count": null,
   "metadata": {
    "pycharm": {
     "name": "#%%\n"
    }
   },
   "outputs": [],
   "source": [
    "# binning this\n",
    "fig, axs = plt.subplots(2, sharex='all', figsize=[6, 3],  gridspec_kw={'hspace': 0})\n",
    "xlabel = 'Hours: Mercury 2016 Transit'\n",
    "ylabel = r'$\\rm RV_{model}$'\n",
    "\n",
    "# plot original data\n",
    "axs[0].plot(dates_2016, rv_2016-np.median(rv_2016), color='lightcoral')\n",
    "axs[0].set(ylim=(-1.5, 1.5), yticks=np.arange(-1, 1.2, step=1))\n",
    "axs[0].set(xlim=(-0.5, 8.5), xticks=np.arange(0, 8.2, step=1))\n",
    "axs[0].set(ylabel=ylabel)\n",
    "\n",
    "# data\n",
    "x = dates_2016\n",
    "y = rv_mercury-np.median(rv_mercury)\n",
    "\n",
    "# bin data\n",
    "ylabel = r'$\\rm RV_{corrected}$'\n",
    "x_bin = [dates_2016[i] for i in np.arange(0, len(dates_2016), 3)]\n",
    "y_bin = [np.average(y[i:i+3]) for i in np.arange(0, len(dates_2016), 3)]\n",
    "\n",
    "# plot\n",
    "axs[1].plot(x, y, color='lightgrey', zorder=1)\n",
    "axs[1].scatter(x_bin, y_bin, color='lightcoral', s=15, marker='D', zorder=2, edgecolor='k', linewidth=0.3)\n",
    "axs[1].set(ylim=(-0.6, 0.6), yticks=np.arange(-0.4, 0.52, step=.4))\n",
    "axs[1].set(xlim=(-0.5, 8.5), xticks=np.arange(0, 8.2, step=1))\n",
    "axs[1].set(xlabel=xlabel)\n",
    "axs[1].set(ylabel=ylabel)\n",
    "\n",
    "# align y labels\n",
    "fig.align_ylabels(axs)"
   ]
  },
  {
   "cell_type": "code",
   "execution_count": null,
   "metadata": {
    "pycharm": {
     "name": "#%%\n"
    }
   },
   "outputs": [],
   "source": [
    "# mercury 2019\n",
    "transit_file = '2019_mercury_transit.csv'\n",
    "\n",
    "# csv file with rv components\n",
    "csv_file = os.path.join(CsvDir.MERCURY, transit_file)\n",
    "component_df = pd.read_csv(csv_file)\n",
    "# get velocities lists\n",
    "v_phot = component_df.v_phot.values\n",
    "v_conv = component_df.v_conv.values\n",
    "rv_2019 = component_df.rv_model.values\n",
    "\n",
    "# get dates list\n",
    "dates = component_df.date_obs.values\n",
    "date_jd = component_df.date_jd.values\n",
    "dates_2019 = date_jd - date_jd[0]\n",
    "dates_2019 *= 86400/3600\n",
    "\n",
    "# plot transit\n",
    "x = dates_2019\n",
    "y_list = [rv_2019 - np.median(rv_2019)]\n",
    "xlabel = 'Hours'\n",
    "ylabel = r'$\\rm RV_{model}$'\n",
    "\n",
    "plot_style = os.path.join(PlotDir.MPL, 'figure_series.mplstyle')\n",
    "plt.rcParams['mathtext.fontset'] = 'custom'\n",
    "plt.rcParams['mathtext.cal'] = 'Helvetica Neue LT Pro'\n",
    "# plt.rcParams['axes.unicode_minus'] = True\n",
    "plt.style.use(plot_style)\n",
    "\n",
    "# fit sine function\n",
    "from scipy import optimize\n",
    "\n",
    "def test_func(x, a, b):\n",
    "    return a * np.sin(b * x)\n",
    "\n",
    "params, params_covariance = optimize.curve_fit(test_func, plot_dates[:-5], rv_model[:-5]-np.median(rv_model),\n",
    "                                               p0=[-0.1, 1.6])\n",
    "\n",
    "# set up figure\n",
    "fig, axs = plt.subplots(1, sharex='all', figsize=[6, 1.5],  gridspec_kw={'hspace': 0})\n",
    "axs.plot(dates_2019[:-5], rv_2019[:-5]-np.median(rv_2019), color='lightcoral')\n",
    "# axs.plot(plot_dates[:-5], test_func(plot_dates[:-5], -0.1, 1.6), color='lightblue')\n",
    "axs.set(ylim=(-0.35, 0.35), yticks=np.arange(-0.2, .22, step=.2))\n",
    "axs.set(xlim=(-0.5, 8.5), xticks=np.arange(0, 8.2, step=1))\n",
    "axs.set(xlabel=xlabel)\n",
    "axs.set(ylabel=ylabel)\n",
    "\n",
    "\n",
    "print('rms scatter:', np.std(rv_model[:-5]))\n",
    "# T = 2*np.pi / params[1]\n",
    "# print('Period:', T)\n"
   ]
  },
  {
   "cell_type": "code",
   "execution_count": null,
   "metadata": {
    "pycharm": {
     "name": "#%%\n"
    }
   },
   "outputs": [],
   "source": [
    "# venus\n",
    "transit_file = 'venus_2012_transit.csv'\n",
    "\n",
    "# csv file with rv components\n",
    "csv_file = os.path.join(CsvDir.VENUS, transit_file)\n",
    "component_df = pd.read_csv(csv_file)\n",
    "# get velocities lists\n",
    "v_phot = component_df.v_phot.values\n",
    "v_conv = component_df.v_conv.values\n",
    "rv_venus = component_df.rv_model.values\n",
    "\n",
    "# get dates list\n",
    "dates = component_df.date_obs.values\n",
    "date_jd = component_df.date_jd.values\n",
    "dates_venus = date_jd - date_jd[0]\n",
    "dates_venus *= 86400/3600\n",
    "\n",
    "# plot transit\n",
    "x = plot_dates\n",
    "y_list = [rv_venus - np.median(rv_venus)]\n",
    "xlabel = 'Hours'\n",
    "ylabel = r'$\\rm RV_{model}$'\n",
    "\n",
    "plot_style = os.path.join(PlotDir.MPL, 'figure_series.mplstyle')\n",
    "plt.rcParams['mathtext.fontset'] = 'custom'\n",
    "plt.rcParams['mathtext.cal'] = 'Helvetica Neue LT Pro'\n",
    "# plt.rcParams['axes.unicode_minus'] = True\n",
    "plt.style.use(plot_style)\n",
    "\n",
    "# set up figure\n",
    "x_plot = dates_venus[:-42]\n",
    "y_plot = rv_venus[:-42]-np.median(rv_venus[:-42])\n",
    "fig, axs = plt.subplots(1, sharex='all', figsize=[6, 1.5],  gridspec_kw={'hspace': 0})\n",
    "axs.plot(x_plot, y_plot, color='lightcoral')\n",
    "axs.set(ylim=(-2, 2), yticks=np.arange(-1, 1.2, step=2))\n",
    "axs.set(xlim=(-0.5, 8.5), xticks=np.arange(0, 8.2, step=1))\n",
    "axs.set(xlabel=xlabel)\n",
    "axs.set(ylabel=ylabel)\n",
    "print('rms scatter:', np.std(rv_model[:-42]))"
   ]
  },
  {
   "cell_type": "code",
   "execution_count": null,
   "metadata": {
    "pycharm": {
     "name": "#%%\n"
    }
   },
   "outputs": [],
   "source": [
    "# plot recovered transits for comparison\n",
    "fig, axs = plt.subplots(2, sharex='all', figsize=[6, 3],  gridspec_kw={'hspace': 0})\n",
    "\n",
    "# plot venus\n",
    "x_plot = dates_venus[:-42]\n",
    "y_plot = rv_venus[:-42]-np.median(rv_venus[:-42])\n",
    "axs[0].plot(x_plot, y_plot, color='lightcoral')\n",
    "\n",
    "# plot mercury\n",
    "x_plot = dates_2019[:-5]\n",
    "y_plot = rv_2019[:-5] - np.median(rv_2019[:-5])\n",
    "axs[1].plot(x_plot, y_plot, color='lightcoral')\n",
    "\n",
    "# labels and axes limits\n",
    "axs[0].set(ylim=(-2, 2), yticks=np.arange(-1, 1.2, step=1))\n",
    "axs[1].set(ylim=(-0.35, 0.35), yticks=np.arange(-0.2, .22, step=.2))\n",
    "axs[0].set(xlim=(-0.5, 8.5), xticks=np.arange(0, 8.2, step=1))\n",
    "axs[1].set(xlim=(-0.5, 8.5), xticks=np.arange(0, 8.2, step=1))\n",
    "axs[1].set(xlabel=xlabel)\n",
    "axs[0].set(ylabel=r'$\\rm RV_{venus}$')\n",
    "axs[1].set(ylabel=r'$\\rm RV_{mercury}$')\n",
    "fig.align_ylabels(axs)"
   ]
  },
  {
   "cell_type": "code",
   "execution_count": null,
   "metadata": {
    "pycharm": {
     "name": "#%%\n"
    }
   },
   "outputs": [],
   "source": [
    "# plot all three transits\n",
    "fig, axs = plt.subplots(3, sharex='all', figsize=[6, 6],  gridspec_kw={'hspace': 0})\n",
    "\n",
    "# plot venus\n",
    "x_plot = dates_venus[:-42]\n",
    "y_plot = rv_venus[:-42]-np.median(rv_venus[:-42])\n",
    "axs[0].plot(x_plot, y_plot, color='lightcoral')\n",
    "\n",
    "# plot mercury\n",
    "x_plot = dates_2019[:-5]\n",
    "y_plot = rv_2019[:-5] - np.median(rv_2019[:-5])\n",
    "axs[1].plot(x_plot, y_plot, color='lightcoral')\n",
    "\n",
    "# plot mercury\n",
    "x_plot = dates_2016\n",
    "y_plot = rv_2016 - np.median(rv_2016)\n",
    "axs[2].plot(x_plot, y_plot, color='lightcoral')\n",
    "\n",
    "# labels and axes limits\n",
    "axs[0].set(ylim=(-2, 2), yticks=np.arange(-1, 1.2, step=1))\n",
    "axs[1].set(ylim=(-0.35, 0.35), yticks=np.arange(-0.2, .22, step=.2))\n",
    "axs[2].set(ylim=(-1.5, 1.5), yticks=np.arange(-1, 1.2, step=1))\n",
    "axs[0].set(xlim=(-0.5, 8.5), xticks=np.arange(0, 8.2, step=1))\n",
    "axs[1].set(xlim=(-0.5, 8.5), xticks=np.arange(0, 8.2, step=1))\n",
    "axs[2].set(xlim=(-0.5, 8.5), xticks=np.arange(0, 8.2, step=1))\n",
    "\n",
    "axs[2].set(xlabel=xlabel)\n",
    "axs[0].set(ylabel=r'$\\rm RV_{venus, 2012}$')\n",
    "axs[1].set(ylabel=r'$\\rm RV_{mercury, 2019}$')\n",
    "axs[2].set(ylabel=r'$\\rm RV_{mercury, 2016}$')\n",
    "fig.align_ylabels(axs)"
   ]
  },
  {
   "cell_type": "markdown",
   "metadata": {},
   "source": [
    "Line by line RVs"
   ]
  },
  {
   "cell_type": "code",
   "execution_count": null,
   "metadata": {
    "pycharm": {
     "name": "#%%\n"
    }
   },
   "outputs": [],
   "source": [
    "# correlation plot with unsigned flux and NEID RVs\n",
    "\n",
    "# Wise et al. (2018) lines\n",
    "# get Wise lines weighted orders\n",
    "wise = os.path.join(CsvDir.CCFS, 'wise_lines.csv')\n",
    "df = pd.read_pickle(wise)\n",
    "wise_dates = df.dates.values\n",
    "ccf_list = df.ccf.values\n",
    "rv_model = df.rv_model.values\n",
    "rv_error = df.rv_error.values\n",
    "wise_rv = df.rv_sun.values\n",
    "gaussian = df.gaussian.values\n",
    "wise_gauss = df.rv_gauss.values\n",
    "wise_Bobs = df.Bobs.values\n",
    "\n",
    "# find bad CCFs -- need to figure out why this is...\n",
    "bad_ccfs = np.array([np.isnan(ccf[0]) for ccf in ccf_list])\n",
    "ccf_list = ccf_list[~bad_ccfs]\n",
    "rv_model = rv_model[~bad_ccfs]\n",
    "rv_error = rv_error[~bad_ccfs]\n",
    "wise_rv = wise_rv[~bad_ccfs]\n",
    "gaussian = gaussian[~bad_ccfs]\n",
    "wise_gauss = wise_gauss[~bad_ccfs]\n",
    "wise_Bobs = wise_Bobs[~bad_ccfs]\n",
    "wise_dates = wise_dates[~bad_ccfs]\n",
    "\n",
    "FWHM = [g.fwhm for g in gaussian]\n",
    "amplitude = [g.amplitude for g in gaussian]\n",
    "sigma = [g.stddev for g in gaussian]\n",
    "\n",
    "# Fe I lines (NIST)\n",
    "# get Fe I weighted orders\n",
    "FeI = os.path.join(CsvDir.CCFS, 'FeI_lines.csv')\n",
    "df = pd.read_pickle(FeI)\n",
    "fe_dates = df.dates.values\n",
    "ccf_list = df.ccf.values\n",
    "rv_model = df.rv_model.values\n",
    "rv_error = df.rv_error.values\n",
    "fe_rv = df.rv_sun.values\n",
    "gaussian = df.gaussian.values\n",
    "fe_gauss = df.rv_gauss.values\n",
    "fe_Bobs = df.Bobs.values\n",
    "\n",
    "# find bad CCFs -- need to figure out why this is...\n",
    "bad_ccfs = np.array([np.isnan(ccf[0]) for ccf in ccf_list])\n",
    "ccf_list = ccf_list[~bad_ccfs]\n",
    "rv_model = rv_model[~bad_ccfs]\n",
    "rv_error = rv_error[~bad_ccfs]\n",
    "fe_rv = fe_rv[~bad_ccfs]\n",
    "gaussian = gaussian[~bad_ccfs]\n",
    "fe_gauss = fe_gauss[~bad_ccfs]\n",
    "fe_Bobs = fe_Bobs[~bad_ccfs]\n",
    "fe_dates = fe_dates[~bad_ccfs]\n",
    "\n",
    "FWHM = [g.fwhm for g in gaussian]\n",
    "amplitude = [g.amplitude for g in gaussian]\n",
    "sigma = [g.stddev for g in gaussian]"
   ]
  },
  {
   "cell_type": "code",
   "execution_count": null,
   "metadata": {
    "pycharm": {
     "name": "#%%\n"
    }
   },
   "outputs": [],
   "source": [
    "x_list = [wise_gauss*1e3, fe_gauss*1e3]\n",
    "y_list = [wise_Bobs, wise_rv*1e3]\n",
    "xlabel_list = [r'$\\rm RV_{\\rm active}\\/\\rm [m/s]$', r'$\\rm RV_{\\rm iron}\\/\\rm [m/s]$']\n",
    "ylabel_list = [r'$\\rm B_{\\rm obs}\\/\\rm [G]$', r'$\\rm RV_{\\rm sun}\\/\\rm [m/s]$']\n",
    "\n",
    "# plot style\n",
    "plot_style = os.path.join(PlotDir.MPL, 'correlation.mplstyle')\n",
    "plt.style.use(plot_style)\n",
    "\n",
    "# calculate correlation coefficient\n",
    "corr_one = stats.spearmanr(x_list[0], y_list[0])\n",
    "corr_two = stats.spearmanr(x_list[1], y_list[0])\n",
    "corr_three = stats.spearmanr(x_list[0], y_list[1])\n",
    "corr_four = stats.spearmanr(x_list[1], y_list[1])\n",
    "\n",
    "# setup the plot\n",
    "fig, axs = plt.subplots(2, 2, sharey='row', sharex='col', figsize=[8, 6], gridspec_kw={'hspace': 0.05, 'wspace': 0.05})\n",
    "axs[0, 0].set(ylabel=ylabel_list[0])\n",
    "# axs[0, 1].set(xlabel=xlabel_list[1])\n",
    "axs[1, 0].set(xlabel=xlabel_list[0], ylabel=ylabel_list[1])\n",
    "axs[1, 1].set(xlabel=xlabel_list[1])\n",
    "\n",
    "# plot data\n",
    "color = 'lavender'\n",
    "axs[0, 0].scatter(x_list[0], y_list[0], color=color, edgecolors='k', linewidths=1.0, label= str(np.around(corr_one[0], 2)))\n",
    "axs[0, 1].scatter(x_list[1], y_list[0], color=color, edgecolors='k', linewidths=1.0, label= str(np.around(corr_two[0], 2)))\n",
    "axs[1, 0].scatter(x_list[0], y_list[1], color=color, edgecolors='k', linewidths=1.0, label= str(np.around(corr_three[0], 2)))\n",
    "axs[1, 1].scatter(x_list[1], y_list[1], color=color, edgecolors='k', linewidths=1.0, label= str(np.around(corr_four[0], 2)))\n",
    "\n",
    "for i in range(0, 2):\n",
    "    for j in range(0, 2):\n",
    "        leg = axs[i, j].legend(handlelength=0, handletextpad=0, loc='upper left')\n",
    "        for item in leg.legendHandles:\n",
    "            item.set_visible(False)\n",
    "\n",
    "# set axes tick marks and labels\n",
    "# y labels\n",
    "axs[0, 0].set(ylim=(7.5, 11.5), yticks=np.arange(8, 11.2, step=1))\n",
    "axs[0, 1].set(ylim=(7.5, 11.5), yticks=np.arange(8, 11.2, step=1))\n",
    "\n",
    "axs[1, 0].set(ylim=(-643, -635), yticks=np.arange(-642, -635.2, step=2))\n",
    "axs[1, 1].set(ylim=(-643, -635), yticks=np.arange(-642, -635.2, step=2))\n",
    "\n",
    "# x labels\n",
    "axs[0, 0].set(xlim=(-749, -741), xticks=np.arange(-748, -741.2, step=2))\n",
    "axs[1, 0].set(xlim=(-749, -741), xticks=np.arange(-748, -741.2, step=2))\n",
    "\n",
    "axs[0, 1].set(xlim=(-619, -611), xticks=np.arange(-618, -611.2, step=2))\n",
    "axs[1, 1].set(xlim=(-619, -611), xticks=np.arange(-618, -611.2, step=2))\n",
    "\n",
    "# add text\n",
    "# axs[0, 0].text(0.2, 0.8, str(np.around(corr_one[0], 2)), horizontalalignment='left', verticalalignment='top', transform=axs[0, 0].transAxes,\n",
    "#               fontweight=10, fontsize=13, bbox=dict(facecolor='lavender', alpha=0.5, ))\n",
    "# axs[0, 1].text(0.2, 0.8, str(np.around(corr_two[0], 2)), horizontalalignment='left', verticalalignment='top', transform=axs[0, 1].transAxes,\n",
    "#               weight='heavy', fontsize=13)\n",
    "# axs[1, 0].text(0.2, 0.8, str(np.around(corr_three[0], 2)), horizontalalignment='left', verticalalignment='top', transform=axs[1, 0].transAxes,\n",
    "#               weight='bold', fontsize=13)\n",
    "# axs[1, 1].text(0.2, 0.8, str(np.around(corr_four[0], 2)), horizontalalignment='left', verticalalignment='top', transform=axs[1, 1].transAxes,\n",
    "#               weight='bold',  fontsize=13)\n",
    "\n",
    "# align y axis labels\n",
    "fig.align_ylabels(axs)\n",
    "\n",
    "print('Wise:', np.std(wise_gauss*1e3))\n",
    "print('Fe I:', np.std(fe_gauss*1e3))\n",
    "\n",
    "\n",
    "\n",
    "\n",
    "\n",
    "\n"
   ]
  },
  {
   "cell_type": "markdown",
   "metadata": {},
   "source": [
    "# Order by Order RVs"
   ]
  },
  {
   "cell_type": "code",
   "execution_count": 7,
   "metadata": {},
   "outputs": [
    {
     "name": "stderr",
     "output_type": "stream",
     "text": [
      "100%|██████████| 113/113 [00:00<00:00, 189.40it/s]\n"
     ]
    }
   ],
   "source": [
    "csv_file = os.path.join(CsvDir.CCFS, 'orders', 'ccfs.csv')\n",
    "df = pd.read_csv(csv_file)\n",
    "dates = df.date_obs.values\n",
    "jd_dates = df.date_jd.values\n",
    "Bobs = df.Bobs.values\n",
    "areas = []\n",
    "for i in df.columns[3:]:\n",
    "    area = df.loc[:, i]\n",
    "    areas.append(area)\n",
    "    \n",
    "\n",
    "waves = np.zeros(122)\n",
    "# mask info\n",
    "mask_name = 'G2_espresso.txt'\n",
    "fsr_mask = '/Users/tervin/NEID_Solar_analysis/NEIDcode/masks/neidMaster_FSR_Mask20210331_v001.fits'\n",
    "fsr_mask = fits.getdata(fsr_mask)\n",
    "fsr_mask = 1 - fsr_mask\n",
    "\n",
    "# get average wavelength per order\n",
    "config = Config.config\n",
    "mask = NEIDcode.Mask(mask_name, config['mask_half_width'], config['mask_environment'])\n",
    "all_files = glob.glob(os.path.join(CsvDir.NEID_HOUR, '*.fits'))\n",
    "f = all_files[int(len(all_files)/2)]\n",
    "fd = fits.open(f)\n",
    "flux = fd['SCIFLUX'].data\n",
    "wave = fd['SCIWAVE'].data\n",
    "head = fd[0].header\n",
    "ccfhead = fd['CCFS'].header\n",
    "\n",
    "for trueorder in tqdm(range(config['ordmin'], config['ordmax'] + 1, 1)):\n",
    "    zb = head['SSBZ%03i' % trueorder]\n",
    "    berv = head['SSBRV%03i' % trueorder]\n",
    "    raworder = config['bluest_order'] - trueorder\n",
    "    # You have to remove NaNs ahead of passing spectrum to Fortran code\n",
    "    nanfree = NEIDcode.remove_nans(flux[raworder, :], method='linear')\n",
    "    spectrum = nanfree[0]\n",
    "\n",
    "    if fsr_mask is None:\n",
    "        # Number of blaze edge pixels to clip on either side of order\n",
    "        pix_start = config['clip_edge_pixels']\n",
    "        pix_end = np.shape(flux)[1] - config['clip_edge_pixels']\n",
    "    else:\n",
    "        if np.nansum(np.logical_not(fsr_mask[raworder, :])) == 0:\n",
    "            print('fsr mask order summed to zero...sad')\n",
    "            continue\n",
    "        else:\n",
    "            pix_start = np.min(np.argwhere(np.logical_not(fsr_mask[raworder, :])))\n",
    "            pix_end = np.max(np.argwhere(np.logical_not(fsr_mask[raworder, :])))\n",
    "\n",
    "            wave_use = wave[raworder, pix_start:pix_end]\n",
    "            waves[raworder] = np.nanmean(wave_use)\n",
    "\n"
   ]
  },
  {
   "cell_type": "code",
   "execution_count": 8,
   "metadata": {},
   "outputs": [],
   "source": [
    "# csv file\n",
    "spot_csv = os.path.join(CsvDir.ACTIVE, 'high_activity_days.csv')\n",
    "\n",
    "# read it\n",
    "spots = pd.read_csv(spot_csv)\n",
    "spot_days = spots.date_jd.values\n",
    "spot_days = np.isin(jd_dates, spot_days)"
   ]
  },
  {
   "cell_type": "code",
   "execution_count": 9,
   "metadata": {},
   "outputs": [],
   "source": [
    "Bobs_corr = []\n",
    "for i, area in enumerate(areas):\n",
    "    x = Bobs[spot_days]\n",
    "    y = area[spot_days]\n",
    "    use = np.isnan(y)\n",
    "    x = x[~use]\n",
    "    y = y[~use]\n",
    "    correlation = stats.spearmanr(x, y)\n",
    "    Bobs_corr.append(correlation[0])\n",
    "\n",
    "Bobs_corr_spot = np.where(np.isnan(Bobs_corr), 0, Bobs_corr)\n"
   ]
  },
  {
   "cell_type": "code",
   "execution_count": 10,
   "metadata": {},
   "outputs": [],
   "source": [
    "Bobs_corr = []\n",
    "for i, area in enumerate(areas):\n",
    "    x = Bobs\n",
    "    y = area\n",
    "    use = np.isnan(y)\n",
    "    x = x[~use]\n",
    "    y = y[~use]\n",
    "    correlation = stats.spearmanr(x, y)\n",
    "    Bobs_corr.append(correlation[0])\n",
    "\n",
    "Bobs_corr = np.where(np.isnan(Bobs_corr), 0, Bobs_corr)"
   ]
  },
  {
   "cell_type": "code",
   "execution_count": 15,
   "metadata": {},
   "outputs": [
    {
     "data": {
      "text/plain": [
       "<matplotlib.legend.Legend at 0x7fcc89b7ae90>"
      ]
     },
     "execution_count": 15,
     "metadata": {},
     "output_type": "execute_result"
    },
    {
     "data": {
      "image/png": "[encoded data removed]",
      "text/plain": [
       "<Figure size 864x432 with 1 Axes>"
      ]
     },
     "metadata": {},
     "output_type": "display_data"
    }
   ],
   "source": [
    "# plot style\n",
    "plot_style = os.path.join(PlotDir.MPL, 'correlation.mplstyle')\n",
    "plt.style.use(plot_style)\n",
    "\n",
    "# calculate correlation coefficient\n",
    "fig = plt.figure()\n",
    "plt.rcParams['figure.figsize'] = [12, 6]\n",
    "plt.rcParams['axes.facecolor'] = 'white'\n",
    "ax = fig.add_subplot()\n",
    "fig.subplots_adjust(top=0.85)\n",
    "\n",
    "xlabel = 'Average Wavelength'\n",
    "ylabel = 'Spearman Correlation'\n",
    "x = waves\n",
    "y = Bobs_corr\n",
    "y_spot = Bobs_corr_spot\n",
    "use = np.logical_and(x >= 2000, x <= 8500)\n",
    "x = x[use]\n",
    "y = y[use]\n",
    "y_spot = y_spot[use]\n",
    "# ax.scatter(x[~spot_days], y[~spot_days], color='plum', edgecolor='k', linewidth=0.8)\n",
    "ax.scatter(x, y, color='lavender', edgecolor='k', linewidth=0.8, label='Quiet-Sun Days')\n",
    "ax.scatter(x, y_spot, color='lightcoral', edgecolor='k', linewidth=0.8, label='High Activity Days')\n",
    "ax.set(xlabel=xlabel, ylabel=ylabel)\n",
    "ax.set(xlim = (3500, 8500), yticks = np.arange(3000, 8000, step=1000))\n",
    "ax.set(ylim = (-0.9, 0.3), yticks = np.arange(-0.8, 0.23, step=.2))\n",
    "ax.legend()"
   ]
  },
  {
   "cell_type": "markdown",
   "metadata": {},
   "source": [
    "# Periodogram of integrated area"
   ]
  },
  {
   "cell_type": "code",
   "execution_count": 129,
   "metadata": {},
   "outputs": [],
   "source": [
    "csv_file = os.path.join(CsvDir.CCFS, 'ccfs.csv')\n",
    "dates, jd_dates, ccf_list, rv_sun, rv_model, rv_error, gaussian, rv_gauss, skew, int_area, Bobs, v_conv = utils.read_ccf_csv(csv_file)\n",
    "# get other gaussian parameters\n",
    "FWHM = [g.fwhm for g in gaussian]\n",
    "amplitude = [g.amplitude.value for g in gaussian]\n",
    "sigma = [g.stddev.value for g in gaussian]"
   ]
  },
  {
   "cell_type": "code",
   "execution_count": 127,
   "metadata": {},
   "outputs": [
    {
     "data": {
      "text/plain": [
       "<matplotlib.legend.Legend at 0x7fccca29e710>"
      ]
     },
     "execution_count": 127,
     "metadata": {},
     "output_type": "execute_result"
    },
    {
     "data": {
      "image/png": "[encoded data removed]",
      "text/plain": [
       "<Figure size 432x216 with 1 Axes>"
      ]
     },
     "metadata": {},
     "output_type": "display_data"
    }
   ],
   "source": [
    "# periodogram of convective velocity components\n",
    "jd = jd_dates - jd_dates[0]\n",
    "\n",
    "# conv\n",
    "drv_area = (int_area - np.mean(int_area)) * 1e2\n",
    "ls_area = lombscargle(jd, drv_area, freqs)\n",
    "\n",
    "# plot\n",
    "plot_style = os.path.join(PlotDir.MPL, 'figure_series.mplstyle')\n",
    "plt.rcParams['mathtext.fontset'] = 'custom'\n",
    "plt.rcParams['mathtext.cal'] = 'Helvetica Neue LT Pro'\n",
    "days = np.linspace(jd[0], jd[-1], 2500)\n",
    "fig = plt.figure(figsize=[6, 3])\n",
    "\n",
    "mx = np.argmax(ls_area[:2000])\n",
    "plt.plot(days, ls_area, 'red', label='Integrated Area')\n",
    "# plt.plot(days, ls_large, 'lightblue', label=r'$\\rm v_{\\rm conv, \\, large}$')\n",
    "plt.vlines([days[353]], -1, 5, colors='purple', linestyles='dashdot', label='Solar Rotation Period')\n",
    "plt.vlines([days[mx]], -1, 5, colors='lightpink', linestyles='dashdot', label='Maximum Power')\n",
    "plt.xlim(10e-1, 10e1)\n",
    "plt.ylim(-0.1,2.5)\n",
    "plt.yticks([0, 1, 2])\n",
    "plt.xscale('log')\n",
    "plt.xlabel('Period [days]')\n",
    "plt.ylabel('Power')\n",
    "plt.xlim(10e-1, 10e1)\n",
    "\n",
    "\n",
    "plt.legend()"
   ]
  },
  {
   "cell_type": "code",
   "execution_count": 147,
   "metadata": {},
   "outputs": [
    {
     "data": {
      "text/plain": [
       "<matplotlib.legend.Legend at 0x7fccc9432b10>"
      ]
     },
     "execution_count": 147,
     "metadata": {},
     "output_type": "execute_result"
    },
    {
     "data": {
      "image/png": "[encoded data removed]",
      "text/plain": [
       "<Figure size 864x432 with 1 Axes>"
      ]
     },
     "metadata": {},
     "output_type": "display_data"
    }
   ],
   "source": [
    "# periodogram of convective velocity components\n",
    "jd = jd_dates - jd_dates[0]\n",
    "\n",
    "# area\n",
    "drv_area = (int_area - np.mean(int_area)) * 1e2\n",
    "ls_area = lombscargle(jd, drv_area, freqs)\n",
    "\n",
    "# fwhm\n",
    "drv_fwhm = (FWHM - np.mean(FWHM)) * 1e2\n",
    "ls_fwhm = lombscargle(jd, drv_fwhm, freqs) \n",
    "\n",
    "# amplitude\n",
    "drv_amp = (amplitude - np.mean(amplitude)) * 1e3\n",
    "ls_amp = lombscargle(jd, drv_amp, freqs)\n",
    "\n",
    "# skew\n",
    "drv_skew = (skew - np.mean(skew)) \n",
    "ls_skew = lombscargle(jd, drv_skew, freqs) \n",
    "\n",
    "# plot\n",
    "plot_style = os.path.join(PlotDir.MPL, 'figure_series.mplstyle')\n",
    "plt.rcParams['mathtext.fontset'] = 'custom'\n",
    "plt.rcParams['mathtext.cal'] = 'Helvetica Neue LT Pro'\n",
    "days = np.linspace(jd[0], jd[-1], 2500)\n",
    "fig = plt.figure(figsize=[12, 6])\n",
    "\n",
    "mx = np.argmax(ls_area[:2000])\n",
    "plt.plot(days, ls_area, 'red', label='Integrated Area')\n",
    "plt.plot(days, ls_fwhm, 'lightblue', label='FWHM')\n",
    "plt.plot(days, ls_amp, 'lightpink', label='Amplitude')\n",
    "plt.plot(days, ls_skew, 'plum', label='Skew')\n",
    "\n",
    "plt.vlines([days[353]], -1, 5, colors='purple', linestyles='dashdot', label='Solar Rotation Period')\n",
    "# plt.vlines([days[mx]], -1, 5, colors='lightpink', linestyles='dashdot', label='Maximum Power')\n",
    "plt.xlim(10e-1, 10e1)\n",
    "plt.ylim(-0.1, 2.5)\n",
    "plt.yticks([0, 1, 2])\n",
    "plt.xscale('log')\n",
    "plt.xlabel('Period [days]')\n",
    "plt.ylabel('Power')\n",
    "plt.xlim(10e-1, 10e1)\n",
    "\n",
    "\n",
    "plt.legend()"
   ]
  },
  {
   "cell_type": "code",
   "execution_count": 124,
   "metadata": {},
   "outputs": [
    {
     "name": "stdout",
     "output_type": "stream",
     "text": [
      "113\n",
      "203\n"
     ]
    }
   ],
   "source": [
    "print(len(drv_area))\n",
    "print(mx)"
   ]
  },
  {
   "cell_type": "code",
   "execution_count": 107,
   "metadata": {},
   "outputs": [
    {
     "data": {
      "text/plain": [
       "array([-5.61518556e-04,  4.55977517e-04, -2.93852945e-03, -4.00785312e-03,\n",
       "       -3.78636557e-03, -3.86284028e-03, -7.13877136e-03, -1.54418380e-03,\n",
       "        3.29970860e-03, -3.58299018e-03, -2.81864711e-03, -1.72329471e-03,\n",
       "        7.05910520e-04, -1.39797658e-03,  3.96139804e-04, -1.41155192e-03,\n",
       "        4.43137567e-03, -3.03682268e-03, -1.62447212e-03, -3.00469041e-03,\n",
       "       -3.19026445e-03,  3.03152256e-04,  1.90154025e-03,  1.52517746e-03,\n",
       "        3.18063865e-03, -3.07699951e-04, -2.76008390e-04,  1.38184877e-03,\n",
       "        8.28936909e-03,  2.42708113e-03, -6.99207896e-04,  2.88362418e-03,\n",
       "       -1.68902101e-04,  3.45389518e-04,  4.02151293e-04,  1.80877980e-03,\n",
       "        3.01920050e-03,  4.35776468e-03,  1.96369895e-03,  3.96507663e-03,\n",
       "        2.48566813e-03,  2.24744981e-03,  6.82603640e-03,  8.18890353e-03,\n",
       "        3.62586905e-03,  5.58904625e-03,  9.93447258e-03,  2.24253081e-03,\n",
       "        1.13399719e-02,  2.00789168e-03, -1.01740431e-03,  9.64947512e-03,\n",
       "        2.34911724e-03,  3.86792897e-04,  2.48950778e-03,  7.71562737e-04,\n",
       "        9.84544661e-03,  1.08608206e-03,  1.15035671e-03,  2.01985869e-03,\n",
       "        2.10263160e-03,  2.05777951e-03,  3.57413160e-04,  4.61408206e-03,\n",
       "        4.72398532e-03,  2.20313554e-04,  2.80225686e-04, -6.90090080e-04,\n",
       "       -1.02964503e-03,  6.59443197e-03, -7.51288703e-04,  4.00402690e-03,\n",
       "        4.59849767e-03, -5.73474521e-04, -1.24432220e-03, -4.15172322e-04,\n",
       "        5.06756718e-03, -9.10348476e-05, -1.33955011e-03, -7.08976469e-04,\n",
       "       -8.51047030e-04, -1.49758987e-03, -2.49213484e-03,  1.02885807e-03,\n",
       "       -4.24266035e-03, -3.24442352e-03, -2.97895052e-03, -3.57214446e-03,\n",
       "       -4.75479521e-03, -2.98554263e-03, -2.01508565e-03, -2.67994009e-03,\n",
       "       -5.07307789e-04, -3.19618321e-03, -3.64245544e-03, -4.24359922e-03,\n",
       "       -5.08269573e-03, -4.45700436e-03, -3.26633287e-03, -1.46818297e-04,\n",
       "       -4.21300340e-03, -4.03432584e-03, -5.04637183e-03, -3.94949110e-03,\n",
       "       -3.64554119e-03, -2.95370152e-03, -3.79457693e-03, -3.19952845e-03,\n",
       "       -4.29956843e-03, -5.50394007e-03, -4.71457644e-03, -5.68237283e-03,\n",
       "       -5.09219954e-03])"
      ]
     },
     "execution_count": 107,
     "metadata": {},
     "output_type": "execute_result"
    }
   ],
   "source": [
    "int_area - np.mean(int_area)"
   ]
  },
  {
   "cell_type": "code",
   "execution_count": null,
   "metadata": {},
   "outputs": [],
   "source": []
  }
 ],
 "metadata": {
  "kernelspec": {
   "display_name": "Python 3",
   "language": "python",
   "name": "python3"
  },
  "language_info": {
   "codemirror_mode": {
    "name": "ipython",
    "version": 3
   },
   "file_extension": ".py",
   "mimetype": "text/x-python",
   "name": "python",
   "nbconvert_exporter": "python",
   "pygments_lexer": "ipython3",
   "version": "3.7.10"
  }
 },
 "nbformat": 4,
 "nbformat_minor": 1
}