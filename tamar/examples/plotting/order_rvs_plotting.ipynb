{
 "cells": [
  {
   "cell_type": "markdown",
   "metadata": {
    "collapsed": true,
    "pycharm": {
     "name": "#%% md\n"
    }
   },
   "source": [
    "# Plotting RVs for each order\n",
    "\n",
    "Used for comparison purpose with various metrics.\n"
   ]
  },
  {
   "cell_type": "code",
   "execution_count": 44,
   "outputs": [],
   "source": [
    "import os\n",
    "import glob\n",
    "import numpy as np\n",
    "import pandas as pd\n",
    "from astropy.io import fits\n",
    "import matplotlib.pyplot as plt\n",
    "import tamar.tools.plotting_funcs as plot\n",
    "from tamar.tools.settings import CsvDir"
   ],
   "metadata": {
    "collapsed": false,
    "pycharm": {
     "name": "#%%\n"
    }
   }
  },
  {
   "cell_type": "markdown",
   "source": [
    "Read in a fits file to get colormap!"
   ],
   "metadata": {
    "collapsed": false,
    "pycharm": {
     "name": "#%% md\n"
    }
   }
  },
  {
   "cell_type": "code",
   "execution_count": 45,
   "outputs": [],
   "source": [
    "neid_days = os.listdir(CsvDir.NEID_SOLAR)\n",
    "\n",
    "date = neid_days[0]\n",
    "file = os.path.join(CsvDir.NEID_SOLAR, date, 'level2', date)\n",
    "spec_fits_files = [i for i in glob.glob(os.path.join(file, '*.fits'))]"
   ],
   "metadata": {
    "collapsed": false,
    "pycharm": {
     "name": "#%%\n"
    }
   }
  },
  {
   "cell_type": "markdown",
   "source": [
    "Get wavelength colormap"
   ],
   "metadata": {
    "collapsed": false,
    "pycharm": {
     "name": "#%% md\n"
    }
   }
  },
  {
   "cell_type": "code",
   "execution_count": 46,
   "outputs": [],
   "source": [
    "# science fiber\n",
    "fib = 'SCI'\n",
    "\n",
    "# wavelength extension\n",
    "fits_extension_wavelength = fib + 'WAVE'\n",
    "\n",
    "# wavelength list in nm\n",
    "wvl = fits.getdata(spec_fits_files[0], fits_extension_wavelength) / 10."
   ],
   "metadata": {
    "collapsed": false,
    "pycharm": {
     "name": "#%%\n"
    }
   }
  },
  {
   "cell_type": "markdown",
   "source": [
    "Read in RV data"
   ],
   "metadata": {
    "collapsed": false,
    "pycharm": {
     "name": "#%% md\n"
    }
   }
  },
  {
   "cell_type": "markdown",
   "source": [
    "Read in velocities from csv."
   ],
   "metadata": {
    "collapsed": false
   }
  },
  {
   "cell_type": "code",
   "execution_count": 47,
   "outputs": [],
   "source": [
    "# csv file with rv components\n",
    "csv_file = os.path.join(CsvDir.NEID_CALC, 'order_rvs.csv')\n"
   ],
   "metadata": {
    "collapsed": false,
    "pycharm": {
     "name": "#%%\n"
    }
   }
  },
  {
   "cell_type": "markdown",
   "source": [
    "Get component lists."
   ],
   "metadata": {
    "collapsed": false
   }
  },
  {
   "cell_type": "code",
   "execution_count": 48,
   "outputs": [],
   "source": [
    "# create pandas dataframe\n",
    "component_df = pd.read_csv(csv_file)\n",
    "\n",
    "# get dates list\n",
    "dates = component_df.date_obs.values\n",
    "date_jd = component_df.date_jd.values\n",
    "date_plot = date_jd - date_jd[0]\n",
    "\n",
    "# get velocities lists\n",
    "# v_phot = component_df.v_phot.values\n",
    "# v_conv = component_df.v_conv.values\n",
    "rv_sun = component_df.rv_sun.values * 1000\n",
    "rv_error = component_df.rv_error.values\n",
    "# rv_model  = component_df.rv_model.values\n",
    "\n",
    "# get magnetic observables\n",
    "# f = component_df.f.values\n",
    "# Bobs = component_df.Bobs.values\n",
    "# f_bright = component_df.f_bright.values\n",
    "# f_spot = component_df.f_spot.values\n"
   ],
   "metadata": {
    "collapsed": false,
    "pycharm": {
     "name": "#%%\n"
    }
   }
  },
  {
   "cell_type": "markdown",
   "source": [
    "Get calculation info from calculation csv."
   ],
   "metadata": {
    "collapsed": false
   }
  },
  {
   "cell_type": "code",
   "execution_count": null,
   "outputs": [],
   "source": [
    "# data csv\n",
    "csv_file = os.path.join(CsvDir.NEID_CALC, 'rvs.csv')\n",
    "\n",
    "# create pandas dataframe\n",
    "component_df = pd.read_csv(csv_file)\n",
    "\n",
    "# get dates list\n",
    "# dates = component_df.date_obs.values\n",
    "# date_jd = component_df.date_jd.values\n",
    "# date_plot = date_jd - date_jd[0]\n",
    "\n",
    "# get velocities lists\n",
    "v_phot = component_df.v_phot.values[0:len(dates)]\n",
    "v_conv = component_df.v_conv.values[0:len(dates)]\n",
    "# rv_sun = component_df.rv_sun.values * 1000\n",
    "# rv_error = component_df.rv_error.values\n",
    "rv_model  = component_df.rv_model.values[0:len(dates)]\n",
    "\n",
    "# get magnetic observables\n",
    "f = component_df.f.values[0:len(dates)]\n",
    "Bobs = component_df.Bobs.values[0:len(dates)]\n",
    "f_bright = component_df.f_bright.values[0:len(dates)]\n",
    "f_spot = component_df.f_spot.values[0:len(dates)]\n"
   ],
   "metadata": {
    "collapsed": false,
    "pycharm": {
     "name": "#%%\n"
    }
   }
  },
  {
   "cell_type": "markdown",
   "source": [
    "Get RVs for each order."
   ],
   "metadata": {
    "collapsed": false,
    "pycharm": {
     "name": "#%% md\n"
    }
   }
  },
  {
   "cell_type": "code",
   "execution_count": 49,
   "outputs": [],
   "source": [
    "rv_orders = []\n",
    "order_numbers = np.arange(57, 170)\n",
    "for i in order_numbers:\n",
    "    i = str(i)\n",
    "    i = i.zfill(3)\n",
    "    rv_orders.append(component_df[i])\n"
   ],
   "metadata": {
    "collapsed": false,
    "pycharm": {
     "name": "#%%\n"
    }
   }
  },
  {
   "cell_type": "markdown",
   "source": [
    "Plotting wavelength RVs"
   ],
   "metadata": {
    "collapsed": false,
    "pycharm": {
     "name": "#%% md\n"
    }
   }
  },
  {
   "cell_type": "code",
   "execution_count": 51,
   "outputs": [
    {
     "name": "stderr",
     "output_type": "stream",
     "text": [
      "/Users/tervin/opt/anaconda3/envs/neid_data/lib/python3.7/site-packages/matplotlib/cbook/__init__.py:1402: FutureWarning: Support for multi-dimensional indexing (e.g. `obj[:, None]`) is deprecated and will be removed in a future version.  Convert to a numpy array before indexing instead.\n",
      "  ndim = x[:, None].ndim\n",
      "/Users/tervin/opt/anaconda3/envs/neid_data/lib/python3.7/site-packages/matplotlib/axes/_base.py:278: FutureWarning: Support for multi-dimensional indexing (e.g. `obj[:, None]`) is deprecated and will be removed in a future version.  Convert to a numpy array before indexing instead.\n",
      "  y = y[:, np.newaxis]\n"
     ]
    },
    {
     "data": {
      "text/plain": "<Figure size 432x288 with 1 Axes>",
      "image/png": "[encoded data removed]"
     },
     "metadata": {},
     "output_type": "display_data"
    }
   ],
   "source": [
    "nord = len(order_numbers)\n",
    "cmap = plt.get_cmap('Spectral')\n",
    "plt.style.use('seaborn-darkgrid')\n",
    "\n",
    "for ind, order in enumerate(range(nord)):\n",
    "    wvl_norm = 1. - (np.mean(wvl[ind,:]) - 420.) / (720. - 420.)\n",
    "    if np.floor(ind/10.) == ind/10.:\n",
    "        if rv_orders[ind].any() is not None:\n",
    "            rv_ord = rv_orders[ind] * 1e3 # convert to m/s\n",
    "            rv_ord_plot = rv_ord - np.median(rv_ord) + ind # offset the median value for plotting purposes\n",
    "            plt.plot(date_plot, rv_ord_plot, 'k', lw=3)\n",
    "            plt.plot(date_plot, rv_ord_plot, c=cmap(wvl_norm), lw=2)\n",
    "            plt.plot(date_plot, rv_ord_plot,'s', c=cmap(wvl_norm),\n",
    "                     markersize=8,markeredgewidth=1,markeredgecolor='k')\n",
    "plt.xlabel('JD Date since: ' + str(date_jd[0]))\n",
    "plt.ylabel('RV [m/s]')\n",
    "plt.title('RV by Order')\n",
    "plt.show()"
   ],
   "metadata": {
    "collapsed": false,
    "pycharm": {
     "name": "#%%\n"
    }
   }
  },
  {
   "cell_type": "code",
   "execution_count": 50,
   "outputs": [],
   "source": [],
   "metadata": {
    "collapsed": false,
    "pycharm": {
     "name": "#%%\n"
    }
   }
  }
 ],
 "metadata": {
  "kernelspec": {
   "display_name": "Python 3",
   "language": "python",
   "name": "python3"
  },
  "language_info": {
   "codemirror_mode": {
    "name": "ipython",
    "version": 2
   },
   "file_extension": ".py",
   "mimetype": "text/x-python",
   "name": "python",
   "nbconvert_exporter": "python",
   "pygments_lexer": "ipython2",
   "version": "2.7.6"
  }
 },
 "nbformat": 4,
 "nbformat_minor": 0
}