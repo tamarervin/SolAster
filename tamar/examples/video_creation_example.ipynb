{
 "cells": [
  {
   "cell_type": "code",
   "execution_count": 1,
   "metadata": {
    "collapsed": true,
    "pycharm": {
     "name": "#%%\n"
    }
   },
   "outputs": [
    {
     "name": "stderr",
     "output_type": "stream",
     "text": [
      "\n",
      "Bad key \"text.kerning_factor\" on line 4 in\n",
      "/Users/tervin/opt/anaconda3/envs/neid_data/lib/python3.7/site-packages/matplotlib/mpl-data/stylelib/_classic_test_patch.mplstyle.\n",
      "You probably need to get an updated matplotlibrc file from\n",
      "https://github.com/matplotlib/matplotlib/blob/v3.1.2/matplotlibrc.template\n",
      "or from the matplotlib source distribution\n"
     ]
    }
   ],
   "source": [
    "%matplotlib inline"
   ]
  },
  {
   "cell_type": "markdown",
   "metadata": {
    "pycharm": {
     "name": "#%% md\n"
    }
   },
   "source": [
    "# Creating a video of Sunpy SDO and HMI data products\n",
    "\n",
    "Shows how to download data from both sources, plot maps, and create movies."
   ]
  },
  {
   "cell_type": "code",
   "execution_count": 1,
   "metadata": {
    "pycharm": {
     "name": "#%%\n"
    }
   },
   "outputs": [
    {
     "name": "stderr",
     "output_type": "stream",
     "text": [
      "\n",
      "Bad key \"text.kerning_factor\" on line 4 in\n",
      "/Users/tervin/opt/anaconda3/envs/neid_data/lib/python3.7/site-packages/matplotlib/mpl-data/stylelib/_classic_test_patch.mplstyle.\n",
      "You probably need to get an updated matplotlibrc file from\n",
      "https://github.com/matplotlib/matplotlib/blob/v3.1.2/matplotlibrc.template\n",
      "or from the matplotlib source distribution\n"
     ]
    }
   ],
   "source": [
    "import os\n",
    "import numpy as np\n",
    "\n",
    "import matplotlib.pyplot as plt\n",
    "import matplotlib.animation as animation\n",
    "import matplotlib.colors as colors\n",
    "\n",
    "import astropy.units as u\n",
    "\n",
    "import sunpy.map\n",
    "from sunpy.net import Fido\n",
    "from sunpy.net import attrs as a\n",
    "import sunpy.visualization.colormaps as cm\n",
    "\n",
    "from tamar.tools.settings import MovDir"
   ]
  },
  {
   "cell_type": "markdown",
   "metadata": {
    "pycharm": {
     "name": "#%% md\n"
    }
   },
   "source": [
    "To download the required data, we use ``sunpy.net.Fido``, a downloader client,\n",
    "to query the Virtual Solar Observatory to acquire AIA and HMI data.\n",
    "\n",
    "The following is the data available:\n",
    "HMI Bands (A): 171 (gold), 193 (bronze), 304 (red), 211 (purple), 131 (teal), 335 (blue), 094 (green),\n",
    "1600 (yellow/green), 1700 (pink)\n",
    "HMI Products: Magnetogram, Intensitygram, Dopplergram"
   ]
  },
  {
   "cell_type": "code",
   "execution_count": 2,
   "metadata": {
    "pycharm": {
     "name": "#%%\n"
    }
   },
   "outputs": [],
   "source": [
    "# data parameters\n",
    "cadence = a.Sample(2*u.hour)  # querying cadence\n",
    "start_date = '2012-07-4T12:00:00'  # start date of query\n",
    "end_date = '2012-07-8T12:00:00'  # end date of query\n",
    "\n",
    "# AIA specific parameters\n",
    "aia_inst = a.Instrument.aia\n",
    "# list of all available wavelengths for reference\n",
    "wavelength_list = [a.Wavelength(94 * u.angstrom), a.Wavelength(131 * u.angstrom), a.Wavelength(171 * u.angstrom),\n",
    "                   a.Wavelength(193 * u.angstrom), a.Wavelength(211 * u.angstrom), a.Wavelength(304 * u.angstrom),\n",
    "                   a.Wavelength(335 * u.angstrom), a.Wavelength(1600 * u.angstrom), a.Wavelength(1700 * u.angstrom)]\n",
    "\n",
    "# HMI specific parameters\n",
    "hmi_inst = a.Instrument.hmi\n",
    "# list of physical observables available\n",
    "physobs_list = [a.Physobs.los_velocity, a.Physobs.los_magnetic_field, a.Physobs.intensity]"
   ]
  },
  {
   "cell_type": "markdown",
   "metadata": {
    "pycharm": {
     "name": "#%% md\n"
    }
   },
   "source": [
    "Now we can look at querying for specific information. We can look for results from\n",
    "multiple instruments, wavelengths, and physical observables at once.\n",
    "\n",
    "It is useful to search for results before download to ensure you don't download excessive\n",
    "amounts of data.\n"
   ]
  },
  {
   "cell_type": "code",
   "execution_count": 4,
   "metadata": {
    "pycharm": {
     "name": "#%%\n"
    }
   },
   "outputs": [],
   "source": [
    "# result = Fido.search(a.Time(start_date, end_date),\n",
    "#                      aia_inst | hmi_inst, wavelength_list[0] | wavelength_list[1] | wavelength_list[2] | wavelength_list[3]\n",
    "#                      | wavelength_list[4] | wavelength_list[5] | wavelength_list[6] | wavelength_list[7] | wavelength_list[8]\n",
    "#                      | physobs_list[0] | physobs_list[1] | physobs_list[2],\n",
    "#                      cadence)\n",
    "\n",
    "# result = Fido.search(a.Time(start_date, end_date),\n",
    "#                      aia_inst, wavelength_list[0]  | wavelength_list[2] | wavelength_list[3]\n",
    "#                      | wavelength_list[6], cadence)\n",
    "\n",
    "\n",
    "result = Fido.search(a.Time(start_date, end_date),\n",
    "                     aia_inst, wavelength_list[2], cadence)"
   ]
  },
  {
   "cell_type": "markdown",
   "metadata": {
    "pycharm": {
     "name": "#%% md\n"
    }
   },
   "source": [
    "Next we download the actual data found from our search."
   ]
  },
  {
   "cell_type": "code",
   "execution_count": null,
   "metadata": {
    "pycharm": {
     "is_executing": true,
     "name": "#%%\n"
    }
   },
   "outputs": [
    {
     "data": {
      "application/vnd.jupyter.widget-view+json": {
       "model_id": "56078e44fc0e4a099346115fa500a5ae",
       "version_major": 2,
       "version_minor": 0
      },
      "text/plain": [
       "Files Downloaded:   0%|          | 0/91 [00:00<?, ?file/s]"
      ]
     },
     "metadata": {},
     "output_type": "display_data"
    },
    {
     "data": {
      "application/vnd.jupyter.widget-view+json": {
       "model_id": "fdb3def193264be59557b42b62312287",
       "version_major": 2,
       "version_minor": 0
      },
      "text/plain": [
       "aia_lev1_335a_2020_12_19t12_00_00_63z_image_lev1.fits:   0%|          | 0.00/7.02M [00:00<?, ?B/s]"
      ]
     },
     "metadata": {},
     "output_type": "display_data"
    },
    {
     "data": {
      "application/vnd.jupyter.widget-view+json": {
       "model_id": "916caf3a41e641c9b9500abcf7436f51",
       "version_major": 2,
       "version_minor": 0
      },
      "text/plain": [
       "aia_lev1_335a_2020_12_17t12_00_00_63z_image_lev1.fits:   0%|          | 0.00/7.01M [00:00<?, ?B/s]"
      ]
     },
     "metadata": {},
     "output_type": "display_data"
    },
    {
     "data": {
      "application/vnd.jupyter.widget-view+json": {
       "model_id": "0f717a62c94845e0b1110db4352482a2",
       "version_major": 2,
       "version_minor": 0
      },
      "text/plain": [
       "aia_lev1_335a_2020_12_15t12_00_00_63z_image_lev1.fits:   0%|          | 0.00/7.02M [00:00<?, ?B/s]"
      ]
     },
     "metadata": {},
     "output_type": "display_data"
    },
    {
     "data": {
      "application/vnd.jupyter.widget-view+json": {
       "model_id": "1b3173bfee624c93bd51523e74895499",
       "version_major": 2,
       "version_minor": 0
      },
      "text/plain": [
       "aia_lev1_335a_2020_12_18t12_00_00_63z_image_lev1.fits:   0%|          | 0.00/7.01M [00:00<?, ?B/s]"
      ]
     },
     "metadata": {},
     "output_type": "display_data"
    },
    {
     "data": {
      "application/vnd.jupyter.widget-view+json": {
       "model_id": "c6b34a152fed4b0eaece623edb74e457",
       "version_major": 2,
       "version_minor": 0
      },
      "text/plain": [
       "aia_lev1_335a_2020_12_16t12_00_00_63z_image_lev1.fits:   0%|          | 0.00/7.02M [00:00<?, ?B/s]"
      ]
     },
     "metadata": {},
     "output_type": "display_data"
    },
    {
     "data": {
      "application/vnd.jupyter.widget-view+json": {
       "model_id": "9faf289229a54d69800ddb567d47c878",
       "version_major": 2,
       "version_minor": 0
      },
      "text/plain": [
       "aia_lev1_335a_2020_12_20t12_00_00_62z_image_lev1.fits:   0%|          | 0.00/7.02M [00:00<?, ?B/s]"
      ]
     },
     "metadata": {},
     "output_type": "display_data"
    },
    {
     "data": {
      "application/vnd.jupyter.widget-view+json": {
       "model_id": "ad2c576e30a94ed783ffe7b821d50e0c",
       "version_major": 2,
       "version_minor": 0
      },
      "text/plain": [
       "aia_lev1_335a_2020_12_21t12_00_00_62z_image_lev1.fits:   0%|          | 0.00/7.02M [00:00<?, ?B/s]"
      ]
     },
     "metadata": {},
     "output_type": "display_data"
    },
    {
     "data": {
      "application/vnd.jupyter.widget-view+json": {
       "model_id": "a2e28289f82144cda5b4e8960aaa9bd0",
       "version_major": 2,
       "version_minor": 0
      },
      "text/plain": [
       "aia_lev1_335a_2020_12_22t12_00_00_63z_image_lev1.fits:   0%|          | 0.00/7.03M [00:00<?, ?B/s]"
      ]
     },
     "metadata": {},
     "output_type": "display_data"
    },
    {
     "data": {
      "application/vnd.jupyter.widget-view+json": {
       "model_id": "002f36bbea6340b5af8e94a84829b541",
       "version_major": 2,
       "version_minor": 0
      },
      "text/plain": [
       "aia_lev1_335a_2020_12_23t12_00_00_63z_image_lev1.fits:   0%|          | 0.00/7.04M [00:00<?, ?B/s]"
      ]
     },
     "metadata": {},
     "output_type": "display_data"
    },
    {
     "data": {
      "application/vnd.jupyter.widget-view+json": {
       "model_id": "1b60e958a84b4bc68cda489b0dab02ce",
       "version_major": 2,
       "version_minor": 0
      },
      "text/plain": [
       "aia_lev1_335a_2020_12_24t12_00_00_63z_image_lev1.fits:   0%|          | 0.00/7.04M [00:00<?, ?B/s]"
      ]
     },
     "metadata": {},
     "output_type": "display_data"
    },
    {
     "data": {
      "application/vnd.jupyter.widget-view+json": {
       "model_id": "691f81ba26204b95952972aced2f239d",
       "version_major": 2,
       "version_minor": 0
      },
      "text/plain": [
       "aia_lev1_335a_2020_12_26t12_00_00_62z_image_lev1.fits:   0%|          | 0.00/7.03M [00:00<?, ?B/s]"
      ]
     },
     "metadata": {},
     "output_type": "display_data"
    },
    {
     "data": {
      "application/vnd.jupyter.widget-view+json": {
       "model_id": "db9c4353be234bfa8d0e7413208a5d8c",
       "version_major": 2,
       "version_minor": 0
      },
      "text/plain": [
       "aia_lev1_335a_2020_12_27t12_00_00_63z_image_lev1.fits:   0%|          | 0.00/7.03M [00:00<?, ?B/s]"
      ]
     },
     "metadata": {},
     "output_type": "display_data"
    },
    {
     "data": {
      "application/vnd.jupyter.widget-view+json": {
       "model_id": "cb8dbb7e3c734bd289224d4c6353fc39",
       "version_major": 2,
       "version_minor": 0
      },
      "text/plain": [
       "aia_lev1_335a_2020_12_25t12_00_00_62z_image_lev1.fits:   0%|          | 0.00/7.03M [00:00<?, ?B/s]"
      ]
     },
     "metadata": {},
     "output_type": "display_data"
    },
    {
     "data": {
      "application/vnd.jupyter.widget-view+json": {
       "model_id": "183b7b114a3e4116a05057dbaa22d54c",
       "version_major": 2,
       "version_minor": 0
      },
      "text/plain": [
       "aia_lev1_335a_2020_12_29t12_00_00_63z_image_lev1.fits:   0%|          | 0.00/7.03M [00:00<?, ?B/s]"
      ]
     },
     "metadata": {},
     "output_type": "display_data"
    },
    {
     "data": {
      "application/vnd.jupyter.widget-view+json": {
       "model_id": "87b18d3a601c4506bbb3fb37c6679297",
       "version_major": 2,
       "version_minor": 0
      },
      "text/plain": [
       "aia_lev1_335a_2020_12_28t12_00_00_62z_image_lev1.fits:   0%|          | 0.00/7.03M [00:00<?, ?B/s]"
      ]
     },
     "metadata": {},
     "output_type": "display_data"
    },
    {
     "data": {
      "application/vnd.jupyter.widget-view+json": {
       "model_id": "2e4fd10824e5446ba134edb11cd82607",
       "version_major": 2,
       "version_minor": 0
      },
      "text/plain": [
       "aia_lev1_335a_2020_12_30t12_00_00_63z_image_lev1.fits:   0%|          | 0.00/7.03M [00:00<?, ?B/s]"
      ]
     },
     "metadata": {},
     "output_type": "display_data"
    }
   ],
   "source": [
    "file_download = Fido.fetch(result)"
   ]
  },
  {
   "cell_type": "markdown",
   "metadata": {
    "pycharm": {
     "name": "#%% md\n"
    }
   },
   "source": [
    "After downloading our data, we want to sort it by date.\n",
    "We then build a map sequence of our data."
   ]
  },
  {
   "cell_type": "code",
   "execution_count": null,
   "metadata": {
    "pycharm": {
     "is_executing": true,
     "name": "#%%\n"
    }
   },
   "outputs": [
    {
     "name": "stderr",
     "output_type": "stream",
     "text": [
      "Task was destroyed but it is pending!\n",
      "task: <Task pending coro=<Downloader._write_worker() running at /Users/tervin/opt/anaconda3/envs/neid_data/lib/python3.7/site-packages/parfive/downloader.py:515> wait_for=<Future pending cb=[<TaskWakeupMethWrapper object at 0x7f9059fde510>()]>>\n",
      "Task was destroyed but it is pending!\n",
      "task: <Task pending coro=<Downloader._write_worker() running at /Users/tervin/opt/anaconda3/envs/neid_data/lib/python3.7/site-packages/parfive/downloader.py:515> wait_for=<Future pending cb=[<TaskWakeupMethWrapper object at 0x7f9059fde6d0>()]>>\n",
      "Task was destroyed but it is pending!\n",
      "task: <Task pending coro=<Downloader._write_worker() running at /Users/tervin/opt/anaconda3/envs/neid_data/lib/python3.7/site-packages/parfive/downloader.py:515> wait_for=<Future pending cb=[<TaskWakeupMethWrapper object at 0x7f9059d50e10>()]>>\n",
      "Exception ignored in: <coroutine object Downloader._write_worker at 0x7f9075338710>\n",
      "Traceback (most recent call last):\n",
      "  File \"/Users/tervin/opt/anaconda3/envs/neid_data/lib/python3.7/site-packages/parfive/downloader.py\", line 515, in _write_worker\n",
      "    offset, chunk = await queue.get()\n",
      "  File \"/Users/tervin/opt/anaconda3/envs/neid_data/lib/python3.7/asyncio/queues.py\", line 161, in get\n",
      "    getter.cancel()  # Just in case getter is not done yet.\n",
      "  File \"/Users/tervin/opt/anaconda3/envs/neid_data/lib/python3.7/asyncio/base_events.py\", line 691, in call_soon\n",
      "    self._check_closed()\n",
      "  File \"/Users/tervin/opt/anaconda3/envs/neid_data/lib/python3.7/asyncio/base_events.py\", line 479, in _check_closed\n",
      "    raise RuntimeError('Event loop is closed')\n",
      "RuntimeError: Event loop is closed\n",
      "Exception ignored in: <coroutine object Downloader._write_worker at 0x7f9075c330e0>\n",
      "Traceback (most recent call last):\n",
      "  File \"/Users/tervin/opt/anaconda3/envs/neid_data/lib/python3.7/site-packages/parfive/downloader.py\", line 515, in _write_worker\n",
      "    offset, chunk = await queue.get()\n",
      "  File \"/Users/tervin/opt/anaconda3/envs/neid_data/lib/python3.7/asyncio/queues.py\", line 161, in get\n",
      "    getter.cancel()  # Just in case getter is not done yet.\n",
      "  File \"/Users/tervin/opt/anaconda3/envs/neid_data/lib/python3.7/asyncio/base_events.py\", line 691, in call_soon\n",
      "    self._check_closed()\n",
      "  File \"/Users/tervin/opt/anaconda3/envs/neid_data/lib/python3.7/asyncio/base_events.py\", line 479, in _check_closed\n",
      "    raise RuntimeError('Event loop is closed')\n",
      "RuntimeError: Event loop is closed\n",
      "Exception ignored in: <coroutine object Downloader._write_worker at 0x7f9072cb5290>\n",
      "Traceback (most recent call last):\n",
      "  File \"/Users/tervin/opt/anaconda3/envs/neid_data/lib/python3.7/site-packages/parfive/downloader.py\", line 515, in _write_worker\n",
      "    offset, chunk = await queue.get()\n",
      "  File \"/Users/tervin/opt/anaconda3/envs/neid_data/lib/python3.7/asyncio/queues.py\", line 161, in get\n",
      "    getter.cancel()  # Just in case getter is not done yet.\n",
      "  File \"/Users/tervin/opt/anaconda3/envs/neid_data/lib/python3.7/asyncio/base_events.py\", line 691, in call_soon\n",
      "    self._check_closed()\n",
      "  File \"/Users/tervin/opt/anaconda3/envs/neid_data/lib/python3.7/asyncio/base_events.py\", line 479, in _check_closed\n",
      "    raise RuntimeError('Event loop is closed')\n",
      "RuntimeError: Event loop is closed\n"
     ]
    }
   ],
   "source": [
    "file_download = sorted(file_download)\n",
    "map_seq = sunpy.map.Map(file_download)\n",
    "# print(map_seq)"
   ]
  },
  {
   "cell_type": "markdown",
   "metadata": {
    "pycharm": {
     "name": "#%% md\n"
    }
   },
   "source": [
    "Get information regarding the metadata of the data products."
   ]
  },
  {
   "cell_type": "code",
   "execution_count": null,
   "metadata": {
    "pycharm": {
     "is_executing": true,
     "name": "#%%\n"
    }
   },
   "outputs": [],
   "source": [
    "print(\"AIA 131:\", map_seq[0].meta)\n",
    "print(\"AIA 1700:\", map_seq[4].meta)\n",
    "print(\"Magnetogram:\", map_seq[-4].meta)\n",
    "print(\"Dopplergram:\", map_seq[-1].meta)\n",
    "print(\"Intensitygram:\", map_seq[-6].meta)\n",
    "print(\"Magneto Keys:\", map_seq[-4].meta.keys())\n",
    "print(\"Doppler Keys:\", map_seq[-1].meta.keys())\n",
    "print(\"Intensity Keys:\", map_seq[-6].meta.keys())"
   ]
  },
  {
   "cell_type": "markdown",
   "metadata": {
    "pycharm": {
     "name": "#%% md\n"
    }
   },
   "source": [
    "We then want to split our downloaded files by instrument.\n",
    "Additionally, we want AIA images split by wavelength and HMI\n",
    "by data product."
   ]
  },
  {
   "cell_type": "code",
   "execution_count": null,
   "metadata": {
    "pycharm": {
     "is_executing": true,
     "name": "#%%\n"
    }
   },
   "outputs": [],
   "source": [
    "# aia_171 = [np.where(map_seq[i].meta['wavelnth'] == 171, ) for i in range(0, len(file_download))]\n",
    "# aia_211 = [np.where(map_seq[i].meta['wavelnth'] == 304) for i in range(0, len(file_download))]\n",
    "# hmi = [np.where(map_seq[i].meta['wavelnth'] == 6173) for i in range(0, len(file_download))]\n",
    "#\n",
    "# print(aia_171)\n",
    "\n",
    "# hmi_vel = [np.where(hmi[i].meta['content'] == 'DOPPLERGRAM') for i in range(0, len(hmi))]\n",
    "# hmi_mag = [np.where(hmi[i].meta['content'] == 'MAGNETOGRAM') for i in range(0, len(hmi))]"
   ]
  },
  {
   "cell_type": "code",
   "execution_count": null,
   "metadata": {
    "pycharm": {
     "is_executing": true,
     "name": "#%%\n"
    }
   },
   "outputs": [],
   "source": [
    "aia_094, aia_131, aia_171, aia_193, aia_211, aia_304, aia_335, aia_1600, aia_1700, hmi_vel, hmi_mag, hmi_int \\\n",
    "    = [], [], [], [], [], [], [], [], [], [], [], []\n",
    "for i, map_obj in enumerate(map_seq):\n",
    "    if map_obj.meta['wavelnth'] == 94:\n",
    "        aia_094.append(map_obj)\n",
    "    elif map_obj.meta['wavelnth'] == 131:\n",
    "        aia_131.append(map_obj)\n",
    "    elif map_obj.meta['wavelnth'] == 171:\n",
    "        aia_171.append(map_obj)\n",
    "    elif map_obj.meta['wavelnth'] == 193:\n",
    "        aia_193.append(map_obj)\n",
    "    elif map_obj.meta['wavelnth'] == 211:\n",
    "        aia_211.append(map_obj)\n",
    "    elif map_obj.meta['wavelnth'] == 304:\n",
    "        aia_304.append(map_obj)\n",
    "    elif map_obj.meta['wavelnth'] == 335:\n",
    "        aia_335.append(map_obj)\n",
    "    elif map_obj.meta['wavelnth'] == 1600:\n",
    "        aia_1600.append(map_obj)\n",
    "    elif map_obj.meta['wavelnth'] == 1700:\n",
    "        aia_1700.append(map_obj)\n",
    "    elif map_obj.meta['wavelnth'] == 6173 and map_obj.meta['content'] == 'DOPPLERGRAM':\n",
    "        hmi_vel.append(map_obj)\n",
    "    elif map_obj.meta['wavelnth'] == 6173 and map_obj.meta['content'] == 'MAGNETOGRAM':\n",
    "        hmi_mag.append(map_obj)\n",
    "    elif map_obj.meta['wavelnth'] == 6173 and map_obj.meta['content'] == 'CONTINUUM INTENSITY':\n",
    "        hmi_int.append(map_obj)\n",
    "\n",
    "# check this worked!\n",
    "# print(aia_211)"
   ]
  },
  {
   "cell_type": "markdown",
   "metadata": {
    "pycharm": {
     "name": "#%% md\n"
    }
   },
   "source": [
    "We can now make some plots of this data.\n",
    "Don't forget to rotate HMI images such that they are oriented the same as AIA."
   ]
  },
  {
   "cell_type": "code",
   "execution_count": null,
   "metadata": {
    "pycharm": {
     "is_executing": true,
     "name": "#%%\n"
    }
   },
   "outputs": [],
   "source": [
    "\n",
    "fig, axs = plt.subplots(2, 2)\n",
    "fig.suptitle(\"Images %s\" % (str(aia_171[0].meta['t_obs'])))\n",
    "axs[0, 0].set_title(\"%s %s\" % (str(aia_171[0].meta['telescop']), str(aia_171[0].meta['wavelnth'])))\n",
    "axs[0, 1].set_title(\"%s %s\" % (str(aia_211[0].meta['telescop']), str(aia_211[0].meta['wavelnth'])))\n",
    "axs[1, 0].set_title(\"%s %s\" % (str(hmi_vel[0].meta['telescop']), str(hmi_vel[0].meta['content'])))\n",
    "axs[1, 1].set_title(\"%s %s\" % (str(hmi_mag[0].meta['telescop']), str(hmi_mag[0].meta['content'])))\n",
    "\n",
    "for j in range(0, 2):\n",
    "    for k in range(0, 2):\n",
    "        axs[j, k].set_xticks([])\n",
    "        axs[j, k].set_yticks([])\n",
    "\n",
    "aia_171[0].plot(axes=axs[0, 0], annotate=False)\n",
    "aia_211[0].plot(axes=axs[0, 1], annotate=False)\n",
    "\n",
    "# make sure you rotate HMI images\n",
    "hmi_vel_rot = hmi_vel[0].rotate(order=3)\n",
    "hmi_vel_rot.plot(axes=axs[1, 0], annotate=False)\n",
    "hmi_mag_rot = hmi_mag[0].rotate(order=3)\n",
    "hmi_mag_rot.plot(axes=axs[1, 1], annotate=False)\n",
    "\n",
    "plt.show()\n"
   ]
  },
  {
   "cell_type": "markdown",
   "metadata": {
    "pycharm": {
     "name": "#%% md\n"
    }
   },
   "source": [
    "Now we make a movie!\n",
    "\n",
    "First, we want the list of colormaps that correspond to each\n",
    "data product."
   ]
  },
  {
   "cell_type": "code",
   "execution_count": null,
   "metadata": {
    "pycharm": {
     "is_executing": true,
     "name": "#%%\n"
    }
   },
   "outputs": [],
   "source": [
    "print(cm.cmlist.keys())"
   ]
  },
  {
   "cell_type": "markdown",
   "metadata": {
    "pycharm": {
     "name": "#%% md\n"
    }
   },
   "source": [
    "Then we can start creating the movies. You can have any combination\n",
    "of instruments, data products, and wavelengths.\n",
    "\n",
    "We will start with a movie of just AIA Images."
   ]
  },
  {
   "cell_type": "code",
   "execution_count": null,
   "metadata": {
    "pycharm": {
     "is_executing": true,
     "name": "#%%\n"
    }
   },
   "outputs": [],
   "source": [
    "# set some basic parameters regarding movie creation\n",
    "fps = 2  # frames per second\n",
    "movie_path = os.path.join(MovDir, 'movie_title.mp4') # path to store movie\n",
    "fig, axs = plt.subplots(2, 2)\n",
    "\n",
    "def animate(i):\n",
    "    products_list = [aia_094, aia_131, aia_171, aia_193]\n",
    "    fig.suptitle(\"Images %s\" % (str(products_list[0][i].meta['t_obs'])))\n",
    "    axs[0, 0].set_title(\"%s %s\" % (str(products_list[0][i].meta['telescop']), str(products_list[0][i].meta['wavelnth'])))\n",
    "    axs[0, 1].set_title(\"%s %s\" % (str(products_list[1][i].meta['telescop']), str(products_list[1][i].meta['wavelnth'])))\n",
    "    axs[1, 0].set_title(\"%s %s\" % (str(products_list[2][i].meta['telescop']), str(products_list[2][i].meta['wavelnth'])))\n",
    "    axs[1, 1].set_title(\"%s %s\" % (str(products_list[3][i].meta['telescop']), str(products_list[3][i].meta['wavelnth'])))\n",
    "\n",
    "    for j in range(0, 2):\n",
    "        for k in range(0, 2):\n",
    "            axs[j, k].set_xticks([])\n",
    "            axs[j, k].set_yticks([])\n",
    "\n",
    "    plot_obj0 = axs[0, 0].imshow(products_list[0][i].data, cmap=plt.get_cmap('sdoaia94'), norm=colors.LogNorm())\n",
    "    plot_obj1 = axs[0, 1].imshow(products_list[1][i].data, cmap=plt.get_cmap('sdoaia131'), norm=colors.LogNorm())\n",
    "    plot_obj2 = axs[1, 0].imshow(products_list[2][i].data, cmap=plt.get_cmap('sdoaia171'), norm=colors.LogNorm())\n",
    "    plot_obj3 = axs[1, 1].imshow(products_list[3][i].data, cmap=plt.get_cmap('sdoaia193'), norm=colors.LogNorm())\n",
    "\n",
    "    plot_obj0.set_data(products_list[0][i].data)\n",
    "    plot_obj1.set_data(products_list[1][i].data)\n",
    "    plot_obj2.set_data(products_list[2][i].data)\n",
    "    plot_obj3.set_data(products_list[3][i].data)\n",
    "\n",
    "    return plot_obj0, plot_obj1, plot_obj2, plot_obj3\n",
    "\n",
    "anim = animation.FuncAnimation(fig, animate, init_func=None, frames=len(aia_171), interval=100, blit=True)\n",
    "Writer = animation.writers['ffmpeg']\n",
    "writer = Writer(fps, metadata=dict(artist='Me'), bitrate=1800)\n",
    "\n",
    "anim.save(movie_path, writer=writer)\n",
    "plt.close(fig)\n"
   ]
  },
  {
   "cell_type": "markdown",
   "metadata": {
    "pycharm": {
     "name": "#%% md\n"
    }
   },
   "source": [
    "Another one with just AIA to look at the other wavelengths."
   ]
  },
  {
   "cell_type": "code",
   "execution_count": null,
   "metadata": {
    "pycharm": {
     "is_executing": true,
     "name": "#%%\n"
    }
   },
   "outputs": [],
   "source": [
    "# set some basic parameters regarding movie creation\n",
    "fps = 2  # frames per second\n",
    "movie_path = 'milbourne_movie2.mp4'  # path to store movie\n",
    "fig, axs = plt.subplots(2, 2)\n",
    "\n",
    "def animate(i):\n",
    "    products_list = [aia_211, aia_304, aia_335, aia_1600]\n",
    "    fig.suptitle(\"Images %s\" % (str(products_list[0][i].meta['t_obs'])))\n",
    "    axs[0, 0].set_title(\"%s %s\" % (str(products_list[0][i].meta['telescop']), str(products_list[0][i].meta['wavelnth'])))\n",
    "    axs[0, 1].set_title(\"%s %s\" % (str(products_list[1][i].meta['telescop']), str(products_list[1][i].meta['wavelnth'])))\n",
    "    axs[1, 0].set_title(\"%s %s\" % (str(products_list[2][i].meta['telescop']), str(products_list[2][i].meta['wavelnth'])))\n",
    "    axs[1, 1].set_title(\"%s %s\" % (str(products_list[3][i].meta['telescop']), str(products_list[3][i].meta['wavelnth'])))\n",
    "\n",
    "    for j in range(0, 2):\n",
    "        for k in range(0, 2):\n",
    "            axs[j, k].set_xticks([])\n",
    "            axs[j, k].set_yticks([])\n",
    "\n",
    "    plot_obj0 = axs[0, 0].imshow(products_list[0][i].data, cmap=plt.get_cmap('sdoaia211'), norm=colors.LogNorm())\n",
    "    plot_obj1 = axs[0, 1].imshow(products_list[1][i].data, cmap=plt.get_cmap('sdoaia304'), norm=colors.LogNorm())\n",
    "    plot_obj2 = axs[1, 0].imshow(products_list[2][i].data, cmap=plt.get_cmap('sdoaia335'), norm=colors.LogNorm())\n",
    "    plot_obj3 = axs[1, 1].imshow(products_list[3][i].data, cmap=plt.get_cmap('sdoaia1600'), norm=colors.LogNorm())\n",
    "\n",
    "    plot_obj0.set_data(products_list[0][i].data)\n",
    "    plot_obj1.set_data(products_list[1][i].data)\n",
    "    plot_obj2.set_data(products_list[2][i].data)\n",
    "    plot_obj3.set_data(products_list[3][i].data)\n",
    "\n",
    "    return plot_obj0, plot_obj1, plot_obj2, plot_obj3\n",
    "\n",
    "anim = animation.FuncAnimation(fig, animate, init_func=None, frames=len(aia_171), interval=100, blit=True)\n",
    "Writer = animation.writers['ffmpeg']\n",
    "writer = Writer(fps, metadata=dict(artist='Me'), bitrate=1800)\n",
    "\n",
    "anim.save(movie_path, writer=writer)\n",
    "plt.close(fig)\n"
   ]
  },
  {
   "cell_type": "markdown",
   "metadata": {
    "pycharm": {
     "name": "#%% md\n"
    }
   },
   "source": [
    "Now we are going to create a movie with both AIA and HMI data products.\n",
    "We have to ensure that we rotate the HMI products such that the axes match."
   ]
  },
  {
   "cell_type": "code",
   "execution_count": null,
   "metadata": {
    "pycharm": {
     "is_executing": true,
     "name": "#%%\n"
    }
   },
   "outputs": [],
   "source": [
    "# set some basic parameters regarding movie creation\n",
    "fps = 2  # frames per second\n",
    "movie_path = 'milbourne_movie3.mp4'  # path to store movie\n",
    "fig, axs = plt.subplots(2, 2)\n",
    "\n",
    "def animate(i):\n",
    "    products_list = [aia_1700, hmi_vel, hmi_mag, hmi_int]\n",
    "    fig.suptitle(\"Images %s\" % (str(products_list[0][i].meta['t_obs'])))\n",
    "    axs[0, 0].set_title(\"%s %s\" % (str(products_list[0][i].meta['telescop']), str(products_list[0][i].meta['wavelnth'])))\n",
    "    axs[0, 1].set_title(\"%s %s\" % (str(products_list[1][i].meta['telescop']), str(products_list[1][i].meta['content'])))\n",
    "    axs[1, 0].set_title(\"%s %s\" % (str(products_list[2][i].meta['telescop']), str(products_list[2][i].meta['content'])))\n",
    "    axs[1, 1].set_title(\"%s %s\" % (str(products_list[3][i].meta['telescop']), str(products_list[3][i].meta['content'])))\n",
    "\n",
    "    for j in range(0, 2):\n",
    "        for k in range(0, 2):\n",
    "            axs[j, k].set_xticks([])\n",
    "            axs[j, k].set_yticks([])\n",
    "\n",
    "    plot_obj0 = axs[0, 0].imshow(products_list[0][i].data, cmap=plt.get_cmap('sdoaia1700'), norm=colors.LogNorm())\n",
    "    hmi_vel_rot = products_list[1][i].rotate(order=3)\n",
    "    hmi_mag_rot = products_list[2][i].rotate(order=3)\n",
    "    hmi_int_rot = products_list[3][i].rotate(order=3)\n",
    "    plot_obj1 = axs[0, 1].imshow(hmi_vel_rot.data, cmap=plt.get_cmap('hmimag'), norm=colors.Normalize())\n",
    "    plot_obj2 = axs[1, 0].imshow(hmi_mag_rot.data, cmap=plt.get_cmap('hmimag'), norm=colors.Normalize())\n",
    "    plot_obj3 = axs[1, 1].imshow(hmi_int_rot.data, cmap=plt.get_cmap('hinodesotintensity'), norm=colors.Normalize())\n",
    "\n",
    "    plot_obj0.set_data(products_list[0][i].data)\n",
    "    plot_obj1.set_data(hmi_vel_rot.data)\n",
    "    plot_obj2.set_data(hmi_mag_rot.data)\n",
    "    plot_obj3.set_data(hmi_int_rot.data)\n",
    "\n",
    "    return plot_obj0, plot_obj1, plot_obj2, plot_obj3\n",
    "\n",
    "products_list = [aia_1700, hmi_vel, hmi_mag, hmi_int]\n",
    "anim = animation.FuncAnimation(fig, animate, init_func=None, frames=len(products_list[-1]), interval=100, blit=True)\n",
    "Writer = animation.writers['ffmpeg']\n",
    "writer = Writer(fps, metadata=dict(artist='Me'), bitrate=1800)\n",
    "\n",
    "anim.save(movie_path, writer=writer)\n",
    "plt.close(fig)\n"
   ]
  },
  {
   "cell_type": "code",
   "execution_count": null,
   "metadata": {
    "pycharm": {
     "is_executing": true,
     "name": "#%%\n"
    }
   },
   "outputs": [],
   "source": [
    "result = Fido.search(a.Time(start_date, end_date),\n",
    "                     hmi_inst, physobs_list[0] | physobs_list[1] | physobs_list[2],\n",
    "                     cadence)"
   ]
  },
  {
   "cell_type": "code",
   "execution_count": null,
   "metadata": {
    "pycharm": {
     "is_executing": true,
     "name": "#%%\n"
    }
   },
   "outputs": [],
   "source": [
    "hmi_vel, hmi_mag, hmi_int \\\n",
    "    = [], [], []\n",
    "for i, map_obj in enumerate(map_seq):\n",
    "    if map_obj.meta['wavelnth'] == 6173 and map_obj.meta['content'] == 'DOPPLERGRAM':\n",
    "        hmi_vel.append(map_obj)\n",
    "    elif map_obj.meta['wavelnth'] == 6173 and map_obj.meta['content'] == 'MAGNETOGRAM':\n",
    "        hmi_mag.append(map_obj)\n",
    "    elif map_obj.meta['wavelnth'] == 6173 and map_obj.meta['content'] == 'CONTINUUM INTENSITY':\n",
    "        hmi_int.append(map_obj)\n"
   ]
  },
  {
   "cell_type": "code",
   "execution_count": null,
   "metadata": {
    "pycharm": {
     "is_executing": true,
     "name": "#%%\n"
    }
   },
   "outputs": [],
   "source": [
    "print(len(hmi_vel))\n",
    "print(len(hmi_mag))\n",
    "print(len(hmi_int))\n"
   ]
  },
  {
   "cell_type": "code",
   "execution_count": null,
   "metadata": {
    "pycharm": {
     "is_executing": true,
     "name": "#%%\n"
    }
   },
   "outputs": [],
   "source": []
  }
 ],
 "metadata": {
  "kernelspec": {
   "display_name": "Python 3",
   "language": "python",
   "name": "python3"
  },
  "language_info": {
   "codemirror_mode": {
    "name": "ipython",
    "version": 3
   },
   "file_extension": ".py",
   "mimetype": "text/x-python",
   "name": "python",
   "nbconvert_exporter": "python",
   "pygments_lexer": "ipython3",
   "version": "3.7.10"
  }
 },
 "nbformat": 4,
 "nbformat_minor": 1
}