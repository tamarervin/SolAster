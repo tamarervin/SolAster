{
 "cells": [
  {
   "cell_type": "markdown",
   "metadata": {
    "collapsed": true,
    "pycharm": {
     "name": "#%% md\n"
    }
   },
   "source": [
    "# Examples using Sunpy for querying and plotting"
   ]
  },
  {
   "cell_type": "markdown",
   "metadata": {
    "pycharm": {
     "name": "#%% md\n"
    }
   },
   "source": [
    "## Querying data"
   ]
  },
  {
   "cell_type": "code",
   "execution_count": null,
   "metadata": {
    "pycharm": {
     "name": "#%%\n"
    }
   },
   "outputs": [],
   "source": [
    "import numpy as np\n",
    "\n",
    "import matplotlib.pyplot as plt\n",
    "import matplotlib.animation as animation\n",
    "import matplotlib.colors as colors\n",
    "\n",
    "import astropy.units as u\n",
    "\n",
    "import sunpy.map\n",
    "from sunpy.net import Fido\n",
    "from sunpy.net import attrs as a\n",
    "import sunpy.visualization.colormaps as cm"
   ]
  },
  {
   "cell_type": "markdown",
   "metadata": {},
   "source": [
    "To download the required data, we use ``sunpy.net.Fido``, a downloader client,\n",
    "to query the Virtual Solar Observatory to acquire AIA and HMI data.\n",
    "\n",
    "The following is the data available:\n",
    "HMI Bands (A): 171 (gold), 193 (bronze), 304 (red), 211 (purple), 131 (teal), 335 (blue), 094 (green),\n",
    "1600 (yellow/green), 1700 (pink)\n",
    "HMI Products: Magnetogram, Intensitygram, Dopplergram\n"
   ]
  },
  {
   "cell_type": "code",
   "execution_count": null,
   "metadata": {
    "pycharm": {
     "name": "#%%\n"
    }
   },
   "outputs": [],
   "source": [
    "# data parameters\n",
    "cadence = a.Sample(24*u.hour)  # querying cadence\n",
    "start_date = '2021-1-1T12:00:00'  # start date of query\n",
    "end_date = '2021-01-5T12:00:00'  # end date of query\n",
    "\n",
    "# AIA specific parameters\n",
    "aia_inst = a.Instrument.aia\n",
    "# list of all available wavelengths for reference\n",
    "wavelength_list = [a.Wavelength(94 * u.angstrom), a.Wavelength(131 * u.angstrom), a.Wavelength(171 * u.angstrom),\n",
    "                   a.Wavelength(193 * u.angstrom), a.Wavelength(211 * u.angstrom), a.Wavelength(304 * u.angstrom),\n",
    "                   a.Wavelength(335 * u.angstrom), a.Wavelength(1600 * u.angstrom), a.Wavelength(1700 * u.angstrom)]\n",
    "\n",
    "# HMI specific parameters\n",
    "hmi_inst = a.Instrument.hmi\n",
    "# list of physical observables available\n",
    "physobs_list = [a.Physobs.los_velocity, a.Physobs.los_magnetic_field, a.Physobs.intensity]"
   ]
  },
  {
   "cell_type": "markdown",
   "metadata": {},
   "source": [
    "Now we can look at querying for specific information. We can look for results from\n",
    "multiple instruments, wavelengths, and physical observables at once.\n",
    "\n",
    "It is useful to search for results before download to ensure you don't download excessive\n",
    "amounts of data.\n"
   ]
  },
  {
   "cell_type": "markdown",
   "metadata": {
    "pycharm": {
     "name": "#%% md\n"
    }
   },
   "source": [
    "Let's say we only want these specific results from AIA. We search for images at a 24 hour cadence between our start\n",
    "and end times at specified wavelengths."
   ]
  },
  {
   "cell_type": "code",
   "execution_count": null,
   "metadata": {
    "pycharm": {
     "name": "#%%\n"
    }
   },
   "outputs": [],
   "source": [
    "aia_result = Fido.search(a.Time(start_date, end_date),\n",
    "                     aia_inst, wavelength_list[0]  | wavelength_list[2] | wavelength_list[3]\n",
    "                     | wavelength_list[6], cadence)"
   ]
  },
  {
   "cell_type": "markdown",
   "metadata": {
    "pycharm": {
     "name": "#%% md\n"
    }
   },
   "source": [
    "We can do the same with HMI data products."
   ]
  },
  {
   "cell_type": "code",
   "execution_count": null,
   "metadata": {
    "pycharm": {
     "name": "#%%\n"
    }
   },
   "outputs": [],
   "source": [
    "hmi_result = Fido.search(a.Time(start_date, end_date),\n",
    "                     a.Instrument.hmi, physobs_list[0] | physobs_list[1] | physobs_list[2], cadence)\n"
   ]
  },
  {
   "cell_type": "markdown",
   "metadata": {
    "pycharm": {
     "name": "#%% md\n"
    }
   },
   "source": [
    "You can also query for both instruments simultaneously."
   ]
  },
  {
   "cell_type": "code",
   "execution_count": null,
   "metadata": {
    "pycharm": {
     "name": "#%%\n"
    }
   },
   "outputs": [],
   "source": [
    "result = Fido.search(a.Time(start_date, end_date),\n",
    "                     aia_inst | hmi_inst, wavelength_list[0] | wavelength_list[1] | wavelength_list[2] | wavelength_list[3]\n",
    "                     | wavelength_list[4] | wavelength_list[5] | wavelength_list[6] | wavelength_list[7] | wavelength_list[8]\n",
    "                     | physobs_list[0] | physobs_list[1] | physobs_list[2],\n",
    "                     cadence)"
   ]
  },
  {
   "cell_type": "markdown",
   "metadata": {
    "pycharm": {
     "name": "#%% md\n"
    }
   },
   "source": [
    "Next we download the actual data found from our search."
   ]
  },
  {
   "cell_type": "code",
   "execution_count": null,
   "metadata": {
    "pycharm": {
     "name": "#%%\n"
    }
   },
   "outputs": [],
   "source": [
    "# get aia files\n",
    "file_download = Fido.fetch(result)\n"
   ]
  },
  {
   "cell_type": "markdown",
   "metadata": {},
   "source": [
    "After downloading our data, we want to sort it by date.\n",
    "We then build a map sequence of our data."
   ]
  },
  {
   "cell_type": "code",
   "execution_count": null,
   "metadata": {
    "pycharm": {
     "name": "#%%\n"
    }
   },
   "outputs": [],
   "source": [
    "map_seq = sunpy.map.Map(sorted(file_download))\n"
   ]
  },
  {
   "cell_type": "markdown",
   "metadata": {
    "pycharm": {
     "name": "#%% md\n"
    }
   },
   "source": [
    "If we want to split our results by data products."
   ]
  },
  {
   "cell_type": "code",
   "execution_count": null,
   "metadata": {
    "pycharm": {
     "name": "#%%\n"
    }
   },
   "outputs": [],
   "source": [
    "aia_094, aia_131, aia_171, aia_193, aia_211, aia_304, aia_335, aia_1600, aia_1700, hmi_vel, hmi_mag, hmi_int \\\n",
    "    = [], [], [], [], [], [], [], [], [], [], [], []\n",
    "for i, map_obj in enumerate(map_seq):\n",
    "    if map_obj.meta['wavelnth'] == 94:\n",
    "        aia_094.append(map_obj)\n",
    "    elif map_obj.meta['wavelnth'] == 131:\n",
    "        aia_131.append(map_obj)\n",
    "    elif map_obj.meta['wavelnth'] == 171:\n",
    "        aia_171.append(map_obj)\n",
    "    elif map_obj.meta['wavelnth'] == 193:\n",
    "        aia_193.append(map_obj)\n",
    "    elif map_obj.meta['wavelnth'] == 211:\n",
    "        aia_211.append(map_obj)\n",
    "    elif map_obj.meta['wavelnth'] == 304:\n",
    "        aia_304.append(map_obj)\n",
    "    elif map_obj.meta['wavelnth'] == 335:\n",
    "        aia_335.append(map_obj)\n",
    "    elif map_obj.meta['wavelnth'] == 1600:\n",
    "        aia_1600.append(map_obj)\n",
    "    elif map_obj.meta['wavelnth'] == 1700:\n",
    "        aia_1700.append(map_obj)\n",
    "    elif map_obj.meta['wavelnth'] == 6173 and map_obj.meta['content'] == 'DOPPLERGRAM':\n",
    "        hmi_vel.append(map_obj)\n",
    "    elif map_obj.meta['wavelnth'] == 6173 and map_obj.meta['content'] == 'MAGNETOGRAM':\n",
    "        hmi_mag.append(map_obj)\n",
    "    elif map_obj.meta['wavelnth'] == 6173 and map_obj.meta['content'] == 'CONTINUUM INTENSITY':\n",
    "        hmi_int.append(map_obj)"
   ]
  },
  {
   "cell_type": "markdown",
   "metadata": {
    "pycharm": {
     "name": "#%% md\n"
    }
   },
   "source": [
    "## Plotting images"
   ]
  },
  {
   "cell_type": "markdown",
   "metadata": {
    "pycharm": {
     "name": "#%% md\n"
    }
   },
   "source": [
    "You can plot individual images using inherent Sunpy features."
   ]
  },
  {
   "cell_type": "code",
   "execution_count": null,
   "metadata": {
    "pycharm": {
     "name": "#%%\n"
    }
   },
   "outputs": [],
   "source": [
    "aia_211.peek()  # this plots the aia image with colorbar, axes, title"
   ]
  },
  {
   "cell_type": "code",
   "execution_count": null,
   "metadata": {
    "pycharm": {
     "name": "#%%\n"
    }
   },
   "outputs": [],
   "source": [
    "aia_211.plot()  # this just plots the data, allows you to customize\n",
    "plt.show()"
   ]
  },
  {
   "cell_type": "markdown",
   "metadata": {
    "pycharm": {
     "name": "#%% md\n"
    }
   },
   "source": [
    "Plotting HMI images requires us to rotate the image to match the orientation of AIA images.\n",
    "\n",
    "The same peek and plot methods work for HMI images."
   ]
  },
  {
   "cell_type": "code",
   "execution_count": null,
   "metadata": {
    "pycharm": {
     "name": "#%%\n"
    }
   },
   "outputs": [],
   "source": [
    "hmi_vel_rot = hmi_vel[0].rotate(order=3)\n",
    "hmi_vel_rot.peek()"
   ]
  },
  {
   "cell_type": "markdown",
   "metadata": {},
   "source": [
    "We can now make some plots of multiple data types.\n",
    "Don't forget to rotate HMI images such that they are oriented the same as AIA."
   ]
  },
  {
   "cell_type": "code",
   "execution_count": null,
   "metadata": {
    "pycharm": {
     "name": "#%%\n"
    }
   },
   "outputs": [],
   "source": [
    "fig, axs = plt.subplots(2, 2)\n",
    "fig.suptitle(\"Images %s\" % (str(aia_171[0].meta['t_obs'])))\n",
    "axs[0, 0].set_title(\"%s %s\" % (str(aia_171[0].meta['telescop']), str(aia_171[0].meta['wavelnth'])))\n",
    "axs[0, 1].set_title(\"%s %s\" % (str(aia_211[0].meta['telescop']), str(aia_211[0].meta['wavelnth'])))\n",
    "axs[1, 0].set_title(\"%s %s\" % (str(hmi_vel[0].meta['telescop']), str(hmi_vel[0].meta['content'])))\n",
    "axs[1, 1].set_title(\"%s %s\" % (str(hmi_mag[0].meta['telescop']), str(hmi_mag[0].meta['content'])))\n",
    "\n",
    "for j in range(0, 2):\n",
    "    for k in range(0, 2):\n",
    "        axs[j, k].set_xticks([])\n",
    "        axs[j, k].set_yticks([])\n",
    "\n",
    "aia_171[0].plot(axes=axs[0, 0], annotate=False)\n",
    "aia_211[0].plot(axes=axs[0, 1], annotate=False)\n",
    "\n",
    "# make sure you rotate HMI images\n",
    "hmi_vel_rot = hmi_vel[0].rotate(order=3)\n",
    "hmi_vel_rot.plot(axes=axs[1, 0], annotate=False)\n",
    "hmi_mag_rot = hmi_mag[0].rotate(order=3)\n",
    "hmi_mag_rot.plot(axes=axs[1, 1], annotate=False)\n",
    "\n",
    "plt.show()"
   ]
  }
 ],
 "metadata": {
  "kernelspec": {
   "display_name": "Python 3",
   "language": "python",
   "name": "python3"
  },
  "language_info": {
   "codemirror_mode": {
    "name": "ipython",
    "version": 3
   },
   "file_extension": ".py",
   "mimetype": "text/x-python",
   "name": "python",
   "nbconvert_exporter": "python",
   "pygments_lexer": "ipython3",
   "version": "3.7.10"
  }
 },
 "nbformat": 4,
 "nbformat_minor": 1
}
