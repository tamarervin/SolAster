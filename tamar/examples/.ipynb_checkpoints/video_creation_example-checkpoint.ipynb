{
 "cells": [
  {
   "cell_type": "code",
   "execution_count": 1,
   "metadata": {
    "collapsed": true,
    "pycharm": {
     "name": "#%%\n"
    }
   },
   "outputs": [
    {
     "name": "stderr",
     "output_type": "stream",
     "text": [
      "\n",
      "Bad key \"text.kerning_factor\" on line 4 in\n",
      "/Users/tervin/opt/anaconda3/envs/neid_data/lib/python3.7/site-packages/matplotlib/mpl-data/stylelib/_classic_test_patch.mplstyle.\n",
      "You probably need to get an updated matplotlibrc file from\n",
      "https://github.com/matplotlib/matplotlib/blob/v3.1.2/matplotlibrc.template\n",
      "or from the matplotlib source distribution\n"
     ]
    }
   ],
   "source": [
    "%matplotlib inline"
   ]
  },
  {
   "cell_type": "markdown",
   "metadata": {
    "pycharm": {
     "name": "#%% md\n"
    }
   },
   "source": [
    "# Creating a video of Sunpy SDO and HMI data products\n",
    "\n",
    "Shows how to download data from both sources, plot maps, and create movies."
   ]
  },
  {
   "cell_type": "code",
   "execution_count": 1,
   "metadata": {
    "pycharm": {
     "name": "#%%\n"
    }
   },
   "outputs": [
    {
     "name": "stderr",
     "output_type": "stream",
     "text": [
      "\n",
      "Bad key \"text.kerning_factor\" on line 4 in\n",
      "/Users/tervin/opt/anaconda3/envs/neid_data/lib/python3.7/site-packages/matplotlib/mpl-data/stylelib/_classic_test_patch.mplstyle.\n",
      "You probably need to get an updated matplotlibrc file from\n",
      "https://github.com/matplotlib/matplotlib/blob/v3.1.2/matplotlibrc.template\n",
      "or from the matplotlib source distribution\n"
     ]
    }
   ],
   "source": [
    "import numpy as np\n",
    "\n",
    "import matplotlib.pyplot as plt\n",
    "import matplotlib.animation as animation\n",
    "import matplotlib.colors as colors\n",
    "\n",
    "import astropy.units as u\n",
    "\n",
    "import sunpy.map\n",
    "from sunpy.net import Fido\n",
    "from sunpy.net import attrs as a\n",
    "import sunpy.visualization.colormaps as cm"
   ]
  },
  {
   "cell_type": "markdown",
   "metadata": {
    "pycharm": {
     "name": "#%% md\n"
    }
   },
   "source": [
    "To download the required data, we use ``sunpy.net.Fido``, a downloader client,\n",
    "to query the Virtual Solar Observatory to acquire AIA and HMI data.\n",
    "\n",
    "The following is the data available:\n",
    "HMI Bands (A): 171 (gold), 193 (bronze), 304 (red), 211 (purple), 131 (teal), 335 (blue), 094 (green),\n",
    "1600 (yellow/green), 1700 (pink)\n",
    "HMI Products: Magnetogram, Intensitygram, Dopplergram"
   ]
  },
  {
   "cell_type": "code",
   "execution_count": 15,
   "metadata": {
    "pycharm": {
     "name": "#%%\n"
    }
   },
   "outputs": [],
   "source": [
    "# data parameters\n",
    "cadence = a.Sample(24*u.hour)  # querying cadence\n",
    "start_date = '2020-12-15T12:00:00'  # start date of query\n",
    "end_date = '2021-01-15T12:00:00'  # end date of query\n",
    "\n",
    "# AIA specific parameters\n",
    "aia_inst = a.Instrument.aia\n",
    "# list of all available wavelengths for reference\n",
    "wavelength_list = [a.Wavelength(94 * u.angstrom), a.Wavelength(131 * u.angstrom), a.Wavelength(171 * u.angstrom),\n",
    "                   a.Wavelength(193 * u.angstrom), a.Wavelength(211 * u.angstrom), a.Wavelength(304 * u.angstrom),\n",
    "                   a.Wavelength(335 * u.angstrom), a.Wavelength(1600 * u.angstrom), a.Wavelength(1700 * u.angstrom)]\n",
    "\n",
    "# HMI specific parameters\n",
    "hmi_inst = a.Instrument.hmi\n",
    "# list of physical observables available\n",
    "physobs_list = [a.Physobs.los_velocity, a.Physobs.los_magnetic_field, a.Physobs.intensity]"
   ]
  },
  {
   "cell_type": "markdown",
   "metadata": {
    "pycharm": {
     "name": "#%% md\n"
    }
   },
   "source": [
    "Now we can look at querying for specific information. We can look for results from\n",
    "multiple instruments, wavelengths, and physical observables at once.\n",
    "\n",
    "It is useful to search for results before download to ensure you don't download excessive\n",
    "amounts of data.\n"
   ]
  },
  {
   "cell_type": "code",
   "execution_count": 16,
   "metadata": {
    "pycharm": {
     "name": "#%%\n"
    }
   },
   "outputs": [],
   "source": [
    "# result = Fido.search(a.Time(start_date, end_date),\n",
    "#                      aia_inst | hmi_inst, wavelength_list[0] | wavelength_list[1] | wavelength_list[2] | wavelength_list[3]\n",
    "#                      | wavelength_list[4] | wavelength_list[5] | wavelength_list[6] | wavelength_list[7] | wavelength_list[8]\n",
    "#                      | physobs_list[0] | physobs_list[1] | physobs_list[2],\n",
    "#                      cadence)\n",
    "\n",
    "result = Fido.search(a.Time(start_date, end_date),\n",
    "                     aia_inst, wavelength_list[0]  | wavelength_list[2] | wavelength_list[3] | wavelength_list[6], \n",
    "                     cadence)"
   ]
  },
  {
   "cell_type": "code",
   "execution_count": 17,
   "metadata": {},
   "outputs": [
    {
     "name": "stdout",
     "output_type": "stream",
     "text": [
      "Results from 4 Providers:\n",
      "\n",
      "31 Results from the VSOClient:\n",
      "       Start Time       ...\n",
      "                        ...\n",
      "----------------------- ...\n",
      "2020-12-15 12:00:11.000 ...\n",
      "2020-12-16 12:00:11.000 ...\n",
      "2020-12-17 12:00:11.000 ...\n",
      "2020-12-18 12:00:11.000 ...\n",
      "2020-12-19 12:00:11.000 ...\n",
      "2020-12-20 12:00:11.000 ...\n",
      "2020-12-21 12:00:11.000 ...\n",
      "2020-12-22 12:00:11.000 ...\n",
      "2020-12-23 12:00:11.000 ...\n",
      "2020-12-24 12:00:11.000 ...\n",
      "                    ... ...\n",
      "2021-01-05 12:00:11.000 ...\n",
      "2021-01-06 12:00:11.000 ...\n",
      "2021-01-07 12:00:11.000 ...\n",
      "2021-01-08 12:00:11.000 ...\n",
      "2021-01-09 12:00:11.000 ...\n",
      "2021-01-10 12:00:11.000 ...\n",
      "2021-01-11 12:00:11.000 ...\n",
      "2021-01-12 12:00:11.000 ...\n",
      "2021-01-13 12:00:11.000 ...\n",
      "2021-01-14 12:00:11.000 ...\n",
      "Length = 31 rows\n",
      "\n",
      "31 Results from the VSOClient:\n",
      "       Start Time       ...\n",
      "                        ...\n",
      "----------------------- ...\n",
      "2020-12-15 12:00:09.000 ...\n",
      "2020-12-16 12:00:09.000 ...\n",
      "2020-12-17 12:00:09.000 ...\n",
      "2020-12-18 12:00:09.000 ...\n",
      "2020-12-19 12:00:09.000 ...\n",
      "2020-12-20 12:00:09.000 ...\n",
      "2020-12-21 12:00:09.000 ...\n",
      "2020-12-22 12:00:09.000 ...\n",
      "2020-12-23 12:00:09.000 ...\n",
      "2020-12-24 12:00:09.000 ...\n",
      "                    ... ...\n",
      "2021-01-05 12:00:09.000 ...\n",
      "2021-01-06 12:00:09.000 ...\n",
      "2021-01-07 12:00:09.000 ...\n",
      "2021-01-08 12:00:09.000 ...\n",
      "2021-01-09 12:00:09.000 ...\n",
      "2021-01-10 12:00:09.000 ...\n",
      "2021-01-11 12:00:09.000 ...\n",
      "2021-01-12 12:00:09.000 ...\n",
      "2021-01-13 12:00:09.000 ...\n",
      "2021-01-14 12:00:09.000 ...\n",
      "Length = 31 rows\n",
      "\n",
      "31 Results from the VSOClient:\n",
      "       Start Time       ...\n",
      "                        ...\n",
      "----------------------- ...\n",
      "2020-12-15 12:00:04.000 ...\n",
      "2020-12-16 12:00:04.000 ...\n",
      "2020-12-17 12:00:04.000 ...\n",
      "2020-12-18 12:00:04.000 ...\n",
      "2020-12-19 12:00:04.000 ...\n",
      "2020-12-20 12:00:04.000 ...\n",
      "2020-12-21 12:00:04.000 ...\n",
      "2020-12-22 12:00:04.000 ...\n",
      "2020-12-23 12:00:04.000 ...\n",
      "2020-12-24 12:00:04.000 ...\n",
      "                    ... ...\n",
      "2021-01-05 12:00:04.000 ...\n",
      "2021-01-06 12:00:04.000 ...\n",
      "2021-01-07 12:00:04.000 ...\n",
      "2021-01-08 12:00:04.000 ...\n",
      "2021-01-09 12:00:04.000 ...\n",
      "2021-01-10 12:00:04.000 ...\n",
      "2021-01-11 12:00:04.000 ...\n",
      "2021-01-12 12:00:04.000 ...\n",
      "2021-01-13 12:00:04.000 ...\n",
      "2021-01-14 12:00:04.000 ...\n",
      "Length = 31 rows\n",
      "\n",
      "32 Results from the VSOClient:\n",
      "       Start Time       ...\n",
      "                        ...\n",
      "----------------------- ...\n",
      "2020-12-15 12:00:00.000 ...\n",
      "2020-12-16 12:00:00.000 ...\n",
      "2020-12-17 12:00:00.000 ...\n",
      "2020-12-18 12:00:00.000 ...\n",
      "2020-12-19 12:00:00.000 ...\n",
      "2020-12-20 12:00:00.000 ...\n",
      "2020-12-21 12:00:00.000 ...\n",
      "2020-12-22 12:00:00.000 ...\n",
      "2020-12-23 12:00:00.000 ...\n",
      "2020-12-24 12:00:00.000 ...\n",
      "                    ... ...\n",
      "2021-01-06 12:00:00.000 ...\n",
      "2021-01-07 12:00:00.000 ...\n",
      "2021-01-08 12:00:00.000 ...\n",
      "2021-01-09 12:00:00.000 ...\n",
      "2021-01-10 12:00:00.000 ...\n",
      "2021-01-11 12:00:00.000 ...\n",
      "2021-01-12 12:00:00.000 ...\n",
      "2021-01-13 12:00:00.000 ...\n",
      "2021-01-14 12:00:00.000 ...\n",
      "2021-01-15 12:00:00.000 ...\n",
      "Length = 32 rows\n",
      "\n",
      "\n"
     ]
    }
   ],
   "source": [
    "print(result)"
   ]
  },
  {
   "cell_type": "markdown",
   "metadata": {
    "pycharm": {
     "name": "#%% md\n"
    }
   },
   "source": [
    "Next we download the actual data found from our search."
   ]
  },
  {
   "cell_type": "code",
   "execution_count": 18,
   "metadata": {
    "pycharm": {
     "is_executing": true,
     "name": "#%%\n"
    }
   },
   "outputs": [
    {
     "data": {
      "application/vnd.jupyter.widget-view+json": {
       "model_id": "0c4d1b01adf04b3980f06465bdc4b196",
       "version_major": 2,
       "version_minor": 0
      },
      "text/plain": [
       "Files Downloaded:   0%|          | 0/125 [00:00<?, ?file/s]"
      ]
     },
     "metadata": {},
     "output_type": "display_data"
    },
    {
     "data": {
      "application/vnd.jupyter.widget-view+json": {
       "model_id": "ffeafd0bddcf403ea2760855f92f1603",
       "version_major": 2,
       "version_minor": 0
      },
      "text/plain": [
       "aia_lev1_94a_2020_12_17t12_00_11_12z_image_lev1.fits:   0%|          | 0.00/10.6M [00:00<?, ?B/s]"
      ]
     },
     "metadata": {},
     "output_type": "display_data"
    },
    {
     "data": {
      "application/vnd.jupyter.widget-view+json": {
       "model_id": "805eba76b0f1425780eacc14bff376c7",
       "version_major": 2,
       "version_minor": 0
      },
      "text/plain": [
       "aia_lev1_94a_2020_12_18t12_00_11_12z_image_lev1.fits:   0%|          | 0.00/10.6M [00:00<?, ?B/s]"
      ]
     },
     "metadata": {},
     "output_type": "display_data"
    },
    {
     "data": {
      "application/vnd.jupyter.widget-view+json": {
       "model_id": "ad09980acce74cbdada98570136466b7",
       "version_major": 2,
       "version_minor": 0
      },
      "text/plain": [
       "aia_lev1_94a_2020_12_15t12_00_11_12z_image_lev1.fits:   0%|          | 0.00/10.6M [00:00<?, ?B/s]"
      ]
     },
     "metadata": {},
     "output_type": "display_data"
    },
    {
     "data": {
      "application/vnd.jupyter.widget-view+json": {
       "model_id": "1d8caffcd3674038bce3ea0ac29f1edd",
       "version_major": 2,
       "version_minor": 0
      },
      "text/plain": [
       "aia_lev1_94a_2020_12_19t12_00_11_11z_image_lev1.fits:   0%|          | 0.00/10.6M [00:00<?, ?B/s]"
      ]
     },
     "metadata": {},
     "output_type": "display_data"
    },
    {
     "data": {
      "application/vnd.jupyter.widget-view+json": {
       "model_id": "badfa945e7d34b25b7f734414e9037be",
       "version_major": 2,
       "version_minor": 0
      },
      "text/plain": [
       "aia_lev1_94a_2020_12_16t12_00_11_12z_image_lev1.fits:   0%|          | 0.00/10.6M [00:00<?, ?B/s]"
      ]
     },
     "metadata": {},
     "output_type": "display_data"
    },
    {
     "data": {
      "application/vnd.jupyter.widget-view+json": {
       "model_id": "95a63b9f4d3c4e2fa7e3bca84bfce913",
       "version_major": 2,
       "version_minor": 0
      },
      "text/plain": [
       "aia_lev1_94a_2020_12_20t12_00_11_12z_image_lev1.fits:   0%|          | 0.00/10.6M [00:00<?, ?B/s]"
      ]
     },
     "metadata": {},
     "output_type": "display_data"
    },
    {
     "data": {
      "application/vnd.jupyter.widget-view+json": {
       "model_id": "006b9b42440441fcbab668565d4ecfff",
       "version_major": 2,
       "version_minor": 0
      },
      "text/plain": [
       "aia_lev1_94a_2020_12_21t12_00_11_12z_image_lev1.fits:   0%|          | 0.00/10.6M [00:00<?, ?B/s]"
      ]
     },
     "metadata": {},
     "output_type": "display_data"
    },
    {
     "data": {
      "application/vnd.jupyter.widget-view+json": {
       "model_id": "f068a991d3224b77b0ee186af953f3eb",
       "version_major": 2,
       "version_minor": 0
      },
      "text/plain": [
       "aia_lev1_94a_2020_12_23t12_00_11_12z_image_lev1.fits:   0%|          | 0.00/10.6M [00:00<?, ?B/s]"
      ]
     },
     "metadata": {},
     "output_type": "display_data"
    },
    {
     "data": {
      "application/vnd.jupyter.widget-view+json": {
       "model_id": "989fa8b759c9491b95567a68c9a7c9de",
       "version_major": 2,
       "version_minor": 0
      },
      "text/plain": [
       "aia_lev1_94a_2020_12_24t12_00_11_11z_image_lev1.fits:   0%|          | 0.00/10.6M [00:00<?, ?B/s]"
      ]
     },
     "metadata": {},
     "output_type": "display_data"
    },
    {
     "data": {
      "application/vnd.jupyter.widget-view+json": {
       "model_id": "c6e41cdd3307454fabae591fd28bc773",
       "version_major": 2,
       "version_minor": 0
      },
      "text/plain": [
       "aia_lev1_94a_2020_12_22t12_00_11_12z_image_lev1.fits:   0%|          | 0.00/10.6M [00:00<?, ?B/s]"
      ]
     },
     "metadata": {},
     "output_type": "display_data"
    },
    {
     "data": {
      "application/vnd.jupyter.widget-view+json": {
       "model_id": "e8815fce43674b6ca3240dc6bfe1eb37",
       "version_major": 2,
       "version_minor": 0
      },
      "text/plain": [
       "aia_lev1_94a_2020_12_25t12_00_11_12z_image_lev1.fits:   0%|          | 0.00/10.6M [00:00<?, ?B/s]"
      ]
     },
     "metadata": {},
     "output_type": "display_data"
    },
    {
     "data": {
      "application/vnd.jupyter.widget-view+json": {
       "model_id": "e3a569a21c93407da694ab07d1c37dde",
       "version_major": 2,
       "version_minor": 0
      },
      "text/plain": [
       "aia_lev1_94a_2020_12_26t12_00_11_12z_image_lev1.fits:   0%|          | 0.00/10.6M [00:00<?, ?B/s]"
      ]
     },
     "metadata": {},
     "output_type": "display_data"
    },
    {
     "data": {
      "application/vnd.jupyter.widget-view+json": {
       "model_id": "f8988a8935404c16acfd8aeadea5838c",
       "version_major": 2,
       "version_minor": 0
      },
      "text/plain": [
       "aia_lev1_94a_2020_12_27t12_00_11_12z_image_lev1.fits:   0%|          | 0.00/10.6M [00:00<?, ?B/s]"
      ]
     },
     "metadata": {},
     "output_type": "display_data"
    },
    {
     "data": {
      "application/vnd.jupyter.widget-view+json": {
       "model_id": "64aed701a1ba41c48f22731804744d55",
       "version_major": 2,
       "version_minor": 0
      },
      "text/plain": [
       "aia_lev1_94a_2020_12_28t12_00_11_12z_image_lev1.fits:   0%|          | 0.00/10.6M [00:00<?, ?B/s]"
      ]
     },
     "metadata": {},
     "output_type": "display_data"
    },
    {
     "data": {
      "application/vnd.jupyter.widget-view+json": {
       "model_id": "2c31ece050a148b6894f1b210cea8398",
       "version_major": 2,
       "version_minor": 0
      },
      "text/plain": [
       "aia_lev1_94a_2020_12_29t12_00_11_12z_image_lev1.fits:   0%|          | 0.00/10.6M [00:00<?, ?B/s]"
      ]
     },
     "metadata": {},
     "output_type": "display_data"
    },
    {
     "data": {
      "application/vnd.jupyter.widget-view+json": {
       "model_id": "5533eaa0b24f467f9f466190ca1c8d23",
       "version_major": 2,
       "version_minor": 0
      },
      "text/plain": [
       "aia_lev1_94a_2020_12_30t12_00_11_12z_image_lev1.fits:   0%|          | 0.00/10.6M [00:00<?, ?B/s]"
      ]
     },
     "metadata": {},
     "output_type": "display_data"
    },
    {
     "data": {
      "application/vnd.jupyter.widget-view+json": {
       "model_id": "ef8717bb6ec8483ca9062162b49dd895",
       "version_major": 2,
       "version_minor": 0
      },
      "text/plain": [
       "aia_lev1_94a_2020_12_31t12_00_11_12z_image_lev1.fits:   0%|          | 0.00/10.6M [00:00<?, ?B/s]"
      ]
     },
     "metadata": {},
     "output_type": "display_data"
    },
    {
     "data": {
      "application/vnd.jupyter.widget-view+json": {
       "model_id": "afa7c9549a8e4e82832cf728ead56152",
       "version_major": 2,
       "version_minor": 0
      },
      "text/plain": [
       "aia_lev1_171a_2020_12_15t12_00_09_35z_image_lev1.fits:   0%|          | 0.00/11.8M [00:00<?, ?B/s]"
      ]
     },
     "metadata": {},
     "output_type": "display_data"
    },
    {
     "data": {
      "application/vnd.jupyter.widget-view+json": {
       "model_id": "1fa2ad89b20246f693cefb2f36c146b1",
       "version_major": 2,
       "version_minor": 0
      },
      "text/plain": [
       "aia_lev1_171a_2020_12_16t12_00_09_35z_image_lev1.fits:   0%|          | 0.00/11.8M [00:00<?, ?B/s]"
      ]
     },
     "metadata": {},
     "output_type": "display_data"
    },
    {
     "data": {
      "application/vnd.jupyter.widget-view+json": {
       "model_id": "c145d17a020a493cad909af5a5cce5c1",
       "version_major": 2,
       "version_minor": 0
      },
      "text/plain": [
       "aia_lev1_171a_2020_12_18t12_00_09_35z_image_lev1.fits:   0%|          | 0.00/11.8M [00:00<?, ?B/s]"
      ]
     },
     "metadata": {},
     "output_type": "display_data"
    },
    {
     "data": {
      "application/vnd.jupyter.widget-view+json": {
       "model_id": "66ff9fcbcee74ff3b261fc70a242ec9c",
       "version_major": 2,
       "version_minor": 0
      },
      "text/plain": [
       "aia_lev1_171a_2020_12_19t12_00_09_34z_image_lev1.fits:   0%|          | 0.00/11.8M [00:00<?, ?B/s]"
      ]
     },
     "metadata": {},
     "output_type": "display_data"
    },
    {
     "data": {
      "application/vnd.jupyter.widget-view+json": {
       "model_id": "69e8d82584c74501986d5dd8f651dd40",
       "version_major": 2,
       "version_minor": 0
      },
      "text/plain": [
       "aia_lev1_171a_2020_12_17t12_00_09_35z_image_lev1.fits:   0%|          | 0.00/11.8M [00:00<?, ?B/s]"
      ]
     },
     "metadata": {},
     "output_type": "display_data"
    },
    {
     "data": {
      "application/vnd.jupyter.widget-view+json": {
       "model_id": "fa731c4a126c4f4b850a07a678765484",
       "version_major": 2,
       "version_minor": 0
      },
      "text/plain": [
       "aia_lev1_171a_2020_12_20t12_00_09_35z_image_lev1.fits:   0%|          | 0.00/11.8M [00:00<?, ?B/s]"
      ]
     },
     "metadata": {},
     "output_type": "display_data"
    },
    {
     "data": {
      "application/vnd.jupyter.widget-view+json": {
       "model_id": "e666114d6dc3404b8f424b1259c0ffd2",
       "version_major": 2,
       "version_minor": 0
      },
      "text/plain": [
       "aia_lev1_171a_2020_12_21t12_00_09_34z_image_lev1.fits:   0%|          | 0.00/11.7M [00:00<?, ?B/s]"
      ]
     },
     "metadata": {},
     "output_type": "display_data"
    },
    {
     "data": {
      "application/vnd.jupyter.widget-view+json": {
       "model_id": "4c75008238af4108920d6600bd25f8c3",
       "version_major": 2,
       "version_minor": 0
      },
      "text/plain": [
       "aia_lev1_171a_2020_12_22t12_00_09_35z_image_lev1.fits:   0%|          | 0.00/11.7M [00:00<?, ?B/s]"
      ]
     },
     "metadata": {},
     "output_type": "display_data"
    },
    {
     "data": {
      "application/vnd.jupyter.widget-view+json": {
       "model_id": "5156abd771af4f3087b9295955672687",
       "version_major": 2,
       "version_minor": 0
      },
      "text/plain": [
       "aia_lev1_171a_2020_12_23t12_00_09_35z_image_lev1.fits:   0%|          | 0.00/11.8M [00:00<?, ?B/s]"
      ]
     },
     "metadata": {},
     "output_type": "display_data"
    },
    {
     "data": {
      "application/vnd.jupyter.widget-view+json": {
       "model_id": "b022ab6862264f54ac8a0cc83e33093e",
       "version_major": 2,
       "version_minor": 0
      },
      "text/plain": [
       "aia_lev1_171a_2020_12_24t12_00_09_34z_image_lev1.fits:   0%|          | 0.00/11.8M [00:00<?, ?B/s]"
      ]
     },
     "metadata": {},
     "output_type": "display_data"
    },
    {
     "data": {
      "application/vnd.jupyter.widget-view+json": {
       "model_id": "f64237c52caa42b6960e4f0f56d539a6",
       "version_major": 2,
       "version_minor": 0
      },
      "text/plain": [
       "aia_lev1_171a_2020_12_25t12_00_09_35z_image_lev1.fits:   0%|          | 0.00/11.7M [00:00<?, ?B/s]"
      ]
     },
     "metadata": {},
     "output_type": "display_data"
    },
    {
     "data": {
      "application/vnd.jupyter.widget-view+json": {
       "model_id": "7eb31bd9362e4dbda9a14da2312ca141",
       "version_major": 2,
       "version_minor": 0
      },
      "text/plain": [
       "aia_lev1_171a_2020_12_26t12_00_09_35z_image_lev1.fits:   0%|          | 0.00/11.7M [00:00<?, ?B/s]"
      ]
     },
     "metadata": {},
     "output_type": "display_data"
    },
    {
     "data": {
      "application/vnd.jupyter.widget-view+json": {
       "model_id": "4d9f18c57a0b4a66ac9c5c11773bb6d8",
       "version_major": 2,
       "version_minor": 0
      },
      "text/plain": [
       "aia_lev1_171a_2020_12_27t12_00_09_35z_image_lev1.fits:   0%|          | 0.00/11.7M [00:00<?, ?B/s]"
      ]
     },
     "metadata": {},
     "output_type": "display_data"
    },
    {
     "data": {
      "application/vnd.jupyter.widget-view+json": {
       "model_id": "018ab0286207459b8159342fe5da5a6b",
       "version_major": 2,
       "version_minor": 0
      },
      "text/plain": [
       "aia_lev1_171a_2020_12_28t12_00_09_35z_image_lev1.fits:   0%|          | 0.00/11.7M [00:00<?, ?B/s]"
      ]
     },
     "metadata": {},
     "output_type": "display_data"
    },
    {
     "data": {
      "application/vnd.jupyter.widget-view+json": {
       "model_id": "2899a0a28dbe465491eacae68e036e38",
       "version_major": 2,
       "version_minor": 0
      },
      "text/plain": [
       "aia_lev1_171a_2020_12_29t12_00_09_35z_image_lev1.fits:   0%|          | 0.00/11.6M [00:00<?, ?B/s]"
      ]
     },
     "metadata": {},
     "output_type": "display_data"
    },
    {
     "data": {
      "application/vnd.jupyter.widget-view+json": {
       "model_id": "e4196d87983a4e50af5590a373aed6fa",
       "version_major": 2,
       "version_minor": 0
      },
      "text/plain": [
       "aia_lev1_171a_2020_12_30t12_00_09_35z_image_lev1.fits:   0%|          | 0.00/11.6M [00:00<?, ?B/s]"
      ]
     },
     "metadata": {},
     "output_type": "display_data"
    },
    {
     "data": {
      "application/vnd.jupyter.widget-view+json": {
       "model_id": "7b714c819ddf438dba3f7a6550a46cdf",
       "version_major": 2,
       "version_minor": 0
      },
      "text/plain": [
       "aia_lev1_171a_2020_12_31t12_00_09_35z_image_lev1.fits:   0%|          | 0.00/11.6M [00:00<?, ?B/s]"
      ]
     },
     "metadata": {},
     "output_type": "display_data"
    },
    {
     "data": {
      "application/vnd.jupyter.widget-view+json": {
       "model_id": "fa1453166c244996a2df2a738fa199cc",
       "version_major": 2,
       "version_minor": 0
      },
      "text/plain": [
       "aia_lev1_193a_2020_12_15t12_00_04_85z_image_lev1.fits:   0%|          | 0.00/11.2M [00:00<?, ?B/s]"
      ]
     },
     "metadata": {},
     "output_type": "display_data"
    },
    {
     "data": {
      "application/vnd.jupyter.widget-view+json": {
       "model_id": "8a97ef17ea7949fc86d045299e4a09b0",
       "version_major": 2,
       "version_minor": 0
      },
      "text/plain": [
       "aia_lev1_193a_2020_12_16t12_00_04_84z_image_lev1.fits:   0%|          | 0.00/11.2M [00:00<?, ?B/s]"
      ]
     },
     "metadata": {},
     "output_type": "display_data"
    },
    {
     "data": {
      "application/vnd.jupyter.widget-view+json": {
       "model_id": "b7741d94071d4448a4bd465c8ac17bb4",
       "version_major": 2,
       "version_minor": 0
      },
      "text/plain": [
       "aia_lev1_193a_2020_12_17t12_00_04_84z_image_lev1.fits:   0%|          | 0.00/11.1M [00:00<?, ?B/s]"
      ]
     },
     "metadata": {},
     "output_type": "display_data"
    },
    {
     "data": {
      "application/vnd.jupyter.widget-view+json": {
       "model_id": "90d8cc698e674bbb9e6ad71571cc0822",
       "version_major": 2,
       "version_minor": 0
      },
      "text/plain": [
       "aia_lev1_193a_2020_12_18t12_00_04_84z_image_lev1.fits:   0%|          | 0.00/11.1M [00:00<?, ?B/s]"
      ]
     },
     "metadata": {},
     "output_type": "display_data"
    },
    {
     "data": {
      "application/vnd.jupyter.widget-view+json": {
       "model_id": "5b44362d489b486697df83e78eac5ad8",
       "version_major": 2,
       "version_minor": 0
      },
      "text/plain": [
       "aia_lev1_193a_2020_12_19t12_00_04_84z_image_lev1.fits:   0%|          | 0.00/11.1M [00:00<?, ?B/s]"
      ]
     },
     "metadata": {},
     "output_type": "display_data"
    },
    {
     "data": {
      "application/vnd.jupyter.widget-view+json": {
       "model_id": "ebdc39ca4574431b8e58ec1b953bdb8d",
       "version_major": 2,
       "version_minor": 0
      },
      "text/plain": [
       "aia_lev1_193a_2020_12_20t12_00_04_84z_image_lev1.fits:   0%|          | 0.00/11.1M [00:00<?, ?B/s]"
      ]
     },
     "metadata": {},
     "output_type": "display_data"
    },
    {
     "data": {
      "application/vnd.jupyter.widget-view+json": {
       "model_id": "784d77a6b3c84c4baf7842f4bd5f19bb",
       "version_major": 2,
       "version_minor": 0
      },
      "text/plain": [
       "aia_lev1_193a_2020_12_22t12_00_04_84z_image_lev1.fits:   0%|          | 0.00/11.2M [00:00<?, ?B/s]"
      ]
     },
     "metadata": {},
     "output_type": "display_data"
    },
    {
     "data": {
      "application/vnd.jupyter.widget-view+json": {
       "model_id": "afb7eec7c2e3445c8143b3f5010a548a",
       "version_major": 2,
       "version_minor": 0
      },
      "text/plain": [
       "aia_lev1_193a_2020_12_21t12_00_04_83z_image_lev1.fits:   0%|          | 0.00/11.1M [00:00<?, ?B/s]"
      ]
     },
     "metadata": {},
     "output_type": "display_data"
    },
    {
     "data": {
      "application/vnd.jupyter.widget-view+json": {
       "model_id": "27a67d6c21b842b4aeea33d5c5d24ada",
       "version_major": 2,
       "version_minor": 0
      },
      "text/plain": [
       "aia_lev1_193a_2020_12_23t12_00_04_84z_image_lev1.fits:   0%|          | 0.00/11.2M [00:00<?, ?B/s]"
      ]
     },
     "metadata": {},
     "output_type": "display_data"
    },
    {
     "data": {
      "application/vnd.jupyter.widget-view+json": {
       "model_id": "a5e81051a0d64d0e9aa26f1a1390fd25",
       "version_major": 2,
       "version_minor": 0
      },
      "text/plain": [
       "aia_lev1_193a_2020_12_24t12_00_04_83z_image_lev1.fits:   0%|          | 0.00/11.3M [00:00<?, ?B/s]"
      ]
     },
     "metadata": {},
     "output_type": "display_data"
    },
    {
     "data": {
      "application/vnd.jupyter.widget-view+json": {
       "model_id": "eeacf2c61c01413db361352e3c2e3a53",
       "version_major": 2,
       "version_minor": 0
      },
      "text/plain": [
       "aia_lev1_193a_2020_12_25t12_00_04_84z_image_lev1.fits:   0%|          | 0.00/11.3M [00:00<?, ?B/s]"
      ]
     },
     "metadata": {},
     "output_type": "display_data"
    },
    {
     "data": {
      "application/vnd.jupyter.widget-view+json": {
       "model_id": "09e53293cd9a4243ad5de57892b1094f",
       "version_major": 2,
       "version_minor": 0
      },
      "text/plain": [
       "aia_lev1_193a_2020_12_28t12_00_04_84z_image_lev1.fits:   0%|          | 0.00/11.3M [00:00<?, ?B/s]"
      ]
     },
     "metadata": {},
     "output_type": "display_data"
    },
    {
     "data": {
      "application/vnd.jupyter.widget-view+json": {
       "model_id": "ffb3ce0828964728bd88314037df4240",
       "version_major": 2,
       "version_minor": 0
      },
      "text/plain": [
       "aia_lev1_193a_2020_12_27t12_00_04_84z_image_lev1.fits:   0%|          | 0.00/11.3M [00:00<?, ?B/s]"
      ]
     },
     "metadata": {},
     "output_type": "display_data"
    },
    {
     "data": {
      "application/vnd.jupyter.widget-view+json": {
       "model_id": "0ea87c888db346599d90cf49e6e15e62",
       "version_major": 2,
       "version_minor": 0
      },
      "text/plain": [
       "aia_lev1_193a_2020_12_26t12_00_04_84z_image_lev1.fits:   0%|          | 0.00/11.3M [00:00<?, ?B/s]"
      ]
     },
     "metadata": {},
     "output_type": "display_data"
    },
    {
     "data": {
      "application/vnd.jupyter.widget-view+json": {
       "model_id": "e575755dbdfe440d913013a65218cd84",
       "version_major": 2,
       "version_minor": 0
      },
      "text/plain": [
       "aia_lev1_193a_2020_12_29t12_00_04_84z_image_lev1.fits:   0%|          | 0.00/11.3M [00:00<?, ?B/s]"
      ]
     },
     "metadata": {},
     "output_type": "display_data"
    },
    {
     "data": {
      "application/vnd.jupyter.widget-view+json": {
       "model_id": "3a7ef3e54f9d4d428f5c699ff7c3c2d6",
       "version_major": 2,
       "version_minor": 0
      },
      "text/plain": [
       "aia_lev1_193a_2020_12_30t12_00_04_84z_image_lev1.fits:   0%|          | 0.00/11.2M [00:00<?, ?B/s]"
      ]
     },
     "metadata": {},
     "output_type": "display_data"
    },
    {
     "data": {
      "application/vnd.jupyter.widget-view+json": {
       "model_id": "01d5f85708af4577a449273bb7a883cf",
       "version_major": 2,
       "version_minor": 0
      },
      "text/plain": [
       "aia_lev1_193a_2020_12_31t12_00_04_84z_image_lev1.fits:   0%|          | 0.00/11.2M [00:00<?, ?B/s]"
      ]
     },
     "metadata": {},
     "output_type": "display_data"
    }
   ],
   "source": [
    "file_download = Fido.fetch(result)"
   ]
  },
  {
   "cell_type": "markdown",
   "metadata": {
    "pycharm": {
     "name": "#%% md\n"
    }
   },
   "source": [
    "After downloading our data, we want to sort it by date.\n",
    "We then build a map sequence of our data."
   ]
  },
  {
   "cell_type": "code",
   "execution_count": 19,
   "metadata": {
    "pycharm": {
     "is_executing": true,
     "name": "#%%\n"
    }
   },
   "outputs": [],
   "source": [
    "file_download = sorted(file_download)\n",
    "map_seq = sunpy.map.Map(file_download)\n",
    "# print(map_seq)"
   ]
  },
  {
   "cell_type": "markdown",
   "metadata": {
    "pycharm": {
     "name": "#%% md\n"
    }
   },
   "source": [
    "Get information regarding the metadata of the data products."
   ]
  },
  {
   "cell_type": "code",
   "execution_count": null,
   "metadata": {
    "pycharm": {
     "is_executing": true,
     "name": "#%%\n"
    }
   },
   "outputs": [],
   "source": [
    "# print(\"AIA 131:\", map_seq[0].meta)\n",
    "# print(\"AIA 1700:\", map_seq[4].meta)\n",
    "# print(\"Magnetogram:\", map_seq[-4].meta)\n",
    "# print(\"Dopplergram:\", map_seq[-1].meta)\n",
    "# print(\"Intensitygram:\", map_seq[-6].meta)\n",
    "# print(\"Magneto Keys:\", map_seq[-4].meta.keys())\n",
    "# print(\"Doppler Keys:\", map_seq[-1].meta.keys())\n",
    "# print(\"Intensity Keys:\", map_seq[-6].meta.keys())"
   ]
  },
  {
   "cell_type": "markdown",
   "metadata": {
    "pycharm": {
     "name": "#%% md\n"
    }
   },
   "source": [
    "We then want to split our downloaded files by instrument.\n",
    "Additionally, we want AIA images split by wavelength and HMI\n",
    "by data product."
   ]
  },
  {
   "cell_type": "code",
   "execution_count": null,
   "metadata": {
    "pycharm": {
     "is_executing": true,
     "name": "#%%\n"
    }
   },
   "outputs": [],
   "source": [
    "# aia_171 = [np.where(map_seq[i].meta['wavelnth'] == 171, ) for i in range(0, len(file_download))]\n",
    "# aia_211 = [np.where(map_seq[i].meta['wavelnth'] == 304) for i in range(0, len(file_download))]\n",
    "# hmi = [np.where(map_seq[i].meta['wavelnth'] == 6173) for i in range(0, len(file_download))]\n",
    "#\n",
    "# print(aia_171)\n",
    "\n",
    "# hmi_vel = [np.where(hmi[i].meta['content'] == 'DOPPLERGRAM') for i in range(0, len(hmi))]\n",
    "# hmi_mag = [np.where(hmi[i].meta['content'] == 'MAGNETOGRAM') for i in range(0, len(hmi))]"
   ]
  },
  {
   "cell_type": "code",
   "execution_count": 20,
   "metadata": {
    "pycharm": {
     "is_executing": true,
     "name": "#%%\n"
    }
   },
   "outputs": [],
   "source": [
    "aia_094, aia_131, aia_171, aia_193, aia_211, aia_304, aia_335, aia_1600, aia_1700, hmi_vel, hmi_mag, hmi_int \\\n",
    "    = [], [], [], [], [], [], [], [], [], [], [], []\n",
    "for i, map_obj in enumerate(map_seq):\n",
    "    if map_obj.meta['wavelnth'] == 94:\n",
    "        aia_094.append(map_obj)\n",
    "    elif map_obj.meta['wavelnth'] == 131:\n",
    "        aia_131.append(map_obj)\n",
    "    elif map_obj.meta['wavelnth'] == 171:\n",
    "        aia_171.append(map_obj)\n",
    "    elif map_obj.meta['wavelnth'] == 193:\n",
    "        aia_193.append(map_obj)\n",
    "    elif map_obj.meta['wavelnth'] == 211:\n",
    "        aia_211.append(map_obj)\n",
    "    elif map_obj.meta['wavelnth'] == 304:\n",
    "        aia_304.append(map_obj)\n",
    "    elif map_obj.meta['wavelnth'] == 335:\n",
    "        aia_335.append(map_obj)\n",
    "    elif map_obj.meta['wavelnth'] == 1600:\n",
    "        aia_1600.append(map_obj)\n",
    "    elif map_obj.meta['wavelnth'] == 1700:\n",
    "        aia_1700.append(map_obj)\n",
    "    elif map_obj.meta['wavelnth'] == 6173 and map_obj.meta['content'] == 'DOPPLERGRAM':\n",
    "        hmi_vel.append(map_obj)\n",
    "    elif map_obj.meta['wavelnth'] == 6173 and map_obj.meta['content'] == 'MAGNETOGRAM':\n",
    "        hmi_mag.append(map_obj)\n",
    "    elif map_obj.meta['wavelnth'] == 6173 and map_obj.meta['content'] == 'CONTINUUM INTENSITY':\n",
    "        hmi_int.append(map_obj)\n",
    "\n",
    "# check this worked!\n",
    "# print(aia_335)"
   ]
  },
  {
   "cell_type": "markdown",
   "metadata": {
    "pycharm": {
     "name": "#%% md\n"
    }
   },
   "source": [
    "We can now make some plots of this data.\n",
    "Don't forget to rotate HMI images such that they are oriented the same as AIA."
   ]
  },
  {
   "cell_type": "code",
   "execution_count": null,
   "metadata": {
    "pycharm": {
     "is_executing": true,
     "name": "#%%\n"
    }
   },
   "outputs": [],
   "source": [
    "\n",
    "fig, axs = plt.subplots(2, 2)\n",
    "fig.suptitle(\"Images %s\" % (str(aia_171[0].meta['t_obs'])))\n",
    "axs[0, 0].set_title(\"%s %s\" % (str(aia_171[0].meta['telescop']), str(aia_171[0].meta['wavelnth'])))\n",
    "axs[0, 1].set_title(\"%s %s\" % (str(aia_211[0].meta['telescop']), str(aia_211[0].meta['wavelnth'])))\n",
    "axs[1, 0].set_title(\"%s %s\" % (str(hmi_vel[0].meta['telescop']), str(hmi_vel[0].meta['content'])))\n",
    "axs[1, 1].set_title(\"%s %s\" % (str(hmi_mag[0].meta['telescop']), str(hmi_mag[0].meta['content'])))\n",
    "\n",
    "for j in range(0, 2):\n",
    "    for k in range(0, 2):\n",
    "        axs[j, k].set_xticks([])\n",
    "        axs[j, k].set_yticks([])\n",
    "\n",
    "aia_171[0].plot(axes=axs[0, 0], annotate=False)\n",
    "aia_211[0].plot(axes=axs[0, 1], annotate=False)\n",
    "\n",
    "# make sure you rotate HMI images\n",
    "hmi_vel_rot = hmi_vel[0].rotate(order=3)\n",
    "hmi_vel_rot.plot(axes=axs[1, 0], annotate=False)\n",
    "hmi_mag_rot = hmi_mag[0].rotate(order=3)\n",
    "hmi_mag_rot.plot(axes=axs[1, 1], annotate=False)\n",
    "\n",
    "plt.show()\n"
   ]
  },
  {
   "cell_type": "markdown",
   "metadata": {
    "pycharm": {
     "name": "#%% md\n"
    }
   },
   "source": [
    "Now we make a movie!\n",
    "\n",
    "First, we want the list of colormaps that correspond to each\n",
    "data product."
   ]
  },
  {
   "cell_type": "code",
   "execution_count": null,
   "metadata": {
    "pycharm": {
     "is_executing": true,
     "name": "#%%\n"
    }
   },
   "outputs": [],
   "source": [
    "print(cm.cmlist.keys())"
   ]
  },
  {
   "cell_type": "markdown",
   "metadata": {
    "pycharm": {
     "name": "#%% md\n"
    }
   },
   "source": [
    "Then we can start creating the movies. You can have any combination\n",
    "of instruments, data products, and wavelengths.\n",
    "\n",
    "We will start with a movie of just AIA Images."
   ]
  },
  {
   "cell_type": "code",
   "execution_count": null,
   "metadata": {
    "pycharm": {
     "is_executing": true,
     "name": "#%%\n"
    }
   },
   "outputs": [],
   "source": [
    "# set some basic parameters regarding movie creation\n",
    "fps = 2  # frames per second\n",
    "movie_path = 'neid_month_one.mp4'  # path to store movie\n",
    "fig, axs = plt.subplots(2, 2)\n",
    "\n",
    "def animate(i):\n",
    "    products_list = [aia_094, aia_171, aia_193, aia_335]\n",
    "    fig.suptitle(\"Images %s\" % (str(products_list[0][i].meta['t_obs'])))\n",
    "    axs[0, 0].set_title(\"%s %s\" % (str(products_list[0][i].meta['telescop']), str(products_list[0][i].meta['wavelnth'])))\n",
    "    axs[0, 1].set_title(\"%s %s\" % (str(products_list[1][i].meta['telescop']), str(products_list[1][i].meta['wavelnth'])))\n",
    "    axs[1, 0].set_title(\"%s %s\" % (str(products_list[2][i].meta['telescop']), str(products_list[2][i].meta['wavelnth'])))\n",
    "    axs[1, 1].set_title(\"%s %s\" % (str(products_list[3][i].meta['telescop']), str(products_list[3][i].meta['wavelnth'])))\n",
    "\n",
    "    for j in range(0, 2):\n",
    "        for k in range(0, 2):\n",
    "            axs[j, k].set_xticks([])\n",
    "            axs[j, k].set_yticks([])\n",
    "\n",
    "    plot_obj0 = axs[0, 0].imshow(products_list[0][i].data, cmap=plt.get_cmap('sdoaia94'), norm=colors.LogNorm())\n",
    "    plot_obj1 = axs[0, 1].imshow(products_list[1][i].data, cmap=plt.get_cmap('sdoaia131'), norm=colors.LogNorm())\n",
    "    plot_obj2 = axs[1, 0].imshow(products_list[2][i].data, cmap=plt.get_cmap('sdoaia171'), norm=colors.LogNorm())\n",
    "    plot_obj3 = axs[1, 1].imshow(products_list[3][i].data, cmap=plt.get_cmap('sdoaia193'), norm=colors.LogNorm())\n",
    "\n",
    "    plot_obj0.set_data(products_list[0][i].data)\n",
    "    plot_obj1.set_data(products_list[1][i].data)\n",
    "    plot_obj2.set_data(products_list[2][i].data)\n",
    "    plot_obj3.set_data(products_list[3][i].data)\n",
    "\n",
    "    return plot_obj0, plot_obj1, plot_obj2, plot_obj3\n",
    "\n",
    "anim = animation.FuncAnimation(fig, animate, init_func=None, frames=len(aia_171), interval=100, blit=True)\n",
    "Writer = animation.writers['ffmpeg']\n",
    "writer = Writer(fps, metadata=dict(artist='Me'), bitrate=1800)\n",
    "\n",
    "anim.save(movie_path, writer=writer)\n",
    "plt.close(fig)\n"
   ]
  },
  {
   "cell_type": "markdown",
   "metadata": {
    "pycharm": {
     "name": "#%% md\n"
    }
   },
   "source": [
    "Another one with just AIA to look at the other wavelengths."
   ]
  },
  {
   "cell_type": "code",
   "execution_count": null,
   "metadata": {
    "pycharm": {
     "is_executing": true,
     "name": "#%%\n"
    }
   },
   "outputs": [],
   "source": [
    "# set some basic parameters regarding movie creation\n",
    "fps = 2  # frames per second\n",
    "movie_path = 'milbourne_movie2.mp4'  # path to store movie\n",
    "fig, axs = plt.subplots(2, 2)\n",
    "\n",
    "def animate(i):\n",
    "    products_list = [aia_211, aia_304, aia_335, aia_1600]\n",
    "    fig.suptitle(\"Images %s\" % (str(products_list[0][i].meta['t_obs'])))\n",
    "    axs[0, 0].set_title(\"%s %s\" % (str(products_list[0][i].meta['telescop']), str(products_list[0][i].meta['wavelnth'])))\n",
    "    axs[0, 1].set_title(\"%s %s\" % (str(products_list[1][i].meta['telescop']), str(products_list[1][i].meta['wavelnth'])))\n",
    "    axs[1, 0].set_title(\"%s %s\" % (str(products_list[2][i].meta['telescop']), str(products_list[2][i].meta['wavelnth'])))\n",
    "    axs[1, 1].set_title(\"%s %s\" % (str(products_list[3][i].meta['telescop']), str(products_list[3][i].meta['wavelnth'])))\n",
    "\n",
    "    for j in range(0, 2):\n",
    "        for k in range(0, 2):\n",
    "            axs[j, k].set_xticks([])\n",
    "            axs[j, k].set_yticks([])\n",
    "\n",
    "    plot_obj0 = axs[0, 0].imshow(products_list[0][i].data, cmap=plt.get_cmap('sdoaia211'), norm=colors.LogNorm())\n",
    "    plot_obj1 = axs[0, 1].imshow(products_list[1][i].data, cmap=plt.get_cmap('sdoaia304'), norm=colors.LogNorm())\n",
    "    plot_obj2 = axs[1, 0].imshow(products_list[2][i].data, cmap=plt.get_cmap('sdoaia335'), norm=colors.LogNorm())\n",
    "    plot_obj3 = axs[1, 1].imshow(products_list[3][i].data, cmap=plt.get_cmap('sdoaia1600'), norm=colors.LogNorm())\n",
    "\n",
    "    plot_obj0.set_data(products_list[0][i].data)\n",
    "    plot_obj1.set_data(products_list[1][i].data)\n",
    "    plot_obj2.set_data(products_list[2][i].data)\n",
    "    plot_obj3.set_data(products_list[3][i].data)\n",
    "\n",
    "    return plot_obj0, plot_obj1, plot_obj2, plot_obj3\n",
    "\n",
    "anim = animation.FuncAnimation(fig, animate, init_func=None, frames=len(aia_171), interval=100, blit=True)\n",
    "Writer = animation.writers['ffmpeg']\n",
    "writer = Writer(fps, metadata=dict(artist='Me'), bitrate=1800)\n",
    "\n",
    "anim.save(movie_path, writer=writer)\n",
    "plt.close(fig)\n"
   ]
  },
  {
   "cell_type": "markdown",
   "metadata": {
    "pycharm": {
     "name": "#%% md\n"
    }
   },
   "source": [
    "Now we are going to create a movie with both AIA and HMI data products.\n",
    "We have to ensure that we rotate the HMI products such that the axes match."
   ]
  },
  {
   "cell_type": "code",
   "execution_count": null,
   "metadata": {
    "pycharm": {
     "is_executing": true,
     "name": "#%%\n"
    }
   },
   "outputs": [],
   "source": [
    "# set some basic parameters regarding movie creation\n",
    "fps = 2  # frames per second\n",
    "movie_path = 'milbourne_movie3.mp4'  # path to store movie\n",
    "fig, axs = plt.subplots(2, 2)\n",
    "\n",
    "def animate(i):\n",
    "    products_list = [aia_1700, hmi_vel, hmi_mag, hmi_int]\n",
    "    fig.suptitle(\"Images %s\" % (str(products_list[0][i].meta['t_obs'])))\n",
    "    axs[0, 0].set_title(\"%s %s\" % (str(products_list[0][i].meta['telescop']), str(products_list[0][i].meta['wavelnth'])))\n",
    "    axs[0, 1].set_title(\"%s %s\" % (str(products_list[1][i].meta['telescop']), str(products_list[1][i].meta['content'])))\n",
    "    axs[1, 0].set_title(\"%s %s\" % (str(products_list[2][i].meta['telescop']), str(products_list[2][i].meta['content'])))\n",
    "    axs[1, 1].set_title(\"%s %s\" % (str(products_list[3][i].meta['telescop']), str(products_list[3][i].meta['content'])))\n",
    "\n",
    "    for j in range(0, 2):\n",
    "        for k in range(0, 2):\n",
    "            axs[j, k].set_xticks([])\n",
    "            axs[j, k].set_yticks([])\n",
    "\n",
    "    plot_obj0 = axs[0, 0].imshow(products_list[0][i].data, cmap=plt.get_cmap('sdoaia1700'), norm=colors.LogNorm())\n",
    "    hmi_vel_rot = products_list[1][i].rotate(order=3)\n",
    "    hmi_mag_rot = products_list[2][i].rotate(order=3)\n",
    "    hmi_int_rot = products_list[3][i].rotate(order=3)\n",
    "    plot_obj1 = axs[0, 1].imshow(hmi_vel_rot.data, cmap=plt.get_cmap('hmimag'), norm=colors.Normalize())\n",
    "    plot_obj2 = axs[1, 0].imshow(hmi_mag_rot.data, cmap=plt.get_cmap('hmimag'), norm=colors.Normalize())\n",
    "    plot_obj3 = axs[1, 1].imshow(hmi_int_rot.data, cmap=plt.get_cmap('hinodesotintensity'), norm=colors.Normalize())\n",
    "\n",
    "    plot_obj0.set_data(products_list[0][i].data)\n",
    "    plot_obj1.set_data(hmi_vel_rot.data)\n",
    "    plot_obj2.set_data(hmi_mag_rot.data)\n",
    "    plot_obj3.set_data(hmi_int_rot.data)\n",
    "\n",
    "    return plot_obj0, plot_obj1, plot_obj2, plot_obj3\n",
    "\n",
    "products_list = [aia_1700, hmi_vel, hmi_mag, hmi_int]\n",
    "anim = animation.FuncAnimation(fig, animate, init_func=None, frames=len(products_list[-1]), interval=100, blit=True)\n",
    "Writer = animation.writers['ffmpeg']\n",
    "writer = Writer(fps, metadata=dict(artist='Me'), bitrate=1800)\n",
    "\n",
    "anim.save(movie_path, writer=writer)\n",
    "plt.close(fig)\n"
   ]
  },
  {
   "cell_type": "code",
   "execution_count": null,
   "metadata": {
    "pycharm": {
     "is_executing": true,
     "name": "#%%\n"
    }
   },
   "outputs": [],
   "source": [
    "result = Fido.search(a.Time(start_date, end_date),\n",
    "                     hmi_inst, physobs_list[0] | physobs_list[1] | physobs_list[2],\n",
    "                     cadence)"
   ]
  },
  {
   "cell_type": "code",
   "execution_count": null,
   "metadata": {
    "pycharm": {
     "is_executing": true,
     "name": "#%%\n"
    }
   },
   "outputs": [],
   "source": [
    "hmi_vel, hmi_mag, hmi_int \\\n",
    "    = [], [], []\n",
    "for i, map_obj in enumerate(map_seq):\n",
    "    if map_obj.meta['wavelnth'] == 6173 and map_obj.meta['content'] == 'DOPPLERGRAM':\n",
    "        hmi_vel.append(map_obj)\n",
    "    elif map_obj.meta['wavelnth'] == 6173 and map_obj.meta['content'] == 'MAGNETOGRAM':\n",
    "        hmi_mag.append(map_obj)\n",
    "    elif map_obj.meta['wavelnth'] == 6173 and map_obj.meta['content'] == 'CONTINUUM INTENSITY':\n",
    "        hmi_int.append(map_obj)\n"
   ]
  },
  {
   "cell_type": "code",
   "execution_count": null,
   "metadata": {
    "pycharm": {
     "is_executing": true,
     "name": "#%%\n"
    }
   },
   "outputs": [],
   "source": [
    "print(len(hmi_vel))\n",
    "print(len(hmi_mag))\n",
    "print(len(hmi_int))\n"
   ]
  },
  {
   "cell_type": "code",
   "execution_count": null,
   "metadata": {
    "pycharm": {
     "is_executing": true,
     "name": "#%%\n"
    }
   },
   "outputs": [],
   "source": []
  }
 ],
 "metadata": {
  "kernelspec": {
   "display_name": "Python 3",
   "language": "python",
   "name": "python3"
  },
  "language_info": {
   "codemirror_mode": {
    "name": "ipython",
    "version": 3
   },
   "file_extension": ".py",
   "mimetype": "text/x-python",
   "name": "python",
   "nbconvert_exporter": "python",
   "pygments_lexer": "ipython3",
   "version": "3.7.10"
  }
 },
 "nbformat": 4,
 "nbformat_minor": 1
}
